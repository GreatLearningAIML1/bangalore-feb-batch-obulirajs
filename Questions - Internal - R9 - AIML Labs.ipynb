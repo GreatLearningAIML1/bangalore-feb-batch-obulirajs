{
 "cells": [
  {
   "cell_type": "markdown",
   "metadata": {
    "colab_type": "text",
    "id": "vXE926qT0jHg"
   },
   "source": [
    "# Time series prediction using LSTM"
   ]
  },
  {
   "cell_type": "markdown",
   "metadata": {
    "colab_type": "text",
    "id": "54u8ql4Z4kBE"
   },
   "source": [
    "## Dataset\n",
    "- Daily minimum temperatures in Melbourne, Australia, 1981-1990\n",
    "- Units: Degrees Celcius"
   ]
  },
  {
   "cell_type": "code",
   "execution_count": 1,
   "metadata": {},
   "outputs": [
    {
     "name": "stderr",
     "output_type": "stream",
     "text": [
      "Using TensorFlow backend.\n"
     ]
    }
   ],
   "source": [
    "from matplotlib import pyplot as plt\n",
    "from sklearn.preprocessing import MinMaxScaler\n",
    "from keras.models import Sequential\n",
    "from keras.layers import GRU, Dense\n",
    "from keras.layers import LSTM\n",
    "from keras  import callbacks\n",
    "from keras import optimizers\n",
    "import pandas as pd \n",
    "import tensorflow as tf\n",
    "import numpy as np"
   ]
  },
  {
   "cell_type": "markdown",
   "metadata": {
    "colab_type": "text",
    "id": "IPkYyOzY77yl"
   },
   "source": [
    "## Question 1"
   ]
  },
  {
   "cell_type": "markdown",
   "metadata": {
    "colab_type": "text",
    "id": "aXEOY69f8B9d"
   },
   "source": [
    "### Load the data\n",
    "- load daily-minimum-temperatures-in-me.csv"
   ]
  },
  {
   "cell_type": "code",
   "execution_count": 2,
   "metadata": {
    "colab": {},
    "colab_type": "code",
    "id": "1Yvcuhqz0m23"
   },
   "outputs": [],
   "source": [
    "# # if you are using google colab\n",
    "# from google.colab import files\n",
    "# files.upload()"
   ]
  },
  {
   "cell_type": "code",
   "execution_count": 48,
   "metadata": {
    "colab": {},
    "colab_type": "code",
    "id": "LA7R2II8-Jxh"
   },
   "outputs": [],
   "source": [
    "df = pd.read_csv('daily-minimum-temperatures-in-me.csv', index_col='Date')\n",
    "# df.plot()"
   ]
  },
  {
   "cell_type": "markdown",
   "metadata": {
    "colab_type": "text",
    "id": "pWcMgg69-T6k"
   },
   "source": [
    "### Print the data\n",
    "- First 5 rows only"
   ]
  },
  {
   "cell_type": "code",
   "execution_count": 49,
   "metadata": {
    "colab": {},
    "colab_type": "code",
    "id": "SM828gT_-Ra2"
   },
   "outputs": [
    {
     "name": "stdout",
     "output_type": "stream",
     "text": [
      "            Temperature\n",
      "Date                   \n",
      "1981-01-01         20.7\n",
      "1981-01-02         17.9\n",
      "1981-01-03         18.8\n",
      "1981-01-04         14.6\n",
      "1981-01-05         15.8\n"
     ]
    }
   ],
   "source": [
    "print(df.head())"
   ]
  },
  {
   "cell_type": "markdown",
   "metadata": {
    "colab_type": "text",
    "id": "JGnWESz9BKx8"
   },
   "source": [
    "### Set index column\n",
    "- Set the DataFrame index using \"Date\" column"
   ]
  },
  {
   "cell_type": "code",
   "execution_count": 50,
   "metadata": {
    "colab": {},
    "colab_type": "code",
    "id": "nFrbd_vd-eZP"
   },
   "outputs": [
    {
     "name": "stdout",
     "output_type": "stream",
     "text": [
      "Total rows: 3650\n"
     ]
    },
    {
     "data": {
      "text/html": [
       "<div>\n",
       "<style scoped>\n",
       "    .dataframe tbody tr th:only-of-type {\n",
       "        vertical-align: middle;\n",
       "    }\n",
       "\n",
       "    .dataframe tbody tr th {\n",
       "        vertical-align: top;\n",
       "    }\n",
       "\n",
       "    .dataframe thead th {\n",
       "        text-align: right;\n",
       "    }\n",
       "</style>\n",
       "<table border=\"1\" class=\"dataframe\">\n",
       "  <thead>\n",
       "    <tr style=\"text-align: right;\">\n",
       "      <th></th>\n",
       "      <th>Temperature</th>\n",
       "    </tr>\n",
       "    <tr>\n",
       "      <th>Month</th>\n",
       "      <th></th>\n",
       "    </tr>\n",
       "  </thead>\n",
       "  <tbody>\n",
       "    <tr>\n",
       "      <td>1981-01-01</td>\n",
       "      <td>20.7</td>\n",
       "    </tr>\n",
       "    <tr>\n",
       "      <td>1981-01-02</td>\n",
       "      <td>17.9</td>\n",
       "    </tr>\n",
       "    <tr>\n",
       "      <td>1981-01-03</td>\n",
       "      <td>18.8</td>\n",
       "    </tr>\n",
       "    <tr>\n",
       "      <td>1981-01-04</td>\n",
       "      <td>14.6</td>\n",
       "    </tr>\n",
       "    <tr>\n",
       "      <td>1981-01-05</td>\n",
       "      <td>15.8</td>\n",
       "    </tr>\n",
       "  </tbody>\n",
       "</table>\n",
       "</div>"
      ],
      "text/plain": [
       "            Temperature\n",
       "Month                  \n",
       "1981-01-01         20.7\n",
       "1981-01-02         17.9\n",
       "1981-01-03         18.8\n",
       "1981-01-04         14.6\n",
       "1981-01-05         15.8"
      ]
     },
     "execution_count": 50,
     "metadata": {},
     "output_type": "execute_result"
    }
   ],
   "source": [
    "df.index.names = ['Month']\n",
    "df.sort_index(inplace=True)\n",
    "print('Total rows: {}'.format(len(df)))\n",
    "df.head()"
   ]
  },
  {
   "cell_type": "code",
   "execution_count": 6,
   "metadata": {},
   "outputs": [
    {
     "data": {
      "text/html": [
       "<div>\n",
       "<style scoped>\n",
       "    .dataframe tbody tr th:only-of-type {\n",
       "        vertical-align: middle;\n",
       "    }\n",
       "\n",
       "    .dataframe tbody tr th {\n",
       "        vertical-align: top;\n",
       "    }\n",
       "\n",
       "    .dataframe thead th {\n",
       "        text-align: right;\n",
       "    }\n",
       "</style>\n",
       "<table border=\"1\" class=\"dataframe\">\n",
       "  <thead>\n",
       "    <tr style=\"text-align: right;\">\n",
       "      <th></th>\n",
       "      <th>Temperature</th>\n",
       "    </tr>\n",
       "  </thead>\n",
       "  <tbody>\n",
       "    <tr>\n",
       "      <td>count</td>\n",
       "      <td>3650.000000</td>\n",
       "    </tr>\n",
       "    <tr>\n",
       "      <td>mean</td>\n",
       "      <td>11.177753</td>\n",
       "    </tr>\n",
       "    <tr>\n",
       "      <td>std</td>\n",
       "      <td>4.071837</td>\n",
       "    </tr>\n",
       "    <tr>\n",
       "      <td>min</td>\n",
       "      <td>0.000000</td>\n",
       "    </tr>\n",
       "    <tr>\n",
       "      <td>25%</td>\n",
       "      <td>8.300000</td>\n",
       "    </tr>\n",
       "    <tr>\n",
       "      <td>50%</td>\n",
       "      <td>11.000000</td>\n",
       "    </tr>\n",
       "    <tr>\n",
       "      <td>75%</td>\n",
       "      <td>14.000000</td>\n",
       "    </tr>\n",
       "    <tr>\n",
       "      <td>max</td>\n",
       "      <td>26.300000</td>\n",
       "    </tr>\n",
       "  </tbody>\n",
       "</table>\n",
       "</div>"
      ],
      "text/plain": [
       "       Temperature\n",
       "count  3650.000000\n",
       "mean     11.177753\n",
       "std       4.071837\n",
       "min       0.000000\n",
       "25%       8.300000\n",
       "50%      11.000000\n",
       "75%      14.000000\n",
       "max      26.300000"
      ]
     },
     "execution_count": 6,
     "metadata": {},
     "output_type": "execute_result"
    }
   ],
   "source": [
    "df.describe()"
   ]
  },
  {
   "cell_type": "markdown",
   "metadata": {
    "colab_type": "text",
    "id": "sS7IVXq7B1P1"
   },
   "source": [
    "## Question 2"
   ]
  },
  {
   "cell_type": "markdown",
   "metadata": {
    "colab_type": "text",
    "id": "PcgAOybZCc5-"
   },
   "source": [
    "### Check the total count of null values in the data"
   ]
  },
  {
   "cell_type": "code",
   "execution_count": 7,
   "metadata": {
    "colab": {},
    "colab_type": "code",
    "id": "UTMe5jdCCj4k"
   },
   "outputs": [
    {
     "name": "stdout",
     "output_type": "stream",
     "text": [
      "There are no null values in given dataset\n"
     ]
    }
   ],
   "source": [
    "df.isnull().sum()\n",
    "\n",
    "print(\"There are no null values in given dataset\")"
   ]
  },
  {
   "cell_type": "markdown",
   "metadata": {
    "colab_type": "text",
    "id": "Ua-AeW2YC3kY"
   },
   "source": [
    "### Drop all the rows with null values\n",
    "- use dropna() method"
   ]
  },
  {
   "cell_type": "code",
   "execution_count": null,
   "metadata": {
    "colab": {},
    "colab_type": "code",
    "id": "9l9UeA6YC8RV"
   },
   "outputs": [],
   "source": []
  },
  {
   "cell_type": "markdown",
   "metadata": {
    "colab_type": "text",
    "id": "SJam5Ho-DHK7"
   },
   "source": [
    "## Question 3"
   ]
  },
  {
   "cell_type": "markdown",
   "metadata": {
    "colab_type": "text",
    "id": "3esUPJAMDzCJ"
   },
   "source": [
    "### Describe your dataframe\n",
    "- use describe() method"
   ]
  },
  {
   "cell_type": "code",
   "execution_count": 8,
   "metadata": {
    "colab": {},
    "colab_type": "code",
    "id": "uhH8OwGVELyH"
   },
   "outputs": [
    {
     "data": {
      "text/html": [
       "<div>\n",
       "<style scoped>\n",
       "    .dataframe tbody tr th:only-of-type {\n",
       "        vertical-align: middle;\n",
       "    }\n",
       "\n",
       "    .dataframe tbody tr th {\n",
       "        vertical-align: top;\n",
       "    }\n",
       "\n",
       "    .dataframe thead th {\n",
       "        text-align: right;\n",
       "    }\n",
       "</style>\n",
       "<table border=\"1\" class=\"dataframe\">\n",
       "  <thead>\n",
       "    <tr style=\"text-align: right;\">\n",
       "      <th></th>\n",
       "      <th>Temperature</th>\n",
       "    </tr>\n",
       "  </thead>\n",
       "  <tbody>\n",
       "    <tr>\n",
       "      <td>count</td>\n",
       "      <td>3650.000000</td>\n",
       "    </tr>\n",
       "    <tr>\n",
       "      <td>mean</td>\n",
       "      <td>11.177753</td>\n",
       "    </tr>\n",
       "    <tr>\n",
       "      <td>std</td>\n",
       "      <td>4.071837</td>\n",
       "    </tr>\n",
       "    <tr>\n",
       "      <td>min</td>\n",
       "      <td>0.000000</td>\n",
       "    </tr>\n",
       "    <tr>\n",
       "      <td>25%</td>\n",
       "      <td>8.300000</td>\n",
       "    </tr>\n",
       "    <tr>\n",
       "      <td>50%</td>\n",
       "      <td>11.000000</td>\n",
       "    </tr>\n",
       "    <tr>\n",
       "      <td>75%</td>\n",
       "      <td>14.000000</td>\n",
       "    </tr>\n",
       "    <tr>\n",
       "      <td>max</td>\n",
       "      <td>26.300000</td>\n",
       "    </tr>\n",
       "  </tbody>\n",
       "</table>\n",
       "</div>"
      ],
      "text/plain": [
       "       Temperature\n",
       "count  3650.000000\n",
       "mean     11.177753\n",
       "std       4.071837\n",
       "min       0.000000\n",
       "25%       8.300000\n",
       "50%      11.000000\n",
       "75%      14.000000\n",
       "max      26.300000"
      ]
     },
     "execution_count": 8,
     "metadata": {},
     "output_type": "execute_result"
    }
   ],
   "source": [
    "df.describe()"
   ]
  },
  {
   "cell_type": "markdown",
   "metadata": {
    "colab_type": "text",
    "id": "bizrToFMB4ix"
   },
   "source": [
    "### Plot the dataframe\n",
    "- use plot() method"
   ]
  },
  {
   "cell_type": "code",
   "execution_count": 51,
   "metadata": {
    "colab": {},
    "colab_type": "code",
    "id": "rNiXK6YZB30N"
   },
   "outputs": [
    {
     "data": {
      "text/plain": [
       "<matplotlib.axes._subplots.AxesSubplot at 0x185724a7eb8>"
      ]
     },
     "execution_count": 51,
     "metadata": {},
     "output_type": "execute_result"
    },
    {
     "data": {
      "image/png": "[encoded data removed]",
      "text/plain": [
       "<Figure size 432x288 with 1 Axes>"
      ]
     },
     "metadata": {
      "needs_background": "light"
     },
     "output_type": "display_data"
    }
   ],
   "source": [
    "df.plot()"
   ]
  },
  {
   "cell_type": "markdown",
   "metadata": {
    "colab_type": "text",
    "id": "OtI9ZGJqE1lh"
   },
   "source": [
    "### Get representation of the distribution of data using histogram\n",
    "- use hist() method"
   ]
  },
  {
   "cell_type": "code",
   "execution_count": 52,
   "metadata": {
    "colab": {},
    "colab_type": "code",
    "id": "qan611HdE9nR"
   },
   "outputs": [
    {
     "data": {
      "text/plain": [
       "array([[<matplotlib.axes._subplots.AxesSubplot object at 0x00000185F8E62CF8>]],\n",
       "      dtype=object)"
      ]
     },
     "execution_count": 52,
     "metadata": {},
     "output_type": "execute_result"
    },
    {
     "data": {
      "image/png": "[encoded data removed]",
      "text/plain": [
       "<Figure size 432x288 with 1 Axes>"
      ]
     },
     "metadata": {
      "needs_background": "light"
     },
     "output_type": "display_data"
    }
   ],
   "source": [
    "df.hist(bins=10)"
   ]
  },
  {
   "cell_type": "markdown",
   "metadata": {
    "colab_type": "text",
    "id": "D8VDVRisHAsH"
   },
   "source": [
    "### Check minimum and maximum temperature\n",
    "- use min() and max() methods"
   ]
  },
  {
   "cell_type": "code",
   "execution_count": 53,
   "metadata": {
    "colab": {},
    "colab_type": "code",
    "id": "xlwlVtRfG_qX"
   },
   "outputs": [
    {
     "data": {
      "text/plain": [
       "0.0"
      ]
     },
     "execution_count": 53,
     "metadata": {},
     "output_type": "execute_result"
    }
   ],
   "source": [
    "df[\"Temperature\"].min()"
   ]
  },
  {
   "cell_type": "code",
   "execution_count": 54,
   "metadata": {
    "colab": {},
    "colab_type": "code",
    "id": "abO5iWWAFFCJ"
   },
   "outputs": [
    {
     "data": {
      "text/plain": [
       "26.3"
      ]
     },
     "execution_count": 54,
     "metadata": {},
     "output_type": "execute_result"
    }
   ],
   "source": [
    "df[\"Temperature\"].max()"
   ]
  },
  {
   "cell_type": "markdown",
   "metadata": {
    "colab_type": "text",
    "id": "qTjD3zhSI_BD"
   },
   "source": [
    "## Question 4"
   ]
  },
  {
   "cell_type": "markdown",
   "metadata": {
    "colab_type": "text",
    "id": "QSDmmRxBMOO7"
   },
   "source": [
    "### Split the dataset into training and testing\n",
    "- training data: 75%\n",
    "- testing data: 25%"
   ]
  },
  {
   "cell_type": "code",
   "execution_count": 55,
   "metadata": {
    "colab": {},
    "colab_type": "code",
    "id": "dbrspzBVM6Gg"
   },
   "outputs": [
    {
     "name": "stdout",
     "output_type": "stream",
     "text": [
      "2737\n"
     ]
    }
   ],
   "source": [
    "train_split = len(df) * .75\n",
    "train_split = int(train_split)\n",
    "test_split = len(df) - train_split\n",
    "print(train_split)\n",
    "\n",
    "X_train = df[0:train_split]\n",
    "# print(\"Train len..\", len(X_train))\n",
    "X_test = df[train_split:]\n",
    "\n",
    "# print(\"Test len..\", len(X_test))\n",
    "# print(len(df))\n",
    "# print(len(X_train) + len(X_test))"
   ]
  },
  {
   "cell_type": "markdown",
   "metadata": {
    "colab_type": "text",
    "id": "eEgBn5JkKwrZ"
   },
   "source": [
    "### Normalize the data\n",
    "- normalize temperature values using MinMaxScaler\n",
    "- feature_range: 0-1\n",
    "- fit MinMaxScaler on train data and transform it\n",
    "  - use fit_transform() method\n",
    "- transform test data using MinMaxScaler object\n",
    "  - use transform() method"
   ]
  },
  {
   "cell_type": "code",
   "execution_count": 56,
   "metadata": {},
   "outputs": [],
   "source": [
    "sc = MinMaxScaler(feature_range=(0, 1))\n",
    "train = sc.fit_transform(X_train)\n",
    "test = sc.transform(X_test)"
   ]
  },
  {
   "cell_type": "code",
   "execution_count": 15,
   "metadata": {
    "colab": {},
    "colab_type": "code",
    "id": "OqDcm7tbI19Z"
   },
   "outputs": [],
   "source": [
    "# train = X_train.astype('float32')\n",
    "# train_scaler = MinMaxScaler(feature_range=(0, 1))\n",
    "# train_scaled = train_scaler.fit_transform(train)\n",
    "# print('Train_Min', np.min(train_scaled))\n",
    "# print('Train_Max', np.max(train_scaled))\n",
    "\n",
    "# test = X_test.astype('float32')\n",
    "# test_scaler = MinMaxScaler(feature_range=(0, 1))\n",
    "# test_scaled = test_scaler.transform(test)\n",
    "# print('Test_Min', np.min(test_scaled))\n",
    "# print('Test_Max', np.max(test_scaled))"
   ]
  },
  {
   "cell_type": "code",
   "execution_count": null,
   "metadata": {},
   "outputs": [],
   "source": []
  },
  {
   "cell_type": "markdown",
   "metadata": {
    "colab_type": "text",
    "id": "4HjbO8gRQ3M1"
   },
   "source": [
    "### Print scaled train and test data\n",
    "- print only first 5 values"
   ]
  },
  {
   "cell_type": "code",
   "execution_count": 16,
   "metadata": {
    "colab": {},
    "colab_type": "code",
    "id": "U_WDZwKxRBRx"
   },
   "outputs": [
    {
     "data": {
      "text/plain": [
       "array([[0.78707224],\n",
       "       [0.68060837],\n",
       "       [0.7148289 ],\n",
       "       [0.55513308],\n",
       "       [0.60076046]])"
      ]
     },
     "execution_count": 16,
     "metadata": {},
     "output_type": "execute_result"
    }
   ],
   "source": [
    "train[0:5]"
   ]
  },
  {
   "cell_type": "code",
   "execution_count": 17,
   "metadata": {
    "colab": {},
    "colab_type": "code",
    "id": "vYlwALHrRGcX"
   },
   "outputs": [
    {
     "data": {
      "text/plain": [
       "array([[0.22813688],\n",
       "       [0.22053232],\n",
       "       [0.18631179],\n",
       "       [0.19011407],\n",
       "       [0.31939163]])"
      ]
     },
     "execution_count": 17,
     "metadata": {},
     "output_type": "execute_result"
    }
   ],
   "source": [
    "test[0:5]"
   ]
  },
  {
   "cell_type": "markdown",
   "metadata": {
    "colab_type": "text",
    "id": "JB5lHp94RQWY"
   },
   "source": [
    "## Question 5"
   ]
  },
  {
   "cell_type": "markdown",
   "metadata": {
    "colab_type": "text",
    "id": "kVqNUf00RSiv"
   },
   "source": [
    "### Create sequential data\n",
    "Map the temperature at a particular day 'd' to the temperature at day t\n",
    "'d+n', where n is any number you define.\n",
    "\n",
    "For example: to map temperatures of consecutive days, use d+1, i.e. lookback = 1\n",
    "- Below function takes data as input and returns sequential data.\n",
    "- X as features and y as labels"
   ]
  },
  {
   "cell_type": "code",
   "execution_count": 57,
   "metadata": {
    "colab": {},
    "colab_type": "code",
    "id": "AtxhXruAWws-"
   },
   "outputs": [],
   "source": [
    "import numpy as np\n",
    "def create_seq_data(data, lookback=1):\n",
    "    X, y = list(), list()\n",
    "\n",
    "    for day in range((len(data)-lookback)):\n",
    "        X.append(data[day: day+lookback, 0])\n",
    "        y.append(data[day+lookback, 0])\n",
    "    return np.array(X), np.array(y)"
   ]
  },
  {
   "cell_type": "markdown",
   "metadata": {
    "colab_type": "text",
    "id": "VMBJpuDQJzcG"
   },
   "source": [
    "### Use the above function to create train and test sets\n",
    "- Get X_train and y_train\n",
    "- Get X_test and y_test\n",
    "- lookback = 1"
   ]
  },
  {
   "cell_type": "code",
   "execution_count": 62,
   "metadata": {
    "colab": {},
    "colab_type": "code",
    "id": "Uq6GGmJ0Zqem"
   },
   "outputs": [],
   "source": [
    "look_back = 1\n",
    "X_train, y_train = create_seq_data(train, look_back)\n"
   ]
  },
  {
   "cell_type": "code",
   "execution_count": 63,
   "metadata": {},
   "outputs": [],
   "source": [
    "X_test, y_test = create_seq_data(test, look_back)"
   ]
  },
  {
   "cell_type": "markdown",
   "metadata": {
    "colab_type": "text",
    "id": "-E2iixEfK0Px"
   },
   "source": [
    "### Reshape the data\n",
    "- Reshape X_train and X_test\n",
    "- use np.reshape() method\n",
    "- this is to be done to make the data ready for input in model"
   ]
  },
  {
   "cell_type": "code",
   "execution_count": 64,
   "metadata": {
    "colab": {},
    "colab_type": "code",
    "id": "X3qhXEqoZxQ3"
   },
   "outputs": [
    {
     "name": "stdout",
     "output_type": "stream",
     "text": [
      "(2736, 1, 1)\n",
      "(912, 1, 1)\n"
     ]
    }
   ],
   "source": [
    "X_train = np.reshape(X_train, (X_train.shape[0], X_train.shape[1], 1))\n",
    "X_test = np.reshape(X_test, (X_test.shape[0], X_test.shape[1], 1))\n",
    "print(X_train.shape)\n",
    "print(X_test.shape)"
   ]
  },
  {
   "cell_type": "markdown",
   "metadata": {
    "colab_type": "text",
    "id": "zKZ8SALZcuNB"
   },
   "source": [
    "### Print shape of data\n",
    "- print shape of X_train and X_test"
   ]
  },
  {
   "cell_type": "code",
   "execution_count": 65,
   "metadata": {
    "colab": {},
    "colab_type": "code",
    "id": "OSg_rbP6c_HI"
   },
   "outputs": [
    {
     "name": "stdout",
     "output_type": "stream",
     "text": [
      "X_train shape : (2736, 1, 1)\n",
      "X_test shape : (912, 1, 1)\n"
     ]
    }
   ],
   "source": [
    "print(\"X_train shape :\", X_train.shape)\n",
    "print(\"X_test shape :\", X_test.shape)"
   ]
  },
  {
   "cell_type": "markdown",
   "metadata": {
    "colab_type": "text",
    "id": "emGjaYZ5dfRq"
   },
   "source": [
    "## Question 6"
   ]
  },
  {
   "cell_type": "markdown",
   "metadata": {
    "colab_type": "text",
    "id": "7fk2Ze24dsXw"
   },
   "source": [
    "### Define sequential model\n",
    "- initialize a Sequential model\n",
    "- add an LSTM layer\n",
    "  - units: 10\n",
    "  - stateful: True\n",
    "  - pass a `batch_input_shape` argument to your layer\n",
    "  - batch_input_shape: (batch_size, look_back, 1)\n",
    "    - batch_size: 1\n",
    "    - look_back: 1\n",
    "- add Dense layer with 1 neuron"
   ]
  },
  {
   "cell_type": "code",
   "execution_count": 66,
   "metadata": {
    "colab": {},
    "colab_type": "code",
    "id": "eXU6UNt4dhJz"
   },
   "outputs": [],
   "source": [
    "#create and fit the LSTM network\n",
    "batch_size = 1\n",
    "model = Sequential()\n",
    "model.add(LSTM(10, batch_input_shape=(batch_size, look_back, 1), stateful=True))\n",
    "model.add(Dense(1))\n"
   ]
  },
  {
   "cell_type": "markdown",
   "metadata": {
    "colab_type": "text",
    "id": "cLymvPFzEQSp"
   },
   "source": [
    "## Question 7"
   ]
  },
  {
   "cell_type": "markdown",
   "metadata": {
    "colab_type": "text",
    "id": "AZmlvbcMrCTh"
   },
   "source": [
    "### compile your model\n",
    "- loss: mean_squared_error\n",
    "- optimizer: adam"
   ]
  },
  {
   "cell_type": "code",
   "execution_count": 67,
   "metadata": {
    "colab": {},
    "colab_type": "code",
    "id": "TrcHrSdtg62Q"
   },
   "outputs": [],
   "source": [
    "model.compile(loss='mean_squared_error', optimizer='adam')\n"
   ]
  },
  {
   "cell_type": "markdown",
   "metadata": {
    "colab_type": "text",
    "id": "WWAoHdFurJN5"
   },
   "source": [
    "### summarize your model\n",
    "- use summary() method"
   ]
  },
  {
   "cell_type": "code",
   "execution_count": 68,
   "metadata": {
    "colab": {},
    "colab_type": "code",
    "id": "UlIaCMtBrPU2"
   },
   "outputs": [
    {
     "name": "stdout",
     "output_type": "stream",
     "text": [
      "_________________________________________________________________\n",
      "Layer (type)                 Output Shape              Param #   \n",
      "=================================================================\n",
      "lstm_2 (LSTM)                (1, 10)                   480       \n",
      "_________________________________________________________________\n",
      "dense_2 (Dense)              (1, 1)                    11        \n",
      "=================================================================\n",
      "Total params: 491\n",
      "Trainable params: 491\n",
      "Non-trainable params: 0\n",
      "_________________________________________________________________\n"
     ]
    }
   ],
   "source": [
    "model.summary()"
   ]
  },
  {
   "cell_type": "markdown",
   "metadata": {
    "colab_type": "text",
    "id": "dq5a3i6uEcJI"
   },
   "source": [
    "## Question 8"
   ]
  },
  {
   "cell_type": "markdown",
   "metadata": {
    "colab_type": "text",
    "id": "0Ca3CFhOrf83"
   },
   "source": [
    "### fit your model\n",
    "- epochs: 50\n",
    "- batch_size: 1"
   ]
  },
  {
   "cell_type": "code",
   "execution_count": 69,
   "metadata": {
    "colab": {},
    "colab_type": "code",
    "id": "BbuB-XGPhH6h"
   },
   "outputs": [
    {
     "name": "stdout",
     "output_type": "stream",
     "text": [
      "Epoch 1/50\n",
      " - 17s - loss: 0.0214\n",
      "Epoch 2/50\n",
      " - 16s - loss: 0.0127\n",
      "Epoch 3/50\n",
      " - 17s - loss: 0.0114\n",
      "Epoch 4/50\n",
      " - 17s - loss: 0.0109\n",
      "Epoch 5/50\n",
      " - 15s - loss: 0.0104\n",
      "Epoch 6/50\n",
      " - 17s - loss: 0.0102\n",
      "Epoch 7/50\n",
      " - 16s - loss: 0.0103\n",
      "Epoch 8/50\n",
      " - 15s - loss: 0.0102\n",
      "Epoch 9/50\n",
      " - 15s - loss: 0.0102\n",
      "Epoch 10/50\n",
      " - 15s - loss: 0.0103\n",
      "Epoch 11/50\n",
      " - 14s - loss: 0.0103\n",
      "Epoch 12/50\n",
      " - 14s - loss: 0.0102\n",
      "Epoch 13/50\n",
      " - 13s - loss: 0.0101\n",
      "Epoch 14/50\n",
      " - 14s - loss: 0.0102\n",
      "Epoch 15/50\n",
      " - 15s - loss: 0.0100\n",
      "Epoch 16/50\n",
      " - 14s - loss: 0.0101\n",
      "Epoch 17/50\n",
      " - 15s - loss: 0.0100\n",
      "Epoch 18/50\n",
      " - 17s - loss: 0.0100\n",
      "Epoch 19/50\n",
      " - 14s - loss: 0.0101\n",
      "Epoch 20/50\n",
      " - 16s - loss: 0.0100\n",
      "Epoch 21/50\n",
      " - 16s - loss: 0.0100\n",
      "Epoch 22/50\n",
      " - 15s - loss: 0.0100\n",
      "Epoch 23/50\n",
      " - 14s - loss: 0.0100\n",
      "Epoch 24/50\n",
      " - 14s - loss: 0.0100\n",
      "Epoch 25/50\n",
      " - 14s - loss: 0.0101\n",
      "Epoch 26/50\n",
      " - 15s - loss: 0.0100\n",
      "Epoch 27/50\n",
      " - 16s - loss: 0.0100\n",
      "Epoch 28/50\n",
      " - 13s - loss: 0.0100\n",
      "Epoch 29/50\n",
      " - 15s - loss: 0.0100\n",
      "Epoch 30/50\n",
      " - 15s - loss: 0.0099\n",
      "Epoch 31/50\n",
      " - 15s - loss: 0.0099\n",
      "Epoch 32/50\n",
      " - 15s - loss: 0.0100\n",
      "Epoch 33/50\n",
      " - 15s - loss: 0.0100\n",
      "Epoch 34/50\n",
      " - 15s - loss: 0.0100\n",
      "Epoch 35/50\n",
      " - 15s - loss: 0.0100\n",
      "Epoch 36/50\n",
      " - 15s - loss: 0.0099\n",
      "Epoch 37/50\n",
      " - 16s - loss: 0.0100\n",
      "Epoch 38/50\n",
      " - 18s - loss: 0.0099\n",
      "Epoch 39/50\n",
      " - 15s - loss: 0.0100\n",
      "Epoch 40/50\n",
      " - 14s - loss: 0.0100\n",
      "Epoch 41/50\n",
      " - 15s - loss: 0.0100\n",
      "Epoch 42/50\n",
      " - 17s - loss: 0.0099\n",
      "Epoch 43/50\n",
      " - 15s - loss: 0.0100\n",
      "Epoch 44/50\n",
      " - 15s - loss: 0.0099\n",
      "Epoch 45/50\n",
      " - 15s - loss: 0.0099\n",
      "Epoch 46/50\n",
      " - 14s - loss: 0.0100\n",
      "Epoch 47/50\n",
      " - 15s - loss: 0.0099\n",
      "Epoch 48/50\n",
      " - 14s - loss: 0.0100\n",
      "Epoch 49/50\n",
      " - 17s - loss: 0.0099\n",
      "Epoch 50/50\n",
      " - 16s - loss: 0.0099\n"
     ]
    },
    {
     "data": {
      "text/plain": [
       "<keras.callbacks.History at 0x185f8eeb9b0>"
      ]
     },
     "execution_count": 69,
     "metadata": {},
     "output_type": "execute_result"
    }
   ],
   "source": [
    "model.fit(X_train, y_train, epochs=50, batch_size=batch_size, verbose=2, shuffle=True)"
   ]
  },
  {
   "cell_type": "markdown",
   "metadata": {
    "colab_type": "text",
    "id": "hqRlEmbjEqyG"
   },
   "source": [
    "## Question 9"
   ]
  },
  {
   "cell_type": "markdown",
   "metadata": {
    "colab_type": "text",
    "id": "12IhOtvUHJBF"
   },
   "source": [
    "### make predictions on train data\n",
    "- use predict() method\n",
    "  - batch_size: 1\n",
    "- store predictions in a variable"
   ]
  },
  {
   "cell_type": "code",
   "execution_count": 70,
   "metadata": {
    "colab": {},
    "colab_type": "code",
    "id": "iXWuJikQHURm"
   },
   "outputs": [],
   "source": [
    "trainPredict = model.predict(X_train, batch_size=batch_size)"
   ]
  },
  {
   "cell_type": "markdown",
   "metadata": {
    "colab_type": "text",
    "id": "XxxWOa-PsieH"
   },
   "source": [
    "### reset model state\n",
    "- if you are using stateful=True in your model then you should call reset_states every time, when you want to make consecutive model calls independent.\n",
    "- use reset_states() method"
   ]
  },
  {
   "cell_type": "code",
   "execution_count": 71,
   "metadata": {
    "colab": {},
    "colab_type": "code",
    "id": "ZdV5_F1Eo8SY"
   },
   "outputs": [],
   "source": [
    "model.reset_states()"
   ]
  },
  {
   "cell_type": "markdown",
   "metadata": {
    "colab_type": "text",
    "id": "KAhziPVBJD0u"
   },
   "source": [
    "### make predictions on test data\n",
    "- use predict() method\n",
    "  - batch_size: 1\n",
    "- store predictions in a variable"
   ]
  },
  {
   "cell_type": "code",
   "execution_count": 72,
   "metadata": {
    "colab": {},
    "colab_type": "code",
    "id": "HuHopEXNJU_y"
   },
   "outputs": [],
   "source": [
    "testPredict = model.predict(X_test, batch_size=batch_size)\n"
   ]
  },
  {
   "cell_type": "code",
   "execution_count": 38,
   "metadata": {},
   "outputs": [],
   "source": [
    "# testPredict"
   ]
  },
  {
   "cell_type": "markdown",
   "metadata": {
    "colab_type": "text",
    "id": "pO81E-fsJruD"
   },
   "source": [
    "## Question 10"
   ]
  },
  {
   "cell_type": "markdown",
   "metadata": {
    "colab_type": "text",
    "id": "RImBG7sCtnlb"
   },
   "source": [
    "### Inverse train predictions and true labels\n",
    "- use your MinMaxSclarer object\n",
    "- use inverse_transform() method"
   ]
  },
  {
   "cell_type": "code",
   "execution_count": 73,
   "metadata": {
    "colab": {},
    "colab_type": "code",
    "id": "xXfce41cqN-h"
   },
   "outputs": [],
   "source": [
    "# invert predictions\n",
    "trainPredict = sc.inverse_transform(trainPredict)\n",
    "y_train = sc.inverse_transform([y_train])\n"
   ]
  },
  {
   "cell_type": "markdown",
   "metadata": {
    "colab_type": "text",
    "id": "5fWSzk8cuPbp"
   },
   "source": [
    "### Inverse test predictions and true labels\n",
    "- use your MinMaxSclarer object\n",
    "- use inverse_transform() method"
   ]
  },
  {
   "cell_type": "code",
   "execution_count": 74,
   "metadata": {
    "colab": {},
    "colab_type": "code",
    "id": "nVJ1wMupuPbu"
   },
   "outputs": [],
   "source": [
    "testPredict = sc.inverse_transform(testPredict)\n",
    "y_test = sc.inverse_transform([y_test])\n",
    "\n",
    "\n"
   ]
  },
  {
   "cell_type": "code",
   "execution_count": null,
   "metadata": {},
   "outputs": [],
   "source": []
  },
  {
   "cell_type": "markdown",
   "metadata": {
    "colab_type": "text",
    "id": "VtowvAItJv6c"
   },
   "source": [
    "### Evaluate train predictions\n",
    "- calculate RMSE\n",
    "- RMSE = sqrt(mean_squared_error(true_labels, predicted_labels))\n",
    "- use sqrt() and mean_squared_error() method\n",
    "- print training RMSE"
   ]
  },
  {
   "cell_type": "code",
   "execution_count": 76,
   "metadata": {},
   "outputs": [],
   "source": [
    "import math\n",
    "from sklearn.metrics import mean_squared_error"
   ]
  },
  {
   "cell_type": "code",
   "execution_count": 79,
   "metadata": {
    "colab": {},
    "colab_type": "code",
    "id": "GjXbis_bJ9GL"
   },
   "outputs": [
    {
     "name": "stdout",
     "output_type": "stream",
     "text": [
      "Train Score: 2.61 RMSE\n"
     ]
    }
   ],
   "source": [
    "# calculate root mean squared error\n",
    "trainScore = math.sqrt(mean_squared_error(y_train[0], trainPredict[:,0]))\n",
    "print('Train Score: %.2f RMSE' % (trainScore))\n"
   ]
  },
  {
   "cell_type": "code",
   "execution_count": null,
   "metadata": {
    "colab": {},
    "colab_type": "code",
    "id": "pLb65-QiqMDX"
   },
   "outputs": [],
   "source": []
  },
  {
   "cell_type": "markdown",
   "metadata": {
    "colab_type": "text",
    "id": "DBOfSPRDvERE"
   },
   "source": [
    "### Evaluate test predictions\n",
    "- calculate RMSE\n",
    "- RMSE = sqrt(mean_squared_error(true_labels, predicted_labels))\n",
    "- use sqrt() and mean_squared_error() method\n",
    "- print testing RMSE"
   ]
  },
  {
   "cell_type": "code",
   "execution_count": 78,
   "metadata": {
    "colab": {},
    "colab_type": "code",
    "id": "8rQOereovERJ"
   },
   "outputs": [
    {
     "name": "stdout",
     "output_type": "stream",
     "text": [
      "Test Score: 2.53 RMSE\n"
     ]
    }
   ],
   "source": [
    "testScore = math.sqrt(mean_squared_error(y_test[0], testPredict[:,0]))\n",
    "print('Test Score: %.2f RMSE' % (testScore))"
   ]
  },
  {
   "cell_type": "code",
   "execution_count": null,
   "metadata": {
    "colab": {},
    "colab_type": "code",
    "id": "8DhUsMnvvERT"
   },
   "outputs": [],
   "source": []
  },
  {
   "cell_type": "code",
   "execution_count": null,
   "metadata": {
    "colab": {},
    "colab_type": "code",
    "id": "PAnzxOyoy5Bj"
   },
   "outputs": [],
   "source": []
  }
 ],
 "metadata": {
  "colab": {
   "collapsed_sections": [],
   "name": "Questions - Internal - R9 - AIML Labs.ipynb",
   "provenance": []
  },
  "kernelspec": {
   "display_name": "Python 3",
   "language": "python",
   "name": "python3"
  },
  "language_info": {
   "codemirror_mode": {
    "name": "ipython",
    "version": 3
   },
   "file_extension": ".py",
   "mimetype": "text/x-python",
   "name": "python",
   "nbconvert_exporter": "python",
   "pygments_lexer": "ipython3",
   "version": "3.6.9"
  }
 },
 "nbformat": 4,
 "nbformat_minor": 1
}
