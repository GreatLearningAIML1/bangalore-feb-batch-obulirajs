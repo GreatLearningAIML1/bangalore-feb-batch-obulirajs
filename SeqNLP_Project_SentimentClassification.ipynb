{
 "cells": [
  {
   "cell_type": "markdown",
   "metadata": {
    "colab_type": "text",
    "id": "xT7MKZuMRaCg"
   },
   "source": [
    "# Sentiment Classification\n"
   ]
  },
  {
   "cell_type": "code",
   "execution_count": 1,
   "metadata": {
    "colab": {
     "base_uri": "https://localhost:8080/",
     "height": 80
    },
    "colab_type": "code",
    "id": "4hQibLmBuOEX",
    "outputId": "0f9a0e7d-22a0-4407-b254-b3954d667d4d"
   },
   "outputs": [
    {
     "name": "stderr",
     "output_type": "stream",
     "text": [
      "Using TensorFlow backend.\n"
     ]
    }
   ],
   "source": [
    "import numpy as np\n",
    "import pandas as pd\n",
    "import itertools\n",
    "\n",
    "import tensorflow as tf\n",
    "import keras\n",
    "\n",
    "from keras.models import Sequential\n",
    "from keras.layers import Dense, Embedding,LSTM,GRU\n",
    "from keras.callbacks import ModelCheckpoint, EarlyStopping\n",
    "from keras.callbacks import Callback\n"
   ]
  },
  {
   "cell_type": "code",
   "execution_count": 2,
   "metadata": {
    "colab": {},
    "colab_type": "code",
    "id": "P86XXV96u2gm"
   },
   "outputs": [],
   "source": [
    "# importing ploting libraries\n",
    "import matplotlib.pyplot as plt   \n",
    "#importing seaborn for statistical plots\n",
    "import seaborn as sns\n",
    "# To enable plotting graphs in Jupyter notebook\n",
    "%matplotlib inline "
   ]
  },
  {
   "cell_type": "code",
   "execution_count": 3,
   "metadata": {
    "colab": {
     "base_uri": "https://localhost:8080/",
     "height": 122
    },
    "colab_type": "code",
    "id": "2xDcJV1jVEn6",
    "outputId": "1081e4d0-bce9-481f-9e35-569ef7885546"
   },
   "outputs": [
    {
     "ename": "ModuleNotFoundError",
     "evalue": "No module named 'google.colab'",
     "output_type": "error",
     "traceback": [
      "\u001b[1;31m---------------------------------------------------------------------------\u001b[0m",
      "\u001b[1;31mModuleNotFoundError\u001b[0m                       Traceback (most recent call last)",
      "\u001b[1;32m<ipython-input-3-d5df0069828e>\u001b[0m in \u001b[0;36m<module>\u001b[1;34m\u001b[0m\n\u001b[1;32m----> 1\u001b[1;33m \u001b[1;32mfrom\u001b[0m \u001b[0mgoogle\u001b[0m\u001b[1;33m.\u001b[0m\u001b[0mcolab\u001b[0m \u001b[1;32mimport\u001b[0m \u001b[0mdrive\u001b[0m\u001b[1;33m\u001b[0m\u001b[1;33m\u001b[0m\u001b[0m\n\u001b[0m\u001b[0;32m      2\u001b[0m \u001b[0mdrive\u001b[0m\u001b[1;33m.\u001b[0m\u001b[0mmount\u001b[0m\u001b[1;33m(\u001b[0m\u001b[1;34m'/content/drive'\u001b[0m\u001b[1;33m)\u001b[0m\u001b[1;33m\u001b[0m\u001b[1;33m\u001b[0m\u001b[0m\n",
      "\u001b[1;31mModuleNotFoundError\u001b[0m: No module named 'google.colab'"
     ]
    }
   ],
   "source": [
    "from google.colab import drive\n",
    "drive.mount('/content/drive')"
   ]
  },
  {
   "cell_type": "code",
   "execution_count": null,
   "metadata": {
    "colab": {},
    "colab_type": "code",
    "id": "d8Qweo3BVaKo"
   },
   "outputs": [],
   "source": [
    "import sys\n",
    "sys.path.insert(0, '/content/drive/My Drive/Project/R9_SeqNLP_Project')"
   ]
  },
  {
   "cell_type": "markdown",
   "metadata": {
    "colab_type": "text",
    "id": "Wq4RCyyPSYRp"
   },
   "source": [
    "## Loading the dataset"
   ]
  },
  {
   "cell_type": "code",
   "execution_count": null,
   "metadata": {
    "colab": {
     "base_uri": "https://localhost:8080/",
     "height": 51
    },
    "colab_type": "code",
    "id": "NGCtiXUhSWss",
    "outputId": "d313c2f2-af66-434f-8bba-85f2c7d6bbe1"
   },
   "outputs": [],
   "source": [
    "from keras.datasets import imdb\n",
    "\n",
    "vocab_size = 10000 #vocab size\n",
    "# vocab_size is no.of words to consider from the dataset, ordering based on frequency.\n",
    "(x_train, y_train), (x_test, y_test) = imdb.load_data(num_words=vocab_size) "
   ]
  },
  {
   "cell_type": "code",
   "execution_count": null,
   "metadata": {
    "colab": {},
    "colab_type": "code",
    "id": "fCPC_WN-eCyw"
   },
   "outputs": [],
   "source": [
    "from keras.preprocessing.sequence import pad_sequences\n",
    "vocab_size = 10000 #vocab size\n",
    "maxlen = 300  #number of word used from each review"
   ]
  },
  {
   "cell_type": "markdown",
   "metadata": {
    "colab_type": "text",
    "id": "qMEsHYrWxdtk"
   },
   "source": [
    "## Train test split"
   ]
  },
  {
   "cell_type": "code",
   "execution_count": null,
   "metadata": {
    "colab": {},
    "colab_type": "code",
    "id": "h0g381XzeCyz"
   },
   "outputs": [],
   "source": [
    "#load dataset as a list of ints\n",
    "(x_train, y_train), (x_test, y_test) = imdb.load_data(num_words=vocab_size)\n",
    "#make all sequences of the same length\n",
    "x_train = pad_sequences(x_train, maxlen=maxlen)\n",
    "x_test =  pad_sequences(x_test, maxlen=maxlen)"
   ]
  },
  {
   "cell_type": "code",
   "execution_count": null,
   "metadata": {
    "colab": {
     "base_uri": "https://localhost:8080/",
     "height": 85
    },
    "colab_type": "code",
    "id": "4iRDT6TK1aqm",
    "outputId": "2bf9ffe4-a27c-4056-e24d-a35dd187a270"
   },
   "outputs": [],
   "source": [
    "print(\"Train_Categories:\", np.unique(y_train))\n",
    "print(\"Test_Categories:\", np.unique(y_test))\n",
    "\n",
    "print(\"TrainData_Shape:\", x_train.shape)#number of review, number of words in each review\n",
    "print(\"TestData_Shape:\", x_test.shape)#number of review, number of words in each review\n",
    "\n",
    "\n"
   ]
  },
  {
   "cell_type": "markdown",
   "metadata": {
    "colab_type": "text",
    "id": "GQfjx8Oe-QCj"
   },
   "source": [
    "Data Analysis Summary:\n",
    "\n",
    "\n",
    "1.   In the IMDB dataset we have 25000 movie review and each review have 300 words in the Train & Test data\n",
    "2.   In both Train & Test data we have two categories (1 & 0). Here, 1 means Postive sentiment & 0 means Negative Sentiments \n",
    "\n"
   ]
  },
  {
   "cell_type": "markdown",
   "metadata": {
    "colab_type": "text",
    "id": "Xu3MUzY_xfvm"
   },
   "source": [
    "### Get the word index and then Create a key-value pair for word and word_id (20 points)"
   ]
  },
  {
   "cell_type": "code",
   "execution_count": null,
   "metadata": {
    "colab": {
     "base_uri": "https://localhost:8080/",
     "height": 51
    },
    "colab_type": "code",
    "id": "tZhMAgaNeCy5",
    "outputId": "217ffe09-8b3e-4d93-c369-d017928c6051"
   },
   "outputs": [],
   "source": [
    "#Get each word index of IMDB dataset \n",
    "word_index = imdb.get_word_index() "
   ]
  },
  {
   "cell_type": "code",
   "execution_count": null,
   "metadata": {
    "colab": {
     "base_uri": "https://localhost:8080/",
     "height": 357
    },
    "colab_type": "code",
    "id": "27g3yOJ236F5",
    "outputId": "73d786fa-8799-4aad-e252-ddb20a11b979"
   },
   "outputs": [],
   "source": [
    "# Get top 20 Key & Value pair from IMDB Dataset \n",
    "N = 20\n",
    "# Get first N items in dictionary  \n",
    "sliced_word_index = dict(itertools.islice(word_index.items(), N)) \n",
    "for key,value in sliced_word_index.items():\n",
    "  print(\"{0}:{1}\".format(key,value))"
   ]
  },
  {
   "cell_type": "code",
   "execution_count": null,
   "metadata": {
    "colab": {},
    "colab_type": "code",
    "id": "udO0uPmcxJLV"
   },
   "outputs": [],
   "source": [
    "reverse_word_index = dict([(value, key) for (key, value) in word_index.items()])\n"
   ]
  },
  {
   "cell_type": "code",
   "execution_count": null,
   "metadata": {
    "colab": {
     "base_uri": "https://localhost:8080/",
     "height": 88
    },
    "colab_type": "code",
    "id": "xyLqiuJxymA1",
    "outputId": "d5c686ae-7c14-4166-96ab-bf4b7d5f7c68"
   },
   "outputs": [],
   "source": [
    "#Get the movie review comment & sentimnet for 10th index in the train data\n",
    "movieReview = \" \".join( [reverse_word_index.get(i - 3, \"#\") for i in x_train[10]] )\n",
    "print(\"Movie Review : \\n \"+ movieReview)\n",
    "print(\"Sentiment Analysis :  \"+ str(y_train[10]))"
   ]
  },
  {
   "cell_type": "markdown",
   "metadata": {
    "colab_type": "text",
    "id": "KR-HQ8_5sn4G"
   },
   "source": [
    "### Build a Sequential Model using Keras for the Sentiment Classification task (20 points)"
   ]
  },
  {
   "cell_type": "markdown",
   "metadata": {
    "colab_type": "text",
    "id": "dybtUgUReCy8"
   },
   "source": [
    "## Build Keras Embedding Layer Model\n",
    "We can think of the Embedding layer as a dicionary that maps a index assigned to a word to a word vector. This layer is very flexible and can be used in a few ways:\n",
    "\n",
    "* The embedding layer can be used at the start of a larger deep learning model. \n",
    "* Also we could load pre-train word embeddings into the embedding layer when we create our model.\n",
    "* Use the embedding layer to train our own word2vec models.\n",
    "\n",
    "The keras embedding layer doesn't require us to onehot encode our words, instead we have to give each word a unqiue intger number as an id. For the imdb dataset we've loaded this has already been done, but if this wasn't the case we could use sklearn [LabelEncoder](http://scikit-learn.org/stable/modules/generated/sklearn.preprocessing.LabelEncoder.html)."
   ]
  },
  {
   "cell_type": "code",
   "execution_count": 0,
   "metadata": {
    "colab": {},
    "colab_type": "code",
    "id": "zFNDtl0CAfcH"
   },
   "outputs": [],
   "source": [
    "EMBEDDING_DIM=100"
   ]
  },
  {
   "cell_type": "markdown",
   "metadata": {
    "colab_type": "text",
    "id": "UBhAsJaogvx4"
   },
   "source": [
    "#### Sequence NLP - LSTM Model for SENTIMENT ANALYSIS ON IMDB MOVIE DATASET"
   ]
  },
  {
   "cell_type": "code",
   "execution_count": 0,
   "metadata": {
    "colab": {},
    "colab_type": "code",
    "id": "DZaF0AysfBQd"
   },
   "outputs": [],
   "source": [
    "#Build sentiment analysis model with simple LSTM model\n",
    "model_LSTM = Sequential()\n",
    "model_LSTM.add(Embedding(input_dim=vocab_size, output_dim=EMBEDDING_DIM, input_length=maxlen))\n",
    "model_LSTM.add(LSTM(128, dropout=0.2, recurrent_dropout=0.2))\n",
    "model_LSTM.add(Dense(1, activation='sigmoid'))"
   ]
  },
  {
   "cell_type": "code",
   "execution_count": 0,
   "metadata": {
    "colab": {},
    "colab_type": "code",
    "id": "V5aaasXAfJfh"
   },
   "outputs": [],
   "source": [
    "#Compile the model\n",
    "model_LSTM.compile(loss='binary_crossentropy', optimizer='adam',metrics=['accuracy'])"
   ]
  },
  {
   "cell_type": "code",
   "execution_count": 28,
   "metadata": {
    "colab": {
     "base_uri": "https://localhost:8080/",
     "height": 255
    },
    "colab_type": "code",
    "id": "j45YQfEY3rPM",
    "outputId": "408656db-d6b5-4110-e17a-208853907fce"
   },
   "outputs": [
    {
     "name": "stdout",
     "output_type": "stream",
     "text": [
      "Model: \"sequential_3\"\n",
      "_________________________________________________________________\n",
      "Layer (type)                 Output Shape              Param #   \n",
      "=================================================================\n",
      "embedding_3 (Embedding)      (None, 300, 100)          1000000   \n",
      "_________________________________________________________________\n",
      "lstm_3 (LSTM)                (None, 128)               117248    \n",
      "_________________________________________________________________\n",
      "dense_3 (Dense)              (None, 1)                 129       \n",
      "=================================================================\n",
      "Total params: 1,117,377\n",
      "Trainable params: 1,117,377\n",
      "Non-trainable params: 0\n",
      "_________________________________________________________________\n"
     ]
    }
   ],
   "source": [
    "#Get LSTM model summary\n",
    "model_LSTM.summary()"
   ]
  },
  {
   "cell_type": "code",
   "execution_count": 0,
   "metadata": {
    "colab": {},
    "colab_type": "code",
    "id": "y7Ekeig1fWzS"
   },
   "outputs": [],
   "source": [
    "best_model=\"/content/drive/My Drive/Project/R9_SeqNLP_Project/R9_Proj_LSTM_SentimentClassification.hdf5\""
   ]
  },
  {
   "cell_type": "code",
   "execution_count": 0,
   "metadata": {
    "colab": {},
    "colab_type": "code",
    "id": "QYU0qds0feog"
   },
   "outputs": [],
   "source": [
    "#Let's use earlystopper & checkpointer to save beter model during training through callback function\n",
    "earlystopper = tf.keras.callbacks.EarlyStopping(monitor='val_loss', mode='min', verbose=1, patience=12)\n",
    "checkpointer = ModelCheckpoint(filepath=best_model, verbose=1, save_best_only=True)"
   ]
  },
  {
   "cell_type": "code",
   "execution_count": 31,
   "metadata": {
    "colab": {
     "base_uri": "https://localhost:8080/",
     "height": 1000
    },
    "colab_type": "code",
    "id": "njoxwXjbfi69",
    "outputId": "98549f4d-25bf-4133-fd0e-df52a589084d"
   },
   "outputs": [
    {
     "name": "stdout",
     "output_type": "stream",
     "text": [
      "WARNING:tensorflow:From /usr/local/lib/python3.6/dist-packages/keras/backend/tensorflow_backend.py:1033: The name tf.assign_add is deprecated. Please use tf.compat.v1.assign_add instead.\n",
      "\n",
      "WARNING:tensorflow:From /usr/local/lib/python3.6/dist-packages/keras/backend/tensorflow_backend.py:1020: The name tf.assign is deprecated. Please use tf.compat.v1.assign instead.\n",
      "\n",
      "WARNING:tensorflow:From /usr/local/lib/python3.6/dist-packages/keras/backend/tensorflow_backend.py:3005: The name tf.Session is deprecated. Please use tf.compat.v1.Session instead.\n",
      "\n",
      "Train on 22500 samples, validate on 2500 samples\n",
      "Epoch 1/30\n",
      "WARNING:tensorflow:From /usr/local/lib/python3.6/dist-packages/keras/backend/tensorflow_backend.py:190: The name tf.get_default_session is deprecated. Please use tf.compat.v1.get_default_session instead.\n",
      "\n",
      "WARNING:tensorflow:From /usr/local/lib/python3.6/dist-packages/keras/backend/tensorflow_backend.py:197: The name tf.ConfigProto is deprecated. Please use tf.compat.v1.ConfigProto instead.\n",
      "\n",
      "WARNING:tensorflow:From /usr/local/lib/python3.6/dist-packages/keras/backend/tensorflow_backend.py:207: The name tf.global_variables is deprecated. Please use tf.compat.v1.global_variables instead.\n",
      "\n",
      "WARNING:tensorflow:From /usr/local/lib/python3.6/dist-packages/keras/backend/tensorflow_backend.py:216: The name tf.is_variable_initialized is deprecated. Please use tf.compat.v1.is_variable_initialized instead.\n",
      "\n",
      "WARNING:tensorflow:From /usr/local/lib/python3.6/dist-packages/keras/backend/tensorflow_backend.py:223: The name tf.variables_initializer is deprecated. Please use tf.compat.v1.variables_initializer instead.\n",
      "\n",
      "22500/22500 [==============================] - 33s 1ms/step - loss: 0.6221 - acc: 0.6662 - val_loss: 0.5625 - val_acc: 0.7056\n",
      "\n",
      "Epoch 00001: val_loss improved from inf to 0.56252, saving model to /content/drive/My Drive/Project/R9_SeqNLP_Project/R9_Proj_LSTM_SentimentClassification.hdf5\n",
      "Epoch 2/30\n",
      "22500/22500 [==============================] - 24s 1ms/step - loss: 0.4104 - acc: 0.8241 - val_loss: 0.3779 - val_acc: 0.8364\n",
      "\n",
      "Epoch 00002: val_loss improved from 0.56252 to 0.37794, saving model to /content/drive/My Drive/Project/R9_SeqNLP_Project/R9_Proj_LSTM_SentimentClassification.hdf5\n",
      "Epoch 3/30\n",
      "22500/22500 [==============================] - 24s 1ms/step - loss: 0.2963 - acc: 0.8833 - val_loss: 0.3647 - val_acc: 0.8408\n",
      "\n",
      "Epoch 00003: val_loss improved from 0.37794 to 0.36474, saving model to /content/drive/My Drive/Project/R9_SeqNLP_Project/R9_Proj_LSTM_SentimentClassification.hdf5\n",
      "Epoch 4/30\n",
      "22500/22500 [==============================] - 24s 1ms/step - loss: 0.2748 - acc: 0.8923 - val_loss: 0.3672 - val_acc: 0.8532\n",
      "\n",
      "Epoch 00004: val_loss did not improve from 0.36474\n",
      "Epoch 5/30\n",
      "22500/22500 [==============================] - 24s 1ms/step - loss: 0.2383 - acc: 0.9092 - val_loss: 0.3751 - val_acc: 0.8580\n",
      "\n",
      "Epoch 00005: val_loss did not improve from 0.36474\n",
      "Epoch 6/30\n",
      "22500/22500 [==============================] - 24s 1ms/step - loss: 0.2444 - acc: 0.9072 - val_loss: 0.4080 - val_acc: 0.8188\n",
      "\n",
      "Epoch 00006: val_loss did not improve from 0.36474\n",
      "Epoch 7/30\n",
      "22500/22500 [==============================] - 24s 1ms/step - loss: 0.2030 - acc: 0.9256 - val_loss: 0.3984 - val_acc: 0.8532\n",
      "\n",
      "Epoch 00007: val_loss did not improve from 0.36474\n",
      "Epoch 8/30\n",
      "22500/22500 [==============================] - 24s 1ms/step - loss: 0.1800 - acc: 0.9350 - val_loss: 0.4201 - val_acc: 0.8300\n",
      "\n",
      "Epoch 00008: val_loss did not improve from 0.36474\n",
      "Epoch 9/30\n",
      "22500/22500 [==============================] - 24s 1ms/step - loss: 0.1683 - acc: 0.9392 - val_loss: 0.4341 - val_acc: 0.8420\n",
      "\n",
      "Epoch 00009: val_loss did not improve from 0.36474\n",
      "Epoch 10/30\n",
      "22500/22500 [==============================] - 23s 1ms/step - loss: 0.1577 - acc: 0.9433 - val_loss: 0.4467 - val_acc: 0.8320\n",
      "\n",
      "Epoch 00010: val_loss did not improve from 0.36474\n",
      "Epoch 11/30\n",
      "22500/22500 [==============================] - 23s 1ms/step - loss: 0.1414 - acc: 0.9507 - val_loss: 0.4705 - val_acc: 0.8332\n",
      "\n",
      "Epoch 00011: val_loss did not improve from 0.36474\n",
      "Epoch 12/30\n",
      "22500/22500 [==============================] - 24s 1ms/step - loss: 0.1291 - acc: 0.9551 - val_loss: 0.5114 - val_acc: 0.8448\n",
      "\n",
      "Epoch 00012: val_loss did not improve from 0.36474\n",
      "Epoch 13/30\n",
      "22500/22500 [==============================] - 24s 1ms/step - loss: 0.1377 - acc: 0.9500 - val_loss: 0.5127 - val_acc: 0.8488\n",
      "\n",
      "Epoch 00013: val_loss did not improve from 0.36474\n",
      "Epoch 14/30\n",
      "22500/22500 [==============================] - 24s 1ms/step - loss: 0.1313 - acc: 0.9528 - val_loss: 0.5106 - val_acc: 0.8216\n",
      "\n",
      "Epoch 00014: val_loss did not improve from 0.36474\n",
      "Epoch 15/30\n",
      "22500/22500 [==============================] - 23s 1ms/step - loss: 0.1216 - acc: 0.9573 - val_loss: 0.5557 - val_acc: 0.8304\n",
      "\n",
      "Epoch 00015: val_loss did not improve from 0.36474\n",
      "Epoch 00015: early stopping\n"
     ]
    }
   ],
   "source": [
    "#Train the LSTM model with 30 Epoch & 512 batch size\n",
    "history_LSTM = model_LSTM.fit(\n",
    "    x_train,\n",
    "    y_train,\n",
    "    epochs=30,\n",
    "    batch_size=512,\n",
    "    validation_split=0.1,\n",
    "    callbacks=[checkpointer, earlystopper]\n",
    ")"
   ]
  },
  {
   "cell_type": "markdown",
   "metadata": {
    "colab_type": "text",
    "id": "Pqh-TN9GfwKU"
   },
   "source": [
    "### Plot Accuracy & Loss for the LSTM Model"
   ]
  },
  {
   "cell_type": "code",
   "execution_count": 0,
   "metadata": {
    "colab": {
     "base_uri": "https://localhost:8080/",
     "height": 573
    },
    "colab_type": "code",
    "id": "3vRgf81pfw9D",
    "outputId": "54970e01-5412-4170-fcb7-753a4ebb4a76"
   },
   "outputs": [
    {
     "data": {
      "image/png": "[encoded data removed]",
      "text/plain": [
       "<Figure size 432x288 with 1 Axes>"
      ]
     },
     "metadata": {
      "tags": []
     },
     "output_type": "display_data"
    },
    {
     "data": {
      "image/png": "[encoded data removed]",
      "text/plain": [
       "<Figure size 432x288 with 1 Axes>"
      ]
     },
     "metadata": {
      "tags": []
     },
     "output_type": "display_data"
    }
   ],
   "source": [
    "# summarize history for accuracy\n",
    "plt.plot(history_LSTM.history['acc'])\n",
    "plt.plot(history_LSTM.history['val_acc'])\n",
    "plt.title('LSTM Model Accuracy')\n",
    "plt.ylabel('accuracy')\n",
    "plt.xlabel('epoch')\n",
    "plt.legend(['Train', 'Validation'], loc='upper left')\n",
    "plt.show()\n",
    "# summarize history for loss\n",
    "plt.plot(history_LSTM.history['loss'])\n",
    "plt.plot(history_LSTM.history['val_loss'])\n",
    "plt.title('LSTM Model Loss')\n",
    "plt.ylabel('loss')\n",
    "plt.xlabel('epoch')\n",
    "plt.legend(['Train', 'Validation'], loc='upper left')\n",
    "plt.show()"
   ]
  },
  {
   "cell_type": "markdown",
   "metadata": {
    "colab_type": "text",
    "id": "wYdj_AHpe9_J"
   },
   "source": [
    "### Sequence NLP - GRU Model for SENTIMENT ANALYSIS ON IMDB MOVIE DATASET"
   ]
  },
  {
   "cell_type": "code",
   "execution_count": 0,
   "metadata": {
    "colab": {},
    "colab_type": "code",
    "id": "4C7VpbXBeeDY"
   },
   "outputs": [],
   "source": [
    "#Let's try sentiment analysis with GRU model and see this performance for this IMDB dataset"
   ]
  },
  {
   "cell_type": "code",
   "execution_count": 0,
   "metadata": {
    "colab": {},
    "colab_type": "code",
    "id": "A5OLM4eBeCy9"
   },
   "outputs": [],
   "source": [
    "#Build sentiment analysis model with simple LSTM model\n",
    "model_GRU = Sequential()\n",
    "model_GRU.add(Embedding(input_dim=vocab_size, output_dim=EMBEDDING_DIM, input_length=maxlen))\n",
    "model_GRU.add(GRU(units=32, dropout=0.2, recurrent_dropout=0.2))\n",
    "model_GRU.add(Dense(1, activation='sigmoid'))\n"
   ]
  },
  {
   "cell_type": "code",
   "execution_count": 0,
   "metadata": {
    "colab": {},
    "colab_type": "code",
    "id": "chmWqQWABbqa"
   },
   "outputs": [],
   "source": [
    "model_GRU.compile(loss='binary_crossentropy', optimizer='adam',metrics=['accuracy'])"
   ]
  },
  {
   "cell_type": "code",
   "execution_count": 0,
   "metadata": {
    "colab": {
     "base_uri": "https://localhost:8080/",
     "height": 255
    },
    "colab_type": "code",
    "id": "votvrn6tBJ83",
    "outputId": "81f505cd-bafb-4567-d1aa-bf7c71051193"
   },
   "outputs": [
    {
     "name": "stdout",
     "output_type": "stream",
     "text": [
      "Model: \"sequential_4\"\n",
      "_________________________________________________________________\n",
      "Layer (type)                 Output Shape              Param #   \n",
      "=================================================================\n",
      "embedding_4 (Embedding)      (None, 300, 100)          1000000   \n",
      "_________________________________________________________________\n",
      "gru_4 (GRU)                  (None, 32)                12768     \n",
      "_________________________________________________________________\n",
      "dense_4 (Dense)              (None, 1)                 33        \n",
      "=================================================================\n",
      "Total params: 1,012,801\n",
      "Trainable params: 1,012,801\n",
      "Non-trainable params: 0\n",
      "_________________________________________________________________\n"
     ]
    }
   ],
   "source": [
    "model_GRU.summary()"
   ]
  },
  {
   "cell_type": "code",
   "execution_count": 0,
   "metadata": {
    "colab": {},
    "colab_type": "code",
    "id": "t57PZst6U-0H"
   },
   "outputs": [],
   "source": [
    "best_model=\"/content/drive/My Drive/Project/R9_SeqNLP_Project/R9_Proj_GRU_SentimentClassification.hdf5\""
   ]
  },
  {
   "cell_type": "code",
   "execution_count": 0,
   "metadata": {
    "colab": {},
    "colab_type": "code",
    "id": "WGq50F5PT-pW"
   },
   "outputs": [],
   "source": [
    "earlystopper = tf.keras.callbacks.EarlyStopping(monitor='val_loss', mode='min', verbose=1, patience=5)\n",
    "checkpointer = ModelCheckpoint(filepath=best_model, verbose=1, save_best_only=True)"
   ]
  },
  {
   "cell_type": "code",
   "execution_count": 0,
   "metadata": {
    "colab": {},
    "colab_type": "code",
    "id": "78Xesd9VUA25"
   },
   "outputs": [],
   "source": []
  },
  {
   "cell_type": "code",
   "execution_count": 103,
   "metadata": {
    "colab": {
     "base_uri": "https://localhost:8080/",
     "height": 615
    },
    "colab_type": "code",
    "id": "TxNDNhrseCzA",
    "outputId": "b077296b-3547-47ce-842c-af984962316e"
   },
   "outputs": [
    {
     "name": "stdout",
     "output_type": "stream",
     "text": [
      "Train on 22500 samples, validate on 2500 samples\n",
      "Epoch 1/30\n",
      "22500/22500 [==============================] - 21s 921us/step - loss: 0.6600 - acc: 0.6187 - val_loss: 0.5609 - val_acc: 0.7160\n",
      "\n",
      "Epoch 00001: val_loss improved from inf to 0.56092, saving model to /content/drive/My Drive/Project/R9_SeqNLP_Project/R9_Proj_GRU_SentimentClassification.hdf5\n",
      "Epoch 2/30\n",
      "22500/22500 [==============================] - 20s 871us/step - loss: 0.4575 - acc: 0.7916 - val_loss: 0.4410 - val_acc: 0.7876\n",
      "\n",
      "Epoch 00002: val_loss improved from 0.56092 to 0.44101, saving model to /content/drive/My Drive/Project/R9_SeqNLP_Project/R9_Proj_GRU_SentimentClassification.hdf5\n",
      "Epoch 3/30\n",
      "22500/22500 [==============================] - 20s 867us/step - loss: 0.3620 - acc: 0.8486 - val_loss: 0.4326 - val_acc: 0.7964\n",
      "\n",
      "Epoch 00003: val_loss improved from 0.44101 to 0.43258, saving model to /content/drive/My Drive/Project/R9_SeqNLP_Project/R9_Proj_GRU_SentimentClassification.hdf5\n",
      "Epoch 4/30\n",
      "22500/22500 [==============================] - 20s 885us/step - loss: 0.3238 - acc: 0.8707 - val_loss: 0.4366 - val_acc: 0.8012\n",
      "\n",
      "Epoch 00004: val_loss did not improve from 0.43258\n",
      "Epoch 5/30\n",
      "22500/22500 [==============================] - 19s 860us/step - loss: 0.3061 - acc: 0.8800 - val_loss: 0.4434 - val_acc: 0.8028\n",
      "\n",
      "Epoch 00005: val_loss did not improve from 0.43258\n",
      "Epoch 6/30\n",
      "22500/22500 [==============================] - 20s 875us/step - loss: 0.2752 - acc: 0.8941 - val_loss: 0.4428 - val_acc: 0.8108\n",
      "\n",
      "Epoch 00006: val_loss did not improve from 0.43258\n",
      "Epoch 7/30\n",
      "22500/22500 [==============================] - 20s 900us/step - loss: 0.2574 - acc: 0.9028 - val_loss: 0.4613 - val_acc: 0.8096\n",
      "\n",
      "Epoch 00007: val_loss did not improve from 0.43258\n",
      "Epoch 8/30\n",
      "22500/22500 [==============================] - 20s 873us/step - loss: 0.2437 - acc: 0.9083 - val_loss: 0.4740 - val_acc: 0.8128\n",
      "\n",
      "Epoch 00008: val_loss did not improve from 0.43258\n",
      "Epoch 00008: early stopping\n"
     ]
    }
   ],
   "source": [
    "#Train the GRU model with 30 Epoch & 512 batch size\n",
    "history_GRU = model_GRU.fit(\n",
    "    x_train,\n",
    "    y_train,\n",
    "    epochs=30,\n",
    "    batch_size=512,\n",
    "    validation_split=0.1,\n",
    "    callbacks=[checkpointer, earlystopper]\n",
    ")"
   ]
  },
  {
   "cell_type": "markdown",
   "metadata": {
    "colab_type": "text",
    "id": "8EVyRYwMgq-s"
   },
   "source": [
    "### Plot Accuracy & Loss for the GRU Model"
   ]
  },
  {
   "cell_type": "code",
   "execution_count": 104,
   "metadata": {
    "colab": {
     "base_uri": "https://localhost:8080/",
     "height": 573
    },
    "colab_type": "code",
    "id": "3a-aEWT4diDL",
    "outputId": "c8879f66-d169-479d-e525-6cbe8f09efd1"
   },
   "outputs": [
    {
     "data": {
      "image/png": "[encoded data removed]",
      "text/plain": [
       "<Figure size 432x288 with 1 Axes>"
      ]
     },
     "metadata": {
      "tags": []
     },
     "output_type": "display_data"
    },
    {
     "data": {
      "image/png": "[encoded data removed]",
      "text/plain": [
       "<Figure size 432x288 with 1 Axes>"
      ]
     },
     "metadata": {
      "tags": []
     },
     "output_type": "display_data"
    }
   ],
   "source": [
    "# summarize history for accuracy\n",
    "plt.plot(history_GRU.history['acc'])\n",
    "plt.plot(history_GRU.history['val_acc'])\n",
    "plt.title('GRU Model Accuracy')\n",
    "plt.ylabel('accuracy')\n",
    "plt.xlabel('epoch')\n",
    "plt.legend(['Train', 'Validation'], loc='upper left')\n",
    "plt.show()\n",
    "# summarize history for loss\n",
    "plt.plot(history_GRU.history['loss'])\n",
    "plt.plot(history_GRU.history['val_loss'])\n",
    "plt.title('GRU Model Loss')\n",
    "plt.ylabel('loss')\n",
    "plt.xlabel('epoch')\n",
    "plt.legend(['Train', 'Validation'], loc='upper left')\n",
    "plt.show()"
   ]
  },
  {
   "cell_type": "markdown",
   "metadata": {
    "colab_type": "text",
    "id": "TXuwXjPEtTq5"
   },
   "source": [
    "### Build LSTM model using Pre-trained Embedding"
   ]
  },
  {
   "cell_type": "code",
   "execution_count": 0,
   "metadata": {
    "colab": {},
    "colab_type": "code",
    "id": "STnEpJAxtrDG"
   },
   "outputs": [],
   "source": [
    "import string\n",
    "import nltk\n",
    "import re\n",
    "from nltk.tokenize import word_tokenize\n",
    "from nltk.corpus import stopwords\n",
    "import gensim\n",
    "from keras.initializers import Constant"
   ]
  },
  {
   "cell_type": "code",
   "execution_count": 60,
   "metadata": {
    "colab": {
     "base_uri": "https://localhost:8080/",
     "height": 68
    },
    "colab_type": "code",
    "id": "PCTLd97Jt0P-",
    "outputId": "2ea8942c-5c99-4848-a0e7-e4105114146c"
   },
   "outputs": [
    {
     "name": "stdout",
     "output_type": "stream",
     "text": [
      "[nltk_data] Downloading package stopwords to /root/nltk_data...\n",
      "[nltk_data]   Unzipping corpora/stopwords.zip.\n"
     ]
    },
    {
     "data": {
      "text/plain": [
       "True"
      ]
     },
     "execution_count": 60,
     "metadata": {
      "tags": []
     },
     "output_type": "execute_result"
    }
   ],
   "source": [
    "nltk.download('stopwords')"
   ]
  },
  {
   "cell_type": "code",
   "execution_count": 61,
   "metadata": {
    "colab": {
     "base_uri": "https://localhost:8080/",
     "height": 68
    },
    "colab_type": "code",
    "id": "yFU5pjjlt64V",
    "outputId": "82a3f7b6-e50f-434a-8468-d1009c53d506"
   },
   "outputs": [
    {
     "name": "stdout",
     "output_type": "stream",
     "text": [
      "[nltk_data] Downloading package punkt to /root/nltk_data...\n",
      "[nltk_data]   Unzipping tokenizers/punkt.zip.\n"
     ]
    },
    {
     "data": {
      "text/plain": [
       "True"
      ]
     },
     "execution_count": 61,
     "metadata": {
      "tags": []
     },
     "output_type": "execute_result"
    }
   ],
   "source": [
    "nltk.download('punkt')"
   ]
  },
  {
   "cell_type": "code",
   "execution_count": 0,
   "metadata": {
    "colab": {},
    "colab_type": "code",
    "id": "uWUwlBypuABZ"
   },
   "outputs": [],
   "source": [
    "review_lines = list()\n",
    "lines = reverse_word_index.values()"
   ]
  },
  {
   "cell_type": "code",
   "execution_count": 0,
   "metadata": {
    "colab": {},
    "colab_type": "code",
    "id": "JVfgDwx1unyb"
   },
   "outputs": [],
   "source": []
  },
  {
   "cell_type": "code",
   "execution_count": 0,
   "metadata": {
    "colab": {},
    "colab_type": "code",
    "id": "7xLmwGFxuQJY"
   },
   "outputs": [],
   "source": [
    "def remove_special_characters(text, remove_digits=False):\n",
    "    pattern = r'[^a-zA-z0-9\\s]' if not remove_digits else r'[^a-zA-z\\s]'\n",
    "    text = re.sub(pattern, '', text)\n",
    "    return text"
   ]
  },
  {
   "cell_type": "code",
   "execution_count": 0,
   "metadata": {
    "colab": {},
    "colab_type": "code",
    "id": "cjq7K6SYuRfZ"
   },
   "outputs": [],
   "source": [
    "for line in lines:\n",
    "  tokens = word_tokenize(line)\n",
    "  #convert to lowercase\n",
    "  tokens = [w.lower() for w in tokens]\n",
    "  #remove puchation and numbers from each word\n",
    "  words = [remove_special_characters(w,remove_digits=True) for w in tokens]\n",
    "  #filter out stopwords\n",
    "  stop_words = set(stopwords.words('english'))\n",
    "  words = [w for w in words if not w in stop_words]\n",
    "  review_lines.append(words)"
   ]
  },
  {
   "cell_type": "code",
   "execution_count": 70,
   "metadata": {
    "colab": {
     "base_uri": "https://localhost:8080/",
     "height": 34
    },
    "colab_type": "code",
    "id": "lqUrXygdvV9P",
    "outputId": "d6829164-60af-4ebd-bde6-0f2cf53c4c72"
   },
   "outputs": [
    {
     "data": {
      "text/plain": [
       "88584"
      ]
     },
     "execution_count": 70,
     "metadata": {
      "tags": []
     },
     "output_type": "execute_result"
    }
   ],
   "source": [
    "len(review_lines)"
   ]
  },
  {
   "cell_type": "code",
   "execution_count": 0,
   "metadata": {
    "colab": {},
    "colab_type": "code",
    "id": "vk6JAI5nvXPI"
   },
   "outputs": [],
   "source": [
    "#create and train word2vec model\n",
    "word2vec_model = gensim.models.Word2Vec(sentences = review_lines, size=EMBEDDING_DIM, window=5, min_count=1, workers=4)"
   ]
  },
  {
   "cell_type": "code",
   "execution_count": 73,
   "metadata": {
    "colab": {
     "base_uri": "https://localhost:8080/",
     "height": 34
    },
    "colab_type": "code",
    "id": "QTw8FtGqvoYF",
    "outputId": "082a97b5-a3ef-452e-d35d-66c67f30237d"
   },
   "outputs": [
    {
     "name": "stdout",
     "output_type": "stream",
     "text": [
      "vocabilary size : 73723\n"
     ]
    }
   ],
   "source": [
    "words = list(word2vec_model.wv.vocab)\n",
    "print(\"vocabilary size : %d\"%len(words))"
   ]
  },
  {
   "cell_type": "code",
   "execution_count": 74,
   "metadata": {
    "colab": {
     "base_uri": "https://localhost:8080/",
     "height": 241
    },
    "colab_type": "code",
    "id": "dzdNxg0-wXl-",
    "outputId": "9485c1db-0ecc-41fb-8590-0e3da2ca7116"
   },
   "outputs": [
    {
     "name": "stderr",
     "output_type": "stream",
     "text": [
      "/usr/local/lib/python3.6/dist-packages/gensim/matutils.py:737: FutureWarning: Conversion of the second argument of issubdtype from `int` to `np.signedinteger` is deprecated. In future, it will be treated as `np.int64 == np.dtype(int).type`.\n",
      "  if np.issubdtype(vec.dtype, np.int):\n"
     ]
    },
    {
     "data": {
      "text/plain": [
       "[('renovating', 0.39094120264053345),\n",
       " ('elton', 0.3895918130874634),\n",
       " ('gurantee', 0.37426793575286865),\n",
       " ('minneapolis', 0.3708842396736145),\n",
       " ('megatron', 0.36676648259162903),\n",
       " ('accordian', 0.36608368158340454),\n",
       " ('novodny', 0.36312055587768555),\n",
       " ('allurement', 0.3608793616294861),\n",
       " ('grisby', 0.36071911454200745),\n",
       " ('lucille', 0.350883424282074)]"
      ]
     },
     "execution_count": 74,
     "metadata": {
      "tags": []
     },
     "output_type": "execute_result"
    }
   ],
   "source": [
    "word2vec_model.wv.most_similar(positive = \"terrible\")"
   ]
  },
  {
   "cell_type": "code",
   "execution_count": 75,
   "metadata": {
    "colab": {
     "base_uri": "https://localhost:8080/",
     "height": 71
    },
    "colab_type": "code",
    "id": "lwC8p05bwp1Z",
    "outputId": "059fa679-c3c5-470e-94b3-0809893efc0e"
   },
   "outputs": [
    {
     "name": "stderr",
     "output_type": "stream",
     "text": [
      "/usr/local/lib/python3.6/dist-packages/smart_open/smart_open_lib.py:402: UserWarning: This function is deprecated, use smart_open.open instead. See the migration notes for details: https://github.com/RaRe-Technologies/smart_open/blob/master/README.rst#migrating-to-the-new-open-function\n",
      "  'See the migration notes for details: %s' % _MIGRATION_NOTES_URL\n"
     ]
    }
   ],
   "source": [
    "#save model\n",
    "filename = \"/content/drive/My Drive/Project/R9_SeqNLP_Project/imdb_embedding_word2vec.txt\"\n",
    "word2vec_model.wv.save_word2vec_format(filename,binary=False)"
   ]
  },
  {
   "cell_type": "code",
   "execution_count": 0,
   "metadata": {
    "colab": {},
    "colab_type": "code",
    "id": "N7jvHJHow2BJ"
   },
   "outputs": [],
   "source": [
    "#creating embedding matrix\n",
    "import os\n",
    "embedding_index = {}\n",
    "f = open(os.path.join('',filename))\n",
    "for line in f:\n",
    "  values = line.split()\n",
    "  word = values[0]\n",
    "  coefs = np.asarray(values[1:])\n",
    "  embedding_index[word]=coefs\n",
    "f.close()"
   ]
  },
  {
   "cell_type": "code",
   "execution_count": 0,
   "metadata": {
    "colab": {},
    "colab_type": "code",
    "id": "_jqZ_nH3xgZP"
   },
   "outputs": [],
   "source": [
    "num_words = len(reverse_word_index) + 1"
   ]
  },
  {
   "cell_type": "code",
   "execution_count": 80,
   "metadata": {
    "colab": {
     "base_uri": "https://localhost:8080/",
     "height": 34
    },
    "colab_type": "code",
    "id": "aCvZA5Dhxh_N",
    "outputId": "5c3c28d1-261c-46be-abe9-96a315978ff6"
   },
   "outputs": [
    {
     "data": {
      "text/plain": [
       "88585"
      ]
     },
     "execution_count": 80,
     "metadata": {
      "tags": []
     },
     "output_type": "execute_result"
    }
   ],
   "source": [
    "num_words"
   ]
  },
  {
   "cell_type": "code",
   "execution_count": 0,
   "metadata": {
    "colab": {},
    "colab_type": "code",
    "id": "6-KIaWWayH4b"
   },
   "outputs": [],
   "source": [
    "embedding_matrix = np.zeros((num_words, EMBEDDING_DIM))"
   ]
  },
  {
   "cell_type": "code",
   "execution_count": 86,
   "metadata": {
    "colab": {
     "base_uri": "https://localhost:8080/",
     "height": 34
    },
    "colab_type": "code",
    "id": "Jkz404npyJlB",
    "outputId": "04c191d1-8db0-4feb-9576-e2d7dfc68c98"
   },
   "outputs": [
    {
     "data": {
      "text/plain": [
       "(88585, 100)"
      ]
     },
     "execution_count": 86,
     "metadata": {
      "tags": []
     },
     "output_type": "execute_result"
    }
   ],
   "source": [
    "embedding_matrix.shape"
   ]
  },
  {
   "cell_type": "code",
   "execution_count": 0,
   "metadata": {
    "colab": {},
    "colab_type": "code",
    "id": "VCODvhMvxBfA"
   },
   "outputs": [],
   "source": [
    "for i, word in reverse_word_index.items():\n",
    "  if i > num_words:\n",
    "    continue\n",
    "  embedding_vector = embedding_index.get(word)\n",
    "  if embedding_vector is not None:\n",
    "    embedding_matrix[i]=embedding_vector"
   ]
  },
  {
   "cell_type": "code",
   "execution_count": 0,
   "metadata": {
    "colab": {},
    "colab_type": "code",
    "id": "ZjqW7C5MxBV7"
   },
   "outputs": [],
   "source": [
    "#Bulding model using Pre-trained Embedding\n",
    "model_PreTrainedEmbedding=Sequential()\n",
    "embedding_layer = Embedding(num_words, EMBEDDING_DIM, weights=[embedding_matrix], input_length=maxlen, trainable = False)\n",
    "model_PreTrainedEmbedding.add(embedding_layer)\n",
    "model_PreTrainedEmbedding.add(LSTM(128, dropout=0.2, recurrent_dropout=0.2))\n",
    "model_PreTrainedEmbedding.add(Dense(1, activation='sigmoid'))"
   ]
  },
  {
   "cell_type": "code",
   "execution_count": 0,
   "metadata": {
    "colab": {},
    "colab_type": "code",
    "id": "80-uzs6wzJNI"
   },
   "outputs": [],
   "source": [
    "model_PreTrainedEmbedding.compile(loss='binary_crossentropy', optimizer='adam',metrics=['accuracy'])"
   ]
  },
  {
   "cell_type": "code",
   "execution_count": 93,
   "metadata": {
    "colab": {
     "base_uri": "https://localhost:8080/",
     "height": 255
    },
    "colab_type": "code",
    "id": "gppdZndkzQ-e",
    "outputId": "6fe3a12f-624d-489a-82e0-5c1a4add29dc"
   },
   "outputs": [
    {
     "name": "stdout",
     "output_type": "stream",
     "text": [
      "Model: \"sequential_4\"\n",
      "_________________________________________________________________\n",
      "Layer (type)                 Output Shape              Param #   \n",
      "=================================================================\n",
      "embedding_4 (Embedding)      (None, 300, 100)          8858500   \n",
      "_________________________________________________________________\n",
      "lstm_4 (LSTM)                (None, 128)               117248    \n",
      "_________________________________________________________________\n",
      "dense_4 (Dense)              (None, 1)                 129       \n",
      "=================================================================\n",
      "Total params: 8,975,877\n",
      "Trainable params: 117,377\n",
      "Non-trainable params: 8,858,500\n",
      "_________________________________________________________________\n"
     ]
    }
   ],
   "source": [
    "model_PreTrainedEmbedding.summary()"
   ]
  },
  {
   "cell_type": "code",
   "execution_count": 0,
   "metadata": {
    "colab": {},
    "colab_type": "code",
    "id": "cscfU01WzUbX"
   },
   "outputs": [],
   "source": [
    "best_model=\"/content/drive/My Drive/Project/R9_SeqNLP_Project/R9_Proj_PreTrained_LSTM_SentimentClassification.hdf5\""
   ]
  },
  {
   "cell_type": "code",
   "execution_count": 0,
   "metadata": {
    "colab": {},
    "colab_type": "code",
    "id": "ZFISnbnWzl78"
   },
   "outputs": [],
   "source": [
    "earlystopper = tf.keras.callbacks.EarlyStopping(monitor='val_loss', mode='min', verbose=1, patience=12)\n",
    "checkpointer = ModelCheckpoint(filepath=best_model, verbose=1, save_best_only=True)"
   ]
  },
  {
   "cell_type": "code",
   "execution_count": 96,
   "metadata": {
    "colab": {
     "base_uri": "https://localhost:8080/",
     "height": 1000
    },
    "colab_type": "code",
    "id": "8AXEHfMrztDF",
    "outputId": "285d6a20-e3e1-48a3-d85d-9cc48fb91e04"
   },
   "outputs": [
    {
     "name": "stdout",
     "output_type": "stream",
     "text": [
      "Train on 22500 samples, validate on 2500 samples\n",
      "Epoch 1/30\n",
      "22500/22500 [==============================] - 23s 1ms/step - loss: 0.6931 - acc: 0.5038 - val_loss: 0.6929 - val_acc: 0.5124\n",
      "\n",
      "Epoch 00001: val_loss improved from inf to 0.69288, saving model to /content/drive/My Drive/Project/R9_SeqNLP_Project/R9_Proj_PreTrained_LSTM_SentimentClassification.hdf5\n",
      "Epoch 2/30\n",
      "22500/22500 [==============================] - 22s 975us/step - loss: 0.6930 - acc: 0.4999 - val_loss: 0.6929 - val_acc: 0.4968\n",
      "\n",
      "Epoch 00002: val_loss did not improve from 0.69288\n",
      "Epoch 3/30\n",
      "22500/22500 [==============================] - 22s 970us/step - loss: 0.6928 - acc: 0.5156 - val_loss: 0.6928 - val_acc: 0.4876\n",
      "\n",
      "Epoch 00003: val_loss improved from 0.69288 to 0.69277, saving model to /content/drive/My Drive/Project/R9_SeqNLP_Project/R9_Proj_PreTrained_LSTM_SentimentClassification.hdf5\n",
      "Epoch 4/30\n",
      "22500/22500 [==============================] - 22s 1000us/step - loss: 0.6940 - acc: 0.5139 - val_loss: 0.6918 - val_acc: 0.5240\n",
      "\n",
      "Epoch 00004: val_loss improved from 0.69277 to 0.69183, saving model to /content/drive/My Drive/Project/R9_SeqNLP_Project/R9_Proj_PreTrained_LSTM_SentimentClassification.hdf5\n",
      "Epoch 5/30\n",
      "22500/22500 [==============================] - 22s 999us/step - loss: 0.6921 - acc: 0.5458 - val_loss: 0.6918 - val_acc: 0.5700\n",
      "\n",
      "Epoch 00005: val_loss improved from 0.69183 to 0.69177, saving model to /content/drive/My Drive/Project/R9_SeqNLP_Project/R9_Proj_PreTrained_LSTM_SentimentClassification.hdf5\n",
      "Epoch 6/30\n",
      "22500/22500 [==============================] - 22s 988us/step - loss: 0.6916 - acc: 0.5490 - val_loss: 0.6914 - val_acc: 0.5424\n",
      "\n",
      "Epoch 00006: val_loss improved from 0.69177 to 0.69143, saving model to /content/drive/My Drive/Project/R9_SeqNLP_Project/R9_Proj_PreTrained_LSTM_SentimentClassification.hdf5\n",
      "Epoch 7/30\n",
      "22500/22500 [==============================] - 22s 986us/step - loss: 0.6910 - acc: 0.5514 - val_loss: 0.6901 - val_acc: 0.5900\n",
      "\n",
      "Epoch 00007: val_loss improved from 0.69143 to 0.69011, saving model to /content/drive/My Drive/Project/R9_SeqNLP_Project/R9_Proj_PreTrained_LSTM_SentimentClassification.hdf5\n",
      "Epoch 8/30\n",
      "22500/22500 [==============================] - 22s 994us/step - loss: 0.6900 - acc: 0.5473 - val_loss: 0.6902 - val_acc: 0.5140\n",
      "\n",
      "Epoch 00008: val_loss did not improve from 0.69011\n",
      "Epoch 9/30\n",
      "22500/22500 [==============================] - 22s 979us/step - loss: 0.6887 - acc: 0.5433 - val_loss: 0.6900 - val_acc: 0.5156\n",
      "\n",
      "Epoch 00009: val_loss improved from 0.69011 to 0.68997, saving model to /content/drive/My Drive/Project/R9_SeqNLP_Project/R9_Proj_PreTrained_LSTM_SentimentClassification.hdf5\n",
      "Epoch 10/30\n",
      "22500/22500 [==============================] - 22s 992us/step - loss: 0.6876 - acc: 0.5536 - val_loss: 0.6896 - val_acc: 0.5176\n",
      "\n",
      "Epoch 00010: val_loss improved from 0.68997 to 0.68956, saving model to /content/drive/My Drive/Project/R9_SeqNLP_Project/R9_Proj_PreTrained_LSTM_SentimentClassification.hdf5\n",
      "Epoch 11/30\n",
      "22500/22500 [==============================] - 23s 1ms/step - loss: 0.6891 - acc: 0.5447 - val_loss: 0.6879 - val_acc: 0.5700\n",
      "\n",
      "Epoch 00011: val_loss improved from 0.68956 to 0.68790, saving model to /content/drive/My Drive/Project/R9_SeqNLP_Project/R9_Proj_PreTrained_LSTM_SentimentClassification.hdf5\n",
      "Epoch 12/30\n",
      "22500/22500 [==============================] - 22s 989us/step - loss: 0.6880 - acc: 0.5650 - val_loss: 0.6872 - val_acc: 0.5524\n",
      "\n",
      "Epoch 00012: val_loss improved from 0.68790 to 0.68718, saving model to /content/drive/My Drive/Project/R9_SeqNLP_Project/R9_Proj_PreTrained_LSTM_SentimentClassification.hdf5\n",
      "Epoch 13/30\n",
      "22500/22500 [==============================] - 23s 1ms/step - loss: 0.6856 - acc: 0.5654 - val_loss: 0.6836 - val_acc: 0.5764\n",
      "\n",
      "Epoch 00013: val_loss improved from 0.68718 to 0.68360, saving model to /content/drive/My Drive/Project/R9_SeqNLP_Project/R9_Proj_PreTrained_LSTM_SentimentClassification.hdf5\n",
      "Epoch 14/30\n",
      "22500/22500 [==============================] - 23s 1ms/step - loss: 0.6817 - acc: 0.5757 - val_loss: 0.6805 - val_acc: 0.5784\n",
      "\n",
      "Epoch 00014: val_loss improved from 0.68360 to 0.68055, saving model to /content/drive/My Drive/Project/R9_SeqNLP_Project/R9_Proj_PreTrained_LSTM_SentimentClassification.hdf5\n",
      "Epoch 15/30\n",
      "22500/22500 [==============================] - 22s 993us/step - loss: 0.6804 - acc: 0.5640 - val_loss: 0.6785 - val_acc: 0.5796\n",
      "\n",
      "Epoch 00015: val_loss improved from 0.68055 to 0.67853, saving model to /content/drive/My Drive/Project/R9_SeqNLP_Project/R9_Proj_PreTrained_LSTM_SentimentClassification.hdf5\n",
      "Epoch 16/30\n",
      "22500/22500 [==============================] - 22s 993us/step - loss: 0.6840 - acc: 0.5573 - val_loss: 0.6853 - val_acc: 0.5516\n",
      "\n",
      "Epoch 00016: val_loss did not improve from 0.67853\n",
      "Epoch 17/30\n",
      "22500/22500 [==============================] - 22s 995us/step - loss: 0.6845 - acc: 0.5616 - val_loss: 0.6822 - val_acc: 0.5796\n",
      "\n",
      "Epoch 00017: val_loss did not improve from 0.67853\n",
      "Epoch 18/30\n",
      "22500/22500 [==============================] - 22s 998us/step - loss: 0.6803 - acc: 0.5741 - val_loss: 0.6781 - val_acc: 0.5800\n",
      "\n",
      "Epoch 00018: val_loss improved from 0.67853 to 0.67815, saving model to /content/drive/My Drive/Project/R9_SeqNLP_Project/R9_Proj_PreTrained_LSTM_SentimentClassification.hdf5\n",
      "Epoch 19/30\n",
      "22500/22500 [==============================] - 22s 987us/step - loss: 0.6762 - acc: 0.5785 - val_loss: 0.6814 - val_acc: 0.5604\n",
      "\n",
      "Epoch 00019: val_loss did not improve from 0.67815\n",
      "Epoch 20/30\n",
      "22500/22500 [==============================] - 22s 992us/step - loss: 0.6755 - acc: 0.5732 - val_loss: 0.6707 - val_acc: 0.5996\n",
      "\n",
      "Epoch 00020: val_loss improved from 0.67815 to 0.67072, saving model to /content/drive/My Drive/Project/R9_SeqNLP_Project/R9_Proj_PreTrained_LSTM_SentimentClassification.hdf5\n",
      "Epoch 21/30\n",
      "22500/22500 [==============================] - 22s 988us/step - loss: 0.6742 - acc: 0.5832 - val_loss: 0.6668 - val_acc: 0.6036\n",
      "\n",
      "Epoch 00021: val_loss improved from 0.67072 to 0.66677, saving model to /content/drive/My Drive/Project/R9_SeqNLP_Project/R9_Proj_PreTrained_LSTM_SentimentClassification.hdf5\n",
      "Epoch 22/30\n",
      "22500/22500 [==============================] - 22s 989us/step - loss: 0.6731 - acc: 0.5800 - val_loss: 0.6656 - val_acc: 0.6072\n",
      "\n",
      "Epoch 00022: val_loss improved from 0.66677 to 0.66559, saving model to /content/drive/My Drive/Project/R9_SeqNLP_Project/R9_Proj_PreTrained_LSTM_SentimentClassification.hdf5\n",
      "Epoch 23/30\n",
      "22500/22500 [==============================] - 22s 994us/step - loss: 0.6750 - acc: 0.5754 - val_loss: 0.6717 - val_acc: 0.5864\n",
      "\n",
      "Epoch 00023: val_loss did not improve from 0.66559\n",
      "Epoch 24/30\n",
      "22500/22500 [==============================] - 22s 975us/step - loss: 0.6696 - acc: 0.5850 - val_loss: 0.6698 - val_acc: 0.5872\n",
      "\n",
      "Epoch 00024: val_loss did not improve from 0.66559\n",
      "Epoch 25/30\n",
      "22500/22500 [==============================] - 22s 975us/step - loss: 0.6708 - acc: 0.5843 - val_loss: 0.6626 - val_acc: 0.6040\n",
      "\n",
      "Epoch 00025: val_loss improved from 0.66559 to 0.66255, saving model to /content/drive/My Drive/Project/R9_SeqNLP_Project/R9_Proj_PreTrained_LSTM_SentimentClassification.hdf5\n",
      "Epoch 26/30\n",
      "22500/22500 [==============================] - 22s 973us/step - loss: 0.6703 - acc: 0.5850 - val_loss: 0.6759 - val_acc: 0.5764\n",
      "\n",
      "Epoch 00026: val_loss did not improve from 0.66255\n",
      "Epoch 27/30\n",
      "22500/22500 [==============================] - 22s 983us/step - loss: 0.6762 - acc: 0.5724 - val_loss: 0.6689 - val_acc: 0.5896\n",
      "\n",
      "Epoch 00027: val_loss did not improve from 0.66255\n",
      "Epoch 28/30\n",
      "22500/22500 [==============================] - 22s 956us/step - loss: 0.6735 - acc: 0.5778 - val_loss: 0.6721 - val_acc: 0.5832\n",
      "\n",
      "Epoch 00028: val_loss did not improve from 0.66255\n",
      "Epoch 29/30\n",
      "22500/22500 [==============================] - 22s 972us/step - loss: 0.6698 - acc: 0.5859 - val_loss: 0.6688 - val_acc: 0.5848\n",
      "\n",
      "Epoch 00029: val_loss did not improve from 0.66255\n",
      "Epoch 30/30\n",
      "22500/22500 [==============================] - 22s 965us/step - loss: 0.6672 - acc: 0.5856 - val_loss: 0.6677 - val_acc: 0.5888\n",
      "\n",
      "Epoch 00030: val_loss did not improve from 0.66255\n"
     ]
    }
   ],
   "source": [
    "#Train the GRU model with 30 Epoch & 512 batch size\n",
    "history_PreTrainedModel = model_PreTrainedEmbedding.fit(\n",
    "    x_train,\n",
    "    y_train,\n",
    "    epochs=30,\n",
    "    batch_size=512,\n",
    "    validation_split=0.1,\n",
    "    callbacks=[checkpointer, earlystopper]\n",
    ")"
   ]
  },
  {
   "cell_type": "code",
   "execution_count": 97,
   "metadata": {
    "colab": {
     "base_uri": "https://localhost:8080/",
     "height": 573
    },
    "colab_type": "code",
    "id": "0X-stT-qzs5X",
    "outputId": "d3e71bcc-0868-4357-e14c-f3b9b21c4d73"
   },
   "outputs": [
    {
     "data": {
      "image/png": "[encoded data removed]",
      "text/plain": [
       "<Figure size 432x288 with 1 Axes>"
      ]
     },
     "metadata": {
      "tags": []
     },
     "output_type": "display_data"
    },
    {
     "data": {
      "image/png": "[encoded data removed]",
      "text/plain": [
       "<Figure size 432x288 with 1 Axes>"
      ]
     },
     "metadata": {
      "tags": []
     },
     "output_type": "display_data"
    }
   ],
   "source": [
    "# summarize history for accuracy\n",
    "plt.plot(history_PreTrainedModel.history['acc'])\n",
    "plt.plot(history_PreTrainedModel.history['val_acc'])\n",
    "plt.title('LSTM PreTrained Embedding Model Accuracy')\n",
    "plt.ylabel('accuracy')\n",
    "plt.xlabel('epoch')\n",
    "plt.legend(['Train', 'Validation'], loc='upper left')\n",
    "plt.show()\n",
    "# summarize history for loss\n",
    "plt.plot(history_PreTrainedModel.history['loss'])\n",
    "plt.plot(history_PreTrainedModel.history['val_loss'])\n",
    "plt.title('LSTM PreTrained Embedding Model Loss')\n",
    "plt.ylabel('loss')\n",
    "plt.xlabel('epoch')\n",
    "plt.legend(['Train', 'Validation'], loc='upper left')\n",
    "plt.show()"
   ]
  },
  {
   "cell_type": "markdown",
   "metadata": {
    "colab_type": "text",
    "id": "rO3a-UYQho9P"
   },
   "source": [
    "### Report the Accuracy of the model (10 points)"
   ]
  },
  {
   "cell_type": "code",
   "execution_count": 105,
   "metadata": {
    "colab": {
     "base_uri": "https://localhost:8080/",
     "height": 34
    },
    "colab_type": "code",
    "id": "5rYNMvi-hsSb",
    "outputId": "2eaf60e0-8c1a-48c4-eef0-8ebb77322c8b"
   },
   "outputs": [
    {
     "name": "stdout",
     "output_type": "stream",
     "text": [
      "25000/25000 [==============================] - 143s 6ms/step\n"
     ]
    }
   ],
   "source": [
    "#Evaluate RNN-LSTM model with Test Data\n",
    "model_LSTM_result=model_LSTM.evaluate(x_test, y_test,verbose=1)"
   ]
  },
  {
   "cell_type": "code",
   "execution_count": 106,
   "metadata": {
    "colab": {
     "base_uri": "https://localhost:8080/",
     "height": 34
    },
    "colab_type": "code",
    "id": "c1kvwnQEhs1X",
    "outputId": "d905ec52-520d-4c28-85ef-087577dc6b34"
   },
   "outputs": [
    {
     "name": "stdout",
     "output_type": "stream",
     "text": [
      "25000/25000 [==============================] - 115s 5ms/step\n"
     ]
    }
   ],
   "source": [
    "#Evaluate RNN-GRU model with Test Data\n",
    "model_GRU_result=model_GRU.evaluate(x_test, y_test,verbose=1)\n"
   ]
  },
  {
   "cell_type": "code",
   "execution_count": 107,
   "metadata": {
    "colab": {
     "base_uri": "https://localhost:8080/",
     "height": 34
    },
    "colab_type": "code",
    "id": "a2OzZVru27_J",
    "outputId": "356bfa43-1809-4151-d02b-bf7bbe6a23ef"
   },
   "outputs": [
    {
     "name": "stdout",
     "output_type": "stream",
     "text": [
      "25000/25000 [==============================] - 135s 5ms/step\n"
     ]
    }
   ],
   "source": [
    "#Evaluate RNN-LSTM PreTrained Embedding model with Test Data\n",
    "model_PreTrainedEmbedding_result=model_PreTrainedEmbedding.evaluate(x_test, y_test,verbose=1)"
   ]
  },
  {
   "cell_type": "code",
   "execution_count": 0,
   "metadata": {
    "colab": {},
    "colab_type": "code",
    "id": "3IOx2BrBhteW"
   },
   "outputs": [],
   "source": [
    "model_Result=pd.DataFrame(index=[\"Model Name\",\"Accuracy\",\"Loss\"])\n",
    "model_Result[\"LSTM\"]=[\"LSTM\",(\"%0.2f\" % ((model_LSTM_result[1]*100))),(\"%0.2f\" % ((model_LSTM_result[0])))]\n",
    "model_Result[\"GRU\"]=[\"GRU\",(\"%0.2f\" % ((model_GRU_result[1]*100))),(\"%0.2f\" % ((model_GRU_result[0])))]\n",
    "model_Result[\"LSTM Pretrained Embedding\"]=[\"LSTM Pretrained Embedding\",(\"%0.2f\" % ((model_PreTrainedEmbedding_result[1]*100))),(\"%0.2f\" % ((model_PreTrainedEmbedding_result[0])))]\n"
   ]
  },
  {
   "cell_type": "code",
   "execution_count": 109,
   "metadata": {
    "colab": {
     "base_uri": "https://localhost:8080/",
     "height": 142
    },
    "colab_type": "code",
    "id": "QTyiYJlrlDpA",
    "outputId": "92ba2065-ed2f-4780-cae8-3ca5acf7e020"
   },
   "outputs": [
    {
     "data": {
      "text/html": [
       "<div>\n",
       "<style scoped>\n",
       "    .dataframe tbody tr th:only-of-type {\n",
       "        vertical-align: middle;\n",
       "    }\n",
       "\n",
       "    .dataframe tbody tr th {\n",
       "        vertical-align: top;\n",
       "    }\n",
       "\n",
       "    .dataframe thead th {\n",
       "        text-align: right;\n",
       "    }\n",
       "</style>\n",
       "<table border=\"1\" class=\"dataframe\">\n",
       "  <thead>\n",
       "    <tr style=\"text-align: right;\">\n",
       "      <th></th>\n",
       "      <th>LSTM</th>\n",
       "      <th>GRU</th>\n",
       "      <th>LSTM Pretrained Embedding</th>\n",
       "    </tr>\n",
       "  </thead>\n",
       "  <tbody>\n",
       "    <tr>\n",
       "      <th>Model Name</th>\n",
       "      <td>LSTM</td>\n",
       "      <td>GRU</td>\n",
       "      <td>LSTM Pretrained Embedding</td>\n",
       "    </tr>\n",
       "    <tr>\n",
       "      <th>Accuracy</th>\n",
       "      <td>83.44</td>\n",
       "      <td>81.48</td>\n",
       "      <td>57.28</td>\n",
       "    </tr>\n",
       "    <tr>\n",
       "      <th>Loss</th>\n",
       "      <td>0.55</td>\n",
       "      <td>0.47</td>\n",
       "      <td>0.67</td>\n",
       "    </tr>\n",
       "  </tbody>\n",
       "</table>\n",
       "</div>"
      ],
      "text/plain": [
       "             LSTM    GRU  LSTM Pretrained Embedding\n",
       "Model Name   LSTM    GRU  LSTM Pretrained Embedding\n",
       "Accuracy    83.44  81.48                      57.28\n",
       "Loss         0.55   0.47                       0.67"
      ]
     },
     "execution_count": 109,
     "metadata": {
      "tags": []
     },
     "output_type": "execute_result"
    }
   ],
   "source": [
    "model_Result"
   ]
  },
  {
   "cell_type": "markdown",
   "metadata": {
    "colab_type": "text",
    "id": "JTpF1CDwBR9H"
   },
   "source": [
    "#### Summary:\n",
    "\n",
    "\n",
    "> When we compare our 3 models (LSTM, GRU and LSTM pre-Trained Embedding model) for IMDB dataset, we able to get good accuracy in the LSTM model (83.87%) in 30 Epoachs. \n",
    "\n",
    "\n",
    "\n",
    "\n",
    "\n",
    "\n",
    "\n"
   ]
  },
  {
   "cell_type": "markdown",
   "metadata": {
    "colab_type": "text",
    "id": "Igq8Qm8GeCzG"
   },
   "source": [
    "### Retrieve the output of each layer in Keras for a given single test sample from the trained model you built (10 points)"
   ]
  },
  {
   "cell_type": "code",
   "execution_count": 0,
   "metadata": {
    "colab": {},
    "colab_type": "code",
    "id": "RqOja317LlXA"
   },
   "outputs": [],
   "source": [
    "#Get single random index value from test data\n",
    "testData_RandIndex=np.random.randint(low=1, high=len(x_test))"
   ]
  },
  {
   "cell_type": "code",
   "execution_count": 50,
   "metadata": {
    "colab": {
     "base_uri": "https://localhost:8080/",
     "height": 34
    },
    "colab_type": "code",
    "id": "f3vt-pPTMYyQ",
    "outputId": "8824d3c2-821a-45c0-d2a4-4431ee7d7d4b"
   },
   "outputs": [
    {
     "data": {
      "text/plain": [
       "14830"
      ]
     },
     "execution_count": 50,
     "metadata": {
      "tags": []
     },
     "output_type": "execute_result"
    }
   ],
   "source": [
    "testData_RandIndex"
   ]
  },
  {
   "cell_type": "code",
   "execution_count": 0,
   "metadata": {
    "colab": {},
    "colab_type": "code",
    "id": "-dUDSg7VeCzM"
   },
   "outputs": [],
   "source": [
    "from keras import backend as K\n",
    "#This method used to get each layer output from given model\n",
    "def get_layer_outputs(model,inputData):\n",
    "    outputs    = [layer.output for layer in model.layers]          # all layer outputs\n",
    "    comp_graph = [K.function([model.input]+ [K.learning_phase()], [output]) for output in outputs]  # evaluation functions\n",
    "\n",
    "    # Testing\n",
    "    layer_outputs_list = [op([inputData]) for op in comp_graph]\n",
    "    layer_outputs = []\n",
    "  \n",
    "    for i,layer_output in enumerate(layer_outputs_list):\n",
    "        print(model.layers[i].name+\" Layer\"+\" Output : \")\n",
    "        print(layer_output)\n",
    "        layer_outputs.append(layer_output[0][0])\n",
    "\n",
    "    return layer_outputs"
   ]
  },
  {
   "cell_type": "code",
   "execution_count": 0,
   "metadata": {
    "colab": {},
    "colab_type": "code",
    "id": "VX2svfzsw0yw"
   },
   "outputs": [],
   "source": [
    "inputData=[x_test[testData_RandIndex]]"
   ]
  },
  {
   "cell_type": "code",
   "execution_count": 0,
   "metadata": {
    "colab": {},
    "colab_type": "code",
    "id": "ljdqmkU09dhK"
   },
   "outputs": [],
   "source": [
    "inputData=np.array(inputData)\n"
   ]
  },
  {
   "cell_type": "code",
   "execution_count": 53,
   "metadata": {
    "colab": {
     "base_uri": "https://localhost:8080/",
     "height": 34
    },
    "colab_type": "code",
    "id": "mxmvY5EJ9tJa",
    "outputId": "22513e49-125c-4d92-e08b-4f7c7dd625f5"
   },
   "outputs": [
    {
     "data": {
      "text/plain": [
       "(1, 300)"
      ]
     },
     "execution_count": 53,
     "metadata": {
      "tags": []
     },
     "output_type": "execute_result"
    }
   ],
   "source": [
    "inputData.shape"
   ]
  },
  {
   "cell_type": "code",
   "execution_count": 58,
   "metadata": {
    "colab": {
     "base_uri": "https://localhost:8080/",
     "height": 748
    },
    "colab_type": "code",
    "id": "Y64Ai3Nuw68f",
    "outputId": "e75937c3-2f7b-41c4-982f-7316b461a580"
   },
   "outputs": [
    {
     "name": "stdout",
     "output_type": "stream",
     "text": [
      "embedding_3 Layer Output : \n",
      "[array([[[ 3.8695652e-02,  4.9622577e-02,  9.5074461e-04, ...,\n",
      "         -6.3241623e-02,  5.0493713e-02,  2.6488796e-02],\n",
      "        [ 3.8695652e-02,  4.9622577e-02,  9.5074461e-04, ...,\n",
      "         -6.3241623e-02,  5.0493713e-02,  2.6488796e-02],\n",
      "        [ 3.8695652e-02,  4.9622577e-02,  9.5074461e-04, ...,\n",
      "         -6.3241623e-02,  5.0493713e-02,  2.6488796e-02],\n",
      "        ...,\n",
      "        [-4.7238801e-02, -4.2431992e-02, -4.6839067e-03, ...,\n",
      "         -2.2748583e-05, -1.0026983e-02,  9.0858759e-03],\n",
      "        [-7.1086913e-02, -7.1501240e-02, -4.5437928e-02, ...,\n",
      "          7.1037686e-03, -2.2680586e-02,  3.5715830e-02],\n",
      "        [-3.3678781e-02,  2.2589993e-02,  1.1718368e-02, ...,\n",
      "         -2.6776227e-03,  1.0826064e-02, -2.9183106e-02]]], dtype=float32)]\n",
      "lstm_3 Layer Output : \n",
      "[array([[ 0.15977283, -0.15194081,  0.22542235,  0.0355597 , -0.1311139 ,\n",
      "         0.15920535, -0.06218356, -0.28986767, -0.17538111, -0.41798422,\n",
      "         0.1856434 ,  0.19161052,  0.13184248,  0.19079894, -0.12770805,\n",
      "        -0.14346918,  0.18055823,  0.1769009 ,  0.25255919,  0.21307097,\n",
      "        -0.35372326,  0.28910032, -0.20571591,  0.01007095,  0.17319483,\n",
      "         0.14205419, -0.06545665,  0.12780057, -0.20841028, -0.37501398,\n",
      "        -0.29613695, -0.24312553,  0.1424194 ,  0.22967489, -0.02837264,\n",
      "         0.0797953 ,  0.26073056,  0.17060871,  0.25781992, -0.1829219 ,\n",
      "        -0.1440214 ,  0.11270168, -0.18057254, -0.0192759 ,  0.1761962 ,\n",
      "         0.19161847, -0.18715176,  0.08142029,  0.20696725, -0.15343066,\n",
      "         0.3471898 ,  0.18620989,  0.00788011, -0.23877944, -0.18456936,\n",
      "        -0.22978996,  0.25753814,  0.16451947,  0.23387541,  0.28237715,\n",
      "         0.13068861, -0.22340576,  0.25467274,  0.21654089,  0.1819711 ,\n",
      "         0.2583581 , -0.07172962, -0.2314027 , -0.00524851, -0.22502746,\n",
      "        -0.07346864, -0.1386419 , -0.00481245, -0.28545383,  0.13323167,\n",
      "         0.00214729,  0.21361426, -0.20794627,  0.03752895, -0.16427292,\n",
      "         0.23296201, -0.25794995,  0.0777341 , -0.13847311, -0.16616607,\n",
      "        -0.10950717, -0.1188314 , -0.12036731,  0.12566142, -0.09582808,\n",
      "        -0.395617  , -0.24549046, -0.11699888, -0.26519707,  0.19053917,\n",
      "        -0.0994608 ,  0.32614017,  0.00119148,  0.19524959,  0.19467388,\n",
      "        -0.21296926,  0.08635671, -0.17011574,  0.16416733,  0.2665529 ,\n",
      "         0.36953905,  0.22523849,  0.31584686, -0.2802307 , -0.22477114,\n",
      "        -0.16075578, -0.09800996, -0.2502445 , -0.21974936,  0.12180074,\n",
      "        -0.27191806,  0.10282469,  0.28429502, -0.36829168, -0.19249755,\n",
      "         0.29268602, -0.11230452,  0.08718843,  0.23757082, -0.0964779 ,\n",
      "        -0.18754576,  0.06864476, -0.23350331]], dtype=float32)]\n",
      "dense_3 Layer Output : \n",
      "[array([[0.9980761]], dtype=float32)]\n"
     ]
    }
   ],
   "source": [
    "layers_Outputs=get_layer_outputs(model_LSTM,inputData)"
   ]
  },
  {
   "cell_type": "code",
   "execution_count": 0,
   "metadata": {
    "colab": {},
    "colab_type": "code",
    "id": "Tskt_1npeCzP"
   },
   "outputs": [],
   "source": []
  }
 ],
 "metadata": {
  "accelerator": "GPU",
  "colab": {
   "collapsed_sections": [],
   "name": "SeqNLP_Project1_Questions.ipynb",
   "provenance": []
  },
  "kernelspec": {
   "display_name": "Python 3",
   "language": "python",
   "name": "python3"
  },
  "language_info": {
   "codemirror_mode": {
    "name": "ipython",
    "version": 3
   },
   "file_extension": ".py",
   "mimetype": "text/x-python",
   "name": "python",
   "nbconvert_exporter": "python",
   "pygments_lexer": "ipython3",
   "version": "3.7.3"
  }
 },
 "nbformat": 4,
 "nbformat_minor": 1
}
