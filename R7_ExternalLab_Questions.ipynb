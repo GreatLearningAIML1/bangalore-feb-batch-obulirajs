{
  "nbformat": 4,
  "nbformat_minor": 0,
  "metadata": {
    "colab": {
      "name": "R7_ExternalLab_Questions.ipynb",
      "version": "0.3.2",
      "provenance": [],
      "collapsed_sections": []
    },
    "kernelspec": {
      "display_name": "Python 3",
      "language": "python",
      "name": "python3"
    },
    "language_info": {
      "codemirror_mode": {
        "name": "ipython",
        "version": 3
      },
      "file_extension": ".py",
      "mimetype": "text/x-python",
      "name": "python",
      "nbconvert_exporter": "python",
      "pygments_lexer": "ipython3",
      "version": "3.7.3"
    }
  },
  "cells": [
    {
      "cell_type": "markdown",
      "metadata": {
        "colab_type": "text",
        "id": "4WH1Pr4KQlCh"
      },
      "source": [
        "### Build a DNN using Keras with `RELU` and `ADAM`"
      ]
    },
    {
      "cell_type": "markdown",
      "metadata": {
        "colab_type": "text",
        "id": "TbvI8LqlQlCl"
      },
      "source": [
        "#### Load tensorflow"
      ]
    },
    {
      "cell_type": "code",
      "metadata": {
        "colab_type": "code",
        "id": "SPW-a-qYQlCp",
        "outputId": "335481ca-b5aa-4eb8-e210-f293e527be36",
        "colab": {
          "base_uri": "https://localhost:8080/",
          "height": 34
        }
      },
      "source": [
        "import tensorflow as tf\n",
        "import keras as keras\n",
        "import numpy as np\n"
      ],
      "execution_count": 0,
      "outputs": [
        {
          "output_type": "stream",
          "text": [
            "Using TensorFlow backend.\n"
          ],
          "name": "stderr"
        }
      ]
    },
    {
      "cell_type": "markdown",
      "metadata": {
        "colab_type": "text",
        "id": "74cQBsi5QlCw"
      },
      "source": [
        "#### Collect Fashion mnist data from tf.keras.datasets "
      ]
    },
    {
      "cell_type": "code",
      "metadata": {
        "colab_type": "code",
        "id": "wVWy0oDTr2Kj",
        "outputId": "810561fb-6d89-4b6d-dfb3-3ce7e9364f0d",
        "colab": {
          "base_uri": "https://localhost:8080/",
          "height": 50
        }
      },
      "source": [
        "(trainX, trainY),(testX, testY) = tf.keras.datasets.mnist.load_data()"
      ],
      "execution_count": 0,
      "outputs": [
        {
          "output_type": "stream",
          "text": [
            "Downloading data from https://storage.googleapis.com/tensorflow/tf-keras-datasets/mnist.npz\n",
            "11493376/11490434 [==============================] - 0s 0us/step\n"
          ],
          "name": "stdout"
        }
      ]
    },
    {
      "cell_type": "markdown",
      "metadata": {
        "colab_type": "text",
        "id": "no7aWYZyQlC1"
      },
      "source": [
        "#### Change train and test labels into one-hot vectors"
      ]
    },
    {
      "cell_type": "code",
      "metadata": {
        "colab_type": "code",
        "id": "UX6otc4wQlC2",
        "colab": {}
      },
      "source": [
        "trainY = tf.keras.utils.to_categorical(trainY, num_classes=10)\n",
        "testY = tf.keras.utils.to_categorical(testY, num_classes=10)"
      ],
      "execution_count": 0,
      "outputs": []
    },
    {
      "cell_type": "markdown",
      "metadata": {
        "colab_type": "text",
        "id": "QjNrRTdoQlC5"
      },
      "source": [
        "#### Build the Graph"
      ]
    },
    {
      "cell_type": "markdown",
      "metadata": {
        "colab_type": "text",
        "id": "CDJ9DHVNQlC7"
      },
      "source": [
        "#### Initialize model, reshape & normalize data"
      ]
    },
    {
      "cell_type": "code",
      "metadata": {
        "colab_type": "code",
        "id": "pCDQs_g1QlC8",
        "colab": {}
      },
      "source": [
        "#Initialize model, reshape & normalize data\n",
        "model = tf.keras.models.Sequential()\n",
        "model.add(tf.keras.layers.Reshape((784,),input_shape=(28,28,)))\n",
        "model.add(tf.keras.layers.BatchNormalization())"
      ],
      "execution_count": 0,
      "outputs": []
    },
    {
      "cell_type": "markdown",
      "metadata": {
        "colab_type": "text",
        "id": "kBGwTTilQlDD"
      },
      "source": [
        "#### Add two fully connected layers with 200 and 100 neurons respectively with `relu` activations. Add a dropout layer with `p=0.25`"
      ]
    },
    {
      "cell_type": "code",
      "metadata": {
        "id": "kDRCrQitZ_cT",
        "colab_type": "code",
        "colab": {}
      },
      "source": [
        ""
      ],
      "execution_count": 0,
      "outputs": []
    },
    {
      "cell_type": "code",
      "metadata": {
        "colab_type": "code",
        "id": "IXbfpfOzQlDF",
        "outputId": "c0af7097-a39a-40d4-d30c-6040dfb628f5",
        "colab": {
          "base_uri": "https://localhost:8080/",
          "height": 87
        }
      },
      "source": [
        "#Hidden layers\n",
        "model.add(tf.keras.layers.Dense(200, activation='relu', name='Layer_1'))\n",
        "model.add(tf.keras.layers.Dense(100, activation='relu', name='Layer_2'))\n",
        "\n",
        "#Dropout layer\n",
        "model.add(tf.keras.layers.Dropout(0.25))"
      ],
      "execution_count": 0,
      "outputs": [
        {
          "output_type": "stream",
          "text": [
            "WARNING:tensorflow:From /usr/local/lib/python3.6/dist-packages/tensorflow/python/ops/init_ops.py:1251: calling VarianceScaling.__init__ (from tensorflow.python.ops.init_ops) with dtype is deprecated and will be removed in a future version.\n",
            "Instructions for updating:\n",
            "Call initializer instance with the dtype argument instead of passing it to the constructor\n"
          ],
          "name": "stdout"
        }
      ]
    },
    {
      "cell_type": "markdown",
      "metadata": {
        "colab_type": "text",
        "id": "5I8f5otcQlDJ"
      },
      "source": [
        "### Add the output layer with a fully connected layer with 10 neurons with `softmax` activation. Use `categorical_crossentropy` loss and `adam` optimizer and train the network. And, report the final validation."
      ]
    },
    {
      "cell_type": "code",
      "metadata": {
        "colab_type": "code",
        "id": "JZkvKymSd0Sr",
        "colab": {}
      },
      "source": [
        "#Output layer\n",
        "model.add(tf.keras.layers.Dense(10, activation='softmax', name='Output'))\n",
        "model.compile(optimizer='adam', loss='categorical_crossentropy', metrics=['accuracy'])"
      ],
      "execution_count": 0,
      "outputs": []
    },
    {
      "cell_type": "code",
      "metadata": {
        "id": "z-iT0NBBZhHf",
        "colab_type": "code",
        "outputId": "ed8bdc5d-666c-4346-df38-0e1300b56331",
        "colab": {
          "base_uri": "https://localhost:8080/",
          "height": 890
        }
      },
      "source": [
        "#Train the model\n",
        "model.fit(trainX,trainY,          \n",
        "          validation_data=(testX,testY),\n",
        "          epochs=25,\n",
        "          batch_size=32)"
      ],
      "execution_count": 0,
      "outputs": [
        {
          "output_type": "stream",
          "text": [
            "Train on 60000 samples, validate on 10000 samples\n",
            "Epoch 1/25\n",
            "60000/60000 [==============================] - 9s 147us/sample - loss: 0.2598 - acc: 0.9209 - val_loss: 0.2615 - val_acc: 0.9597\n",
            "Epoch 2/25\n",
            "60000/60000 [==============================] - 8s 137us/sample - loss: 0.1312 - acc: 0.9600 - val_loss: 0.2961 - val_acc: 0.9656\n",
            "Epoch 3/25\n",
            "60000/60000 [==============================] - 8s 134us/sample - loss: 0.0978 - acc: 0.9708 - val_loss: 0.3214 - val_acc: 0.9666\n",
            "Epoch 4/25\n",
            "60000/60000 [==============================] - 8s 139us/sample - loss: 0.0800 - acc: 0.9746 - val_loss: 0.4238 - val_acc: 0.9693\n",
            "Epoch 5/25\n",
            "60000/60000 [==============================] - 9s 145us/sample - loss: 0.0687 - acc: 0.9784 - val_loss: 0.3353 - val_acc: 0.9726\n",
            "Epoch 6/25\n",
            "60000/60000 [==============================] - 9s 153us/sample - loss: 0.0639 - acc: 0.9799 - val_loss: 0.3082 - val_acc: 0.9718\n",
            "Epoch 7/25\n",
            "60000/60000 [==============================] - 9s 151us/sample - loss: 0.0538 - acc: 0.9828 - val_loss: 0.2864 - val_acc: 0.9713\n",
            "Epoch 8/25\n",
            "60000/60000 [==============================] - 9s 145us/sample - loss: 0.0513 - acc: 0.9839 - val_loss: 0.2396 - val_acc: 0.9722\n",
            "Epoch 9/25\n",
            "60000/60000 [==============================] - 9s 148us/sample - loss: 0.0469 - acc: 0.9851 - val_loss: 0.3606 - val_acc: 0.9676\n",
            "Epoch 10/25\n",
            "60000/60000 [==============================] - 9s 149us/sample - loss: 0.0428 - acc: 0.9860 - val_loss: 0.3018 - val_acc: 0.9729\n",
            "Epoch 11/25\n",
            "60000/60000 [==============================] - 9s 149us/sample - loss: 0.0405 - acc: 0.9870 - val_loss: 0.3951 - val_acc: 0.9727\n",
            "Epoch 12/25\n",
            "60000/60000 [==============================] - 9s 149us/sample - loss: 0.0373 - acc: 0.9883 - val_loss: 0.4487 - val_acc: 0.9720\n",
            "Epoch 13/25\n",
            "60000/60000 [==============================] - 9s 147us/sample - loss: 0.0365 - acc: 0.9885 - val_loss: 0.3943 - val_acc: 0.9725\n",
            "Epoch 14/25\n",
            "60000/60000 [==============================] - 9s 147us/sample - loss: 0.0331 - acc: 0.9896 - val_loss: 0.3278 - val_acc: 0.9727\n",
            "Epoch 15/25\n",
            "60000/60000 [==============================] - 9s 152us/sample - loss: 0.0327 - acc: 0.9895 - val_loss: 0.4292 - val_acc: 0.9721\n",
            "Epoch 16/25\n",
            "60000/60000 [==============================] - 9s 144us/sample - loss: 0.0336 - acc: 0.9893 - val_loss: 0.5226 - val_acc: 0.9727\n",
            "Epoch 17/25\n",
            "60000/60000 [==============================] - 8s 141us/sample - loss: 0.0322 - acc: 0.9903 - val_loss: 0.6630 - val_acc: 0.9692\n",
            "Epoch 18/25\n",
            "60000/60000 [==============================] - 8s 139us/sample - loss: 0.0296 - acc: 0.9908 - val_loss: 0.3350 - val_acc: 0.9729\n",
            "Epoch 19/25\n",
            "60000/60000 [==============================] - 8s 138us/sample - loss: 0.0291 - acc: 0.9906 - val_loss: 0.5530 - val_acc: 0.9713\n",
            "Epoch 20/25\n",
            "60000/60000 [==============================] - 8s 140us/sample - loss: 0.0285 - acc: 0.9912 - val_loss: 0.3665 - val_acc: 0.9742\n",
            "Epoch 21/25\n",
            "60000/60000 [==============================] - 9s 143us/sample - loss: 0.0286 - acc: 0.9918 - val_loss: 0.4035 - val_acc: 0.9733\n",
            "Epoch 22/25\n",
            "60000/60000 [==============================] - 9s 143us/sample - loss: 0.0251 - acc: 0.9918 - val_loss: 0.5545 - val_acc: 0.9700\n",
            "Epoch 23/25\n",
            "60000/60000 [==============================] - 8s 141us/sample - loss: 0.0279 - acc: 0.9916 - val_loss: 0.5819 - val_acc: 0.9719\n",
            "Epoch 24/25\n",
            "60000/60000 [==============================] - 8s 135us/sample - loss: 0.0254 - acc: 0.9925 - val_loss: 0.5466 - val_acc: 0.9717\n",
            "Epoch 25/25\n",
            "60000/60000 [==============================] - 8s 134us/sample - loss: 0.0267 - acc: 0.9922 - val_loss: 0.4360 - val_acc: 0.9726\n"
          ],
          "name": "stdout"
        },
        {
          "output_type": "execute_result",
          "data": {
            "text/plain": [
              "<tensorflow.python.keras.callbacks.History at 0x7f631fd2b0b8>"
            ]
          },
          "metadata": {
            "tags": []
          },
          "execution_count": 7
        }
      ]
    },
    {
      "cell_type": "code",
      "metadata": {
        "id": "UlrcKoAtZsE3",
        "colab_type": "code",
        "colab": {}
      },
      "source": [
        "    \n",
        "  "
      ],
      "execution_count": 0,
      "outputs": []
    },
    {
      "cell_type": "code",
      "metadata": {
        "id": "6HAe-Lxme-m1",
        "colab_type": "code",
        "colab": {}
      },
      "source": [
        ""
      ],
      "execution_count": 0,
      "outputs": []
    }
  ]
}