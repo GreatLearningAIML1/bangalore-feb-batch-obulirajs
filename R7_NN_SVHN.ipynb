{
  "nbformat": 4,
  "nbformat_minor": 0,
  "metadata": {
    "kernelspec": {
      "display_name": "Python 3",
      "language": "python",
      "name": "python3"
    },
    "language_info": {
      "codemirror_mode": {
        "name": "ipython",
        "version": 3
      },
      "file_extension": ".py",
      "mimetype": "text/x-python",
      "name": "python",
      "nbconvert_exporter": "python",
      "pygments_lexer": "ipython3",
      "version": "3.6.9"
    },
    "colab": {
      "name": "R7_NN_SVHN.ipynb",
      "provenance": [],
      "collapsed_sections": []
    }
  },
  "cells": [
    {
      "cell_type": "code",
      "metadata": {
        "id": "IadXInoqTJjY",
        "colab_type": "code",
        "colab": {}
      },
      "source": [
        "import numpy as np\n",
        "import h5py\n",
        "import tensorflow as tf\n"
      ],
      "execution_count": 0,
      "outputs": []
    },
    {
      "cell_type": "code",
      "metadata": {
        "id": "iceFRqWyTJje",
        "colab_type": "code",
        "colab": {}
      },
      "source": [
        "from keras.models import Sequential\n",
        "from keras.layers import Dense, Dropout, Flatten, ReLU, BatchNormalization\n",
        "from keras.layers import Conv2D, MaxPooling2D\n",
        "import keras\n",
        "from keras.optimizers import SGD\n",
        "from keras.losses import categorical_crossentropy"
      ],
      "execution_count": 0,
      "outputs": []
    },
    {
      "cell_type": "code",
      "metadata": {
        "id": "mSkl2uabUCRW",
        "colab_type": "code",
        "colab": {
          "base_uri": "https://localhost:8080/",
          "height": 121
        },
        "outputId": "49c6752d-cacf-43db-cdfa-e26abd3d93fe"
      },
      "source": [
        "from google.colab import drive\n",
        "drive.mount('/content/drive')\n"
      ],
      "execution_count": 7,
      "outputs": [
        {
          "output_type": "stream",
          "text": [
            "Go to this URL in a browser: https://accounts.google.com/o/oauth2/auth?client_id=947318989803-6bn6qk8qdgf4n4g3pfee6491hc0brc4i.apps.googleusercontent.com&redirect_uri=urn%3Aietf%3Awg%3Aoauth%3A2.0%3Aoob&scope=email%20https%3A%2F%2Fwww.googleapis.com%2Fauth%2Fdocs.test%20https%3A%2F%2Fwww.googleapis.com%2Fauth%2Fdrive%20https%3A%2F%2Fwww.googleapis.com%2Fauth%2Fdrive.photos.readonly%20https%3A%2F%2Fwww.googleapis.com%2Fauth%2Fpeopleapi.readonly&response_type=code\n",
            "\n",
            "Enter your authorization code:\n",
            "··········\n",
            "Mounted at /content/drive\n"
          ],
          "name": "stdout"
        }
      ]
    },
    {
      "cell_type": "code",
      "metadata": {
        "id": "oqd3tlU1TJjk",
        "colab_type": "code",
        "colab": {}
      },
      "source": [
        "#read file using h5py as this is dataset is of type .h5 \n",
        "data = h5py.File('/content/drive/My Drive/ML/NNDL/SVHN_single_grey1.h5', 'r')"
      ],
      "execution_count": 0,
      "outputs": []
    },
    {
      "cell_type": "code",
      "metadata": {
        "id": "tr6ciEX3TJjo",
        "colab_type": "code",
        "colab": {
          "base_uri": "https://localhost:8080/",
          "height": 34
        },
        "outputId": "7a61cf00-8f1b-422a-c15d-d2e37734a1d2"
      },
      "source": [
        "# h5py.File acts like a Python dictionary, thus we can check the keys,\n",
        "list(data.keys())\n"
      ],
      "execution_count": 9,
      "outputs": [
        {
          "output_type": "execute_result",
          "data": {
            "text/plain": [
              "['X_test', 'X_train', 'X_val', 'y_test', 'y_train', 'y_val']"
            ]
          },
          "metadata": {
            "tags": []
          },
          "execution_count": 9
        }
      ]
    },
    {
      "cell_type": "code",
      "metadata": {
        "id": "YJKCrjksTJjr",
        "colab_type": "code",
        "colab": {}
      },
      "source": [
        "X_test = data[\"X_test\"][:]\n",
        "# X_test.shape\n",
        "X_train = data[\"X_train\"][:]\n",
        "y_train = data[\"y_train\"][:]\n",
        "y_test = data[\"y_test\"][:]\n",
        "X_val = data[\"X_val\"][:]\n",
        "y_val = data[\"y_val\"][:]\n"
      ],
      "execution_count": 0,
      "outputs": []
    },
    {
      "cell_type": "code",
      "metadata": {
        "id": "c6af2ynITJjv",
        "colab_type": "code",
        "colab": {}
      },
      "source": [
        "data.close()"
      ],
      "execution_count": 0,
      "outputs": []
    },
    {
      "cell_type": "code",
      "metadata": {
        "id": "PvbmG7BwTJjy",
        "colab_type": "code",
        "colab": {
          "base_uri": "https://localhost:8080/",
          "height": 151
        },
        "outputId": "3958ac0a-b79c-4e14-b4bf-603bc754f538"
      },
      "source": [
        "X_train[0]"
      ],
      "execution_count": 10,
      "outputs": [
        {
          "output_type": "execute_result",
          "data": {
            "text/plain": [
              "array([[ 33.0704,  30.2601,  26.852 , ...,  71.4471,  58.2204,  42.9939],\n",
              "       [ 25.2283,  25.5533,  29.9765, ..., 113.0209, 103.3639,  84.2949],\n",
              "       [ 26.2775,  22.6137,  40.4763, ..., 113.3028, 121.775 , 115.4228],\n",
              "       ...,\n",
              "       [ 28.5502,  36.212 ,  45.0801, ...,  24.1359,  25.0927,  26.0603],\n",
              "       [ 38.4352,  26.4733,  23.2717, ...,  28.1094,  29.4683,  30.0661],\n",
              "       [ 50.2984,  26.0773,  24.0389, ...,  49.6682,  50.853 ,  53.0377]],\n",
              "      dtype=float32)"
            ]
          },
          "metadata": {
            "tags": []
          },
          "execution_count": 10
        }
      ]
    },
    {
      "cell_type": "code",
      "metadata": {
        "id": "B39sfRTBTJj1",
        "colab_type": "code",
        "colab": {},
        "outputId": "9a3bf677-1f87-465a-cc3a-18ebfc660cc7"
      },
      "source": [
        "#Explore the dataset by printing some values from x and y train\n",
        "import matplotlib.pyplot as plt\n",
        "%matplotlib inline\n",
        "for i in range(0,9):\n",
        "    print(\"Label: {}\".format(y_train[i]))\n",
        "# print(\"Label: {}\".format(y_train[1000]))\n",
        "# plt.imshow(X_train[66])\n"
      ],
      "execution_count": 0,
      "outputs": [
        {
          "output_type": "stream",
          "text": [
            "Label: 2\n",
            "Label: 6\n",
            "Label: 7\n",
            "Label: 4\n",
            "Label: 4\n",
            "Label: 0\n",
            "Label: 3\n",
            "Label: 0\n",
            "Label: 7\n"
          ],
          "name": "stdout"
        }
      ]
    },
    {
      "cell_type": "code",
      "metadata": {
        "id": "5qmFzs9vTJj4",
        "colab_type": "code",
        "colab": {},
        "outputId": "e6bb41ce-fb39-40ff-da9d-8a08f737efe1"
      },
      "source": [
        "fig=plt.figure(figsize=(5, 5))\n",
        "columns = 5\n",
        "rows = 5\n",
        "for i in range(1, columns*rows +1):\n",
        "    img = X_test[i]\n",
        "    fig.add_subplot(rows, columns, i)\n",
        "    plt.imshow(img)\n",
        "plt.show()"
      ],
      "execution_count": 0,
      "outputs": [
        {
          "output_type": "display_data",
          "data": {
            "image/png": "[encoded data removed]",
            "text/plain": [
              "<Figure size 360x360 with 25 Axes>"
            ]
          },
          "metadata": {
            "tags": [],
            "needs_background": "light"
          }
        }
      ]
    },
    {
      "cell_type": "markdown",
      "metadata": {
        "id": "ld36ggAPTJj8",
        "colab_type": "text"
      },
      "source": [
        "### Implement and apply an optimal k-Nearest Neighbor (kNN) classifier \n"
      ]
    },
    {
      "cell_type": "code",
      "metadata": {
        "id": "3avpPv6-TJj9",
        "colab_type": "code",
        "colab": {}
      },
      "source": [
        "from sklearn.neighbors import KNeighborsClassifier "
      ],
      "execution_count": 0,
      "outputs": []
    },
    {
      "cell_type": "code",
      "metadata": {
        "id": "retNt6p9TJkA",
        "colab_type": "code",
        "colab": {}
      },
      "source": [
        "# Create KNN object\n",
        "knn = KNeighborsClassifier(n_neighbors=7)"
      ],
      "execution_count": 0,
      "outputs": []
    },
    {
      "cell_type": "code",
      "metadata": {
        "id": "2yk0qUNkTJkC",
        "colab_type": "code",
        "colab": {},
        "outputId": "fe45cda3-a51c-4e08-e943-1cf4432eaddc"
      },
      "source": [
        "X_train.shape[0]"
      ],
      "execution_count": 0,
      "outputs": [
        {
          "output_type": "execute_result",
          "data": {
            "text/plain": [
              "42000"
            ]
          },
          "metadata": {
            "tags": []
          },
          "execution_count": 13
        }
      ]
    },
    {
      "cell_type": "code",
      "metadata": {
        "id": "IguXjhDMTJkF",
        "colab_type": "code",
        "colab": {},
        "outputId": "137d656e-cf1c-4ebb-8d92-d0735470e7fc"
      },
      "source": [
        "# Fit the dataset\n",
        "knn.fit(X_train.reshape(X_train.shape[0], -1), y_train)"
      ],
      "execution_count": 0,
      "outputs": [
        {
          "output_type": "execute_result",
          "data": {
            "text/plain": [
              "KNeighborsClassifier(algorithm='auto', leaf_size=30, metric='minkowski',\n",
              "                     metric_params=None, n_jobs=None, n_neighbors=7, p=2,\n",
              "                     weights='uniform')"
            ]
          },
          "metadata": {
            "tags": []
          },
          "execution_count": 14
        }
      ]
    },
    {
      "cell_type": "code",
      "metadata": {
        "id": "NjOkeeQhTJkH",
        "colab_type": "code",
        "colab": {},
        "outputId": "5376741e-6674-46bb-b4c6-bca4f48e9514"
      },
      "source": [
        "# Print the accuracy score\n",
        "knn_score = knn.score(X_test.reshape(X_test.shape[0], -1), y_test)\n",
        "print(\"KNN Score =\", knn_score)\n"
      ],
      "execution_count": 0,
      "outputs": [
        {
          "output_type": "stream",
          "text": [
            "KNN Score = 0.5070555555555556\n"
          ],
          "name": "stdout"
        }
      ]
    },
    {
      "cell_type": "code",
      "metadata": {
        "id": "SmreDWJmTJkK",
        "colab_type": "code",
        "colab": {}
      },
      "source": [
        "# optimal k-Nearest Neighbor (kNN) classifier\n",
        "neighbors = np.arange(2, 11)\n",
        "train_accuracy = np.empty(len(neighbors))\n",
        "test_accuracy = np.empty(len(neighbors))"
      ],
      "execution_count": 0,
      "outputs": []
    },
    {
      "cell_type": "code",
      "metadata": {
        "id": "pXkXuBDNTJkN",
        "colab_type": "code",
        "colab": {},
        "outputId": "5332a3f9-a8e0-4d70-d400-d01eb9092af5"
      },
      "source": [
        "# Loop over different values of k\n",
        "for i, k in enumerate(neighbors):\n",
        "    # Setup a k-NN Classifier with k neighbors: knn\n",
        "    knn = KNeighborsClassifier(n_neighbors=k)\n",
        "\n",
        "    # Fit the classifier to the training data\n",
        "    knn.fit(X_train.reshape(X_train.shape[0], -1), y_train)\n",
        "    \n",
        "    #Compute accuracy on the training set\n",
        "    train_accuracy[i] = knn.score(X_train.reshape(X_train.shape[0], -1), y_train)\n",
        "\n",
        "    #Compute accuracy on the testing set\n",
        "    test_accuracy[i] = knn.score(X_test.reshape(X_test.shape[0], -1), y_test)\n",
        "    \n",
        "    print(\"Neighbors = \", k, \"Train Accuracy= \", train_accuracy[i], \" Test Accuracy =  \", test_accuracy[i])\n",
        "    "
      ],
      "execution_count": 0,
      "outputs": [
        {
          "output_type": "stream",
          "text": [
            "Neighbors =  2 Train Accuracy=  0.7208095238095238  Test Accuracy =   0.43644444444444447\n",
            "Neighbors =  3 Train Accuracy=  0.6996904761904762  Test Accuracy =   0.4617777777777778\n",
            "Neighbors =  4 Train Accuracy=  0.6894761904761905  Test Accuracy =   0.48133333333333334\n",
            "Neighbors =  5 Train Accuracy=  0.6815952380952381  Test Accuracy =   0.49016666666666664\n",
            "Neighbors =  6 Train Accuracy=  0.6687142857142857  Test Accuracy =   0.5008888888888889\n",
            "Neighbors =  7 Train Accuracy=  0.6602142857142858  Test Accuracy =   0.5070555555555556\n",
            "Neighbors =  8 Train Accuracy=  0.6516666666666666  Test Accuracy =   0.5117777777777778\n",
            "Neighbors =  9 Train Accuracy=  0.646  Test Accuracy =   0.5124444444444445\n",
            "Neighbors =  10 Train Accuracy=  0.6419523809523809  Test Accuracy =   0.5168333333333334\n"
          ],
          "name": "stdout"
        }
      ]
    },
    {
      "cell_type": "code",
      "metadata": {
        "id": "mU0-i4aFTJkQ",
        "colab_type": "code",
        "colab": {}
      },
      "source": [
        "# Represent Classfication accuracy metrics using a plot\n",
        "plt.title('k-NN: Varying Number of Neighbors')\n",
        "plt.plot(neighbors, test_accuracy, label = 'Testing Accuracy')\n",
        "plt.plot(neighbors, train_accuracy, label = 'Training Accuracy')\n",
        "plt.legend()\n",
        "plt.xlabel('Number of Neighbors')\n",
        "plt.ylabel('Accuracy')\n",
        "plt.show()"
      ],
      "execution_count": 0,
      "outputs": []
    },
    {
      "cell_type": "code",
      "metadata": {
        "id": "DqGmw6tmTJkS",
        "colab_type": "code",
        "colab": {}
      },
      "source": [
        ""
      ],
      "execution_count": 0,
      "outputs": []
    },
    {
      "cell_type": "markdown",
      "metadata": {
        "id": "cVC4Kso_VBGO",
        "colab_type": "text"
      },
      "source": [
        "4. Implement and apply a deep neural network classifier including (feedforward neural network, RELU activations)\n"
      ]
    },
    {
      "cell_type": "code",
      "metadata": {
        "id": "BV3xjojuT5Ud",
        "colab_type": "code",
        "colab": {}
      },
      "source": [
        "# input image dimensions\n",
        "img_rows, img_cols = 32, 32\n",
        "\n",
        "#Keras expects data to be in the format (N_E.N_H,N_W,N_C)  N_E = Number of Examples, N_H = height, N_W = Width, N_C = Number of Channels.\n",
        "X_train = X_train.reshape(X_train.shape[0], img_rows, img_cols, 1)\n",
        "X_test = X_test.reshape(X_test.shape[0], img_rows, img_cols, 1)\n",
        "X_val = X_val.reshape(X_val.shape[0], img_rows, img_cols, 1)\n",
        "input_shape = (img_rows, img_cols, 1)"
      ],
      "execution_count": 0,
      "outputs": []
    },
    {
      "cell_type": "code",
      "metadata": {
        "id": "MKfshYuJVWTs",
        "colab_type": "code",
        "colab": {
          "base_uri": "https://localhost:8080/",
          "height": 84
        },
        "outputId": "9c71c486-a10b-4906-b93f-bc324e32cc2d"
      },
      "source": [
        "X_train = X_train.astype('float32')\n",
        "X_test = X_test.astype('float32')\n",
        "X_val = X_val.astype('float32')\n",
        "\n",
        "#Normalizing the input\n",
        "X_train /= 255\n",
        "X_test /= 255\n",
        "X_val /= 255\n",
        "print('x_train shape:', X_train.shape)\n",
        "print(X_train.shape[0], 'train samples')\n",
        "print(X_test.shape[0], 'test samples')\n",
        "print(X_val.shape[0], 'val samples')"
      ],
      "execution_count": 13,
      "outputs": [
        {
          "output_type": "stream",
          "text": [
            "x_train shape: (42000, 32, 32, 1)\n",
            "42000 train samples\n",
            "18000 test samples\n",
            "60000 val samples\n"
          ],
          "name": "stdout"
        }
      ]
    },
    {
      "cell_type": "code",
      "metadata": {
        "id": "JuKDhE98X242",
        "colab_type": "code",
        "colab": {
          "base_uri": "https://localhost:8080/",
          "height": 67
        },
        "outputId": "234ef5ae-d60f-4a5f-fc76-661a1ce0f3fe"
      },
      "source": [
        "np.unique(y_train), np.unique(y_test), np.unique(y_val)"
      ],
      "execution_count": 14,
      "outputs": [
        {
          "output_type": "execute_result",
          "data": {
            "text/plain": [
              "(array([0, 1, 2, 3, 4, 5, 6, 7, 8, 9], dtype=uint8),\n",
              " array([0, 1, 2, 3, 4, 5, 6, 7, 8, 9], dtype=uint8),\n",
              " array([0, 1, 2, 3, 4, 5, 6, 7, 8, 9], dtype=uint8))"
            ]
          },
          "metadata": {
            "tags": []
          },
          "execution_count": 14
        }
      ]
    },
    {
      "cell_type": "code",
      "metadata": {
        "id": "EN9HhjrpYHhG",
        "colab_type": "code",
        "colab": {}
      },
      "source": [
        "num_classes = len(np.unique(y_train))"
      ],
      "execution_count": 0,
      "outputs": []
    },
    {
      "cell_type": "code",
      "metadata": {
        "id": "9p8ZOgAAYQ3H",
        "colab_type": "code",
        "colab": {}
      },
      "source": [
        "# convert class vectors to binary class matrices\n",
        "y_train = keras.utils.to_categorical(y_train, num_classes)\n",
        "y_test = keras.utils.to_categorical(y_test, num_classes)\n",
        "y_val = keras.utils.to_categorical(y_val, num_classes)"
      ],
      "execution_count": 0,
      "outputs": []
    },
    {
      "cell_type": "code",
      "metadata": {
        "id": "GSx9wMLYVd9f",
        "colab_type": "code",
        "colab": {
          "base_uri": "https://localhost:8080/",
          "height": 255
        },
        "outputId": "0b9e318d-4cc0-4bb8-e16a-45323deb52b7"
      },
      "source": [
        "# Create a Sequential Model\n",
        "batch_size = 128\n",
        "num_classes = 10\n",
        "\n",
        "#Initialize the model\n",
        "model = Sequential()\n",
        "\n",
        "#Add a Convolutional Layer with 32 filters of size 3X3 and activation function as 'ReLU' \n",
        "model.add(Conv2D(32, kernel_size=(3, 3),\n",
        "                 activation='relu',\n",
        "                 input_shape=input_shape,name='conv_1'))\n",
        "\n",
        "#Add a Convolutional Layer with 64 filters of size 3X3 and activation function as 'ReLU' \n",
        "model.add(Conv2D(64, (3, 3), activation='relu',name='conv_2'))\n",
        "\n",
        "#Add a MaxPooling Layer of size 2X2 \n",
        "model.add(MaxPooling2D(pool_size=(2, 2),name='max_1'))\n",
        "\n",
        "#Apply Dropout with 0.25 probability \n",
        "model.add(Dropout(0.25,name='drop_1'))\n",
        "\n",
        "#Flatten the layer\n",
        "model.add(Flatten())\n",
        "\n",
        "#Add Fully Connected Layer with 128 units and activation function as 'ReLU'\n",
        "model.add(Dense(128, activation='relu',name='dense_1'))\n",
        "\n",
        "#Apply Dropout with 0.5 probability \n",
        "model.add(Dropout(0.5,name='drop_2'))\n",
        "\n",
        "#Add Fully Connected Layer with 10 units and activation function as 'softmax'\n",
        "model.add(Dense(num_classes, activation='softmax',name='dense_2'))"
      ],
      "execution_count": 17,
      "outputs": [
        {
          "output_type": "stream",
          "text": [
            "WARNING:tensorflow:From /usr/local/lib/python3.6/dist-packages/keras/backend/tensorflow_backend.py:66: The name tf.get_default_graph is deprecated. Please use tf.compat.v1.get_default_graph instead.\n",
            "\n",
            "WARNING:tensorflow:From /usr/local/lib/python3.6/dist-packages/keras/backend/tensorflow_backend.py:541: The name tf.placeholder is deprecated. Please use tf.compat.v1.placeholder instead.\n",
            "\n",
            "WARNING:tensorflow:From /usr/local/lib/python3.6/dist-packages/keras/backend/tensorflow_backend.py:4432: The name tf.random_uniform is deprecated. Please use tf.random.uniform instead.\n",
            "\n",
            "WARNING:tensorflow:From /usr/local/lib/python3.6/dist-packages/keras/backend/tensorflow_backend.py:4267: The name tf.nn.max_pool is deprecated. Please use tf.nn.max_pool2d instead.\n",
            "\n",
            "WARNING:tensorflow:From /usr/local/lib/python3.6/dist-packages/keras/backend/tensorflow_backend.py:148: The name tf.placeholder_with_default is deprecated. Please use tf.compat.v1.placeholder_with_default instead.\n",
            "\n",
            "WARNING:tensorflow:From /usr/local/lib/python3.6/dist-packages/keras/backend/tensorflow_backend.py:3733: calling dropout (from tensorflow.python.ops.nn_ops) with keep_prob is deprecated and will be removed in a future version.\n",
            "Instructions for updating:\n",
            "Please use `rate` instead of `keep_prob`. Rate should be set to `rate = 1 - keep_prob`.\n"
          ],
          "name": "stdout"
        }
      ]
    },
    {
      "cell_type": "code",
      "metadata": {
        "id": "UtsNVjPnVsQW",
        "colab_type": "code",
        "colab": {
          "base_uri": "https://localhost:8080/",
          "height": 84
        },
        "outputId": "1f4dfa5a-bc3a-482c-9aa5-da2019ede2ec"
      },
      "source": [
        "from keras.optimizers import SGD\n",
        "from keras.losses import categorical_crossentropy\n",
        "\n",
        "#To use adam optimizer for learning weights with learning rate = 0.001\n",
        "optimizer = SGD(lr=0.001, decay=1e-6, momentum=0.9)\n",
        "#Set the loss function and optimizer for the model training\n",
        "model.compile(loss=categorical_crossentropy,\n",
        "              optimizer=optimizer,\n",
        "              metrics=['accuracy'])"
      ],
      "execution_count": 18,
      "outputs": [
        {
          "output_type": "stream",
          "text": [
            "WARNING:tensorflow:From /usr/local/lib/python3.6/dist-packages/keras/optimizers.py:793: The name tf.train.Optimizer is deprecated. Please use tf.compat.v1.train.Optimizer instead.\n",
            "\n",
            "WARNING:tensorflow:From /usr/local/lib/python3.6/dist-packages/keras/backend/tensorflow_backend.py:3576: The name tf.log is deprecated. Please use tf.math.log instead.\n",
            "\n"
          ],
          "name": "stdout"
        }
      ]
    },
    {
      "cell_type": "code",
      "metadata": {
        "id": "kRZApUrXV1pZ",
        "colab_type": "code",
        "colab": {
          "base_uri": "https://localhost:8080/",
          "height": 793
        },
        "outputId": "b8c4b4f9-837b-4d73-94a0-36114b4d5881"
      },
      "source": [
        "#Training on the dataset\n",
        "model.fit(X_train, y_train,\n",
        "          batch_size=batch_size,\n",
        "          epochs=20,\n",
        "          #verbose=1,\n",
        "          validation_data=(X_val, y_val))\n"
      ],
      "execution_count": 19,
      "outputs": [
        {
          "output_type": "stream",
          "text": [
            "WARNING:tensorflow:From /usr/local/lib/python3.6/dist-packages/tensorflow/python/ops/math_grad.py:1250: add_dispatch_support.<locals>.wrapper (from tensorflow.python.ops.array_ops) is deprecated and will be removed in a future version.\n",
            "Instructions for updating:\n",
            "Use tf.where in 2.0, which has the same broadcast rule as np.where\n",
            "Train on 42000 samples, validate on 60000 samples\n",
            "Epoch 1/20\n",
            "42000/42000 [==============================] - 176s 4ms/step - loss: 2.3036 - acc: 0.1041 - val_loss: 2.3007 - val_acc: 0.1229\n",
            "Epoch 2/20\n",
            "42000/42000 [==============================] - 176s 4ms/step - loss: 2.3009 - acc: 0.1117 - val_loss: 2.2990 - val_acc: 0.1357\n",
            "Epoch 3/20\n",
            "42000/42000 [==============================] - 176s 4ms/step - loss: 2.2992 - acc: 0.1185 - val_loss: 2.2968 - val_acc: 0.1331\n",
            "Epoch 4/20\n",
            "42000/42000 [==============================] - 176s 4ms/step - loss: 2.2965 - acc: 0.1288 - val_loss: 2.2925 - val_acc: 0.1901\n",
            "Epoch 5/20\n",
            "42000/42000 [==============================] - 176s 4ms/step - loss: 2.2922 - acc: 0.1404 - val_loss: 2.2849 - val_acc: 0.2336\n",
            "Epoch 6/20\n",
            "42000/42000 [==============================] - 176s 4ms/step - loss: 2.2837 - acc: 0.1599 - val_loss: 2.2684 - val_acc: 0.2500\n",
            "Epoch 7/20\n",
            "42000/42000 [==============================] - 176s 4ms/step - loss: 2.2638 - acc: 0.1794 - val_loss: 2.2263 - val_acc: 0.3358\n",
            "Epoch 8/20\n",
            "42000/42000 [==============================] - 176s 4ms/step - loss: 2.2058 - acc: 0.2166 - val_loss: 2.1010 - val_acc: 0.3960\n",
            "Epoch 9/20\n",
            "42000/42000 [==============================] - 177s 4ms/step - loss: 2.0546 - acc: 0.2826 - val_loss: 1.8429 - val_acc: 0.5044\n",
            "Epoch 10/20\n",
            "42000/42000 [==============================] - 176s 4ms/step - loss: 1.8573 - acc: 0.3618 - val_loss: 1.5998 - val_acc: 0.5583\n",
            "Epoch 11/20\n",
            "42000/42000 [==============================] - 176s 4ms/step - loss: 1.7012 - acc: 0.4226 - val_loss: 1.4306 - val_acc: 0.6125\n",
            "Epoch 12/20\n",
            "42000/42000 [==============================] - 176s 4ms/step - loss: 1.6015 - acc: 0.4617 - val_loss: 1.3401 - val_acc: 0.6249\n",
            "Epoch 13/20\n",
            "42000/42000 [==============================] - 176s 4ms/step - loss: 1.5271 - acc: 0.4975 - val_loss: 1.2717 - val_acc: 0.6469\n",
            "Epoch 14/20\n",
            "42000/42000 [==============================] - 176s 4ms/step - loss: 1.4688 - acc: 0.5170 - val_loss: 1.1978 - val_acc: 0.6675\n",
            "Epoch 15/20\n",
            "42000/42000 [==============================] - 176s 4ms/step - loss: 1.4250 - acc: 0.5351 - val_loss: 1.1423 - val_acc: 0.6850\n",
            "Epoch 16/20\n",
            "42000/42000 [==============================] - 176s 4ms/step - loss: 1.3711 - acc: 0.5578 - val_loss: 1.0916 - val_acc: 0.7019\n",
            "Epoch 17/20\n",
            "42000/42000 [==============================] - 176s 4ms/step - loss: 1.3295 - acc: 0.5755 - val_loss: 1.0532 - val_acc: 0.7195\n",
            "Epoch 18/20\n",
            "42000/42000 [==============================] - 176s 4ms/step - loss: 1.2671 - acc: 0.5980 - val_loss: 1.0092 - val_acc: 0.7331\n",
            "Epoch 19/20\n",
            "42000/42000 [==============================] - 176s 4ms/step - loss: 1.2160 - acc: 0.6150 - val_loss: 0.9640 - val_acc: 0.7478\n",
            "Epoch 20/20\n",
            "42000/42000 [==============================] - 174s 4ms/step - loss: 1.1593 - acc: 0.6377 - val_loss: 0.9053 - val_acc: 0.7661\n"
          ],
          "name": "stdout"
        },
        {
          "output_type": "execute_result",
          "data": {
            "text/plain": [
              "<keras.callbacks.History at 0x7f7ec1ede278>"
            ]
          },
          "metadata": {
            "tags": []
          },
          "execution_count": 19
        }
      ]
    },
    {
      "cell_type": "code",
      "metadata": {
        "id": "mnaBw8o9l-Uj",
        "colab_type": "code",
        "colab": {
          "base_uri": "https://localhost:8080/",
          "height": 67
        },
        "outputId": "f9d508a2-2639-4601-fc76-e26bbdae7937"
      },
      "source": [
        "# Evaluate trained model on the test set\n",
        "\n",
        "#Testing the model on test set\n",
        "score = model.evaluate(X_test, y_test)\n",
        "print('Test loss:', score[0])\n",
        "print('Test accuracy:', score[1])"
      ],
      "execution_count": 23,
      "outputs": [
        {
          "output_type": "stream",
          "text": [
            "18000/18000 [==============================] - 16s 908us/step\n",
            "Test loss: 0.6148503668308258\n",
            "Test accuracy: 0.8273333333333334\n"
          ],
          "name": "stdout"
        }
      ]
    },
    {
      "cell_type": "code",
      "metadata": {
        "id": "e0G0vEJZmKao",
        "colab_type": "code",
        "colab": {
          "base_uri": "https://localhost:8080/",
          "height": 70
        },
        "outputId": "2d0a32ef-e4c0-41fe-9abb-1c739f844bbb"
      },
      "source": [
        "# Implement batch normalization for training the neural network\n",
        "\n",
        "#Initialize the model\n",
        "model_1 = Sequential()\n",
        "\n",
        "#Add a Convolutional Layer with 32 filters of size 3X3\n",
        "model_1.add(Conv2D(32, kernel_size=(3, 3),\n",
        "                 input_shape=input_shape,name='conv_1'))\n",
        "# Apply Batchnorm\n",
        "model_1.add(keras.layers.BatchNormalization(name='batchnorm_1', epsilon=0.001, momentum=0.99))\n",
        "# Apply ReLU activation\n",
        "model_1.add(ReLU(name='relu_1'))\n",
        "\n",
        "#Add a Convolutional Layer with 64 filters of size 3X3 \n",
        "model_1.add(Conv2D(64, (3, 3), name='conv_2'))\n",
        "# Apply Batchnorm\n",
        "model_1.add(keras.layers.BatchNormalization(name='batchnorm_2', epsilon=0.001, momentum=0.99))\n",
        "# Apply ReLU activation\n",
        "model_1.add(ReLU(name='relu_2'))\n",
        "\n",
        "#Add a MaxPooling Layer of size 2X2 \n",
        "model_1.add(MaxPooling2D(pool_size=(2, 2),name='max_1'))\n",
        "\n",
        "# Apply Batchnorm\n",
        "model_1.add(keras.layers.BatchNormalization(name='batchnorm_3', epsilon=0.001, momentum=0.99))\n",
        "\n",
        "#Flatten the layer\n",
        "model_1.add(Flatten())\n",
        "\n",
        "#Add Fully Connected Layer with 128 units and activation function as 'ReLU'\n",
        "model_1.add(Dense(128, activation='relu',name='dense_1'))\n",
        "\n",
        "# Apply Batchnorm\n",
        "model_1.add(keras.layers.BatchNormalization(name='batchnorm_4', epsilon=0.001, momentum=0.99))\n",
        "\n",
        "#Add Fully Connected Layer with 10 units and activation function as 'softmax'\n",
        "model_1.add(Dense(num_classes, activation='softmax',name='dense_2'))"
      ],
      "execution_count": 20,
      "outputs": [
        {
          "output_type": "stream",
          "text": [
            "WARNING:tensorflow:From /usr/local/lib/python3.6/dist-packages/keras/backend/tensorflow_backend.py:2041: The name tf.nn.fused_batch_norm is deprecated. Please use tf.compat.v1.nn.fused_batch_norm instead.\n",
            "\n"
          ],
          "name": "stdout"
        }
      ]
    },
    {
      "cell_type": "code",
      "metadata": {
        "id": "bVJoaUafnIaH",
        "colab_type": "code",
        "colab": {}
      },
      "source": [
        "#To use adam optimizer for learning weights with learning rate = 0.001\n",
        "optimizer = SGD(lr=0.01, decay=1e-6, momentum=0.9)\n",
        "#Set the loss function and optimizer for the model training\n",
        "model_1.compile(loss=categorical_crossentropy,\n",
        "              optimizer=optimizer,\n",
        "              metrics=['accuracy'])"
      ],
      "execution_count": 0,
      "outputs": []
    },
    {
      "cell_type": "code",
      "metadata": {
        "id": "UCx8Hjl0nQ5u",
        "colab_type": "code",
        "colab": {
          "base_uri": "https://localhost:8080/",
          "height": 722
        },
        "outputId": "83d7749c-1574-451e-a3a5-01af3fc58119"
      },
      "source": [
        "#Training on the dataset\n",
        "model_1.fit(X_train, y_train,\n",
        "          batch_size=batch_size,\n",
        "          epochs=20,\n",
        "          verbose=1,\n",
        "          \n",
        "          validation_data=(X_val, y_val))"
      ],
      "execution_count": 22,
      "outputs": [
        {
          "output_type": "stream",
          "text": [
            "Train on 42000 samples, validate on 60000 samples\n",
            "Epoch 1/20\n",
            "42000/42000 [==============================] - 343s 8ms/step - loss: 0.7526 - acc: 0.7673 - val_loss: 0.5474 - val_acc: 0.8303\n",
            "Epoch 2/20\n",
            "42000/42000 [==============================] - 341s 8ms/step - loss: 0.3783 - acc: 0.8891 - val_loss: 0.3751 - val_acc: 0.8908\n",
            "Epoch 3/20\n",
            "42000/42000 [==============================] - 340s 8ms/step - loss: 0.2828 - acc: 0.9178 - val_loss: 0.3064 - val_acc: 0.9104\n",
            "Epoch 4/20\n",
            "42000/42000 [==============================] - 339s 8ms/step - loss: 0.2182 - acc: 0.9372 - val_loss: 0.2339 - val_acc: 0.9355\n",
            "Epoch 5/20\n",
            "42000/42000 [==============================] - 344s 8ms/step - loss: 0.1682 - acc: 0.9528 - val_loss: 0.2595 - val_acc: 0.9258\n",
            "Epoch 6/20\n",
            "42000/42000 [==============================] - 345s 8ms/step - loss: 0.1246 - acc: 0.9664 - val_loss: 0.2058 - val_acc: 0.9428\n",
            "Epoch 7/20\n",
            "42000/42000 [==============================] - 344s 8ms/step - loss: 0.1016 - acc: 0.9720 - val_loss: 0.2002 - val_acc: 0.9449\n",
            "Epoch 8/20\n",
            "42000/42000 [==============================] - 347s 8ms/step - loss: 0.0803 - acc: 0.9789 - val_loss: 0.1663 - val_acc: 0.9578\n",
            "Epoch 9/20\n",
            "42000/42000 [==============================] - 347s 8ms/step - loss: 0.0489 - acc: 0.9894 - val_loss: 0.1758 - val_acc: 0.9546\n",
            "Epoch 10/20\n",
            "42000/42000 [==============================] - 334s 8ms/step - loss: 0.0310 - acc: 0.9948 - val_loss: 0.1351 - val_acc: 0.9683\n",
            "Epoch 11/20\n",
            "42000/42000 [==============================] - 330s 8ms/step - loss: 0.0259 - acc: 0.9955 - val_loss: 0.1446 - val_acc: 0.9651\n",
            "Epoch 12/20\n",
            "42000/42000 [==============================] - 338s 8ms/step - loss: 0.0148 - acc: 0.9985 - val_loss: 0.1336 - val_acc: 0.9692\n",
            "Epoch 13/20\n",
            "42000/42000 [==============================] - 343s 8ms/step - loss: 0.0164 - acc: 0.9974 - val_loss: 0.1308 - val_acc: 0.9701\n",
            "Epoch 14/20\n",
            "42000/42000 [==============================] - 342s 8ms/step - loss: 0.0090 - acc: 0.9994 - val_loss: 0.1347 - val_acc: 0.9712\n",
            "Epoch 15/20\n",
            "42000/42000 [==============================] - 341s 8ms/step - loss: 0.0062 - acc: 0.9997 - val_loss: 0.1307 - val_acc: 0.9717\n",
            "Epoch 16/20\n",
            "42000/42000 [==============================] - 342s 8ms/step - loss: 0.0052 - acc: 0.9998 - val_loss: 0.1326 - val_acc: 0.9719\n",
            "Epoch 17/20\n",
            "42000/42000 [==============================] - 339s 8ms/step - loss: 0.0054 - acc: 0.9996 - val_loss: 0.1395 - val_acc: 0.9701\n",
            "Epoch 18/20\n",
            "42000/42000 [==============================] - 352s 8ms/step - loss: 0.0050 - acc: 0.9998 - val_loss: 0.1468 - val_acc: 0.9694\n",
            "Epoch 19/20\n",
            "42000/42000 [==============================] - 353s 8ms/step - loss: 0.0038 - acc: 0.9999 - val_loss: 0.1336 - val_acc: 0.9715\n",
            "Epoch 20/20\n",
            "42000/42000 [==============================] - 353s 8ms/step - loss: 0.0029 - acc: 1.0000 - val_loss: 0.1372 - val_acc: 0.9716\n"
          ],
          "name": "stdout"
        },
        {
          "output_type": "execute_result",
          "data": {
            "text/plain": [
              "<keras.callbacks.History at 0x7f7ebca2a8d0>"
            ]
          },
          "metadata": {
            "tags": []
          },
          "execution_count": 22
        }
      ]
    },
    {
      "cell_type": "code",
      "metadata": {
        "id": "CQQ9hrdT7tlR",
        "colab_type": "code",
        "colab": {
          "base_uri": "https://localhost:8080/",
          "height": 554
        },
        "outputId": "acde6c37-afe6-4d15-cb6e-88fe85ac29d2"
      },
      "source": [
        "model_1.summary()"
      ],
      "execution_count": 23,
      "outputs": [
        {
          "output_type": "stream",
          "text": [
            "Model: \"sequential_2\"\n",
            "_________________________________________________________________\n",
            "Layer (type)                 Output Shape              Param #   \n",
            "=================================================================\n",
            "conv_1 (Conv2D)              (None, 30, 30, 32)        320       \n",
            "_________________________________________________________________\n",
            "batchnorm_1 (BatchNormalizat (None, 30, 30, 32)        128       \n",
            "_________________________________________________________________\n",
            "relu_1 (ReLU)                (None, 30, 30, 32)        0         \n",
            "_________________________________________________________________\n",
            "conv_2 (Conv2D)              (None, 28, 28, 64)        18496     \n",
            "_________________________________________________________________\n",
            "batchnorm_2 (BatchNormalizat (None, 28, 28, 64)        256       \n",
            "_________________________________________________________________\n",
            "relu_2 (ReLU)                (None, 28, 28, 64)        0         \n",
            "_________________________________________________________________\n",
            "max_1 (MaxPooling2D)         (None, 14, 14, 64)        0         \n",
            "_________________________________________________________________\n",
            "batchnorm_3 (BatchNormalizat (None, 14, 14, 64)        256       \n",
            "_________________________________________________________________\n",
            "flatten_2 (Flatten)          (None, 12544)             0         \n",
            "_________________________________________________________________\n",
            "dense_1 (Dense)              (None, 128)               1605760   \n",
            "_________________________________________________________________\n",
            "batchnorm_4 (BatchNormalizat (None, 128)               512       \n",
            "_________________________________________________________________\n",
            "dense_2 (Dense)              (None, 10)                1290      \n",
            "=================================================================\n",
            "Total params: 1,627,018\n",
            "Trainable params: 1,626,442\n",
            "Non-trainable params: 576\n",
            "_________________________________________________________________\n"
          ],
          "name": "stdout"
        }
      ]
    },
    {
      "cell_type": "code",
      "metadata": {
        "id": "FY6_0O8w8lEk",
        "colab_type": "code",
        "colab": {
          "base_uri": "https://localhost:8080/",
          "height": 67
        },
        "outputId": "e28b8175-8d7e-4b06-d23e-b1c7b5e1d0a4"
      },
      "source": [
        "#Testing the model on test set\n",
        "score = model_1.evaluate(X_test, y_test)\n",
        "print('Test loss:', score[0])\n",
        "print('Test accuracy:', score[1])"
      ],
      "execution_count": 28,
      "outputs": [
        {
          "output_type": "stream",
          "text": [
            "18000/18000 [==============================] - 36s 2ms/step\n",
            "Test loss: 0.45223817893324625\n",
            "Test accuracy: 0.9053888888888889\n"
          ],
          "name": "stdout"
        }
      ]
    },
    {
      "cell_type": "code",
      "metadata": {
        "id": "lbHfOpFO8AlG",
        "colab_type": "code",
        "colab": {}
      },
      "source": [
        "# Understand the differences and trade-offs between traditional and NN classifiers with the help of classification metrics\n",
        "print(\"KNN Accuracy = \", knn_accuracy)"
      ],
      "execution_count": 0,
      "outputs": []
    },
    {
      "cell_type": "code",
      "metadata": {
        "id": "LnuNlI848XDA",
        "colab_type": "code",
        "colab": {
          "base_uri": "https://localhost:8080/",
          "height": 34
        },
        "outputId": "79c22beb-fa20-494b-8a92-7b81d56bf5b2"
      },
      "source": [
        "print('CNN accuracy:', score[1])"
      ],
      "execution_count": 30,
      "outputs": [
        {
          "output_type": "stream",
          "text": [
            "CNN accuracy: 0.9053888888888889\n"
          ],
          "name": "stdout"
        }
      ]
    },
    {
      "cell_type": "code",
      "metadata": {
        "id": "Nvj8NKB29X70",
        "colab_type": "code",
        "colab": {
          "base_uri": "https://localhost:8080/",
          "height": 34
        },
        "outputId": "648f655c-73ea-424c-a640-0389e0faa2f6"
      },
      "source": [
        "print(\"CNN Accuracy is higher than KNN accuracy comparitively\")"
      ],
      "execution_count": 31,
      "outputs": [
        {
          "output_type": "stream",
          "text": [
            "CNN Accuracy is higher than KNN accuracy comparitively\n"
          ],
          "name": "stdout"
        }
      ]
    },
    {
      "cell_type": "code",
      "metadata": {
        "id": "Pvw3DJO48Enx",
        "colab_type": "code",
        "colab": {}
      },
      "source": [
        ""
      ],
      "execution_count": 0,
      "outputs": []
    }
  ]
}