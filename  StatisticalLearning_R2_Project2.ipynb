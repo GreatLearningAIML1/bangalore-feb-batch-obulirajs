{
 "cells": [
  {
   "cell_type": "code",
   "execution_count": 49,
   "metadata": {},
   "outputs": [],
   "source": [
    "import pandas as pd\n",
    "import numpy as np\n",
    "from scipy.stats import ttest_1samp, ttest_ind,ttest_rel, mannwhitneyu, levene, shapiro\n",
    "from statsmodels.stats.power import ttest_power\n",
    "\n",
    "sales = pd.read_csv(\"data.csv\")\n",
    "# sales.head()"
   ]
  },
  {
   "cell_type": "code",
   "execution_count": 10,
   "metadata": {},
   "outputs": [
    {
     "name": "stdout",
     "output_type": "stream",
     "text": [
      "Old Scheme Mean ==> 68.03333333333333\n",
      "New Scheme Mean ==> 72.03333333333333\n"
     ]
    }
   ],
   "source": [
    "#1 Find the mean of old scheme and new scheme column. (5 points)\n",
    "old_scheme = sales['Old Scheme (in thousands)'].mean()\n",
    "print(\"Old Scheme Mean ==> \" + str(old_scheme))\n",
    "new_scheme = sales['New Scheme (in thousands)'].mean()\n",
    "print(\"New Scheme Mean ==> \" + str(new_scheme))"
   ]
  },
  {
   "cell_type": "code",
   "execution_count": 27,
   "metadata": {},
   "outputs": [
    {
     "name": "stdout",
     "output_type": "stream",
     "text": [
      "1.1863847165452588 0.24509935923467766\n",
      "p_value => 0.24509935923467766\n",
      "Since p_value is > .05 Null hypothesis holds good\n"
     ]
    }
   ],
   "source": [
    "#2 Use the five percent significance test over the data to determine the p value to check # new scheme has significantly raised outputs? \n",
    "\n",
    "t_statistic, p_value = ttest_1samp(sales['New Scheme (in thousands)'] -sales['Old Scheme (in thousands)'], 0.95)\n",
    "print(t_statistic, p_value)\n",
    "print('p_value => ' + str(p_value))\n",
    "print(\"Since p_value is > .05 Null hypothesis holds good\")"
   ]
  },
  {
   "cell_type": "code",
   "execution_count": 31,
   "metadata": {},
   "outputs": [
    {
     "name": "stdout",
     "output_type": "stream",
     "text": [
      "p_value => 0.24509935923467766\n",
      "Since p_value is > .05 Null hypothesis holds good\n"
     ]
    }
   ],
   "source": [
    "#3 What conclusion does the test (p-value) lead to?\n",
    "print('p_value => ' + str(p_value))\n",
    "# there is a increase in output based on the change in schme\n",
    "print(\"Since p_value is > .05 Null hypothesis holds good\")\n"
   ]
  },
  {
   "cell_type": "code",
   "execution_count": 33,
   "metadata": {},
   "outputs": [
    {
     "name": "stdout",
     "output_type": "stream",
     "text": [
      "Probability of Type I error is 5% considering the significant level is assumed to be 0.05%\n"
     ]
    }
   ],
   "source": [
    "# Question- 4\n",
    " # a) The probability of a type 1 error? (2.5 points)\n",
    "    \n",
    "print(\"Probability of Type I error is 5% considering the significant level is assumed to be 0.05%\")    \n",
    "\n"
   ]
  },
  {
   "cell_type": "code",
   "execution_count": 44,
   "metadata": {},
   "outputs": [
    {
     "name": "stdout",
     "output_type": "stream",
     "text": [
      "p_value of hypothesis test : 0.06403061768480903\n"
     ]
    }
   ],
   "source": [
    "# Question- 4\n",
    "# b) What is the p- value of the hypothesis test if we test for a difference of $5000?\n",
    "\n",
    "statistic, p_value = ttest_1samp(sales['Old Scheme (in thousands)'] - sales['New Scheme (in thousands)'], 0.95)\n",
    "print(\"p_value of hypothesis test : \" + str(p_value))"
   ]
  },
  {
   "cell_type": "code",
   "execution_count": 62,
   "metadata": {},
   "outputs": [
    {
     "name": "stdout",
     "output_type": "stream",
     "text": [
      "Result => 0.47797765307553886\n",
      "Power Test => 0.7158481878520396\n"
     ]
    }
   ],
   "source": [
    "# Question 4\n",
    "# c) Power of the test\n",
    "old_scheme = sales['Old Scheme (in thousands)'].mean()\n",
    "new_scheme = sales['New Scheme (in thousands)'].mean()\n",
    "sample_size = len(sales)\n",
    "#(np.mean(pre) - np.mean(post)) / np.sqrt(((11-1)*np.var(pre)+(11-1)*np.var(post)) / 11+11-2)\n",
    "result = (new_scheme - old_scheme) / np.sqrt(((sample_size-1)*old_scheme+(sample_size-1)*new_scheme) / ((sample_size *2)-2))\n",
    "print(\"Result => \" + str(result))\n",
    "\n",
    "power_test = ttest_power(result, nobs=sample_size, alpha=0.05, alternative='two-sided')\n",
    "print(\"Power Test => \" + str(power_test))\n"
   ]
  }
 ],
 "metadata": {
  "kernelspec": {
   "display_name": "Python 3",
   "language": "python",
   "name": "python3"
  },
  "language_info": {
   "codemirror_mode": {
    "name": "ipython",
    "version": 3
   },
   "file_extension": ".py",
   "mimetype": "text/x-python",
   "name": "python",
   "nbconvert_exporter": "python",
   "pygments_lexer": "ipython3",
   "version": "3.7.1"
  }
 },
 "nbformat": 4,
 "nbformat_minor": 2
}
