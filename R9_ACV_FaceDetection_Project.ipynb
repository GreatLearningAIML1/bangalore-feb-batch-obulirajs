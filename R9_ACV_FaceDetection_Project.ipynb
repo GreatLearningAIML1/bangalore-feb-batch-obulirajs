{
  "nbformat": 4,
  "nbformat_minor": 0,
  "metadata": {
    "colab": {
      "name": "ACV_Project1_FACE_DETECTION_QuestionsNotebook_17112019.ipynb",
      "provenance": [],
      "collapsed_sections": [],
      "toc_visible": true
    },
    "kernelspec": {
      "name": "python2",
      "display_name": "Python 2"
    }
  },
  "cells": [
    {
      "cell_type": "markdown",
      "metadata": {
        "id": "IgJNvpw9SnZq",
        "colab_type": "text"
      },
      "source": [
        "#### In this problem we use \"Transfer Learning\" of an Object Detector model to detect any object according to the problem in hand.\n",
        "\n",
        "Here, We are particularly interested in detecting faces in a given image.\n",
        "\n",
        "#### To use the model first, we need to import the model and its supporting files for the model to function. \n",
        "\n",
        "We see the below steps to import the model."
      ]
    },
    {
      "cell_type": "markdown",
      "metadata": {
        "id": "GhTkzpLWBXCe",
        "colab_type": "text"
      },
      "source": [
        "### First lets install numpy and restart the runtime.  Go to: Runtime > Restart runtime in the top menu\n",
        "\n",
        "You can comment or skip the below command after running once in a runtime. "
      ]
    },
    {
      "cell_type": "code",
      "metadata": {
        "id": "mPOcO2AJBYgx",
        "colab_type": "code",
        "outputId": "c9566474-c6ba-43fe-9ff8-61f0e1693e4b",
        "colab": {
          "base_uri": "https://localhost:8080/",
          "height": 34
        }
      },
      "source": [
        "!pip install numpy==1.16.1"
      ],
      "execution_count": 0,
      "outputs": [
        {
          "output_type": "stream",
          "text": [
            "Requirement already satisfied: numpy==1.16.1 in /usr/local/lib/python2.7/dist-packages (1.16.1)\n"
          ],
          "name": "stdout"
        }
      ]
    },
    {
      "cell_type": "code",
      "metadata": {
        "id": "gEmyn5gm41JA",
        "colab_type": "code",
        "colab": {}
      },
      "source": [
        "\n",
        "import keras\n",
        "from keras import backend as K\n",
        "from keras.layers.core import Dense, Activation\n",
        "from keras.optimizers import Adam\n",
        "from keras.metrics import categorical_crossentropy\n",
        "from keras.preprocessing.image import ImageDataGenerator\n",
        "from keras.preprocessing import image\n",
        "from keras.models import Model\n",
        "from keras.applications import imagenet_utils\n",
        "from keras.layers import Dense,GlobalAveragePooling2D\n",
        "from keras.applications import MobileNet\n",
        "from keras.applications.mobilenet import preprocess_input\n",
        "import numpy as np\n",
        "from IPython.display import Image\n",
        "from keras.optimizers import Adam\n",
        "from tensorflow.keras import Model\n",
        "from tensorflow.keras.applications.mobilenet import MobileNet, preprocess_input\n",
        "from tensorflow.keras.callbacks import ModelCheckpoint, EarlyStopping, ReduceLROnPlateau, Callback\n",
        "from tensorflow.keras.layers import Conv2D, Reshape\n",
        "from tensorflow.keras.utils import Sequence\n",
        "from tensorflow.keras.backend import epsilon"
      ],
      "execution_count": 0,
      "outputs": []
    },
    {
      "cell_type": "code",
      "metadata": {
        "id": "ijVyxfIQn7KG",
        "colab_type": "code",
        "colab": {}
      },
      "source": [
        "from google.colab import drive"
      ],
      "execution_count": 0,
      "outputs": []
    },
    {
      "cell_type": "code",
      "metadata": {
        "id": "Mgy2wktnn-4Q",
        "colab_type": "code",
        "outputId": "28bb9c40-0e92-44a3-c461-1ac533671335",
        "colab": {
          "base_uri": "https://localhost:8080/",
          "height": 34
        }
      },
      "source": [
        "drive.mount('/content/drive')"
      ],
      "execution_count": 0,
      "outputs": [
        {
          "output_type": "stream",
          "text": [
            "Drive already mounted at /content/drive; to attempt to forcibly remount, call drive.mount(\"/content/drive\", force_remount=True).\n"
          ],
          "name": "stdout"
        }
      ]
    },
    {
      "cell_type": "code",
      "metadata": {
        "id": "ZnfOsActDB6J",
        "colab_type": "code",
        "colab": {}
      },
      "source": [
        "import os\n",
        "os.chdir(\"/content/drive/My Drive/\")"
      ],
      "execution_count": 0,
      "outputs": []
    },
    {
      "cell_type": "markdown",
      "metadata": {
        "id": "HtnH8CujQfxM",
        "colab_type": "text"
      },
      "source": [
        "### Import MobileNet model given in file `mn_model.py`"
      ]
    },
    {
      "cell_type": "code",
      "metadata": {
        "id": "FtnDz1qkQESM",
        "colab_type": "code",
        "colab": {}
      },
      "source": [
        "### Import MobileNet model given in file `mn_model.py`\n",
        "\n",
        "from mn_model import mn_model"
      ],
      "execution_count": 0,
      "outputs": []
    },
    {
      "cell_type": "markdown",
      "metadata": {
        "id": "dwNy4u8zQk1H",
        "colab_type": "text"
      },
      "source": [
        "### Import the BatchGenerator and SSDLoss functions in given files `face_generator.py`, `keras_ssd_loss` and `ssd_box_encode_decode_utils.py` as well, used in MobileNet model"
      ]
    },
    {
      "cell_type": "code",
      "metadata": {
        "id": "3gVMOicwQlg_",
        "colab_type": "code",
        "colab": {}
      },
      "source": [
        "#### Import the BatchGenerator and SSDLoss functions as well, used in MobileNet model\n",
        "\n",
        "from face_generator import BatchGenerator\n",
        "from keras_ssd_loss import SSDLoss\n",
        "from ssd_box_encode_decode_utils import SSDBoxEncoder, decode_y, decode_y2"
      ],
      "execution_count": 0,
      "outputs": []
    },
    {
      "cell_type": "code",
      "metadata": {
        "id": "tkzbMq9UeuCM",
        "colab_type": "code",
        "colab": {}
      },
      "source": [
        "\n",
        "import warnings\n",
        "warnings.filterwarnings(\"ignore\")\n",
        "\n",
        "from keras.optimizers import Adam, SGD, Nadam\n",
        "from keras.callbacks import ModelCheckpoint, EarlyStopping, ReduceLROnPlateau, TensorBoard, LearningRateScheduler\n",
        "from keras.callbacks import Callback\n",
        "from keras import backend as K \n",
        "from keras.models import load_model\n",
        "from math import ceil \n",
        "import numpy as np \n",
        "from termcolor import colored\n",
        "\n",
        "from mn_model import mn_model\n",
        "from face_generator import BatchGenerator\n",
        "from keras_ssd_loss import SSDLoss\n",
        "from ssd_box_encode_decode_utils import SSDBoxEncoder, decode_y, decode_y2\n",
        "\n",
        "# training parameters\n",
        "from keras import backend as K\n",
        "import scipy.misc as sm\n"
      ],
      "execution_count": 0,
      "outputs": []
    },
    {
      "cell_type": "markdown",
      "metadata": {
        "id": "UqyWOSGJRB18",
        "colab_type": "text"
      },
      "source": [
        "## Set the parameters for the model\n",
        "\n",
        "#### We need to customize the model parameters according to our problem as given below.\n",
        "\n",
        "#### Set n_classes (no.of classes) = 2, as we are interested in only face detection. \n",
        "#### `Face` will be one class and everything else comes under other class (we can call it as `background`)\n",
        "\n",
        "#### Set class_names = [\"background\", \"face\"]"
      ]
    },
    {
      "cell_type": "code",
      "metadata": {
        "id": "bcoBM5wlfHgZ",
        "colab_type": "code",
        "colab": {}
      },
      "source": [
        "img_height =512\n",
        "img_width = 512\n",
        "\n",
        "img_channels = 3\n",
        "\n",
        "n_classes =2 \n",
        "class_names = [\"background\",\"face\"]\n",
        "\n",
        "scales = [0.07, 0.15, 0.33, 0.51, 0.69, 0.87, 1.05] # anchorboxes for coco dataset\n",
        "aspect_ratios = [[0.5, 1.0, 2.0],\n",
        "                 [1.0/3.0, 0.5, 1.0, 2.0, 3.0],\n",
        "                 [1.0/3.0, 0.5, 1.0, 2.0, 3.0],\n",
        "                 [1.0/3.0, 0.5, 1.0, 2.0, 3.0],\n",
        "                 [0.5, 1.0, 2.0],\n",
        "                 [0.5, 1.0, 2.0]] # The anchor box aspect ratios used in the original SSD300\n",
        "two_boxes_for_ar1 = True\n",
        "limit_boxes = True # Whether or not you want to limit the anchor boxes to lie entirely within the image boundaries\n",
        "variances = [0.1, 0.1, 0.2, 0.2] # The variances by which the encoded target coordinates are scaled as in the original implementation\n",
        "coords = 'centroids' # Whether the box coordinates to be used as targets for the model should be in the 'centroids' or 'minmax' format, see documentation\n",
        "normalize_coords = True\n",
        "\n",
        "det_model_path = \"./\""
      ],
      "execution_count": 0,
      "outputs": []
    },
    {
      "cell_type": "markdown",
      "metadata": {
        "id": "z7vX1GJjTg0v",
        "colab_type": "text"
      },
      "source": [
        "### Now, we have imported the model and its dependencies. The next thing is to import the dataset for the model to train on. For this, we are using the WIDER FACE dataset. \n",
        "\n",
        "#### To make the dataset available follow the steps given below.\n",
        "\n",
        "\n",
        "1. Create a folder in your google drive for this project. \n",
        "\n",
        "2. Download the train and test dataset files given in .zip format into your drive folder you created for the project in step-1.\n",
        "\n",
        "3. Set the project path variable according to the folders you created to use for this project in your google drive. \n",
        "\n",
        "      `project_path = \"/content/drive/My Drive/DLCP/\"`\n",
        "\n",
        "4. Now, as we mount the drive the images will be available to use for training and testing but in zip format.\n",
        "\n",
        "5. So, lets extract the images from the zipfiles by using the code given of zipfile module.\n",
        "\n",
        "\n",
        "\n",
        "\n",
        "\n"
      ]
    },
    {
      "cell_type": "code",
      "metadata": {
        "id": "T2du37JKdpAK",
        "colab_type": "code",
        "colab": {}
      },
      "source": [
        "from google.colab import drive"
      ],
      "execution_count": 0,
      "outputs": []
    },
    {
      "cell_type": "code",
      "metadata": {
        "id": "mXRPqaDfdr1P",
        "colab_type": "code",
        "outputId": "e786ee8c-9dc6-488f-c943-50b8c5a20954",
        "colab": {
          "base_uri": "https://localhost:8080/",
          "height": 34
        }
      },
      "source": [
        "drive.mount('/content/drive')"
      ],
      "execution_count": 0,
      "outputs": [
        {
          "output_type": "stream",
          "text": [
            "Drive already mounted at /content/drive; to attempt to forcibly remount, call drive.mount(\"/content/drive\", force_remount=True).\n"
          ],
          "name": "stdout"
        }
      ]
    },
    {
      "cell_type": "code",
      "metadata": {
        "id": "KM1QVQ2pduPE",
        "colab_type": "code",
        "colab": {}
      },
      "source": [
        "project_path = \"/content/drive/My Drive/\""
      ],
      "execution_count": 0,
      "outputs": []
    },
    {
      "cell_type": "code",
      "metadata": {
        "id": "F-pOMEK8pCPS",
        "colab_type": "code",
        "colab": {}
      },
      "source": [
        "train_images_path = project_path + 'WIDER_train.zip'\n",
        "test_images_path = project_path + 'WIDER_val.zip'"
      ],
      "execution_count": 0,
      "outputs": []
    },
    {
      "cell_type": "code",
      "metadata": {
        "id": "5uIDTr5ApCR7",
        "colab_type": "code",
        "colab": {}
      },
      "source": [
        "import zipfile\n",
        "archive = zipfile.ZipFile(train_images_path, 'r')\n",
        "archive.extractall()"
      ],
      "execution_count": 0,
      "outputs": []
    },
    {
      "cell_type": "code",
      "metadata": {
        "id": "BhqDPEEfpCUr",
        "colab_type": "code",
        "colab": {}
      },
      "source": [
        "archive = zipfile.ZipFile(test_images_path, 'r')\n",
        "archive.extractall()"
      ],
      "execution_count": 0,
      "outputs": []
    },
    {
      "cell_type": "markdown",
      "metadata": {
        "id": "-iCibT8AYiJ7",
        "colab_type": "text"
      },
      "source": [
        "### Now, the images are available. The next thing we need is to get the labels for these images, so that we can use this information while training for detecting faces with the given model using transfer learning. \n",
        "\n",
        "#### Follow the below steps to get those labels available.\n",
        "\n",
        "\n",
        "Load the  '' `wider_train_small.npy`'' file given to check the information given about the dataset. In this file you can see the information about each image in the dataset in a list with following elemets:\n",
        "      \n",
        "\n",
        "        1.   Image filename (str)\n",
        "        2.   Image filename (str)\n",
        "        3.   Image size (list) [height, width]\n",
        "        4.   List of bounding box co-ordinates and Class label (list) [[a,b,c,d], Class label, ...]\n",
        "        \n",
        "        where,\n",
        "        a,b,c,d are the four co-ordinates of the bounding box\n",
        "        Class label is the position of object as mentioned in `class_names` list above."
      ]
    },
    {
      "cell_type": "code",
      "metadata": {
        "id": "nub3I0LPmlfk",
        "colab_type": "code",
        "colab": {}
      },
      "source": [
        "data = np.load('./wider_train_small.npy').item()"
      ],
      "execution_count": 0,
      "outputs": []
    },
    {
      "cell_type": "code",
      "metadata": {
        "id": "Q2Fd8RY3pCJS",
        "colab_type": "code",
        "outputId": "26f49ffc-5f55-4586-d2f6-a83e26cc3363",
        "colab": {
          "base_uri": "https://localhost:8080/",
          "height": 70
        }
      },
      "source": [
        "### Printed first element to check the above given information.\n",
        "\n",
        "for key in data:\n",
        "    print key\n",
        "    print data[key]\n",
        "    break"
      ],
      "execution_count": 0,
      "outputs": [
        {
          "output_type": "stream",
          "text": [
            "52--Photographers/52_Photographers_photographertakingphoto_52_582.jpg\n",
            "['WIDER_train/images/52--Photographers/52_Photographers_photographertakingphoto_52_582.jpg', 'WIDER_train/images/52--Photographers/52_Photographers_photographertakingphoto_52_582.jpg', [300, 300], [[21, 667, 9, 655], 1]]\n"
          ],
          "name": "stdout"
        }
      ]
    },
    {
      "cell_type": "markdown",
      "metadata": {
        "id": "vlTpXziHZwws",
        "colab_type": "text"
      },
      "source": [
        " As we can see from the above output all the information mentioned above is there for all the images."
      ]
    },
    {
      "cell_type": "markdown",
      "metadata": {
        "id": "m2NBAZGqaec9",
        "colab_type": "text"
      },
      "source": [
        "### Now, load the files `wider_trian.npy` and `wider_val.npy`"
      ]
    },
    {
      "cell_type": "code",
      "metadata": {
        "id": "_kfX49vXas4f",
        "colab_type": "code",
        "colab": {}
      },
      "source": [
        "train_data = 'wider_train_small.npy'\n",
        "test_data = 'wider_val_small.npy'\n",
        "\n",
        "x = np.load(train_data)"
      ],
      "execution_count": 0,
      "outputs": []
    },
    {
      "cell_type": "markdown",
      "metadata": {
        "id": "v2KdmbvGblC3",
        "colab_type": "text"
      },
      "source": [
        "### Now, call the imported model with the given parameters and freeze all the layers in the model with names not having ''`detection`'' word as prefix.\n",
        "\n",
        "As we are not training the model from scratch, we are freezing all the above layers in the model having only last few layers while training to update their weights according to the problem in hand. This is called as **Transfer Learning**."
      ]
    },
    {
      "cell_type": "code",
      "metadata": {
        "id": "cHwplT2ggR-1",
        "colab_type": "code",
        "outputId": "258c6fb6-2772-45b9-b279-af9380941b20",
        "colab": {
          "base_uri": "https://localhost:8080/",
          "height": 50
        }
      },
      "source": [
        "# build the keras model\n",
        "# this model is not retrained, we are doing it from scratch \n",
        "\n",
        "K.clear_session()\n",
        "model, model_layer, img_input, predictor_sizes = mn_model(image_size=(img_height, img_width, img_channels), \n",
        "                                                                      n_classes = n_classes,\n",
        "                                                                      min_scale = None, \n",
        "                                                                      max_scale = None, \n",
        "                                                                      scales = scales, \n",
        "                                                                      aspect_ratios_global = None, \n",
        "                                                                      aspect_ratios_per_layer = aspect_ratios, \n",
        "                                                                      two_boxes_for_ar1= two_boxes_for_ar1, \n",
        "                                                                      limit_boxes=limit_boxes, \n",
        "                                                                      variances= variances, \n",
        "                                                                      coords=coords, \n",
        "                                                                      normalize_coords=normalize_coords)"
      ],
      "execution_count": 0,
      "outputs": [
        {
          "output_type": "stream",
          "text": [
            "====> Model Specific data\n",
            "====> Height, Width, Channels : 512 512 3\n"
          ],
          "name": "stdout"
        }
      ]
    },
    {
      "cell_type": "markdown",
      "metadata": {
        "id": "FfC4yNb_uCdT",
        "colab_type": "text"
      },
      "source": [
        "#### Write code to freeze all the layers in the above model with names not having ''`detection`'' word as prefix."
      ]
    },
    {
      "cell_type": "code",
      "metadata": {
        "id": "snOulB0wt7_t",
        "colab_type": "code",
        "outputId": "bd09d8e1-e502-40fb-f2c1-5f058a359962",
        "colab": {
          "base_uri": "https://localhost:8080/",
          "height": 1000
        }
      },
      "source": [
        "model.summary()"
      ],
      "execution_count": 0,
      "outputs": [
        {
          "output_type": "stream",
          "text": [
            "__________________________________________________________________________________________________\n",
            "Layer (type)                    Output Shape         Param #     Connected to                     \n",
            "==================================================================================================\n",
            "input_1 (InputLayer)            (None, 512, 512, 3)  0                                            \n",
            "__________________________________________________________________________________________________\n",
            "lambda1 (Lambda)                (None, 512, 512, 3)  0           input_1[0][0]                    \n",
            "__________________________________________________________________________________________________\n",
            "lambda2 (Lambda)                (None, 512, 512, 3)  0           lambda1[0][0]                    \n",
            "__________________________________________________________________________________________________\n",
            "lambda3 (Lambda)                (None, 512, 512, 3)  0           lambda2[0][0]                    \n",
            "__________________________________________________________________________________________________\n",
            "conv1 (Conv2D)                  (None, 256, 256, 32) 864         lambda3[0][0]                    \n",
            "__________________________________________________________________________________________________\n",
            "conv1_bn (BatchNormalization)   (None, 256, 256, 32) 128         conv1[0][0]                      \n",
            "__________________________________________________________________________________________________\n",
            "conv1_relu (Activation)         (None, 256, 256, 32) 0           conv1_bn[0][0]                   \n",
            "__________________________________________________________________________________________________\n",
            "conv_dw_1 (DepthwiseConv2D)     (None, 256, 256, 32) 288         conv1_relu[0][0]                 \n",
            "__________________________________________________________________________________________________\n",
            "conv_dw_1_bn (BatchNormalizatio (None, 256, 256, 32) 128         conv_dw_1[0][0]                  \n",
            "__________________________________________________________________________________________________\n",
            "conv_dw_1_relu (Activation)     (None, 256, 256, 32) 0           conv_dw_1_bn[0][0]               \n",
            "__________________________________________________________________________________________________\n",
            "conv_pw_1 (Conv2D)              (None, 256, 256, 64) 2048        conv_dw_1_relu[0][0]             \n",
            "__________________________________________________________________________________________________\n",
            "conv_pw_1_bn (BatchNormalizatio (None, 256, 256, 64) 256         conv_pw_1[0][0]                  \n",
            "__________________________________________________________________________________________________\n",
            "conv_pw_1_relu (Activation)     (None, 256, 256, 64) 0           conv_pw_1_bn[0][0]               \n",
            "__________________________________________________________________________________________________\n",
            "conv_dw_2 (DepthwiseConv2D)     (None, 128, 128, 64) 576         conv_pw_1_relu[0][0]             \n",
            "__________________________________________________________________________________________________\n",
            "conv_dw_2_bn (BatchNormalizatio (None, 128, 128, 64) 256         conv_dw_2[0][0]                  \n",
            "__________________________________________________________________________________________________\n",
            "conv_dw_2_relu (Activation)     (None, 128, 128, 64) 0           conv_dw_2_bn[0][0]               \n",
            "__________________________________________________________________________________________________\n",
            "conv_pw_2 (Conv2D)              (None, 128, 128, 128 8192        conv_dw_2_relu[0][0]             \n",
            "__________________________________________________________________________________________________\n",
            "conv_pw_2_bn (BatchNormalizatio (None, 128, 128, 128 512         conv_pw_2[0][0]                  \n",
            "__________________________________________________________________________________________________\n",
            "conv_pw_2_relu (Activation)     (None, 128, 128, 128 0           conv_pw_2_bn[0][0]               \n",
            "__________________________________________________________________________________________________\n",
            "conv_dw_3 (DepthwiseConv2D)     (None, 128, 128, 128 1152        conv_pw_2_relu[0][0]             \n",
            "__________________________________________________________________________________________________\n",
            "conv_dw_3_bn (BatchNormalizatio (None, 128, 128, 128 512         conv_dw_3[0][0]                  \n",
            "__________________________________________________________________________________________________\n",
            "conv_dw_3_relu (Activation)     (None, 128, 128, 128 0           conv_dw_3_bn[0][0]               \n",
            "__________________________________________________________________________________________________\n",
            "conv_pw_3 (Conv2D)              (None, 128, 128, 128 16384       conv_dw_3_relu[0][0]             \n",
            "__________________________________________________________________________________________________\n",
            "conv_pw_3_bn (BatchNormalizatio (None, 128, 128, 128 512         conv_pw_3[0][0]                  \n",
            "__________________________________________________________________________________________________\n",
            "conv_pw_3_relu (Activation)     (None, 128, 128, 128 0           conv_pw_3_bn[0][0]               \n",
            "__________________________________________________________________________________________________\n",
            "conv_dw_4 (DepthwiseConv2D)     (None, 64, 64, 128)  1152        conv_pw_3_relu[0][0]             \n",
            "__________________________________________________________________________________________________\n",
            "conv_dw_4_bn (BatchNormalizatio (None, 64, 64, 128)  512         conv_dw_4[0][0]                  \n",
            "__________________________________________________________________________________________________\n",
            "conv_dw_4_relu (Activation)     (None, 64, 64, 128)  0           conv_dw_4_bn[0][0]               \n",
            "__________________________________________________________________________________________________\n",
            "conv_pw_4 (Conv2D)              (None, 64, 64, 256)  32768       conv_dw_4_relu[0][0]             \n",
            "__________________________________________________________________________________________________\n",
            "conv_pw_4_bn (BatchNormalizatio (None, 64, 64, 256)  1024        conv_pw_4[0][0]                  \n",
            "__________________________________________________________________________________________________\n",
            "conv_pw_4_relu (Activation)     (None, 64, 64, 256)  0           conv_pw_4_bn[0][0]               \n",
            "__________________________________________________________________________________________________\n",
            "conv_dw_5 (DepthwiseConv2D)     (None, 64, 64, 256)  2304        conv_pw_4_relu[0][0]             \n",
            "__________________________________________________________________________________________________\n",
            "conv_dw_5_bn (BatchNormalizatio (None, 64, 64, 256)  1024        conv_dw_5[0][0]                  \n",
            "__________________________________________________________________________________________________\n",
            "conv_dw_5_relu (Activation)     (None, 64, 64, 256)  0           conv_dw_5_bn[0][0]               \n",
            "__________________________________________________________________________________________________\n",
            "conv_pw_5 (Conv2D)              (None, 64, 64, 256)  65536       conv_dw_5_relu[0][0]             \n",
            "__________________________________________________________________________________________________\n",
            "conv_pw_5_bn (BatchNormalizatio (None, 64, 64, 256)  1024        conv_pw_5[0][0]                  \n",
            "__________________________________________________________________________________________________\n",
            "conv_pw_5_relu (Activation)     (None, 64, 64, 256)  0           conv_pw_5_bn[0][0]               \n",
            "__________________________________________________________________________________________________\n",
            "conv_dw_6 (DepthwiseConv2D)     (None, 32, 32, 256)  2304        conv_pw_5_relu[0][0]             \n",
            "__________________________________________________________________________________________________\n",
            "conv_dw_6_bn (BatchNormalizatio (None, 32, 32, 256)  1024        conv_dw_6[0][0]                  \n",
            "__________________________________________________________________________________________________\n",
            "conv_dw_6_relu (Activation)     (None, 32, 32, 256)  0           conv_dw_6_bn[0][0]               \n",
            "__________________________________________________________________________________________________\n",
            "conv_pw_6 (Conv2D)              (None, 32, 32, 512)  131072      conv_dw_6_relu[0][0]             \n",
            "__________________________________________________________________________________________________\n",
            "conv_pw_6_bn (BatchNormalizatio (None, 32, 32, 512)  2048        conv_pw_6[0][0]                  \n",
            "__________________________________________________________________________________________________\n",
            "conv_pw_6_relu (Activation)     (None, 32, 32, 512)  0           conv_pw_6_bn[0][0]               \n",
            "__________________________________________________________________________________________________\n",
            "conv_dw_7 (DepthwiseConv2D)     (None, 32, 32, 512)  4608        conv_pw_6_relu[0][0]             \n",
            "__________________________________________________________________________________________________\n",
            "conv_dw_7_bn (BatchNormalizatio (None, 32, 32, 512)  2048        conv_dw_7[0][0]                  \n",
            "__________________________________________________________________________________________________\n",
            "conv_dw_7_relu (Activation)     (None, 32, 32, 512)  0           conv_dw_7_bn[0][0]               \n",
            "__________________________________________________________________________________________________\n",
            "conv_pw_7 (Conv2D)              (None, 32, 32, 512)  262144      conv_dw_7_relu[0][0]             \n",
            "__________________________________________________________________________________________________\n",
            "conv_pw_7_bn (BatchNormalizatio (None, 32, 32, 512)  2048        conv_pw_7[0][0]                  \n",
            "__________________________________________________________________________________________________\n",
            "conv_pw_7_relu (Activation)     (None, 32, 32, 512)  0           conv_pw_7_bn[0][0]               \n",
            "__________________________________________________________________________________________________\n",
            "conv_dw_8 (DepthwiseConv2D)     (None, 32, 32, 512)  4608        conv_pw_7_relu[0][0]             \n",
            "__________________________________________________________________________________________________\n",
            "conv_dw_8_bn (BatchNormalizatio (None, 32, 32, 512)  2048        conv_dw_8[0][0]                  \n",
            "__________________________________________________________________________________________________\n",
            "conv_dw_8_relu (Activation)     (None, 32, 32, 512)  0           conv_dw_8_bn[0][0]               \n",
            "__________________________________________________________________________________________________\n",
            "conv_pw_8 (Conv2D)              (None, 32, 32, 512)  262144      conv_dw_8_relu[0][0]             \n",
            "__________________________________________________________________________________________________\n",
            "conv_pw_8_bn (BatchNormalizatio (None, 32, 32, 512)  2048        conv_pw_8[0][0]                  \n",
            "__________________________________________________________________________________________________\n",
            "conv_pw_8_relu (Activation)     (None, 32, 32, 512)  0           conv_pw_8_bn[0][0]               \n",
            "__________________________________________________________________________________________________\n",
            "conv_dw_9 (DepthwiseConv2D)     (None, 32, 32, 512)  4608        conv_pw_8_relu[0][0]             \n",
            "__________________________________________________________________________________________________\n",
            "conv_dw_9_bn (BatchNormalizatio (None, 32, 32, 512)  2048        conv_dw_9[0][0]                  \n",
            "__________________________________________________________________________________________________\n",
            "conv_dw_9_relu (Activation)     (None, 32, 32, 512)  0           conv_dw_9_bn[0][0]               \n",
            "__________________________________________________________________________________________________\n",
            "conv_pw_9 (Conv2D)              (None, 32, 32, 512)  262144      conv_dw_9_relu[0][0]             \n",
            "__________________________________________________________________________________________________\n",
            "conv_pw_9_bn (BatchNormalizatio (None, 32, 32, 512)  2048        conv_pw_9[0][0]                  \n",
            "__________________________________________________________________________________________________\n",
            "conv_pw_9_relu (Activation)     (None, 32, 32, 512)  0           conv_pw_9_bn[0][0]               \n",
            "__________________________________________________________________________________________________\n",
            "conv_dw_10 (DepthwiseConv2D)    (None, 32, 32, 512)  4608        conv_pw_9_relu[0][0]             \n",
            "__________________________________________________________________________________________________\n",
            "conv_dw_10_bn (BatchNormalizati (None, 32, 32, 512)  2048        conv_dw_10[0][0]                 \n",
            "__________________________________________________________________________________________________\n",
            "conv_dw_10_relu (Activation)    (None, 32, 32, 512)  0           conv_dw_10_bn[0][0]              \n",
            "__________________________________________________________________________________________________\n",
            "conv_pw_10 (Conv2D)             (None, 32, 32, 512)  262144      conv_dw_10_relu[0][0]            \n",
            "__________________________________________________________________________________________________\n",
            "conv_pw_10_bn (BatchNormalizati (None, 32, 32, 512)  2048        conv_pw_10[0][0]                 \n",
            "__________________________________________________________________________________________________\n",
            "conv_pw_10_relu (Activation)    (None, 32, 32, 512)  0           conv_pw_10_bn[0][0]              \n",
            "__________________________________________________________________________________________________\n",
            "conv_dw_11 (DepthwiseConv2D)    (None, 32, 32, 512)  4608        conv_pw_10_relu[0][0]            \n",
            "__________________________________________________________________________________________________\n",
            "conv_dw_11_bn (BatchNormalizati (None, 32, 32, 512)  2048        conv_dw_11[0][0]                 \n",
            "__________________________________________________________________________________________________\n",
            "conv_dw_11_relu (Activation)    (None, 32, 32, 512)  0           conv_dw_11_bn[0][0]              \n",
            "__________________________________________________________________________________________________\n",
            "conv_pw_11 (Conv2D)             (None, 32, 32, 512)  262144      conv_dw_11_relu[0][0]            \n",
            "__________________________________________________________________________________________________\n",
            "conv_pw_11_bn (BatchNormalizati (None, 32, 32, 512)  2048        conv_pw_11[0][0]                 \n",
            "__________________________________________________________________________________________________\n",
            "conv_pw_11_relu (Activation)    (None, 32, 32, 512)  0           conv_pw_11_bn[0][0]              \n",
            "__________________________________________________________________________________________________\n",
            "conv_dw_12 (DepthwiseConv2D)    (None, 16, 16, 512)  4608        conv_pw_11_relu[0][0]            \n",
            "__________________________________________________________________________________________________\n",
            "conv_dw_12_bn (BatchNormalizati (None, 16, 16, 512)  2048        conv_dw_12[0][0]                 \n",
            "__________________________________________________________________________________________________\n",
            "conv_dw_12_relu (Activation)    (None, 16, 16, 512)  0           conv_dw_12_bn[0][0]              \n",
            "__________________________________________________________________________________________________\n",
            "conv_pw_12 (Conv2D)             (None, 16, 16, 1024) 524288      conv_dw_12_relu[0][0]            \n",
            "__________________________________________________________________________________________________\n",
            "conv_pw_12_bn (BatchNormalizati (None, 16, 16, 1024) 4096        conv_pw_12[0][0]                 \n",
            "__________________________________________________________________________________________________\n",
            "conv_pw_12_relu (Activation)    (None, 16, 16, 1024) 0           conv_pw_12_bn[0][0]              \n",
            "__________________________________________________________________________________________________\n",
            "conv_dw_13 (DepthwiseConv2D)    (None, 16, 16, 1024) 9216        conv_pw_12_relu[0][0]            \n",
            "__________________________________________________________________________________________________\n",
            "conv_dw_13_bn (BatchNormalizati (None, 16, 16, 1024) 4096        conv_dw_13[0][0]                 \n",
            "__________________________________________________________________________________________________\n",
            "conv_dw_13_relu (Activation)    (None, 16, 16, 1024) 0           conv_dw_13_bn[0][0]              \n",
            "__________________________________________________________________________________________________\n",
            "conv_pw_13 (Conv2D)             (None, 16, 16, 1024) 1048576     conv_dw_13_relu[0][0]            \n",
            "__________________________________________________________________________________________________\n",
            "conv_pw_13_bn (BatchNormalizati (None, 16, 16, 1024) 4096        conv_pw_13[0][0]                 \n",
            "__________________________________________________________________________________________________\n",
            "conv_pw_13_relu (Activation)    (None, 16, 16, 1024) 0           conv_pw_13_bn[0][0]              \n",
            "__________________________________________________________________________________________________\n",
            "detection_conv6_1 (Conv2D)      (None, 16, 16, 256)  262400      conv_pw_13_relu[0][0]            \n",
            "__________________________________________________________________________________________________\n",
            "detection_conv6_1_bn (BatchNorm (None, 16, 16, 256)  1024        detection_conv6_1[0][0]          \n",
            "__________________________________________________________________________________________________\n",
            "detection_conv6_1_nonlin (Lambd (None, 16, 16, 256)  0           detection_conv6_1_bn[0][0]       \n",
            "__________________________________________________________________________________________________\n",
            "detection_conv6_2_conv_dw_1 (De (None, 8, 8, 256)    2304        detection_conv6_1_nonlin[0][0]   \n",
            "__________________________________________________________________________________________________\n",
            "detection_conv6_2_conv_dw_1_bn  (None, 8, 8, 256)    1024        detection_conv6_2_conv_dw_1[0][0]\n",
            "__________________________________________________________________________________________________\n",
            "detection_conv6_2_conv_dw_1_rel (None, 8, 8, 256)    0           detection_conv6_2_conv_dw_1_bn[0]\n",
            "__________________________________________________________________________________________________\n",
            "detection_conv6_2_conv_pw_1 (Co (None, 8, 8, 512)    131072      detection_conv6_2_conv_dw_1_relu[\n",
            "__________________________________________________________________________________________________\n",
            "detection_conv6_2_conv_pw_1_bn  (None, 8, 8, 512)    2048        detection_conv6_2_conv_pw_1[0][0]\n",
            "__________________________________________________________________________________________________\n",
            "detection_conv6_2_conv_pw_1_rel (None, 8, 8, 512)    0           detection_conv6_2_conv_pw_1_bn[0]\n",
            "__________________________________________________________________________________________________\n",
            "detection_conv7_1 (Conv2D)      (None, 8, 8, 128)    65664       detection_conv6_2_conv_pw_1_relu[\n",
            "__________________________________________________________________________________________________\n",
            "detection_conv7_1_bn (BatchNorm (None, 8, 8, 128)    512         detection_conv7_1[0][0]          \n",
            "__________________________________________________________________________________________________\n",
            "detection_conv7_1_nonlin (Lambd (None, 8, 8, 128)    0           detection_conv7_1_bn[0][0]       \n",
            "__________________________________________________________________________________________________\n",
            "detection_conv7_2_conv_dw_2 (De (None, 4, 4, 128)    1152        detection_conv7_1_nonlin[0][0]   \n",
            "__________________________________________________________________________________________________\n",
            "detection_conv7_2_conv_dw_2_bn  (None, 4, 4, 128)    512         detection_conv7_2_conv_dw_2[0][0]\n",
            "__________________________________________________________________________________________________\n",
            "detection_conv7_2_conv_dw_2_rel (None, 4, 4, 128)    0           detection_conv7_2_conv_dw_2_bn[0]\n",
            "__________________________________________________________________________________________________\n",
            "detection_conv7_2_conv_pw_2 (Co (None, 4, 4, 256)    32768       detection_conv7_2_conv_dw_2_relu[\n",
            "__________________________________________________________________________________________________\n",
            "detection_conv7_2_conv_pw_2_bn  (None, 4, 4, 256)    1024        detection_conv7_2_conv_pw_2[0][0]\n",
            "__________________________________________________________________________________________________\n",
            "detection_conv7_2_conv_pw_2_rel (None, 4, 4, 256)    0           detection_conv7_2_conv_pw_2_bn[0]\n",
            "__________________________________________________________________________________________________\n",
            "detection_conv8_1 (Conv2D)      (None, 4, 4, 128)    32896       detection_conv7_2_conv_pw_2_relu[\n",
            "__________________________________________________________________________________________________\n",
            "detection_conv8_1_bn (BatchNorm (None, 4, 4, 128)    512         detection_conv8_1[0][0]          \n",
            "__________________________________________________________________________________________________\n",
            "detection_conv8_1_nonlin (Lambd (None, 4, 4, 128)    0           detection_conv8_1_bn[0][0]       \n",
            "__________________________________________________________________________________________________\n",
            "detection_conv8_2_conv_dw_3 (De (None, 2, 2, 128)    1152        detection_conv8_1_nonlin[0][0]   \n",
            "__________________________________________________________________________________________________\n",
            "detection_conv8_2_conv_dw_3_bn  (None, 2, 2, 128)    512         detection_conv8_2_conv_dw_3[0][0]\n",
            "__________________________________________________________________________________________________\n",
            "detection_conv8_2_conv_dw_3_rel (None, 2, 2, 128)    0           detection_conv8_2_conv_dw_3_bn[0]\n",
            "__________________________________________________________________________________________________\n",
            "detection_conv8_2_conv_pw_3 (Co (None, 2, 2, 256)    32768       detection_conv8_2_conv_dw_3_relu[\n",
            "__________________________________________________________________________________________________\n",
            "detection_conv8_2_conv_pw_3_bn  (None, 2, 2, 256)    1024        detection_conv8_2_conv_pw_3[0][0]\n",
            "__________________________________________________________________________________________________\n",
            "detection_conv8_2_conv_pw_3_rel (None, 2, 2, 256)    0           detection_conv8_2_conv_pw_3_bn[0]\n",
            "__________________________________________________________________________________________________\n",
            "detection_conv9_1 (Conv2D)      (None, 2, 2, 64)     16448       detection_conv8_2_conv_pw_3_relu[\n",
            "__________________________________________________________________________________________________\n",
            "detection_conv9_1_bn (BatchNorm (None, 2, 2, 64)     256         detection_conv9_1[0][0]          \n",
            "__________________________________________________________________________________________________\n",
            "detection_conv9_1_nonlin (Lambd (None, 2, 2, 64)     0           detection_conv9_1_bn[0][0]       \n",
            "__________________________________________________________________________________________________\n",
            "detection_conv9_2_conv_dw_4 (De (None, 1, 1, 64)     576         detection_conv9_1_nonlin[0][0]   \n",
            "__________________________________________________________________________________________________\n",
            "detection_conv9_2_conv_dw_4_bn  (None, 1, 1, 64)     256         detection_conv9_2_conv_dw_4[0][0]\n",
            "__________________________________________________________________________________________________\n",
            "detection_conv9_2_conv_dw_4_rel (None, 1, 1, 64)     0           detection_conv9_2_conv_dw_4_bn[0]\n",
            "__________________________________________________________________________________________________\n",
            "detection_conv9_2_conv_pw_4 (Co (None, 1, 1, 256)    16384       detection_conv9_2_conv_dw_4_relu[\n",
            "__________________________________________________________________________________________________\n",
            "detection_conv9_2_conv_pw_4_bn  (None, 1, 1, 256)    1024        detection_conv9_2_conv_pw_4[0][0]\n",
            "__________________________________________________________________________________________________\n",
            "detection_conv4_3_norm (L2Norma (None, 32, 32, 512)  512         conv_pw_11_relu[0][0]            \n",
            "__________________________________________________________________________________________________\n",
            "detection_conv9_2_conv_pw_4_rel (None, 1, 1, 256)    0           detection_conv9_2_conv_pw_4_bn[0]\n",
            "__________________________________________________________________________________________________\n",
            "detection_conv4_3_norm_mbox_con (None, 32, 32, 512)  4608        detection_conv4_3_norm[0][0]     \n",
            "__________________________________________________________________________________________________\n",
            "detection_fc7_mbox_conf_conv_dw (None, 16, 16, 1024) 9216        conv_pw_13_relu[0][0]            \n",
            "__________________________________________________________________________________________________\n",
            "detection_conv6_2_mbox_conf_con (None, 8, 8, 512)    4608        detection_conv6_2_conv_pw_1_relu[\n",
            "__________________________________________________________________________________________________\n",
            "detection_conv7_2_mbox_conf_con (None, 4, 4, 256)    2304        detection_conv7_2_conv_pw_2_relu[\n",
            "__________________________________________________________________________________________________\n",
            "detection_conv8_2_mbox_conf_con (None, 2, 2, 256)    2304        detection_conv8_2_conv_pw_3_relu[\n",
            "__________________________________________________________________________________________________\n",
            "detection_conv9_2_mbox_conf_con (None, 1, 1, 256)    2304        detection_conv9_2_conv_pw_4_relu[\n",
            "__________________________________________________________________________________________________\n",
            "detection_conv4_3_norm_mbox_con (None, 32, 32, 512)  2048        detection_conv4_3_norm_mbox_conf_\n",
            "__________________________________________________________________________________________________\n",
            "detection_fc7_mbox_conf_conv_dw (None, 16, 16, 1024) 4096        detection_fc7_mbox_conf_conv_dw_2\n",
            "__________________________________________________________________________________________________\n",
            "detection_conv6_2_mbox_conf_con (None, 8, 8, 512)    2048        detection_conv6_2_mbox_conf_conv_\n",
            "__________________________________________________________________________________________________\n",
            "detection_conv7_2_mbox_conf_con (None, 4, 4, 256)    1024        detection_conv7_2_mbox_conf_conv_\n",
            "__________________________________________________________________________________________________\n",
            "detection_conv8_2_mbox_conf_con (None, 2, 2, 256)    1024        detection_conv8_2_mbox_conf_conv_\n",
            "__________________________________________________________________________________________________\n",
            "detection_conv9_2_mbox_conf_con (None, 1, 1, 256)    1024        detection_conv9_2_mbox_conf_conv_\n",
            "__________________________________________________________________________________________________\n",
            "detection_conv4_3_norm_mbox_loc (None, 32, 32, 512)  4608        detection_conv4_3_norm[0][0]     \n",
            "__________________________________________________________________________________________________\n",
            "detection_fc7_mbox_loc_conv_dw_ (None, 16, 16, 1024) 9216        conv_pw_13_relu[0][0]            \n",
            "__________________________________________________________________________________________________\n",
            "detection_conv6_2_mbox_loc_conv (None, 8, 8, 512)    4608        detection_conv6_2_conv_pw_1_relu[\n",
            "__________________________________________________________________________________________________\n",
            "detection_conv7_2_mbox_loc_conv (None, 4, 4, 256)    2304        detection_conv7_2_conv_pw_2_relu[\n",
            "__________________________________________________________________________________________________\n",
            "detection_conv8_2_mbox_loc_conv (None, 2, 2, 256)    2304        detection_conv8_2_conv_pw_3_relu[\n",
            "__________________________________________________________________________________________________\n",
            "detection_conv9_2_mbox_loc_conv (None, 1, 1, 256)    2304        detection_conv9_2_conv_pw_4_relu[\n",
            "__________________________________________________________________________________________________\n",
            "detection_conv4_3_norm_mbox_con (None, 32, 32, 512)  0           detection_conv4_3_norm_mbox_conf_\n",
            "__________________________________________________________________________________________________\n",
            "detection_fc7_mbox_conf_conv_dw (None, 16, 16, 1024) 0           detection_fc7_mbox_conf_conv_dw_2\n",
            "__________________________________________________________________________________________________\n",
            "detection_conv6_2_mbox_conf_con (None, 8, 8, 512)    0           detection_conv6_2_mbox_conf_conv_\n",
            "__________________________________________________________________________________________________\n",
            "detection_conv7_2_mbox_conf_con (None, 4, 4, 256)    0           detection_conv7_2_mbox_conf_conv_\n",
            "__________________________________________________________________________________________________\n",
            "detection_conv8_2_mbox_conf_con (None, 2, 2, 256)    0           detection_conv8_2_mbox_conf_conv_\n",
            "__________________________________________________________________________________________________\n",
            "detection_conv9_2_mbox_conf_con (None, 1, 1, 256)    0           detection_conv9_2_mbox_conf_conv_\n",
            "__________________________________________________________________________________________________\n",
            "detection_conv4_3_norm_mbox_loc (None, 32, 32, 512)  2048        detection_conv4_3_norm_mbox_loc_c\n",
            "__________________________________________________________________________________________________\n",
            "detection_fc7_mbox_loc_conv_dw_ (None, 16, 16, 1024) 4096        detection_fc7_mbox_loc_conv_dw_2[\n",
            "__________________________________________________________________________________________________\n",
            "detection_conv6_2_mbox_loc_conv (None, 8, 8, 512)    2048        detection_conv6_2_mbox_loc_conv_d\n",
            "__________________________________________________________________________________________________\n",
            "detection_conv7_2_mbox_loc_conv (None, 4, 4, 256)    1024        detection_conv7_2_mbox_loc_conv_d\n",
            "__________________________________________________________________________________________________\n",
            "detection_conv8_2_mbox_loc_conv (None, 2, 2, 256)    1024        detection_conv8_2_mbox_loc_conv_d\n",
            "__________________________________________________________________________________________________\n",
            "detection_conv9_2_mbox_loc_conv (None, 1, 1, 256)    1024        detection_conv9_2_mbox_loc_conv_d\n",
            "__________________________________________________________________________________________________\n",
            "detection_conv4_3_norm_mbox_con (None, 32, 32, 8)    4096        detection_conv4_3_norm_mbox_conf_\n",
            "__________________________________________________________________________________________________\n",
            "detection_fc7_mbox_conf_conv_pw (None, 16, 16, 12)   12288       detection_fc7_mbox_conf_conv_dw_2\n",
            "__________________________________________________________________________________________________\n",
            "detection_conv6_2_mbox_conf_con (None, 8, 8, 12)     6144        detection_conv6_2_mbox_conf_conv_\n",
            "__________________________________________________________________________________________________\n",
            "detection_conv7_2_mbox_conf_con (None, 4, 4, 12)     3072        detection_conv7_2_mbox_conf_conv_\n",
            "__________________________________________________________________________________________________\n",
            "detection_conv8_2_mbox_conf_con (None, 2, 2, 8)      2048        detection_conv8_2_mbox_conf_conv_\n",
            "__________________________________________________________________________________________________\n",
            "detection_conv9_2_mbox_conf_con (None, 1, 1, 8)      2048        detection_conv9_2_mbox_conf_conv_\n",
            "__________________________________________________________________________________________________\n",
            "detection_conv4_3_norm_mbox_loc (None, 32, 32, 512)  0           detection_conv4_3_norm_mbox_loc_c\n",
            "__________________________________________________________________________________________________\n",
            "detection_fc7_mbox_loc_conv_dw_ (None, 16, 16, 1024) 0           detection_fc7_mbox_loc_conv_dw_2_\n",
            "__________________________________________________________________________________________________\n",
            "detection_conv6_2_mbox_loc_conv (None, 8, 8, 512)    0           detection_conv6_2_mbox_loc_conv_d\n",
            "__________________________________________________________________________________________________\n",
            "detection_conv7_2_mbox_loc_conv (None, 4, 4, 256)    0           detection_conv7_2_mbox_loc_conv_d\n",
            "__________________________________________________________________________________________________\n",
            "detection_conv8_2_mbox_loc_conv (None, 2, 2, 256)    0           detection_conv8_2_mbox_loc_conv_d\n",
            "__________________________________________________________________________________________________\n",
            "detection_conv9_2_mbox_loc_conv (None, 1, 1, 256)    0           detection_conv9_2_mbox_loc_conv_d\n",
            "__________________________________________________________________________________________________\n",
            "detection_conv4_3_norm_mbox_con (None, 32, 32, 8)    32          detection_conv4_3_norm_mbox_conf_\n",
            "__________________________________________________________________________________________________\n",
            "detection_fc7_mbox_conf_conv_pw (None, 16, 16, 12)   48          detection_fc7_mbox_conf_conv_pw_2\n",
            "__________________________________________________________________________________________________\n",
            "detection_conv6_2_mbox_conf_con (None, 8, 8, 12)     48          detection_conv6_2_mbox_conf_conv_\n",
            "__________________________________________________________________________________________________\n",
            "detection_conv7_2_mbox_conf_con (None, 4, 4, 12)     48          detection_conv7_2_mbox_conf_conv_\n",
            "__________________________________________________________________________________________________\n",
            "detection_conv8_2_mbox_conf_con (None, 2, 2, 8)      32          detection_conv8_2_mbox_conf_conv_\n",
            "__________________________________________________________________________________________________\n",
            "detection_conv9_2_mbox_conf_con (None, 1, 1, 8)      32          detection_conv9_2_mbox_conf_conv_\n",
            "__________________________________________________________________________________________________\n",
            "detection_conv4_3_norm_mbox_loc (None, 32, 32, 16)   8192        detection_conv4_3_norm_mbox_loc_c\n",
            "__________________________________________________________________________________________________\n",
            "detection_fc7_mbox_loc_conv_pw_ (None, 16, 16, 24)   24576       detection_fc7_mbox_loc_conv_dw_2_\n",
            "__________________________________________________________________________________________________\n",
            "detection_conv6_2_mbox_loc_conv (None, 8, 8, 24)     12288       detection_conv6_2_mbox_loc_conv_d\n",
            "__________________________________________________________________________________________________\n",
            "detection_conv7_2_mbox_loc_conv (None, 4, 4, 24)     6144        detection_conv7_2_mbox_loc_conv_d\n",
            "__________________________________________________________________________________________________\n",
            "detection_conv8_2_mbox_loc_conv (None, 2, 2, 16)     4096        detection_conv8_2_mbox_loc_conv_d\n",
            "__________________________________________________________________________________________________\n",
            "detection_conv9_2_mbox_loc_conv (None, 1, 1, 16)     4096        detection_conv9_2_mbox_loc_conv_d\n",
            "__________________________________________________________________________________________________\n",
            "detection_conv4_3_norm_mbox_con (None, 32, 32, 8)    0           detection_conv4_3_norm_mbox_conf_\n",
            "__________________________________________________________________________________________________\n",
            "detection_fc7_mbox_conf_conv_pw (None, 16, 16, 12)   0           detection_fc7_mbox_conf_conv_pw_2\n",
            "__________________________________________________________________________________________________\n",
            "detection_conv6_2_mbox_conf_con (None, 8, 8, 12)     0           detection_conv6_2_mbox_conf_conv_\n",
            "__________________________________________________________________________________________________\n",
            "detection_conv7_2_mbox_conf_con (None, 4, 4, 12)     0           detection_conv7_2_mbox_conf_conv_\n",
            "__________________________________________________________________________________________________\n",
            "detection_conv8_2_mbox_conf_con (None, 2, 2, 8)      0           detection_conv8_2_mbox_conf_conv_\n",
            "__________________________________________________________________________________________________\n",
            "detection_conv9_2_mbox_conf_con (None, 1, 1, 8)      0           detection_conv9_2_mbox_conf_conv_\n",
            "__________________________________________________________________________________________________\n",
            "detection_conv4_3_norm_mbox_loc (None, 32, 32, 16)   64          detection_conv4_3_norm_mbox_loc_c\n",
            "__________________________________________________________________________________________________\n",
            "detection_fc7_mbox_loc_conv_pw_ (None, 16, 16, 24)   96          detection_fc7_mbox_loc_conv_pw_2[\n",
            "__________________________________________________________________________________________________\n",
            "detection_conv6_2_mbox_loc_conv (None, 8, 8, 24)     96          detection_conv6_2_mbox_loc_conv_p\n",
            "__________________________________________________________________________________________________\n",
            "detection_conv7_2_mbox_loc_conv (None, 4, 4, 24)     96          detection_conv7_2_mbox_loc_conv_p\n",
            "__________________________________________________________________________________________________\n",
            "detection_conv8_2_mbox_loc_conv (None, 2, 2, 16)     64          detection_conv8_2_mbox_loc_conv_p\n",
            "__________________________________________________________________________________________________\n",
            "detection_conv9_2_mbox_loc_conv (None, 1, 1, 16)     64          detection_conv9_2_mbox_loc_conv_p\n",
            "__________________________________________________________________________________________________\n",
            "detection_conv4_3_norm_mbox_con (None, 4096, 2)      0           detection_conv4_3_norm_mbox_conf_\n",
            "__________________________________________________________________________________________________\n",
            "detection_fc7_mbox_conf_reshape (None, 1536, 2)      0           detection_fc7_mbox_conf_conv_pw_2\n",
            "__________________________________________________________________________________________________\n",
            "detection_conv6_2_mbox_conf_res (None, 384, 2)       0           detection_conv6_2_mbox_conf_conv_\n",
            "__________________________________________________________________________________________________\n",
            "detection_conv7_2_mbox_conf_res (None, 96, 2)        0           detection_conv7_2_mbox_conf_conv_\n",
            "__________________________________________________________________________________________________\n",
            "detection_conv8_2_mbox_conf_res (None, 16, 2)        0           detection_conv8_2_mbox_conf_conv_\n",
            "__________________________________________________________________________________________________\n",
            "detection_conv9_2_mbox_conf_res (None, 4, 2)         0           detection_conv9_2_mbox_conf_conv_\n",
            "__________________________________________________________________________________________________\n",
            "detection_conv4_3_norm_mbox_loc (None, 32, 32, 16)   0           detection_conv4_3_norm_mbox_loc_c\n",
            "__________________________________________________________________________________________________\n",
            "detection_fc7_mbox_loc_conv_pw_ (None, 16, 16, 24)   0           detection_fc7_mbox_loc_conv_pw_2_\n",
            "__________________________________________________________________________________________________\n",
            "detection_conv6_2_mbox_loc_conv (None, 8, 8, 24)     0           detection_conv6_2_mbox_loc_conv_p\n",
            "__________________________________________________________________________________________________\n",
            "detection_conv7_2_mbox_loc_conv (None, 4, 4, 24)     0           detection_conv7_2_mbox_loc_conv_p\n",
            "__________________________________________________________________________________________________\n",
            "detection_conv8_2_mbox_loc_conv (None, 2, 2, 16)     0           detection_conv8_2_mbox_loc_conv_p\n",
            "__________________________________________________________________________________________________\n",
            "detection_conv9_2_mbox_loc_conv (None, 1, 1, 16)     0           detection_conv9_2_mbox_loc_conv_p\n",
            "__________________________________________________________________________________________________\n",
            "detection_conv4_3_norm_mbox_pri (None, 32, 32, 4, 8) 0           detection_conv4_3_norm[0][0]     \n",
            "__________________________________________________________________________________________________\n",
            "detection_fc7_mbox_priorbox (An (None, 16, 16, 6, 8) 0           conv_pw_13_relu[0][0]            \n",
            "__________________________________________________________________________________________________\n",
            "detection_conv6_2_mbox_priorbox (None, 8, 8, 6, 8)   0           detection_conv6_2_conv_pw_1_relu[\n",
            "__________________________________________________________________________________________________\n",
            "detection_conv7_2_mbox_priorbox (None, 4, 4, 6, 8)   0           detection_conv7_2_conv_pw_2_relu[\n",
            "__________________________________________________________________________________________________\n",
            "detection_conv8_2_mbox_priorbox (None, 2, 2, 4, 8)   0           detection_conv8_2_conv_pw_3_relu[\n",
            "__________________________________________________________________________________________________\n",
            "detection_conv9_2_mbox_priorbox (None, 1, 1, 4, 8)   0           detection_conv9_2_conv_pw_4_relu[\n",
            "__________________________________________________________________________________________________\n",
            "detection_mbox_conf (Concatenat (None, 6132, 2)      0           detection_conv4_3_norm_mbox_conf_\n",
            "                                                                 detection_fc7_mbox_conf_reshape[0\n",
            "                                                                 detection_conv6_2_mbox_conf_resha\n",
            "                                                                 detection_conv7_2_mbox_conf_resha\n",
            "                                                                 detection_conv8_2_mbox_conf_resha\n",
            "                                                                 detection_conv9_2_mbox_conf_resha\n",
            "__________________________________________________________________________________________________\n",
            "detection_conv4_3_norm_mbox_loc (None, 4096, 4)      0           detection_conv4_3_norm_mbox_loc_c\n",
            "__________________________________________________________________________________________________\n",
            "detection_fc7_mbox_loc_reshape  (None, 1536, 4)      0           detection_fc7_mbox_loc_conv_pw_2_\n",
            "__________________________________________________________________________________________________\n",
            "detection_conv6_2_mbox_loc_resh (None, 384, 4)       0           detection_conv6_2_mbox_loc_conv_p\n",
            "__________________________________________________________________________________________________\n",
            "detection_conv7_2_mbox_loc_resh (None, 96, 4)        0           detection_conv7_2_mbox_loc_conv_p\n",
            "__________________________________________________________________________________________________\n",
            "detection_conv8_2_mbox_loc_resh (None, 16, 4)        0           detection_conv8_2_mbox_loc_conv_p\n",
            "__________________________________________________________________________________________________\n",
            "detection_conv9_2_mbox_loc_resh (None, 4, 4)         0           detection_conv9_2_mbox_loc_conv_p\n",
            "__________________________________________________________________________________________________\n",
            "detection_conv4_3_norm_mbox_pri (None, 4096, 8)      0           detection_conv4_3_norm_mbox_prior\n",
            "__________________________________________________________________________________________________\n",
            "detection_fc7_mbox_priorbox_res (None, 1536, 8)      0           detection_fc7_mbox_priorbox[0][0]\n",
            "__________________________________________________________________________________________________\n",
            "detection_conv6_2_mbox_priorbox (None, 384, 8)       0           detection_conv6_2_mbox_priorbox[0\n",
            "__________________________________________________________________________________________________\n",
            "detection_conv7_2_mbox_priorbox (None, 96, 8)        0           detection_conv7_2_mbox_priorbox[0\n",
            "__________________________________________________________________________________________________\n",
            "detection_conv8_2_mbox_priorbox (None, 16, 8)        0           detection_conv8_2_mbox_priorbox[0\n",
            "__________________________________________________________________________________________________\n",
            "detection_conv9_2_mbox_priorbox (None, 4, 8)         0           detection_conv9_2_mbox_priorbox[0\n",
            "__________________________________________________________________________________________________\n",
            "detection_mbox_conf_softmax (Ac (None, 6132, 2)      0           detection_mbox_conf[0][0]        \n",
            "__________________________________________________________________________________________________\n",
            "detection_mbox_loc (Concatenate (None, 6132, 4)      0           detection_conv4_3_norm_mbox_loc_r\n",
            "                                                                 detection_fc7_mbox_loc_reshape[0]\n",
            "                                                                 detection_conv6_2_mbox_loc_reshap\n",
            "                                                                 detection_conv7_2_mbox_loc_reshap\n",
            "                                                                 detection_conv8_2_mbox_loc_reshap\n",
            "                                                                 detection_conv9_2_mbox_loc_reshap\n",
            "__________________________________________________________________________________________________\n",
            "detection_mbox_priorbox (Concat (None, 6132, 8)      0           detection_conv4_3_norm_mbox_prior\n",
            "                                                                 detection_fc7_mbox_priorbox_resha\n",
            "                                                                 detection_conv6_2_mbox_priorbox_r\n",
            "                                                                 detection_conv7_2_mbox_priorbox_r\n",
            "                                                                 detection_conv8_2_mbox_priorbox_r\n",
            "                                                                 detection_conv9_2_mbox_priorbox_r\n",
            "__________________________________________________________________________________________________\n",
            "detection_predictions (Concaten (None, 6132, 14)     0           detection_mbox_conf_softmax[0][0]\n",
            "                                                                 detection_mbox_loc[0][0]         \n",
            "                                                                 detection_mbox_priorbox[0][0]    \n",
            "==================================================================================================\n",
            "Total params: 3,997,712\n",
            "Trainable params: 3,959,336\n",
            "Non-trainable params: 38,376\n",
            "__________________________________________________________________________________________________\n"
          ],
          "name": "stdout"
        }
      ]
    },
    {
      "cell_type": "code",
      "metadata": {
        "id": "T5O4x-0JGaR6",
        "colab_type": "code",
        "outputId": "f5c080e2-3eee-4ef0-e1db-bd3a22e21501",
        "colab": {
          "base_uri": "https://localhost:8080/",
          "height": 50
        }
      },
      "source": [
        "print (\"Freezing classification layers\")\n",
        "#Freeze layers\n",
        "for layer_key in model_layer:\n",
        "  if('detection'  not in layer_key): #prefix detection to freeze layers which does not have detection\n",
        "    model_layer[layer_key].trainable = False\n",
        "print (colored(\"classification layers freezed\", 'green'))"
      ],
      "execution_count": 0,
      "outputs": [
        {
          "output_type": "stream",
          "text": [
            "Freezing classification layers\n",
            "\u001b[32mclassification layers freezed\u001b[0m\n"
          ],
          "name": "stdout"
        }
      ]
    },
    {
      "cell_type": "code",
      "metadata": {
        "id": "9cVoYRJFGecm",
        "colab_type": "code",
        "outputId": "8379fa7b-9d6d-45fa-8767-cb11b5831750",
        "colab": {
          "base_uri": "https://localhost:8080/",
          "height": 1000
        }
      },
      "source": [
        "model.summary()"
      ],
      "execution_count": 0,
      "outputs": [
        {
          "output_type": "stream",
          "text": [
            "__________________________________________________________________________________________________\n",
            "Layer (type)                    Output Shape         Param #     Connected to                     \n",
            "==================================================================================================\n",
            "input_1 (InputLayer)            (None, 512, 512, 3)  0                                            \n",
            "__________________________________________________________________________________________________\n",
            "lambda1 (Lambda)                (None, 512, 512, 3)  0           input_1[0][0]                    \n",
            "__________________________________________________________________________________________________\n",
            "lambda2 (Lambda)                (None, 512, 512, 3)  0           lambda1[0][0]                    \n",
            "__________________________________________________________________________________________________\n",
            "lambda3 (Lambda)                (None, 512, 512, 3)  0           lambda2[0][0]                    \n",
            "__________________________________________________________________________________________________\n",
            "conv1 (Conv2D)                  (None, 256, 256, 32) 864         lambda3[0][0]                    \n",
            "__________________________________________________________________________________________________\n",
            "conv1_bn (BatchNormalization)   (None, 256, 256, 32) 128         conv1[0][0]                      \n",
            "__________________________________________________________________________________________________\n",
            "conv1_relu (Activation)         (None, 256, 256, 32) 0           conv1_bn[0][0]                   \n",
            "__________________________________________________________________________________________________\n",
            "conv_dw_1 (DepthwiseConv2D)     (None, 256, 256, 32) 288         conv1_relu[0][0]                 \n",
            "__________________________________________________________________________________________________\n",
            "conv_dw_1_bn (BatchNormalizatio (None, 256, 256, 32) 128         conv_dw_1[0][0]                  \n",
            "__________________________________________________________________________________________________\n",
            "conv_dw_1_relu (Activation)     (None, 256, 256, 32) 0           conv_dw_1_bn[0][0]               \n",
            "__________________________________________________________________________________________________\n",
            "conv_pw_1 (Conv2D)              (None, 256, 256, 64) 2048        conv_dw_1_relu[0][0]             \n",
            "__________________________________________________________________________________________________\n",
            "conv_pw_1_bn (BatchNormalizatio (None, 256, 256, 64) 256         conv_pw_1[0][0]                  \n",
            "__________________________________________________________________________________________________\n",
            "conv_pw_1_relu (Activation)     (None, 256, 256, 64) 0           conv_pw_1_bn[0][0]               \n",
            "__________________________________________________________________________________________________\n",
            "conv_dw_2 (DepthwiseConv2D)     (None, 128, 128, 64) 576         conv_pw_1_relu[0][0]             \n",
            "__________________________________________________________________________________________________\n",
            "conv_dw_2_bn (BatchNormalizatio (None, 128, 128, 64) 256         conv_dw_2[0][0]                  \n",
            "__________________________________________________________________________________________________\n",
            "conv_dw_2_relu (Activation)     (None, 128, 128, 64) 0           conv_dw_2_bn[0][0]               \n",
            "__________________________________________________________________________________________________\n",
            "conv_pw_2 (Conv2D)              (None, 128, 128, 128 8192        conv_dw_2_relu[0][0]             \n",
            "__________________________________________________________________________________________________\n",
            "conv_pw_2_bn (BatchNormalizatio (None, 128, 128, 128 512         conv_pw_2[0][0]                  \n",
            "__________________________________________________________________________________________________\n",
            "conv_pw_2_relu (Activation)     (None, 128, 128, 128 0           conv_pw_2_bn[0][0]               \n",
            "__________________________________________________________________________________________________\n",
            "conv_dw_3 (DepthwiseConv2D)     (None, 128, 128, 128 1152        conv_pw_2_relu[0][0]             \n",
            "__________________________________________________________________________________________________\n",
            "conv_dw_3_bn (BatchNormalizatio (None, 128, 128, 128 512         conv_dw_3[0][0]                  \n",
            "__________________________________________________________________________________________________\n",
            "conv_dw_3_relu (Activation)     (None, 128, 128, 128 0           conv_dw_3_bn[0][0]               \n",
            "__________________________________________________________________________________________________\n",
            "conv_pw_3 (Conv2D)              (None, 128, 128, 128 16384       conv_dw_3_relu[0][0]             \n",
            "__________________________________________________________________________________________________\n",
            "conv_pw_3_bn (BatchNormalizatio (None, 128, 128, 128 512         conv_pw_3[0][0]                  \n",
            "__________________________________________________________________________________________________\n",
            "conv_pw_3_relu (Activation)     (None, 128, 128, 128 0           conv_pw_3_bn[0][0]               \n",
            "__________________________________________________________________________________________________\n",
            "conv_dw_4 (DepthwiseConv2D)     (None, 64, 64, 128)  1152        conv_pw_3_relu[0][0]             \n",
            "__________________________________________________________________________________________________\n",
            "conv_dw_4_bn (BatchNormalizatio (None, 64, 64, 128)  512         conv_dw_4[0][0]                  \n",
            "__________________________________________________________________________________________________\n",
            "conv_dw_4_relu (Activation)     (None, 64, 64, 128)  0           conv_dw_4_bn[0][0]               \n",
            "__________________________________________________________________________________________________\n",
            "conv_pw_4 (Conv2D)              (None, 64, 64, 256)  32768       conv_dw_4_relu[0][0]             \n",
            "__________________________________________________________________________________________________\n",
            "conv_pw_4_bn (BatchNormalizatio (None, 64, 64, 256)  1024        conv_pw_4[0][0]                  \n",
            "__________________________________________________________________________________________________\n",
            "conv_pw_4_relu (Activation)     (None, 64, 64, 256)  0           conv_pw_4_bn[0][0]               \n",
            "__________________________________________________________________________________________________\n",
            "conv_dw_5 (DepthwiseConv2D)     (None, 64, 64, 256)  2304        conv_pw_4_relu[0][0]             \n",
            "__________________________________________________________________________________________________\n",
            "conv_dw_5_bn (BatchNormalizatio (None, 64, 64, 256)  1024        conv_dw_5[0][0]                  \n",
            "__________________________________________________________________________________________________\n",
            "conv_dw_5_relu (Activation)     (None, 64, 64, 256)  0           conv_dw_5_bn[0][0]               \n",
            "__________________________________________________________________________________________________\n",
            "conv_pw_5 (Conv2D)              (None, 64, 64, 256)  65536       conv_dw_5_relu[0][0]             \n",
            "__________________________________________________________________________________________________\n",
            "conv_pw_5_bn (BatchNormalizatio (None, 64, 64, 256)  1024        conv_pw_5[0][0]                  \n",
            "__________________________________________________________________________________________________\n",
            "conv_pw_5_relu (Activation)     (None, 64, 64, 256)  0           conv_pw_5_bn[0][0]               \n",
            "__________________________________________________________________________________________________\n",
            "conv_dw_6 (DepthwiseConv2D)     (None, 32, 32, 256)  2304        conv_pw_5_relu[0][0]             \n",
            "__________________________________________________________________________________________________\n",
            "conv_dw_6_bn (BatchNormalizatio (None, 32, 32, 256)  1024        conv_dw_6[0][0]                  \n",
            "__________________________________________________________________________________________________\n",
            "conv_dw_6_relu (Activation)     (None, 32, 32, 256)  0           conv_dw_6_bn[0][0]               \n",
            "__________________________________________________________________________________________________\n",
            "conv_pw_6 (Conv2D)              (None, 32, 32, 512)  131072      conv_dw_6_relu[0][0]             \n",
            "__________________________________________________________________________________________________\n",
            "conv_pw_6_bn (BatchNormalizatio (None, 32, 32, 512)  2048        conv_pw_6[0][0]                  \n",
            "__________________________________________________________________________________________________\n",
            "conv_pw_6_relu (Activation)     (None, 32, 32, 512)  0           conv_pw_6_bn[0][0]               \n",
            "__________________________________________________________________________________________________\n",
            "conv_dw_7 (DepthwiseConv2D)     (None, 32, 32, 512)  4608        conv_pw_6_relu[0][0]             \n",
            "__________________________________________________________________________________________________\n",
            "conv_dw_7_bn (BatchNormalizatio (None, 32, 32, 512)  2048        conv_dw_7[0][0]                  \n",
            "__________________________________________________________________________________________________\n",
            "conv_dw_7_relu (Activation)     (None, 32, 32, 512)  0           conv_dw_7_bn[0][0]               \n",
            "__________________________________________________________________________________________________\n",
            "conv_pw_7 (Conv2D)              (None, 32, 32, 512)  262144      conv_dw_7_relu[0][0]             \n",
            "__________________________________________________________________________________________________\n",
            "conv_pw_7_bn (BatchNormalizatio (None, 32, 32, 512)  2048        conv_pw_7[0][0]                  \n",
            "__________________________________________________________________________________________________\n",
            "conv_pw_7_relu (Activation)     (None, 32, 32, 512)  0           conv_pw_7_bn[0][0]               \n",
            "__________________________________________________________________________________________________\n",
            "conv_dw_8 (DepthwiseConv2D)     (None, 32, 32, 512)  4608        conv_pw_7_relu[0][0]             \n",
            "__________________________________________________________________________________________________\n",
            "conv_dw_8_bn (BatchNormalizatio (None, 32, 32, 512)  2048        conv_dw_8[0][0]                  \n",
            "__________________________________________________________________________________________________\n",
            "conv_dw_8_relu (Activation)     (None, 32, 32, 512)  0           conv_dw_8_bn[0][0]               \n",
            "__________________________________________________________________________________________________\n",
            "conv_pw_8 (Conv2D)              (None, 32, 32, 512)  262144      conv_dw_8_relu[0][0]             \n",
            "__________________________________________________________________________________________________\n",
            "conv_pw_8_bn (BatchNormalizatio (None, 32, 32, 512)  2048        conv_pw_8[0][0]                  \n",
            "__________________________________________________________________________________________________\n",
            "conv_pw_8_relu (Activation)     (None, 32, 32, 512)  0           conv_pw_8_bn[0][0]               \n",
            "__________________________________________________________________________________________________\n",
            "conv_dw_9 (DepthwiseConv2D)     (None, 32, 32, 512)  4608        conv_pw_8_relu[0][0]             \n",
            "__________________________________________________________________________________________________\n",
            "conv_dw_9_bn (BatchNormalizatio (None, 32, 32, 512)  2048        conv_dw_9[0][0]                  \n",
            "__________________________________________________________________________________________________\n",
            "conv_dw_9_relu (Activation)     (None, 32, 32, 512)  0           conv_dw_9_bn[0][0]               \n",
            "__________________________________________________________________________________________________\n",
            "conv_pw_9 (Conv2D)              (None, 32, 32, 512)  262144      conv_dw_9_relu[0][0]             \n",
            "__________________________________________________________________________________________________\n",
            "conv_pw_9_bn (BatchNormalizatio (None, 32, 32, 512)  2048        conv_pw_9[0][0]                  \n",
            "__________________________________________________________________________________________________\n",
            "conv_pw_9_relu (Activation)     (None, 32, 32, 512)  0           conv_pw_9_bn[0][0]               \n",
            "__________________________________________________________________________________________________\n",
            "conv_dw_10 (DepthwiseConv2D)    (None, 32, 32, 512)  4608        conv_pw_9_relu[0][0]             \n",
            "__________________________________________________________________________________________________\n",
            "conv_dw_10_bn (BatchNormalizati (None, 32, 32, 512)  2048        conv_dw_10[0][0]                 \n",
            "__________________________________________________________________________________________________\n",
            "conv_dw_10_relu (Activation)    (None, 32, 32, 512)  0           conv_dw_10_bn[0][0]              \n",
            "__________________________________________________________________________________________________\n",
            "conv_pw_10 (Conv2D)             (None, 32, 32, 512)  262144      conv_dw_10_relu[0][0]            \n",
            "__________________________________________________________________________________________________\n",
            "conv_pw_10_bn (BatchNormalizati (None, 32, 32, 512)  2048        conv_pw_10[0][0]                 \n",
            "__________________________________________________________________________________________________\n",
            "conv_pw_10_relu (Activation)    (None, 32, 32, 512)  0           conv_pw_10_bn[0][0]              \n",
            "__________________________________________________________________________________________________\n",
            "conv_dw_11 (DepthwiseConv2D)    (None, 32, 32, 512)  4608        conv_pw_10_relu[0][0]            \n",
            "__________________________________________________________________________________________________\n",
            "conv_dw_11_bn (BatchNormalizati (None, 32, 32, 512)  2048        conv_dw_11[0][0]                 \n",
            "__________________________________________________________________________________________________\n",
            "conv_dw_11_relu (Activation)    (None, 32, 32, 512)  0           conv_dw_11_bn[0][0]              \n",
            "__________________________________________________________________________________________________\n",
            "conv_pw_11 (Conv2D)             (None, 32, 32, 512)  262144      conv_dw_11_relu[0][0]            \n",
            "__________________________________________________________________________________________________\n",
            "conv_pw_11_bn (BatchNormalizati (None, 32, 32, 512)  2048        conv_pw_11[0][0]                 \n",
            "__________________________________________________________________________________________________\n",
            "conv_pw_11_relu (Activation)    (None, 32, 32, 512)  0           conv_pw_11_bn[0][0]              \n",
            "__________________________________________________________________________________________________\n",
            "conv_dw_12 (DepthwiseConv2D)    (None, 16, 16, 512)  4608        conv_pw_11_relu[0][0]            \n",
            "__________________________________________________________________________________________________\n",
            "conv_dw_12_bn (BatchNormalizati (None, 16, 16, 512)  2048        conv_dw_12[0][0]                 \n",
            "__________________________________________________________________________________________________\n",
            "conv_dw_12_relu (Activation)    (None, 16, 16, 512)  0           conv_dw_12_bn[0][0]              \n",
            "__________________________________________________________________________________________________\n",
            "conv_pw_12 (Conv2D)             (None, 16, 16, 1024) 524288      conv_dw_12_relu[0][0]            \n",
            "__________________________________________________________________________________________________\n",
            "conv_pw_12_bn (BatchNormalizati (None, 16, 16, 1024) 4096        conv_pw_12[0][0]                 \n",
            "__________________________________________________________________________________________________\n",
            "conv_pw_12_relu (Activation)    (None, 16, 16, 1024) 0           conv_pw_12_bn[0][0]              \n",
            "__________________________________________________________________________________________________\n",
            "conv_dw_13 (DepthwiseConv2D)    (None, 16, 16, 1024) 9216        conv_pw_12_relu[0][0]            \n",
            "__________________________________________________________________________________________________\n",
            "conv_dw_13_bn (BatchNormalizati (None, 16, 16, 1024) 4096        conv_dw_13[0][0]                 \n",
            "__________________________________________________________________________________________________\n",
            "conv_dw_13_relu (Activation)    (None, 16, 16, 1024) 0           conv_dw_13_bn[0][0]              \n",
            "__________________________________________________________________________________________________\n",
            "conv_pw_13 (Conv2D)             (None, 16, 16, 1024) 1048576     conv_dw_13_relu[0][0]            \n",
            "__________________________________________________________________________________________________\n",
            "conv_pw_13_bn (BatchNormalizati (None, 16, 16, 1024) 4096        conv_pw_13[0][0]                 \n",
            "__________________________________________________________________________________________________\n",
            "conv_pw_13_relu (Activation)    (None, 16, 16, 1024) 0           conv_pw_13_bn[0][0]              \n",
            "__________________________________________________________________________________________________\n",
            "detection_conv6_1 (Conv2D)      (None, 16, 16, 256)  262400      conv_pw_13_relu[0][0]            \n",
            "__________________________________________________________________________________________________\n",
            "detection_conv6_1_bn (BatchNorm (None, 16, 16, 256)  1024        detection_conv6_1[0][0]          \n",
            "__________________________________________________________________________________________________\n",
            "detection_conv6_1_nonlin (Lambd (None, 16, 16, 256)  0           detection_conv6_1_bn[0][0]       \n",
            "__________________________________________________________________________________________________\n",
            "detection_conv6_2_conv_dw_1 (De (None, 8, 8, 256)    2304        detection_conv6_1_nonlin[0][0]   \n",
            "__________________________________________________________________________________________________\n",
            "detection_conv6_2_conv_dw_1_bn  (None, 8, 8, 256)    1024        detection_conv6_2_conv_dw_1[0][0]\n",
            "__________________________________________________________________________________________________\n",
            "detection_conv6_2_conv_dw_1_rel (None, 8, 8, 256)    0           detection_conv6_2_conv_dw_1_bn[0]\n",
            "__________________________________________________________________________________________________\n",
            "detection_conv6_2_conv_pw_1 (Co (None, 8, 8, 512)    131072      detection_conv6_2_conv_dw_1_relu[\n",
            "__________________________________________________________________________________________________\n",
            "detection_conv6_2_conv_pw_1_bn  (None, 8, 8, 512)    2048        detection_conv6_2_conv_pw_1[0][0]\n",
            "__________________________________________________________________________________________________\n",
            "detection_conv6_2_conv_pw_1_rel (None, 8, 8, 512)    0           detection_conv6_2_conv_pw_1_bn[0]\n",
            "__________________________________________________________________________________________________\n",
            "detection_conv7_1 (Conv2D)      (None, 8, 8, 128)    65664       detection_conv6_2_conv_pw_1_relu[\n",
            "__________________________________________________________________________________________________\n",
            "detection_conv7_1_bn (BatchNorm (None, 8, 8, 128)    512         detection_conv7_1[0][0]          \n",
            "__________________________________________________________________________________________________\n",
            "detection_conv7_1_nonlin (Lambd (None, 8, 8, 128)    0           detection_conv7_1_bn[0][0]       \n",
            "__________________________________________________________________________________________________\n",
            "detection_conv7_2_conv_dw_2 (De (None, 4, 4, 128)    1152        detection_conv7_1_nonlin[0][0]   \n",
            "__________________________________________________________________________________________________\n",
            "detection_conv7_2_conv_dw_2_bn  (None, 4, 4, 128)    512         detection_conv7_2_conv_dw_2[0][0]\n",
            "__________________________________________________________________________________________________\n",
            "detection_conv7_2_conv_dw_2_rel (None, 4, 4, 128)    0           detection_conv7_2_conv_dw_2_bn[0]\n",
            "__________________________________________________________________________________________________\n",
            "detection_conv7_2_conv_pw_2 (Co (None, 4, 4, 256)    32768       detection_conv7_2_conv_dw_2_relu[\n",
            "__________________________________________________________________________________________________\n",
            "detection_conv7_2_conv_pw_2_bn  (None, 4, 4, 256)    1024        detection_conv7_2_conv_pw_2[0][0]\n",
            "__________________________________________________________________________________________________\n",
            "detection_conv7_2_conv_pw_2_rel (None, 4, 4, 256)    0           detection_conv7_2_conv_pw_2_bn[0]\n",
            "__________________________________________________________________________________________________\n",
            "detection_conv8_1 (Conv2D)      (None, 4, 4, 128)    32896       detection_conv7_2_conv_pw_2_relu[\n",
            "__________________________________________________________________________________________________\n",
            "detection_conv8_1_bn (BatchNorm (None, 4, 4, 128)    512         detection_conv8_1[0][0]          \n",
            "__________________________________________________________________________________________________\n",
            "detection_conv8_1_nonlin (Lambd (None, 4, 4, 128)    0           detection_conv8_1_bn[0][0]       \n",
            "__________________________________________________________________________________________________\n",
            "detection_conv8_2_conv_dw_3 (De (None, 2, 2, 128)    1152        detection_conv8_1_nonlin[0][0]   \n",
            "__________________________________________________________________________________________________\n",
            "detection_conv8_2_conv_dw_3_bn  (None, 2, 2, 128)    512         detection_conv8_2_conv_dw_3[0][0]\n",
            "__________________________________________________________________________________________________\n",
            "detection_conv8_2_conv_dw_3_rel (None, 2, 2, 128)    0           detection_conv8_2_conv_dw_3_bn[0]\n",
            "__________________________________________________________________________________________________\n",
            "detection_conv8_2_conv_pw_3 (Co (None, 2, 2, 256)    32768       detection_conv8_2_conv_dw_3_relu[\n",
            "__________________________________________________________________________________________________\n",
            "detection_conv8_2_conv_pw_3_bn  (None, 2, 2, 256)    1024        detection_conv8_2_conv_pw_3[0][0]\n",
            "__________________________________________________________________________________________________\n",
            "detection_conv8_2_conv_pw_3_rel (None, 2, 2, 256)    0           detection_conv8_2_conv_pw_3_bn[0]\n",
            "__________________________________________________________________________________________________\n",
            "detection_conv9_1 (Conv2D)      (None, 2, 2, 64)     16448       detection_conv8_2_conv_pw_3_relu[\n",
            "__________________________________________________________________________________________________\n",
            "detection_conv9_1_bn (BatchNorm (None, 2, 2, 64)     256         detection_conv9_1[0][0]          \n",
            "__________________________________________________________________________________________________\n",
            "detection_conv9_1_nonlin (Lambd (None, 2, 2, 64)     0           detection_conv9_1_bn[0][0]       \n",
            "__________________________________________________________________________________________________\n",
            "detection_conv9_2_conv_dw_4 (De (None, 1, 1, 64)     576         detection_conv9_1_nonlin[0][0]   \n",
            "__________________________________________________________________________________________________\n",
            "detection_conv9_2_conv_dw_4_bn  (None, 1, 1, 64)     256         detection_conv9_2_conv_dw_4[0][0]\n",
            "__________________________________________________________________________________________________\n",
            "detection_conv9_2_conv_dw_4_rel (None, 1, 1, 64)     0           detection_conv9_2_conv_dw_4_bn[0]\n",
            "__________________________________________________________________________________________________\n",
            "detection_conv9_2_conv_pw_4 (Co (None, 1, 1, 256)    16384       detection_conv9_2_conv_dw_4_relu[\n",
            "__________________________________________________________________________________________________\n",
            "detection_conv9_2_conv_pw_4_bn  (None, 1, 1, 256)    1024        detection_conv9_2_conv_pw_4[0][0]\n",
            "__________________________________________________________________________________________________\n",
            "detection_conv4_3_norm (L2Norma (None, 32, 32, 512)  512         conv_pw_11_relu[0][0]            \n",
            "__________________________________________________________________________________________________\n",
            "detection_conv9_2_conv_pw_4_rel (None, 1, 1, 256)    0           detection_conv9_2_conv_pw_4_bn[0]\n",
            "__________________________________________________________________________________________________\n",
            "detection_conv4_3_norm_mbox_con (None, 32, 32, 512)  4608        detection_conv4_3_norm[0][0]     \n",
            "__________________________________________________________________________________________________\n",
            "detection_fc7_mbox_conf_conv_dw (None, 16, 16, 1024) 9216        conv_pw_13_relu[0][0]            \n",
            "__________________________________________________________________________________________________\n",
            "detection_conv6_2_mbox_conf_con (None, 8, 8, 512)    4608        detection_conv6_2_conv_pw_1_relu[\n",
            "__________________________________________________________________________________________________\n",
            "detection_conv7_2_mbox_conf_con (None, 4, 4, 256)    2304        detection_conv7_2_conv_pw_2_relu[\n",
            "__________________________________________________________________________________________________\n",
            "detection_conv8_2_mbox_conf_con (None, 2, 2, 256)    2304        detection_conv8_2_conv_pw_3_relu[\n",
            "__________________________________________________________________________________________________\n",
            "detection_conv9_2_mbox_conf_con (None, 1, 1, 256)    2304        detection_conv9_2_conv_pw_4_relu[\n",
            "__________________________________________________________________________________________________\n",
            "detection_conv4_3_norm_mbox_con (None, 32, 32, 512)  2048        detection_conv4_3_norm_mbox_conf_\n",
            "__________________________________________________________________________________________________\n",
            "detection_fc7_mbox_conf_conv_dw (None, 16, 16, 1024) 4096        detection_fc7_mbox_conf_conv_dw_2\n",
            "__________________________________________________________________________________________________\n",
            "detection_conv6_2_mbox_conf_con (None, 8, 8, 512)    2048        detection_conv6_2_mbox_conf_conv_\n",
            "__________________________________________________________________________________________________\n",
            "detection_conv7_2_mbox_conf_con (None, 4, 4, 256)    1024        detection_conv7_2_mbox_conf_conv_\n",
            "__________________________________________________________________________________________________\n",
            "detection_conv8_2_mbox_conf_con (None, 2, 2, 256)    1024        detection_conv8_2_mbox_conf_conv_\n",
            "__________________________________________________________________________________________________\n",
            "detection_conv9_2_mbox_conf_con (None, 1, 1, 256)    1024        detection_conv9_2_mbox_conf_conv_\n",
            "__________________________________________________________________________________________________\n",
            "detection_conv4_3_norm_mbox_loc (None, 32, 32, 512)  4608        detection_conv4_3_norm[0][0]     \n",
            "__________________________________________________________________________________________________\n",
            "detection_fc7_mbox_loc_conv_dw_ (None, 16, 16, 1024) 9216        conv_pw_13_relu[0][0]            \n",
            "__________________________________________________________________________________________________\n",
            "detection_conv6_2_mbox_loc_conv (None, 8, 8, 512)    4608        detection_conv6_2_conv_pw_1_relu[\n",
            "__________________________________________________________________________________________________\n",
            "detection_conv7_2_mbox_loc_conv (None, 4, 4, 256)    2304        detection_conv7_2_conv_pw_2_relu[\n",
            "__________________________________________________________________________________________________\n",
            "detection_conv8_2_mbox_loc_conv (None, 2, 2, 256)    2304        detection_conv8_2_conv_pw_3_relu[\n",
            "__________________________________________________________________________________________________\n",
            "detection_conv9_2_mbox_loc_conv (None, 1, 1, 256)    2304        detection_conv9_2_conv_pw_4_relu[\n",
            "__________________________________________________________________________________________________\n",
            "detection_conv4_3_norm_mbox_con (None, 32, 32, 512)  0           detection_conv4_3_norm_mbox_conf_\n",
            "__________________________________________________________________________________________________\n",
            "detection_fc7_mbox_conf_conv_dw (None, 16, 16, 1024) 0           detection_fc7_mbox_conf_conv_dw_2\n",
            "__________________________________________________________________________________________________\n",
            "detection_conv6_2_mbox_conf_con (None, 8, 8, 512)    0           detection_conv6_2_mbox_conf_conv_\n",
            "__________________________________________________________________________________________________\n",
            "detection_conv7_2_mbox_conf_con (None, 4, 4, 256)    0           detection_conv7_2_mbox_conf_conv_\n",
            "__________________________________________________________________________________________________\n",
            "detection_conv8_2_mbox_conf_con (None, 2, 2, 256)    0           detection_conv8_2_mbox_conf_conv_\n",
            "__________________________________________________________________________________________________\n",
            "detection_conv9_2_mbox_conf_con (None, 1, 1, 256)    0           detection_conv9_2_mbox_conf_conv_\n",
            "__________________________________________________________________________________________________\n",
            "detection_conv4_3_norm_mbox_loc (None, 32, 32, 512)  2048        detection_conv4_3_norm_mbox_loc_c\n",
            "__________________________________________________________________________________________________\n",
            "detection_fc7_mbox_loc_conv_dw_ (None, 16, 16, 1024) 4096        detection_fc7_mbox_loc_conv_dw_2[\n",
            "__________________________________________________________________________________________________\n",
            "detection_conv6_2_mbox_loc_conv (None, 8, 8, 512)    2048        detection_conv6_2_mbox_loc_conv_d\n",
            "__________________________________________________________________________________________________\n",
            "detection_conv7_2_mbox_loc_conv (None, 4, 4, 256)    1024        detection_conv7_2_mbox_loc_conv_d\n",
            "__________________________________________________________________________________________________\n",
            "detection_conv8_2_mbox_loc_conv (None, 2, 2, 256)    1024        detection_conv8_2_mbox_loc_conv_d\n",
            "__________________________________________________________________________________________________\n",
            "detection_conv9_2_mbox_loc_conv (None, 1, 1, 256)    1024        detection_conv9_2_mbox_loc_conv_d\n",
            "__________________________________________________________________________________________________\n",
            "detection_conv4_3_norm_mbox_con (None, 32, 32, 8)    4096        detection_conv4_3_norm_mbox_conf_\n",
            "__________________________________________________________________________________________________\n",
            "detection_fc7_mbox_conf_conv_pw (None, 16, 16, 12)   12288       detection_fc7_mbox_conf_conv_dw_2\n",
            "__________________________________________________________________________________________________\n",
            "detection_conv6_2_mbox_conf_con (None, 8, 8, 12)     6144        detection_conv6_2_mbox_conf_conv_\n",
            "__________________________________________________________________________________________________\n",
            "detection_conv7_2_mbox_conf_con (None, 4, 4, 12)     3072        detection_conv7_2_mbox_conf_conv_\n",
            "__________________________________________________________________________________________________\n",
            "detection_conv8_2_mbox_conf_con (None, 2, 2, 8)      2048        detection_conv8_2_mbox_conf_conv_\n",
            "__________________________________________________________________________________________________\n",
            "detection_conv9_2_mbox_conf_con (None, 1, 1, 8)      2048        detection_conv9_2_mbox_conf_conv_\n",
            "__________________________________________________________________________________________________\n",
            "detection_conv4_3_norm_mbox_loc (None, 32, 32, 512)  0           detection_conv4_3_norm_mbox_loc_c\n",
            "__________________________________________________________________________________________________\n",
            "detection_fc7_mbox_loc_conv_dw_ (None, 16, 16, 1024) 0           detection_fc7_mbox_loc_conv_dw_2_\n",
            "__________________________________________________________________________________________________\n",
            "detection_conv6_2_mbox_loc_conv (None, 8, 8, 512)    0           detection_conv6_2_mbox_loc_conv_d\n",
            "__________________________________________________________________________________________________\n",
            "detection_conv7_2_mbox_loc_conv (None, 4, 4, 256)    0           detection_conv7_2_mbox_loc_conv_d\n",
            "__________________________________________________________________________________________________\n",
            "detection_conv8_2_mbox_loc_conv (None, 2, 2, 256)    0           detection_conv8_2_mbox_loc_conv_d\n",
            "__________________________________________________________________________________________________\n",
            "detection_conv9_2_mbox_loc_conv (None, 1, 1, 256)    0           detection_conv9_2_mbox_loc_conv_d\n",
            "__________________________________________________________________________________________________\n",
            "detection_conv4_3_norm_mbox_con (None, 32, 32, 8)    32          detection_conv4_3_norm_mbox_conf_\n",
            "__________________________________________________________________________________________________\n",
            "detection_fc7_mbox_conf_conv_pw (None, 16, 16, 12)   48          detection_fc7_mbox_conf_conv_pw_2\n",
            "__________________________________________________________________________________________________\n",
            "detection_conv6_2_mbox_conf_con (None, 8, 8, 12)     48          detection_conv6_2_mbox_conf_conv_\n",
            "__________________________________________________________________________________________________\n",
            "detection_conv7_2_mbox_conf_con (None, 4, 4, 12)     48          detection_conv7_2_mbox_conf_conv_\n",
            "__________________________________________________________________________________________________\n",
            "detection_conv8_2_mbox_conf_con (None, 2, 2, 8)      32          detection_conv8_2_mbox_conf_conv_\n",
            "__________________________________________________________________________________________________\n",
            "detection_conv9_2_mbox_conf_con (None, 1, 1, 8)      32          detection_conv9_2_mbox_conf_conv_\n",
            "__________________________________________________________________________________________________\n",
            "detection_conv4_3_norm_mbox_loc (None, 32, 32, 16)   8192        detection_conv4_3_norm_mbox_loc_c\n",
            "__________________________________________________________________________________________________\n",
            "detection_fc7_mbox_loc_conv_pw_ (None, 16, 16, 24)   24576       detection_fc7_mbox_loc_conv_dw_2_\n",
            "__________________________________________________________________________________________________\n",
            "detection_conv6_2_mbox_loc_conv (None, 8, 8, 24)     12288       detection_conv6_2_mbox_loc_conv_d\n",
            "__________________________________________________________________________________________________\n",
            "detection_conv7_2_mbox_loc_conv (None, 4, 4, 24)     6144        detection_conv7_2_mbox_loc_conv_d\n",
            "__________________________________________________________________________________________________\n",
            "detection_conv8_2_mbox_loc_conv (None, 2, 2, 16)     4096        detection_conv8_2_mbox_loc_conv_d\n",
            "__________________________________________________________________________________________________\n",
            "detection_conv9_2_mbox_loc_conv (None, 1, 1, 16)     4096        detection_conv9_2_mbox_loc_conv_d\n",
            "__________________________________________________________________________________________________\n",
            "detection_conv4_3_norm_mbox_con (None, 32, 32, 8)    0           detection_conv4_3_norm_mbox_conf_\n",
            "__________________________________________________________________________________________________\n",
            "detection_fc7_mbox_conf_conv_pw (None, 16, 16, 12)   0           detection_fc7_mbox_conf_conv_pw_2\n",
            "__________________________________________________________________________________________________\n",
            "detection_conv6_2_mbox_conf_con (None, 8, 8, 12)     0           detection_conv6_2_mbox_conf_conv_\n",
            "__________________________________________________________________________________________________\n",
            "detection_conv7_2_mbox_conf_con (None, 4, 4, 12)     0           detection_conv7_2_mbox_conf_conv_\n",
            "__________________________________________________________________________________________________\n",
            "detection_conv8_2_mbox_conf_con (None, 2, 2, 8)      0           detection_conv8_2_mbox_conf_conv_\n",
            "__________________________________________________________________________________________________\n",
            "detection_conv9_2_mbox_conf_con (None, 1, 1, 8)      0           detection_conv9_2_mbox_conf_conv_\n",
            "__________________________________________________________________________________________________\n",
            "detection_conv4_3_norm_mbox_loc (None, 32, 32, 16)   64          detection_conv4_3_norm_mbox_loc_c\n",
            "__________________________________________________________________________________________________\n",
            "detection_fc7_mbox_loc_conv_pw_ (None, 16, 16, 24)   96          detection_fc7_mbox_loc_conv_pw_2[\n",
            "__________________________________________________________________________________________________\n",
            "detection_conv6_2_mbox_loc_conv (None, 8, 8, 24)     96          detection_conv6_2_mbox_loc_conv_p\n",
            "__________________________________________________________________________________________________\n",
            "detection_conv7_2_mbox_loc_conv (None, 4, 4, 24)     96          detection_conv7_2_mbox_loc_conv_p\n",
            "__________________________________________________________________________________________________\n",
            "detection_conv8_2_mbox_loc_conv (None, 2, 2, 16)     64          detection_conv8_2_mbox_loc_conv_p\n",
            "__________________________________________________________________________________________________\n",
            "detection_conv9_2_mbox_loc_conv (None, 1, 1, 16)     64          detection_conv9_2_mbox_loc_conv_p\n",
            "__________________________________________________________________________________________________\n",
            "detection_conv4_3_norm_mbox_con (None, 4096, 2)      0           detection_conv4_3_norm_mbox_conf_\n",
            "__________________________________________________________________________________________________\n",
            "detection_fc7_mbox_conf_reshape (None, 1536, 2)      0           detection_fc7_mbox_conf_conv_pw_2\n",
            "__________________________________________________________________________________________________\n",
            "detection_conv6_2_mbox_conf_res (None, 384, 2)       0           detection_conv6_2_mbox_conf_conv_\n",
            "__________________________________________________________________________________________________\n",
            "detection_conv7_2_mbox_conf_res (None, 96, 2)        0           detection_conv7_2_mbox_conf_conv_\n",
            "__________________________________________________________________________________________________\n",
            "detection_conv8_2_mbox_conf_res (None, 16, 2)        0           detection_conv8_2_mbox_conf_conv_\n",
            "__________________________________________________________________________________________________\n",
            "detection_conv9_2_mbox_conf_res (None, 4, 2)         0           detection_conv9_2_mbox_conf_conv_\n",
            "__________________________________________________________________________________________________\n",
            "detection_conv4_3_norm_mbox_loc (None, 32, 32, 16)   0           detection_conv4_3_norm_mbox_loc_c\n",
            "__________________________________________________________________________________________________\n",
            "detection_fc7_mbox_loc_conv_pw_ (None, 16, 16, 24)   0           detection_fc7_mbox_loc_conv_pw_2_\n",
            "__________________________________________________________________________________________________\n",
            "detection_conv6_2_mbox_loc_conv (None, 8, 8, 24)     0           detection_conv6_2_mbox_loc_conv_p\n",
            "__________________________________________________________________________________________________\n",
            "detection_conv7_2_mbox_loc_conv (None, 4, 4, 24)     0           detection_conv7_2_mbox_loc_conv_p\n",
            "__________________________________________________________________________________________________\n",
            "detection_conv8_2_mbox_loc_conv (None, 2, 2, 16)     0           detection_conv8_2_mbox_loc_conv_p\n",
            "__________________________________________________________________________________________________\n",
            "detection_conv9_2_mbox_loc_conv (None, 1, 1, 16)     0           detection_conv9_2_mbox_loc_conv_p\n",
            "__________________________________________________________________________________________________\n",
            "detection_conv4_3_norm_mbox_pri (None, 32, 32, 4, 8) 0           detection_conv4_3_norm[0][0]     \n",
            "__________________________________________________________________________________________________\n",
            "detection_fc7_mbox_priorbox (An (None, 16, 16, 6, 8) 0           conv_pw_13_relu[0][0]            \n",
            "__________________________________________________________________________________________________\n",
            "detection_conv6_2_mbox_priorbox (None, 8, 8, 6, 8)   0           detection_conv6_2_conv_pw_1_relu[\n",
            "__________________________________________________________________________________________________\n",
            "detection_conv7_2_mbox_priorbox (None, 4, 4, 6, 8)   0           detection_conv7_2_conv_pw_2_relu[\n",
            "__________________________________________________________________________________________________\n",
            "detection_conv8_2_mbox_priorbox (None, 2, 2, 4, 8)   0           detection_conv8_2_conv_pw_3_relu[\n",
            "__________________________________________________________________________________________________\n",
            "detection_conv9_2_mbox_priorbox (None, 1, 1, 4, 8)   0           detection_conv9_2_conv_pw_4_relu[\n",
            "__________________________________________________________________________________________________\n",
            "detection_mbox_conf (Concatenat (None, 6132, 2)      0           detection_conv4_3_norm_mbox_conf_\n",
            "                                                                 detection_fc7_mbox_conf_reshape[0\n",
            "                                                                 detection_conv6_2_mbox_conf_resha\n",
            "                                                                 detection_conv7_2_mbox_conf_resha\n",
            "                                                                 detection_conv8_2_mbox_conf_resha\n",
            "                                                                 detection_conv9_2_mbox_conf_resha\n",
            "__________________________________________________________________________________________________\n",
            "detection_conv4_3_norm_mbox_loc (None, 4096, 4)      0           detection_conv4_3_norm_mbox_loc_c\n",
            "__________________________________________________________________________________________________\n",
            "detection_fc7_mbox_loc_reshape  (None, 1536, 4)      0           detection_fc7_mbox_loc_conv_pw_2_\n",
            "__________________________________________________________________________________________________\n",
            "detection_conv6_2_mbox_loc_resh (None, 384, 4)       0           detection_conv6_2_mbox_loc_conv_p\n",
            "__________________________________________________________________________________________________\n",
            "detection_conv7_2_mbox_loc_resh (None, 96, 4)        0           detection_conv7_2_mbox_loc_conv_p\n",
            "__________________________________________________________________________________________________\n",
            "detection_conv8_2_mbox_loc_resh (None, 16, 4)        0           detection_conv8_2_mbox_loc_conv_p\n",
            "__________________________________________________________________________________________________\n",
            "detection_conv9_2_mbox_loc_resh (None, 4, 4)         0           detection_conv9_2_mbox_loc_conv_p\n",
            "__________________________________________________________________________________________________\n",
            "detection_conv4_3_norm_mbox_pri (None, 4096, 8)      0           detection_conv4_3_norm_mbox_prior\n",
            "__________________________________________________________________________________________________\n",
            "detection_fc7_mbox_priorbox_res (None, 1536, 8)      0           detection_fc7_mbox_priorbox[0][0]\n",
            "__________________________________________________________________________________________________\n",
            "detection_conv6_2_mbox_priorbox (None, 384, 8)       0           detection_conv6_2_mbox_priorbox[0\n",
            "__________________________________________________________________________________________________\n",
            "detection_conv7_2_mbox_priorbox (None, 96, 8)        0           detection_conv7_2_mbox_priorbox[0\n",
            "__________________________________________________________________________________________________\n",
            "detection_conv8_2_mbox_priorbox (None, 16, 8)        0           detection_conv8_2_mbox_priorbox[0\n",
            "__________________________________________________________________________________________________\n",
            "detection_conv9_2_mbox_priorbox (None, 4, 8)         0           detection_conv9_2_mbox_priorbox[0\n",
            "__________________________________________________________________________________________________\n",
            "detection_mbox_conf_softmax (Ac (None, 6132, 2)      0           detection_mbox_conf[0][0]        \n",
            "__________________________________________________________________________________________________\n",
            "detection_mbox_loc (Concatenate (None, 6132, 4)      0           detection_conv4_3_norm_mbox_loc_r\n",
            "                                                                 detection_fc7_mbox_loc_reshape[0]\n",
            "                                                                 detection_conv6_2_mbox_loc_reshap\n",
            "                                                                 detection_conv7_2_mbox_loc_reshap\n",
            "                                                                 detection_conv8_2_mbox_loc_reshap\n",
            "                                                                 detection_conv9_2_mbox_loc_reshap\n",
            "__________________________________________________________________________________________________\n",
            "detection_mbox_priorbox (Concat (None, 6132, 8)      0           detection_conv4_3_norm_mbox_prior\n",
            "                                                                 detection_fc7_mbox_priorbox_resha\n",
            "                                                                 detection_conv6_2_mbox_priorbox_r\n",
            "                                                                 detection_conv7_2_mbox_priorbox_r\n",
            "                                                                 detection_conv8_2_mbox_priorbox_r\n",
            "                                                                 detection_conv9_2_mbox_priorbox_r\n",
            "__________________________________________________________________________________________________\n",
            "detection_predictions (Concaten (None, 6132, 14)     0           detection_mbox_conf_softmax[0][0]\n",
            "                                                                 detection_mbox_loc[0][0]         \n",
            "                                                                 detection_mbox_priorbox[0][0]    \n",
            "==================================================================================================\n",
            "Total params: 3,997,712\n",
            "Trainable params: 752,360\n",
            "Non-trainable params: 3,245,352\n",
            "__________________________________________________________________________________________________\n"
          ],
          "name": "stdout"
        }
      ]
    },
    {
      "cell_type": "markdown",
      "metadata": {
        "id": "n1IIGWM2c3x-",
        "colab_type": "text"
      },
      "source": [
        "### After making the model ready for transfer learning, load the weights of the model given in file ''`mobilenet_1_0_224_tf.h5`''"
      ]
    },
    {
      "cell_type": "code",
      "metadata": {
        "id": "lmCmRr2Rc2Sv",
        "colab_type": "code",
        "outputId": "a8c03eb7-e5b0-48eb-99e7-062d8a5315c4",
        "colab": {
          "base_uri": "https://localhost:8080/",
          "height": 50
        }
      },
      "source": [
        "print (\"loading classification weights\")\n",
        "classification_model = project_path+'mobilenet_1_0_224_tf.h5'\n",
        "model.load_weights(classification_model,  by_name= True)\n",
        "\n",
        "print (colored( ('classification weights %s loaded' % classification_model), 'green'))"
      ],
      "execution_count": 0,
      "outputs": [
        {
          "output_type": "stream",
          "text": [
            "loading classification weights\n",
            "\u001b[32mclassification weights /content/drive/My Drive/mobilenet_1_0_224_tf.h5 loaded\u001b[0m\n"
          ],
          "name": "stdout"
        }
      ]
    },
    {
      "cell_type": "markdown",
      "metadata": {
        "id": "73KNzDSCf6Rh",
        "colab_type": "text"
      },
      "source": [
        "#### Using the functions given in the model, we are trying to divide the dataset into train and validation samples. Run the below code."
      ]
    },
    {
      "cell_type": "code",
      "metadata": {
        "id": "4_pZEU8TfBoR",
        "colab_type": "code",
        "outputId": "4e131deb-b008-41f3-9bba-e655bb92ca50",
        "colab": {
          "base_uri": "https://localhost:8080/",
          "height": 218
        }
      },
      "source": [
        "batch_size = 32\n",
        "ssd_box_encoder = SSDBoxEncoder(img_height=img_height,\n",
        "                                img_width=img_width,\n",
        "                                n_classes=n_classes, \n",
        "                                predictor_sizes=predictor_sizes,\n",
        "                                min_scale=None,\n",
        "                                max_scale=None,\n",
        "                                scales=scales,\n",
        "                                aspect_ratios_global=None,\n",
        "                                aspect_ratios_per_layer=aspect_ratios,\n",
        "                                two_boxes_for_ar1=two_boxes_for_ar1,\n",
        "                                limit_boxes=limit_boxes,\n",
        "                                variances=variances,\n",
        "                                pos_iou_threshold=0.5,\n",
        "                                neg_iou_threshold=0.2,\n",
        "                                coords=coords,\n",
        "                                normalize_coords=normalize_coords)\n",
        "\n",
        "train_dataset = BatchGenerator(images_path=train_data, \n",
        "                include_classes='all', \n",
        "                box_output_format = ['class_id', 'xmin', 'xmax', 'ymin', 'ymax'])\n",
        "\n",
        "print (\"==>TRAINING DATA\")\n",
        "print (\"==> Parsing XML files ...\")\n",
        "\n",
        "train_dataset.parse_xml(\n",
        "                  annotations_path=train_data,\n",
        "                  image_set_path='None',\n",
        "                  image_set='None',\n",
        "                  classes = class_names, \n",
        "                  exclude_truncated=False,\n",
        "                  exclude_difficult=False,\n",
        "                  ret=False, \n",
        "                  debug = False)\n",
        "print(\"==>Parsing XML Finished.\")\n",
        "\n",
        "print (\"==>Generate training batches...\")\n",
        "train_generator = train_dataset.generate(\n",
        "                 batch_size=batch_size,\n",
        "                 train=True,\n",
        "                 ssd_box_encoder=ssd_box_encoder,\n",
        "                 equalize=True,\n",
        "                 brightness=(0.5,2,0.5),\n",
        "                 flip=0.5,\n",
        "                 translate=((0, 20), (0, 30), 0.5),\n",
        "                 scale=(0.75, 1.2, 0.5),\n",
        "                 crop=False,\n",
        "                 #random_crop = (img_height,img_width,1,3), \n",
        "                 random_crop=False,\n",
        "                 resize=(img_height, img_width),\n",
        "                 #resize=False,\n",
        "                 gray=False,\n",
        "                 limit_boxes=True,\n",
        "                 include_thresh=0.4,\n",
        "                 diagnostics=False)\n",
        "\n",
        "print (\"==>Training batch generation complete\")\n",
        "\n",
        "n_train_samples = train_dataset.get_n_samples()\n",
        "\n",
        "print (\"==>Total number of training samples = {}\".format(n_train_samples))\n",
        "\n",
        "# Now repeat above steps for validation data \n",
        "\n",
        "print (\"==>VALIDATION\")\n",
        "\n",
        "val_dataset = BatchGenerator(images_path=test_data, include_classes='all', \n",
        "                box_output_format = ['class_id', 'xmin', 'xmax', 'ymin', 'ymax'])\n",
        "\n",
        "print (\"==> Parsing XML files ...\")\n",
        "\n",
        "\n",
        "val_dataset.parse_xml(\n",
        "                  annotations_path=test_data,\n",
        "                  image_set_path='None',\n",
        "                  image_set='None',\n",
        "                  classes = class_names, \n",
        "                  exclude_truncated=False,\n",
        "                  exclude_difficult=False,\n",
        "                  ret=False, \n",
        "                  debug = False)\n",
        "\n",
        "\n",
        "print(\"==>Parsing XML Finished.\")\n",
        "\n",
        "\n",
        "print (\"==>Generate training batches...\")\n",
        "val_generator = val_dataset.generate(\n",
        "                 batch_size=batch_size,\n",
        "                 train=True,\n",
        "                 ssd_box_encoder=ssd_box_encoder,\n",
        "                 equalize=False,\n",
        "                 brightness=False,\n",
        "                 flip=False,\n",
        "                 translate=False,\n",
        "                 scale=False,\n",
        "                 crop=False,\n",
        "                 #random_crop = (img_height,img_width,1,3), \n",
        "                 random_crop=False, \n",
        "                 resize=(img_height, img_width), \n",
        "                 #resize=False, \n",
        "                 gray=False,\n",
        "                 limit_boxes=True,\n",
        "                 include_thresh=0.4,\n",
        "                 diagnostics=False)\n",
        "\n",
        "\n",
        "print (\"==>Training batch generation complete\")\n",
        "\n",
        "n_val_samples = val_dataset.get_n_samples()\n",
        "\n",
        "print (\"==>Total number of validation samples = {}\".format(n_val_samples))"
      ],
      "execution_count": 0,
      "outputs": [
        {
          "output_type": "stream",
          "text": [
            "==>TRAINING DATA\n",
            "==> Parsing XML files ...\n",
            "==>Parsing XML Finished.\n",
            "==>Generate training batches...\n",
            "==>Training batch generation complete\n",
            "==>Total number of training samples = 128\n",
            "==>VALIDATION\n",
            "==> Parsing XML files ...\n",
            "==>Parsing XML Finished.\n",
            "==>Generate training batches...\n",
            "==>Training batch generation complete\n",
            "==>Total number of validation samples = 60\n"
          ],
          "name": "stdout"
        }
      ]
    },
    {
      "cell_type": "markdown",
      "metadata": {
        "id": "4KtkdFTQhKlE",
        "colab_type": "text"
      },
      "source": [
        "### Now, lets setup things for training by initilaizing required variables like learning rate, epochs, optimizer and loss function(SSDLoss) to compile the model"
      ]
    },
    {
      "cell_type": "code",
      "metadata": {
        "id": "g1-3OOPmgmxk",
        "colab_type": "code",
        "colab": {}
      },
      "source": [
        "# setting up training \n",
        "\n",
        "# batch_size and no.of epochs\n",
        "\n",
        "batch_size = 16\n",
        "num_epochs = 10\n",
        "\n",
        "#Learning rate\n",
        "base_lr = 0.002\n",
        "\n",
        "# Optimizer\n",
        "adam = Adam(lr=base_lr, beta_1=0.9, beta_2=0.999, epsilon=1e-6, decay = 0.0)\n",
        "\n",
        "# Loss\n",
        "ssd_loss = SSDLoss(neg_pos_ratio=2, n_neg_min=0, alpha=1.0, beta = 1.0)\n",
        "\n",
        "# Compile\n",
        "model.compile(optimizer=adam, loss=ssd_loss.compute_loss)"
      ],
      "execution_count": 0,
      "outputs": []
    },
    {
      "cell_type": "markdown",
      "metadata": {
        "id": "vt_RxSHJitPR",
        "colab_type": "text"
      },
      "source": [
        "### Lets add early stopping and model checkpoint layers on validation loss with some patience values and using fit_generator function to train the model on data generated batch-by-batch by a Python generator, `train_generator` object as generator.\n",
        "\n",
        "\n",
        "We are using checkpoint to save the best model based on validation accuracy."
      ]
    },
    {
      "cell_type": "markdown",
      "metadata": {
        "id": "ugJ68M7_vDqy",
        "colab_type": "text"
      },
      "source": [
        "#### Write code for early_stopping and model_checkpoint layers. Using model.fit_generator train the model and save the best weight file."
      ]
    },
    {
      "cell_type": "code",
      "metadata": {
        "id": "EeO-T9jwi8be",
        "colab_type": "code",
        "colab": {}
      },
      "source": [
        "early_stopping = EarlyStopping(monitor='val_loss', min_delta=0.001, patience=100)\n",
        "model_checkpoint =  ModelCheckpoint(project_path + 'ssd_mobilenet_face_epoch_{epoch:02d}_loss{val_loss:.4f}.h5',\n",
        "                                                           monitor='val_loss',\n",
        "                                                           verbose=1,\n",
        "                                                           save_best_only=True,\n",
        "                                                           save_weights_only=True,\n",
        "                                                           mode='auto',\n",
        "                                                           period=1)\n"
      ],
      "execution_count": 0,
      "outputs": []
    },
    {
      "cell_type": "code",
      "metadata": {
        "id": "EOipjEphK2gv",
        "colab_type": "code",
        "outputId": "234854e9-1cf8-4df4-d6f5-067e5058ce96",
        "colab": {
          "base_uri": "https://localhost:8080/",
          "height": 689
        }
      },
      "source": [
        "history = model.fit_generator(generator = train_generator,\n",
        "                              steps_per_epoch = ceil(n_train_samples/batch_size)*2,\n",
        "                              epochs = 10,\n",
        "                              callbacks = [model_checkpoint,  early_stopping],                      \n",
        "                              validation_data = val_generator,\n",
        "                              validation_steps = ceil(n_val_samples/batch_size))\n",
        "\n",
        "#model.save_weights(project_path + \"/Weight/\" +  'ssd_mobilenet_weights_epoch_{}.h5')\n",
        "model.save_weights(project_path + 'ssd_mobilenet_weights_epoch_{}.h5')"
      ],
      "execution_count": 0,
      "outputs": [
        {
          "output_type": "stream",
          "text": [
            "Epoch 1/10\n",
            "16/16 [==============================] - 364s 23s/step - loss: 0.2095 - val_loss: 0.2356\n",
            "\n",
            "Epoch 00001: val_loss did not improve from 0.22262\n",
            "Epoch 2/10\n",
            "16/16 [==============================] - 343s 21s/step - loss: 0.2048 - val_loss: 0.2342\n",
            "\n",
            "Epoch 00002: val_loss did not improve from 0.22262\n",
            "Epoch 3/10\n",
            "16/16 [==============================] - 341s 21s/step - loss: 0.2008 - val_loss: 0.2249\n",
            "\n",
            "Epoch 00003: val_loss did not improve from 0.22262\n",
            "Epoch 4/10\n",
            "16/16 [==============================] - 343s 21s/step - loss: 0.2014 - val_loss: 0.2175\n",
            "\n",
            "Epoch 00004: val_loss improved from 0.22262 to 0.21752, saving model to /content/drive/My Drive/ssd_mobilenet_face_epoch_04_loss0.2175.h5\n",
            "Epoch 5/10\n",
            "16/16 [==============================] - 340s 21s/step - loss: 0.2038 - val_loss: 0.2381\n",
            "\n",
            "Epoch 00005: val_loss did not improve from 0.21752\n",
            "Epoch 6/10\n",
            "16/16 [==============================] - 341s 21s/step - loss: 0.1999 - val_loss: 0.2208\n",
            "\n",
            "Epoch 00006: val_loss did not improve from 0.21752\n",
            "Epoch 7/10\n",
            "16/16 [==============================] - 340s 21s/step - loss: 0.1999 - val_loss: 0.2284\n",
            "\n",
            "Epoch 00007: val_loss did not improve from 0.21752\n",
            "Epoch 8/10\n",
            "16/16 [==============================] - 341s 21s/step - loss: 0.2002 - val_loss: 0.2243\n",
            "\n",
            "Epoch 00008: val_loss did not improve from 0.21752\n",
            "Epoch 9/10\n",
            "16/16 [==============================] - 341s 21s/step - loss: 0.2007 - val_loss: 0.2220\n",
            "\n",
            "Epoch 00009: val_loss did not improve from 0.21752\n",
            "Epoch 10/10\n",
            "16/16 [==============================] - 345s 22s/step - loss: 0.1999 - val_loss: 0.2130\n",
            "\n",
            "Epoch 00010: val_loss improved from 0.21752 to 0.21305, saving model to /content/drive/My Drive/ssd_mobilenet_face_epoch_10_loss0.2130.h5\n"
          ],
          "name": "stdout"
        }
      ]
    },
    {
      "cell_type": "markdown",
      "metadata": {
        "id": "U3FHrp77jdOx",
        "colab_type": "text"
      },
      "source": [
        "### Load the best saved model from above step and check predictions for test data using test_generator object to generate batches."
      ]
    },
    {
      "cell_type": "markdown",
      "metadata": {
        "id": "S7eP30cxvcEA",
        "colab_type": "text"
      },
      "source": [
        "#### Write code in the below cell to load best saved model in the above step."
      ]
    },
    {
      "cell_type": "code",
      "metadata": {
        "id": "nh7tMrxFjR4B",
        "colab_type": "code",
        "colab": {}
      },
      "source": [
        "model_name = 'ssd_mobilenet_face_epoch_10_loss0.2130.h5'\n",
        "model.load_weights(project_path + model_name,  by_name= True)"
      ],
      "execution_count": 0,
      "outputs": []
    },
    {
      "cell_type": "markdown",
      "metadata": {
        "id": "6dD7q7pzqvnh",
        "colab_type": "text"
      },
      "source": [
        "### Use the below function to plot the boundingbox in the test image to show the predictions."
      ]
    },
    {
      "cell_type": "code",
      "metadata": {
        "id": "h89fe5NGqwI9",
        "colab_type": "code",
        "colab": {}
      },
      "source": [
        "def save_bb(path, filename, results, prediction=True):\n",
        "  \n",
        "  # print filename\n",
        "\n",
        "  img = image.load_img(filename, target_size=(img_height, img_width))\n",
        "  img = image.img_to_array(img)\n",
        "\n",
        "  filename = filename.split(\"/\")[-1]\n",
        "\n",
        "  if(not prediction):\n",
        "    filename = filename[:-4] + \"_gt\" + \".jpg\"\n",
        "\n",
        "  #fig,currentAxis = plt.subplots(1)\n",
        "  currentAxis = plt.gca()\n",
        "\n",
        " # Get detections with confidence higher than 0.6.\n",
        "  colors = plt.cm.hsv(np.linspace(0, 1, 25)).tolist()\n",
        "  color_code = min(len(results), 16)\n",
        "  print (colored(\"total number of bbs: %d\" % len(results), \"yellow\"))\n",
        "  for result in results:\n",
        "    # Parse the outputs.\n",
        "\n",
        "    if(prediction):\n",
        "      det_label = result[0]\n",
        "      det_conf = result[1]\n",
        "      det_xmin = result[2]\n",
        "      det_xmax = result[3]\n",
        "      det_ymin = result[4]\n",
        "      det_ymax = result[5]\n",
        "    else :\n",
        "      det_label = result[0]\n",
        "      det_xmin = result[1]\n",
        "      det_xmax = result[2]\n",
        "      det_ymin = result[3]\n",
        "      det_ymax = result[4]\n",
        "\n",
        "    xmin = int(det_xmin)\n",
        "    ymin = int(det_ymin)\n",
        "    xmax = int(det_xmax)\n",
        "    ymax = int(det_ymax)\n",
        "\n",
        "    if(prediction):\n",
        "      score = det_conf\n",
        "    \n",
        "    plt.imshow(img / 255.)\n",
        "    \n",
        "    label = int(int(det_label))\n",
        "    label_name = class_names[label]\n",
        "    # print label_name \n",
        "    # print label\n",
        "\n",
        "    if(prediction):\n",
        "      display_txt = '{:0.2f}'.format(score)\n",
        "    else:\n",
        "      display_txt = '{}'.format(label_name)\n",
        "\n",
        "      \n",
        "    # print (xmin, ymin, ymin, ymax)\n",
        "    coords = (xmin, ymin), (xmax-xmin), (ymax-ymin)\n",
        "    color_code = color_code-1 \n",
        "    color = colors[color_code]\n",
        "    currentAxis.add_patch(plt.Rectangle(*coords, fill=False, edgecolor=color, linewidth=2))\n",
        "    currentAxis.text(xmin, ymin, display_txt, bbox={'facecolor':color, 'alpha':0.2})\n",
        "\n",
        "  # y\n",
        "  currentAxis.axes.get_yaxis().set_visible(False)\n",
        "  # x\n",
        "  currentAxis.axes.get_xaxis().set_visible(False)\n",
        "  plt.savefig(path + filename, bbox_inches='tight')\n",
        "\n",
        "  print ('saved' , path + filename)\n",
        "\n",
        "  plt.clf()\n"
      ],
      "execution_count": 0,
      "outputs": []
    },
    {
      "cell_type": "markdown",
      "metadata": {
        "id": "RrMdNhMtwE3t",
        "colab_type": "text"
      },
      "source": [
        "#### Run the below code to create a folder with name output_test and get the predictions for the test images using model.predict()"
      ]
    },
    {
      "cell_type": "code",
      "metadata": {
        "id": "1Sep0lG3vR0R",
        "colab_type": "code",
        "outputId": "a8986853-c915-43e8-9081-de3145cf9859",
        "colab": {
          "base_uri": "https://localhost:8080/",
          "height": 34
        }
      },
      "source": [
        "!mkdir output_test"
      ],
      "execution_count": 0,
      "outputs": [
        {
          "output_type": "stream",
          "text": [
            "mkdir: cannot create directory ‘output_test’: File exists\n"
          ],
          "name": "stdout"
        }
      ]
    },
    {
      "cell_type": "code",
      "metadata": {
        "id": "70s6RPuInpqo",
        "colab_type": "code",
        "colab": {}
      },
      "source": [
        "from keras.preprocessing import image\n",
        "from matplotlib import pyplot as plt\n",
        "\n",
        "test_size = 16\n",
        "test_generator = val_dataset.generate(\n",
        "                 batch_size=test_size,\n",
        "                 train=False,\n",
        "                 ssd_box_encoder=ssd_box_encoder,\n",
        "                 equalize=False,\n",
        "                 brightness=False,\n",
        "                 flip=False,\n",
        "                 translate=False,\n",
        "                 scale=False,\n",
        "                 crop=False,\n",
        "                 #random_crop = (img_height,img_width,1,3), \n",
        "                 random_crop=False, \n",
        "                 resize=(img_height, img_width), \n",
        "                 #resize=False,\n",
        "                 gray=False,\n",
        "                 limit_boxes=True,\n",
        "                 include_thresh=0.4,\n",
        "                 diagnostics=False)\n",
        "\n",
        "print (colored(\"done.\", \"green\"))\n",
        "\n",
        "print (colored(\"now predicting...\", \"yellow\"))\n",
        "\n",
        "_CONF = 0.60 \n",
        "_IOU = 0.15\n",
        "\n",
        "for i in range(test_size):\n",
        "    X, y, filenames = next(test_generator)\n",
        "\n",
        "    y_pred = model.predict(X)\n",
        "    y_pred_decoded = decode_y2(y_pred,\n",
        "                             confidence_thresh=_CONF,\n",
        "                            iou_threshold=_IOU,\n",
        "                            top_k='all',\n",
        "                            input_coords=coords,\n",
        "                            normalize_coords=normalize_coords,\n",
        "                            img_height=img_height,\n",
        "                            img_width=img_width)\n",
        "\n",
        "\n",
        "    np.set_printoptions(suppress=True)\n",
        "\n",
        "    save_bb(\"./output_test/\", filenames[i], y_pred_decoded[i])\n",
        "    save_bb(\"./output_test/\", filenames[i], y[i], prediction=False)\n"
      ],
      "execution_count": 0,
      "outputs": []
    },
    {
      "cell_type": "markdown",
      "metadata": {
        "id": "qLKgtPCJwena",
        "colab_type": "text"
      },
      "source": [
        "In the above step all the test images along with predictions are stored in output_test folder in this notebook environment. You can check the folder in Files section of the menu to left-side of screen in colab.\n",
        "\n",
        "Each test image is used for predictions and is stored as 2 files.\n",
        "\n",
        "one file is the original ground truth with <filename_gt.jpg>\n",
        "second file is the prediction of the model on the image. with <filename.jpg>"
      ]
    },
    {
      "cell_type": "markdown",
      "metadata": {
        "id": "TFzb3Vj9kDGH",
        "colab_type": "text"
      },
      "source": [
        "### Visualize a test image to check predictions\n",
        "\n",
        "\n",
        "#### Write code to show images: Using cv2.imshow() or matplotlib show any 3 test images and their predictions."
      ]
    },
    {
      "cell_type": "code",
      "metadata": {
        "id": "zA1lMnX4-edG",
        "colab_type": "code",
        "outputId": "4f250221-269c-4c10-a7c5-7a7b97e7a350",
        "colab": {
          "base_uri": "https://localhost:8080/",
          "height": 233
        }
      },
      "source": [
        "image_p = plt.imread(project_path+'/output_test/57_Angler_peoplefishing_57_153.jpg')\n",
        "image_gt = plt.imread(project_path+'/output_test/57_Angler_peoplefishing_57_153_gt.jpg')\n",
        "# Creates two subplots and unpacks the output array immediately\n",
        "f, (ax1, ax2) = plt.subplots(1, 2, sharey=True)\n",
        "ax1.set_title('Predict')\n",
        "ax1.imshow( image_p)\n",
        "ax2.set_title('Ground Truth')\n",
        "ax2.imshow(image_gt)"
      ],
      "execution_count": 0,
      "outputs": [
        {
          "output_type": "execute_result",
          "data": {
            "text/plain": [
              "<matplotlib.image.AxesImage at 0x7f5b1dd4c610>"
            ]
          },
          "metadata": {
            "tags": []
          },
          "execution_count": 139
        },
        {
          "output_type": "display_data",
          "data": {
            "image/png": "[encoded data removed]",
            "text/plain": [
              "<Figure size 432x288 with 2 Axes>"
            ]
          },
          "metadata": {
            "tags": []
          }
        }
      ]
    }
  ]
}