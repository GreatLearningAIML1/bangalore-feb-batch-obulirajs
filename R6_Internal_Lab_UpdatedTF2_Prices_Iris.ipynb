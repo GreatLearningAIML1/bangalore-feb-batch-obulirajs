{
 "cells": [
  {
   "cell_type": "markdown",
   "metadata": {
    "colab_type": "text",
    "id": "84Q8JfvaeZZ6"
   },
   "source": [
    "## Linear Classifier in TensorFlow \n",
    "Using Low Level API in Eager Execution mode"
   ]
  },
  {
   "cell_type": "code",
   "execution_count": 0,
   "metadata": {
    "colab": {},
    "colab_type": "code",
    "id": "7vZGNM7Bz-A-"
   },
   "outputs": [],
   "source": []
  },
  {
   "cell_type": "markdown",
   "metadata": {
    "colab_type": "text",
    "id": "sb7Epo0VOB58"
   },
   "source": [
    "### Load tensorflow"
   ]
  },
  {
   "cell_type": "code",
   "execution_count": 0,
   "metadata": {
    "colab": {},
    "colab_type": "code",
    "id": "fHpCNRv1OB5-"
   },
   "outputs": [],
   "source": [
    "import tensorflow as tf"
   ]
  },
  {
   "cell_type": "code",
   "execution_count": 0,
   "metadata": {
    "colab": {},
    "colab_type": "code",
    "id": "Mjtb-EMcm5K0"
   },
   "outputs": [],
   "source": [
    "#Enable Eager Execution if using tensflow version < 2.0\n",
    "#From tensorflow v2.0 onwards, Eager Execution will be enabled by default\n"
   ]
  },
  {
   "cell_type": "markdown",
   "metadata": {
    "colab_type": "text",
    "id": "DxJDmJqqOB6K"
   },
   "source": [
    "### Collect Data"
   ]
  },
  {
   "cell_type": "code",
   "execution_count": 3,
   "metadata": {
    "colab": {
     "base_uri": "https://localhost:8080/",
     "height": 33
    },
    "colab_type": "code",
    "executionInfo": {
     "elapsed": 849,
     "status": "ok",
     "timestamp": 1563712069442,
     "user": {
      "displayName": "Obuliraj Selvaraj",
      "photoUrl": "https://lh5.googleusercontent.com/-IDGxjEUNNwM/AAAAAAAAAAI/AAAAAAAAET8/xQrS1ME2NjI/s64/photo.jpg",
      "userId": "12764693776412193451"
     },
     "user_tz": -330
    },
    "id": "FhllFLyKOB6N",
    "outputId": "53d2bf4e-7495-46cc-f677-074c21fdbe46"
   },
   "outputs": [
    {
     "name": "stdout",
     "output_type": "stream",
     "text": [
      "Drive already mounted at /content/drive; to attempt to forcibly remount, call drive.mount(\"/content/drive\", force_remount=True).\n"
     ]
    }
   ],
   "source": [
    "from google.colab import drive\n",
    "drive.mount('/content/drive')"
   ]
  },
  {
   "cell_type": "code",
   "execution_count": 0,
   "metadata": {
    "colab": {},
    "colab_type": "code",
    "id": "KiObW4V4SIOz"
   },
   "outputs": [],
   "source": [
    "import pandas as pd3"
   ]
  },
  {
   "cell_type": "code",
   "execution_count": 0,
   "metadata": {
    "colab": {},
    "colab_type": "code",
    "id": "B4yQKMiJOB6R"
   },
   "outputs": [],
   "source": [
    "\n",
    "tf.enable_eager_execution()\n",
    "data = pd.read_csv('/content/drive/My Drive/ML/prices.csv')"
   ]
  },
  {
   "cell_type": "markdown",
   "metadata": {
    "colab_type": "text",
    "id": "fgkX6SEqOB6W"
   },
   "source": [
    "### Check all columns in the dataset"
   ]
  },
  {
   "cell_type": "code",
   "execution_count": 22,
   "metadata": {
    "colab": {
     "base_uri": "https://localhost:8080/",
     "height": 196
    },
    "colab_type": "code",
    "executionInfo": {
     "elapsed": 1438,
     "status": "ok",
     "timestamp": 1563701439625,
     "user": {
      "displayName": "Obuliraj Selvaraj",
      "photoUrl": "https://lh5.googleusercontent.com/-IDGxjEUNNwM/AAAAAAAAAAI/AAAAAAAAET8/xQrS1ME2NjI/s64/photo.jpg",
      "userId": "12764693776412193451"
     },
     "user_tz": -330
    },
    "id": "7K8pWsNQOB6X",
    "outputId": "aa22e9f0-e2f6-4130-8cfa-b570146ff9fe"
   },
   "outputs": [
    {
     "data": {
      "text/html": [
       "<div>\n",
       "<style scoped>\n",
       "    .dataframe tbody tr th:only-of-type {\n",
       "        vertical-align: middle;\n",
       "    }\n",
       "\n",
       "    .dataframe tbody tr th {\n",
       "        vertical-align: top;\n",
       "    }\n",
       "\n",
       "    .dataframe thead th {\n",
       "        text-align: right;\n",
       "    }\n",
       "</style>\n",
       "<table border=\"1\" class=\"dataframe\">\n",
       "  <thead>\n",
       "    <tr style=\"text-align: right;\">\n",
       "      <th></th>\n",
       "      <th>date</th>\n",
       "      <th>symbol</th>\n",
       "      <th>open</th>\n",
       "      <th>close</th>\n",
       "      <th>low</th>\n",
       "      <th>high</th>\n",
       "      <th>volume</th>\n",
       "    </tr>\n",
       "  </thead>\n",
       "  <tbody>\n",
       "    <tr>\n",
       "      <th>0</th>\n",
       "      <td>2016-01-05 00:00:00</td>\n",
       "      <td>WLTW</td>\n",
       "      <td>123.430000</td>\n",
       "      <td>125.839996</td>\n",
       "      <td>122.309998</td>\n",
       "      <td>126.250000</td>\n",
       "      <td>2163600.0</td>\n",
       "    </tr>\n",
       "    <tr>\n",
       "      <th>1</th>\n",
       "      <td>2016-01-06 00:00:00</td>\n",
       "      <td>WLTW</td>\n",
       "      <td>125.239998</td>\n",
       "      <td>119.980003</td>\n",
       "      <td>119.940002</td>\n",
       "      <td>125.540001</td>\n",
       "      <td>2386400.0</td>\n",
       "    </tr>\n",
       "    <tr>\n",
       "      <th>2</th>\n",
       "      <td>2016-01-07 00:00:00</td>\n",
       "      <td>WLTW</td>\n",
       "      <td>116.379997</td>\n",
       "      <td>114.949997</td>\n",
       "      <td>114.930000</td>\n",
       "      <td>119.739998</td>\n",
       "      <td>2489500.0</td>\n",
       "    </tr>\n",
       "    <tr>\n",
       "      <th>3</th>\n",
       "      <td>2016-01-08 00:00:00</td>\n",
       "      <td>WLTW</td>\n",
       "      <td>115.480003</td>\n",
       "      <td>116.620003</td>\n",
       "      <td>113.500000</td>\n",
       "      <td>117.440002</td>\n",
       "      <td>2006300.0</td>\n",
       "    </tr>\n",
       "    <tr>\n",
       "      <th>4</th>\n",
       "      <td>2016-01-11 00:00:00</td>\n",
       "      <td>WLTW</td>\n",
       "      <td>117.010002</td>\n",
       "      <td>114.970001</td>\n",
       "      <td>114.089996</td>\n",
       "      <td>117.330002</td>\n",
       "      <td>1408600.0</td>\n",
       "    </tr>\n",
       "  </tbody>\n",
       "</table>\n",
       "</div>"
      ],
      "text/plain": [
       "                  date symbol        open  ...         low        high     volume\n",
       "0  2016-01-05 00:00:00   WLTW  123.430000  ...  122.309998  126.250000  2163600.0\n",
       "1  2016-01-06 00:00:00   WLTW  125.239998  ...  119.940002  125.540001  2386400.0\n",
       "2  2016-01-07 00:00:00   WLTW  116.379997  ...  114.930000  119.739998  2489500.0\n",
       "3  2016-01-08 00:00:00   WLTW  115.480003  ...  113.500000  117.440002  2006300.0\n",
       "4  2016-01-11 00:00:00   WLTW  117.010002  ...  114.089996  117.330002  1408600.0\n",
       "\n",
       "[5 rows x 7 columns]"
      ]
     },
     "execution_count": 22,
     "metadata": {
      "tags": []
     },
     "output_type": "execute_result"
    }
   ],
   "source": [
    "data.head()"
   ]
  },
  {
   "cell_type": "markdown",
   "metadata": {
    "colab_type": "text",
    "id": "7dU6X7MpOB6c"
   },
   "source": [
    "### Drop columns `date` and  `symbol`"
   ]
  },
  {
   "cell_type": "code",
   "execution_count": 5,
   "metadata": {
    "colab": {
     "base_uri": "https://localhost:8080/",
     "height": 196
    },
    "colab_type": "code",
    "executionInfo": {
     "elapsed": 1625,
     "status": "ok",
     "timestamp": 1563704510975,
     "user": {
      "displayName": "Obuliraj Selvaraj",
      "photoUrl": "https://lh5.googleusercontent.com/-IDGxjEUNNwM/AAAAAAAAAAI/AAAAAAAAET8/xQrS1ME2NjI/s64/photo.jpg",
      "userId": "12764693776412193451"
     },
     "user_tz": -330
    },
    "id": "lh_6spSKOB6e",
    "outputId": "326a55de-dbf3-4a27-fc7b-f3955843c5d5"
   },
   "outputs": [
    {
     "data": {
      "text/html": [
       "<div>\n",
       "<style scoped>\n",
       "    .dataframe tbody tr th:only-of-type {\n",
       "        vertical-align: middle;\n",
       "    }\n",
       "\n",
       "    .dataframe tbody tr th {\n",
       "        vertical-align: top;\n",
       "    }\n",
       "\n",
       "    .dataframe thead th {\n",
       "        text-align: right;\n",
       "    }\n",
       "</style>\n",
       "<table border=\"1\" class=\"dataframe\">\n",
       "  <thead>\n",
       "    <tr style=\"text-align: right;\">\n",
       "      <th></th>\n",
       "      <th>open</th>\n",
       "      <th>close</th>\n",
       "      <th>low</th>\n",
       "      <th>high</th>\n",
       "      <th>volume</th>\n",
       "    </tr>\n",
       "  </thead>\n",
       "  <tbody>\n",
       "    <tr>\n",
       "      <th>0</th>\n",
       "      <td>123.430000</td>\n",
       "      <td>125.839996</td>\n",
       "      <td>122.309998</td>\n",
       "      <td>126.250000</td>\n",
       "      <td>2163600.0</td>\n",
       "    </tr>\n",
       "    <tr>\n",
       "      <th>1</th>\n",
       "      <td>125.239998</td>\n",
       "      <td>119.980003</td>\n",
       "      <td>119.940002</td>\n",
       "      <td>125.540001</td>\n",
       "      <td>2386400.0</td>\n",
       "    </tr>\n",
       "    <tr>\n",
       "      <th>2</th>\n",
       "      <td>116.379997</td>\n",
       "      <td>114.949997</td>\n",
       "      <td>114.930000</td>\n",
       "      <td>119.739998</td>\n",
       "      <td>2489500.0</td>\n",
       "    </tr>\n",
       "    <tr>\n",
       "      <th>3</th>\n",
       "      <td>115.480003</td>\n",
       "      <td>116.620003</td>\n",
       "      <td>113.500000</td>\n",
       "      <td>117.440002</td>\n",
       "      <td>2006300.0</td>\n",
       "    </tr>\n",
       "    <tr>\n",
       "      <th>4</th>\n",
       "      <td>117.010002</td>\n",
       "      <td>114.970001</td>\n",
       "      <td>114.089996</td>\n",
       "      <td>117.330002</td>\n",
       "      <td>1408600.0</td>\n",
       "    </tr>\n",
       "  </tbody>\n",
       "</table>\n",
       "</div>"
      ],
      "text/plain": [
       "         open       close         low        high     volume\n",
       "0  123.430000  125.839996  122.309998  126.250000  2163600.0\n",
       "1  125.239998  119.980003  119.940002  125.540001  2386400.0\n",
       "2  116.379997  114.949997  114.930000  119.739998  2489500.0\n",
       "3  115.480003  116.620003  113.500000  117.440002  2006300.0\n",
       "4  117.010002  114.970001  114.089996  117.330002  1408600.0"
      ]
     },
     "execution_count": 5,
     "metadata": {
      "tags": []
     },
     "output_type": "execute_result"
    }
   ],
   "source": [
    "pdata = data.drop(['date','symbol'], axis=1)\n",
    "pdata.head()"
   ]
  },
  {
   "cell_type": "code",
   "execution_count": 6,
   "metadata": {
    "colab": {
     "base_uri": "https://localhost:8080/",
     "height": 196
    },
    "colab_type": "code",
    "executionInfo": {
     "elapsed": 1184,
     "status": "ok",
     "timestamp": 1563704528618,
     "user": {
      "displayName": "Obuliraj Selvaraj",
      "photoUrl": "https://lh5.googleusercontent.com/-IDGxjEUNNwM/AAAAAAAAAAI/AAAAAAAAET8/xQrS1ME2NjI/s64/photo.jpg",
      "userId": "12764693776412193451"
     },
     "user_tz": -330
    },
    "id": "xlwbUgTwOB6i",
    "outputId": "328f8ce2-b69a-44e4-e620-56c0c68e0dcf"
   },
   "outputs": [
    {
     "data": {
      "text/html": [
       "<div>\n",
       "<style scoped>\n",
       "    .dataframe tbody tr th:only-of-type {\n",
       "        vertical-align: middle;\n",
       "    }\n",
       "\n",
       "    .dataframe tbody tr th {\n",
       "        vertical-align: top;\n",
       "    }\n",
       "\n",
       "    .dataframe thead th {\n",
       "        text-align: right;\n",
       "    }\n",
       "</style>\n",
       "<table border=\"1\" class=\"dataframe\">\n",
       "  <thead>\n",
       "    <tr style=\"text-align: right;\">\n",
       "      <th></th>\n",
       "      <th>date</th>\n",
       "      <th>symbol</th>\n",
       "      <th>open</th>\n",
       "      <th>close</th>\n",
       "      <th>low</th>\n",
       "      <th>high</th>\n",
       "      <th>volume</th>\n",
       "    </tr>\n",
       "  </thead>\n",
       "  <tbody>\n",
       "    <tr>\n",
       "      <th>0</th>\n",
       "      <td>2016-01-05 00:00:00</td>\n",
       "      <td>WLTW</td>\n",
       "      <td>123.430000</td>\n",
       "      <td>125.839996</td>\n",
       "      <td>122.309998</td>\n",
       "      <td>126.250000</td>\n",
       "      <td>2163600.0</td>\n",
       "    </tr>\n",
       "    <tr>\n",
       "      <th>1</th>\n",
       "      <td>2016-01-06 00:00:00</td>\n",
       "      <td>WLTW</td>\n",
       "      <td>125.239998</td>\n",
       "      <td>119.980003</td>\n",
       "      <td>119.940002</td>\n",
       "      <td>125.540001</td>\n",
       "      <td>2386400.0</td>\n",
       "    </tr>\n",
       "    <tr>\n",
       "      <th>2</th>\n",
       "      <td>2016-01-07 00:00:00</td>\n",
       "      <td>WLTW</td>\n",
       "      <td>116.379997</td>\n",
       "      <td>114.949997</td>\n",
       "      <td>114.930000</td>\n",
       "      <td>119.739998</td>\n",
       "      <td>2489500.0</td>\n",
       "    </tr>\n",
       "    <tr>\n",
       "      <th>3</th>\n",
       "      <td>2016-01-08 00:00:00</td>\n",
       "      <td>WLTW</td>\n",
       "      <td>115.480003</td>\n",
       "      <td>116.620003</td>\n",
       "      <td>113.500000</td>\n",
       "      <td>117.440002</td>\n",
       "      <td>2006300.0</td>\n",
       "    </tr>\n",
       "    <tr>\n",
       "      <th>4</th>\n",
       "      <td>2016-01-11 00:00:00</td>\n",
       "      <td>WLTW</td>\n",
       "      <td>117.010002</td>\n",
       "      <td>114.970001</td>\n",
       "      <td>114.089996</td>\n",
       "      <td>117.330002</td>\n",
       "      <td>1408600.0</td>\n",
       "    </tr>\n",
       "  </tbody>\n",
       "</table>\n",
       "</div>"
      ],
      "text/plain": [
       "                  date symbol        open  ...         low        high     volume\n",
       "0  2016-01-05 00:00:00   WLTW  123.430000  ...  122.309998  126.250000  2163600.0\n",
       "1  2016-01-06 00:00:00   WLTW  125.239998  ...  119.940002  125.540001  2386400.0\n",
       "2  2016-01-07 00:00:00   WLTW  116.379997  ...  114.930000  119.739998  2489500.0\n",
       "3  2016-01-08 00:00:00   WLTW  115.480003  ...  113.500000  117.440002  2006300.0\n",
       "4  2016-01-11 00:00:00   WLTW  117.010002  ...  114.089996  117.330002  1408600.0\n",
       "\n",
       "[5 rows x 7 columns]"
      ]
     },
     "execution_count": 6,
     "metadata": {
      "tags": []
     },
     "output_type": "execute_result"
    }
   ],
   "source": [
    "data.head()"
   ]
  },
  {
   "cell_type": "markdown",
   "metadata": {
    "colab_type": "text",
    "id": "3DBv3WWYOB6q"
   },
   "source": [
    "### Consider only first 1000 rows in the dataset for building feature set and target set\n",
    "Target 'Volume' has very high values. Divide 'Volume' by 1000,000"
   ]
  },
  {
   "cell_type": "code",
   "execution_count": 17,
   "metadata": {
    "colab": {
     "base_uri": "https://localhost:8080/",
     "height": 297
    },
    "colab_type": "code",
    "executionInfo": {
     "elapsed": 1353,
     "status": "ok",
     "timestamp": 1563704837381,
     "user": {
      "displayName": "Obuliraj Selvaraj",
      "photoUrl": "https://lh5.googleusercontent.com/-IDGxjEUNNwM/AAAAAAAAAAI/AAAAAAAAET8/xQrS1ME2NjI/s64/photo.jpg",
      "userId": "12764693776412193451"
     },
     "user_tz": -330
    },
    "id": "Z_hG9rGBOB6s",
    "outputId": "fe2cac8a-2373-4e60-d140-390749768d77"
   },
   "outputs": [
    {
     "name": "stderr",
     "output_type": "stream",
     "text": [
      "/usr/local/lib/python3.6/dist-packages/ipykernel_launcher.py:2: SettingWithCopyWarning: \n",
      "A value is trying to be set on a copy of a slice from a DataFrame.\n",
      "Try using .loc[row_indexer,col_indexer] = value instead\n",
      "\n",
      "See the caveats in the documentation: http://pandas.pydata.org/pandas-docs/stable/indexing.html#indexing-view-versus-copy\n",
      "  \n"
     ]
    },
    {
     "data": {
      "text/html": [
       "<div>\n",
       "<style scoped>\n",
       "    .dataframe tbody tr th:only-of-type {\n",
       "        vertical-align: middle;\n",
       "    }\n",
       "\n",
       "    .dataframe tbody tr th {\n",
       "        vertical-align: top;\n",
       "    }\n",
       "\n",
       "    .dataframe thead th {\n",
       "        text-align: right;\n",
       "    }\n",
       "</style>\n",
       "<table border=\"1\" class=\"dataframe\">\n",
       "  <thead>\n",
       "    <tr style=\"text-align: right;\">\n",
       "      <th></th>\n",
       "      <th>open</th>\n",
       "      <th>close</th>\n",
       "      <th>low</th>\n",
       "      <th>high</th>\n",
       "      <th>volume</th>\n",
       "    </tr>\n",
       "  </thead>\n",
       "  <tbody>\n",
       "    <tr>\n",
       "      <th>0</th>\n",
       "      <td>123.430000</td>\n",
       "      <td>125.839996</td>\n",
       "      <td>122.309998</td>\n",
       "      <td>126.250000</td>\n",
       "      <td>0.000002</td>\n",
       "    </tr>\n",
       "    <tr>\n",
       "      <th>1</th>\n",
       "      <td>125.239998</td>\n",
       "      <td>119.980003</td>\n",
       "      <td>119.940002</td>\n",
       "      <td>125.540001</td>\n",
       "      <td>0.000002</td>\n",
       "    </tr>\n",
       "    <tr>\n",
       "      <th>2</th>\n",
       "      <td>116.379997</td>\n",
       "      <td>114.949997</td>\n",
       "      <td>114.930000</td>\n",
       "      <td>119.739998</td>\n",
       "      <td>0.000002</td>\n",
       "    </tr>\n",
       "    <tr>\n",
       "      <th>3</th>\n",
       "      <td>115.480003</td>\n",
       "      <td>116.620003</td>\n",
       "      <td>113.500000</td>\n",
       "      <td>117.440002</td>\n",
       "      <td>0.000002</td>\n",
       "    </tr>\n",
       "    <tr>\n",
       "      <th>4</th>\n",
       "      <td>117.010002</td>\n",
       "      <td>114.970001</td>\n",
       "      <td>114.089996</td>\n",
       "      <td>117.330002</td>\n",
       "      <td>0.000001</td>\n",
       "    </tr>\n",
       "  </tbody>\n",
       "</table>\n",
       "</div>"
      ],
      "text/plain": [
       "         open       close         low        high    volume\n",
       "0  123.430000  125.839996  122.309998  126.250000  0.000002\n",
       "1  125.239998  119.980003  119.940002  125.540001  0.000002\n",
       "2  116.379997  114.949997  114.930000  119.739998  0.000002\n",
       "3  115.480003  116.620003  113.500000  117.440002  0.000002\n",
       "4  117.010002  114.970001  114.089996  117.330002  0.000001"
      ]
     },
     "execution_count": 17,
     "metadata": {
      "tags": []
     },
     "output_type": "execute_result"
    }
   ],
   "source": [
    "nData = pdata.head(1000)\n",
    "nData['volume'] = (nData['volume'] / 1000000)\n",
    "nData.head()"
   ]
  },
  {
   "cell_type": "markdown",
   "metadata": {
    "colab_type": "text",
    "id": "M3UaApqYOB6x"
   },
   "source": [
    "### Divide the data into train and test sets"
   ]
  },
  {
   "cell_type": "code",
   "execution_count": 0,
   "metadata": {
    "colab": {},
    "colab_type": "code",
    "id": "4LE4U8lTdQJq"
   },
   "outputs": [],
   "source": [
    "from sklearn.model_selection import train_test_split\n",
    "\n"
   ]
  },
  {
   "cell_type": "code",
   "execution_count": 0,
   "metadata": {
    "colab": {},
    "colab_type": "code",
    "id": "bG-Ipy4T40VP"
   },
   "outputs": [],
   "source": [
    "X = nData.drop('volume', axis=1)\n",
    "y = nData['volume']\n",
    "# X.head(5)\n",
    "# y.loc[:5]\n",
    "X_train, X_test, y_train, y_test = train_test_split(X,y, test_size=0.3, random_state=7)"
   ]
  },
  {
   "cell_type": "markdown",
   "metadata": {
    "colab_type": "text",
    "id": "oYK-aUuLbrz2"
   },
   "source": [
    "#### Convert Training and Test Data to numpy float32 arrays\n"
   ]
  },
  {
   "cell_type": "code",
   "execution_count": 0,
   "metadata": {
    "colab": {},
    "colab_type": "code",
    "id": "Ao-S0tQGcncz"
   },
   "outputs": [],
   "source": [
    "arr_X_test = X_test.to_numpy(dtype=\"float32\")\n",
    "arr_X_train = X_train.to_numpy(dtype=\"float32\")\n",
    "arr_y_test = y_test.to_numpy(dtype=\"float32\")\n",
    "arr_y_train = y_test.to_numpy(dtype=\"float32\")\n"
   ]
  },
  {
   "cell_type": "markdown",
   "metadata": {
    "colab_type": "text",
    "id": "im1ZegbDdKgv"
   },
   "source": [
    "### Normalize the data\n",
    "You can use Normalizer from sklearn.preprocessing"
   ]
  },
  {
   "cell_type": "code",
   "execution_count": 0,
   "metadata": {
    "colab": {},
    "colab_type": "code",
    "id": "2EkKAy7fOB6y"
   },
   "outputs": [],
   "source": [
    "from sklearn.preprocessing import StandardScaler"
   ]
  },
  {
   "cell_type": "code",
   "execution_count": 0,
   "metadata": {
    "colab": {},
    "colab_type": "code",
    "id": "cKMGUq4u-P2B"
   },
   "outputs": [],
   "source": [
    "# scaler = StandardScaler()\n",
    "# scaler.fit(arr_X_test)\n",
    "\n",
    "from sklearn.preprocessing import Normalizer\n",
    "\n",
    "xTrain = Normalizer().fit(arr_X_train).transform(arr_X_train)\n",
    "xTest = Normalizer().fit(arr_X_test).transform(arr_X_test)\n",
    "\n"
   ]
  },
  {
   "cell_type": "markdown",
   "metadata": {
    "colab_type": "text",
    "id": "v6vE4eYCOB62"
   },
   "source": [
    "## Building the Model in tensorflow"
   ]
  },
  {
   "cell_type": "markdown",
   "metadata": {
    "colab_type": "text",
    "id": "297_qja4OB7A"
   },
   "source": [
    "1.Define Weights and Bias, use tf.zeros to initialize weights and Bias"
   ]
  },
  {
   "cell_type": "code",
   "execution_count": 0,
   "metadata": {
    "colab": {},
    "colab_type": "code",
    "id": "L205qPeQOB7B"
   },
   "outputs": [],
   "source": [
    "# Defineing Weights and Bias\n",
    "\n",
    "W = tf.Variable(tf.zeros(shape=[4,1]), name=\"Weights\")\n",
    "b = tf.Variable(tf.zeros(shape=[1]),name=\"Bias\")"
   ]
  },
  {
   "cell_type": "markdown",
   "metadata": {
    "colab_type": "text",
    "id": "HgtWA-UIOB7F"
   },
   "source": [
    "2.Define a function to calculate prediction"
   ]
  },
  {
   "cell_type": "code",
   "execution_count": 0,
   "metadata": {
    "colab": {},
    "colab_type": "code",
    "id": "JveGlx25OB7H"
   },
   "outputs": [],
   "source": [
    "# y_pred = tf.add(tf.matmul(xTrain,W),b,name='output')\n",
    "\n",
    "def pred_fn(X,W,b):\n",
    "  return tf.add(tf.matmul(X,W),b,name='output')"
   ]
  },
  {
   "cell_type": "markdown",
   "metadata": {
    "colab_type": "text",
    "id": "TL1hIwf_OB7M"
   },
   "source": [
    "3.Loss (Cost) Function [Mean square error]"
   ]
  },
  {
   "cell_type": "code",
   "execution_count": 0,
   "metadata": {
    "colab": {},
    "colab_type": "code",
    "id": "8VSWPiGXOB7P"
   },
   "outputs": [],
   "source": [
    "# loss = tf.reduce_mean(tf.square(arr_y_train-y_pred),name='Loss')\n",
    "# print(loss)\n",
    "\n",
    "def loss_fn(y_train, y_pred):\n",
    "  loss = tf.reduce_mean(tf.square(arr_y_train-y_pred),name='Loss')\n",
    "  return loss"
   ]
  },
  {
   "cell_type": "markdown",
   "metadata": {
    "colab_type": "text",
    "id": "jzG85FUlOB7U"
   },
   "source": [
    "def 4.Function to train the Model\n",
    "\n",
    "1.   Record all the mathematical steps to calculate Loss\n",
    "2.   Calculate Gradients of Loss w.r.t weights and bias\n",
    "3.   Update Weights and Bias based on gradients and learning rate to minimize loss"
   ]
  },
  {
   "cell_type": "code",
   "execution_count": 0,
   "metadata": {
    "colab": {},
    "colab_type": "code",
    "id": "cj802w-3OB7X"
   },
   "outputs": [],
   "source": [
    "\n",
    "def train_fn(x,y, W,b, learn_rate):\n",
    "  with tf.GradientTape() as t :\n",
    "     t.watch([W,b])\n",
    "     y_pred = pred_fn(x,W,b)\n",
    "     loss = loss_fn(y,y_pred)\n",
    "  \n",
    "  dc_dw, dc_db = t.gradient(loss, [W, b])\n",
    "  W = W - learn_rate * dc_dw\n",
    "  b = b - learn_rate * dc_db\n",
    "  return W,b"
   ]
  },
  {
   "cell_type": "markdown",
   "metadata": {
    "colab_type": "text",
    "id": "xSypb_u8OB7e"
   },
   "source": [
    "## Train the model for 100 epochs \n",
    "1. Observe the training loss at every iteration\n",
    "2. Observe Train loss at every 5th iteration"
   ]
  },
  {
   "cell_type": "code",
   "execution_count": 65,
   "metadata": {
    "colab": {
     "base_uri": "https://localhost:8080/",
     "height": 351
    },
    "colab_type": "code",
    "executionInfo": {
     "elapsed": 927,
     "status": "ok",
     "timestamp": 1563709282219,
     "user": {
      "displayName": "Obuliraj Selvaraj",
      "photoUrl": "https://lh5.googleusercontent.com/-IDGxjEUNNwM/AAAAAAAAAAI/AAAAAAAAET8/xQrS1ME2NjI/s64/photo.jpg",
      "userId": "12764693776412193451"
     },
     "user_tz": -330
    },
    "id": "DVvgj7eQOB7f",
    "outputId": "562576b1-5993-4837-f5e3-8d3ec69ba396"
   },
   "outputs": [
    {
     "name": "stdout",
     "output_type": "stream",
     "text": [
      "Training loss at step:  0  is  tf.Tensor(5.6916905e-11, shape=(), dtype=float32)\n",
      "Training loss at step:  5  is  tf.Tensor(5.6915025e-11, shape=(), dtype=float32)\n",
      "Training loss at step:  10  is  tf.Tensor(5.691378e-11, shape=(), dtype=float32)\n",
      "Training loss at step:  15  is  tf.Tensor(5.6912947e-11, shape=(), dtype=float32)\n",
      "Training loss at step:  20  is  tf.Tensor(5.6912395e-11, shape=(), dtype=float32)\n",
      "Training loss at step:  25  is  tf.Tensor(5.691203e-11, shape=(), dtype=float32)\n",
      "Training loss at step:  30  is  tf.Tensor(5.691178e-11, shape=(), dtype=float32)\n",
      "Training loss at step:  35  is  tf.Tensor(5.691162e-11, shape=(), dtype=float32)\n",
      "Training loss at step:  40  is  tf.Tensor(5.6911514e-11, shape=(), dtype=float32)\n",
      "Training loss at step:  45  is  tf.Tensor(5.6911444e-11, shape=(), dtype=float32)\n",
      "Training loss at step:  50  is  tf.Tensor(5.6911392e-11, shape=(), dtype=float32)\n",
      "Training loss at step:  55  is  tf.Tensor(5.691136e-11, shape=(), dtype=float32)\n",
      "Training loss at step:  60  is  tf.Tensor(5.6911344e-11, shape=(), dtype=float32)\n",
      "Training loss at step:  65  is  tf.Tensor(5.6911326e-11, shape=(), dtype=float32)\n",
      "Training loss at step:  70  is  tf.Tensor(5.691132e-11, shape=(), dtype=float32)\n",
      "Training loss at step:  75  is  tf.Tensor(5.691131e-11, shape=(), dtype=float32)\n",
      "Training loss at step:  80  is  tf.Tensor(5.6911306e-11, shape=(), dtype=float32)\n",
      "Training loss at step:  85  is  tf.Tensor(5.6911306e-11, shape=(), dtype=float32)\n",
      "Training loss at step:  90  is  tf.Tensor(5.6911302e-11, shape=(), dtype=float32)\n",
      "Training loss at step:  95  is  tf.Tensor(5.6911302e-11, shape=(), dtype=float32)\n"
     ]
    }
   ],
   "source": [
    "for i in range (100):\n",
    "  W,b = train_fn(xTrain,arr_y_train,W,b,0.01)\n",
    "  y_pred = pred_fn(xTrain,W,b)\n",
    "  train_loss = loss_fn(arr_y_train,y_pred)\n",
    "  if i % 5 == 0:\n",
    "    print('Training loss at step: ', i, ' is ', train_loss)"
   ]
  },
  {
   "cell_type": "markdown",
   "metadata": {
    "colab_type": "text",
    "id": "DOL2ncA1OB7q"
   },
   "source": [
    "### Get the shapes and values of W and b"
   ]
  },
  {
   "cell_type": "code",
   "execution_count": 79,
   "metadata": {
    "colab": {
     "base_uri": "https://localhost:8080/",
     "height": 117
    },
    "colab_type": "code",
    "executionInfo": {
     "elapsed": 756,
     "status": "ok",
     "timestamp": 1563709752394,
     "user": {
      "displayName": "Obuliraj Selvaraj",
      "photoUrl": "https://lh5.googleusercontent.com/-IDGxjEUNNwM/AAAAAAAAAAI/AAAAAAAAET8/xQrS1ME2NjI/s64/photo.jpg",
      "userId": "12764693776412193451"
     },
     "user_tz": -330
    },
    "id": "ZGvtyTeuOB7r",
    "outputId": "a3483ef4-9362-4d18-a85d-51f21ecb8060"
   },
   "outputs": [
    {
     "name": "stdout",
     "output_type": "stream",
     "text": [
      "Shape and Value of W :\n",
      "tf.Tensor(\n",
      "[[1.1540517e-06]\n",
      " [1.1580388e-06]\n",
      " [1.1421811e-06]\n",
      " [1.1677614e-06]], shape=(4, 1), dtype=float32)\n"
     ]
    }
   ],
   "source": [
    "print(\"Shape and Value of W :\")\n",
    "print(W)"
   ]
  },
  {
   "cell_type": "code",
   "execution_count": 81,
   "metadata": {
    "colab": {
     "base_uri": "https://localhost:8080/",
     "height": 50
    },
    "colab_type": "code",
    "executionInfo": {
     "elapsed": 1072,
     "status": "ok",
     "timestamp": 1563709765320,
     "user": {
      "displayName": "Obuliraj Selvaraj",
      "photoUrl": "https://lh5.googleusercontent.com/-IDGxjEUNNwM/AAAAAAAAAAI/AAAAAAAAET8/xQrS1ME2NjI/s64/photo.jpg",
      "userId": "12764693776412193451"
     },
     "user_tz": -330
    },
    "id": "zdBxB3MwXUDw",
    "outputId": "149b7c73-0040-41a8-c104-82c1acd36600"
   },
   "outputs": [
    {
     "name": "stdout",
     "output_type": "stream",
     "text": [
      "Shape and Value of b :\n",
      "tf.Tensor([2.311143e-06], shape=(1,), dtype=float32)\n"
     ]
    }
   ],
   "source": [
    "print(\"Shape and Value of b :\")\n",
    "print(b)"
   ]
  },
  {
   "cell_type": "code",
   "execution_count": 0,
   "metadata": {
    "colab": {},
    "colab_type": "code",
    "id": "vhDtOv5UOB7x"
   },
   "outputs": [],
   "source": []
  },
  {
   "cell_type": "markdown",
   "metadata": {
    "colab_type": "text",
    "id": "ERq9GOKKciho"
   },
   "source": [
    "### Model Prediction on 1st Examples in Test Dataset"
   ]
  },
  {
   "cell_type": "code",
   "execution_count": 83,
   "metadata": {
    "colab": {
     "base_uri": "https://localhost:8080/",
     "height": 33
    },
    "colab_type": "code",
    "executionInfo": {
     "elapsed": 887,
     "status": "ok",
     "timestamp": 1563709979406,
     "user": {
      "displayName": "Obuliraj Selvaraj",
      "photoUrl": "https://lh5.googleusercontent.com/-IDGxjEUNNwM/AAAAAAAAAAI/AAAAAAAAET8/xQrS1ME2NjI/s64/photo.jpg",
      "userId": "12764693776412193451"
     },
     "user_tz": -330
    },
    "id": "gKGvUWahcihp",
    "outputId": "bdc7582b-b146-4f32-8cee-f292436ae9bf"
   },
   "outputs": [
    {
     "name": "stdout",
     "output_type": "stream",
     "text": [
      "Loss for test dataset:  tf.Tensor(5.69113e-11, shape=(), dtype=float32)\n"
     ]
    }
   ],
   "source": [
    "y_pred = pred_fn(xTest,W,b)\n",
    "test_loss = loss_fn(arr_y_test, y_pred)\n",
    "\n",
    "print(\"Loss for test dataset: \", test_loss)"
   ]
  },
  {
   "cell_type": "markdown",
   "metadata": {
    "colab_type": "text",
    "id": "YJRBuqXhOB7_"
   },
   "source": [
    "## Classification using tf.Keras\n",
    "\n",
    "In this exercise, we will build a Deep Neural Network using tf.Keras. We will use Iris Dataset for this exercise."
   ]
  },
  {
   "cell_type": "markdown",
   "metadata": {
    "colab_type": "text",
    "id": "O0g6lorycihf"
   },
   "source": [
    "### Load the given Iris data using pandas (Iris.csv)"
   ]
  },
  {
   "cell_type": "code",
   "execution_count": 0,
   "metadata": {
    "colab": {},
    "colab_type": "code",
    "id": "6xFvb5sRcihg"
   },
   "outputs": [],
   "source": [
    "\n",
    "iris = pd.read_csv('/content/drive/My Drive/ML/11_Iris.csv')"
   ]
  },
  {
   "cell_type": "code",
   "execution_count": 128,
   "metadata": {
    "colab": {
     "base_uri": "https://localhost:8080/",
     "height": 196
    },
    "colab_type": "code",
    "executionInfo": {
     "elapsed": 846,
     "status": "ok",
     "timestamp": 1563711993352,
     "user": {
      "displayName": "Obuliraj Selvaraj",
      "photoUrl": "https://lh5.googleusercontent.com/-IDGxjEUNNwM/AAAAAAAAAAI/AAAAAAAAET8/xQrS1ME2NjI/s64/photo.jpg",
      "userId": "12764693776412193451"
     },
     "user_tz": -330
    },
    "id": "kZxdkS8ma451",
    "outputId": "d8e75caa-8eca-46d7-d803-d0ddc08d199d"
   },
   "outputs": [
    {
     "data": {
      "text/html": [
       "<div>\n",
       "<style scoped>\n",
       "    .dataframe tbody tr th:only-of-type {\n",
       "        vertical-align: middle;\n",
       "    }\n",
       "\n",
       "    .dataframe tbody tr th {\n",
       "        vertical-align: top;\n",
       "    }\n",
       "\n",
       "    .dataframe thead th {\n",
       "        text-align: right;\n",
       "    }\n",
       "</style>\n",
       "<table border=\"1\" class=\"dataframe\">\n",
       "  <thead>\n",
       "    <tr style=\"text-align: right;\">\n",
       "      <th></th>\n",
       "      <th>Id</th>\n",
       "      <th>SepalLengthCm</th>\n",
       "      <th>SepalWidthCm</th>\n",
       "      <th>PetalLengthCm</th>\n",
       "      <th>PetalWidthCm</th>\n",
       "      <th>Species</th>\n",
       "    </tr>\n",
       "  </thead>\n",
       "  <tbody>\n",
       "    <tr>\n",
       "      <th>0</th>\n",
       "      <td>1</td>\n",
       "      <td>5.1</td>\n",
       "      <td>3.5</td>\n",
       "      <td>1.4</td>\n",
       "      <td>0.2</td>\n",
       "      <td>Iris-setosa</td>\n",
       "    </tr>\n",
       "    <tr>\n",
       "      <th>1</th>\n",
       "      <td>2</td>\n",
       "      <td>4.9</td>\n",
       "      <td>3.0</td>\n",
       "      <td>1.4</td>\n",
       "      <td>0.2</td>\n",
       "      <td>Iris-setosa</td>\n",
       "    </tr>\n",
       "    <tr>\n",
       "      <th>2</th>\n",
       "      <td>3</td>\n",
       "      <td>4.7</td>\n",
       "      <td>3.2</td>\n",
       "      <td>1.3</td>\n",
       "      <td>0.2</td>\n",
       "      <td>Iris-setosa</td>\n",
       "    </tr>\n",
       "    <tr>\n",
       "      <th>3</th>\n",
       "      <td>4</td>\n",
       "      <td>4.6</td>\n",
       "      <td>3.1</td>\n",
       "      <td>1.5</td>\n",
       "      <td>0.2</td>\n",
       "      <td>Iris-setosa</td>\n",
       "    </tr>\n",
       "    <tr>\n",
       "      <th>4</th>\n",
       "      <td>5</td>\n",
       "      <td>5.0</td>\n",
       "      <td>3.6</td>\n",
       "      <td>1.4</td>\n",
       "      <td>0.2</td>\n",
       "      <td>Iris-setosa</td>\n",
       "    </tr>\n",
       "  </tbody>\n",
       "</table>\n",
       "</div>"
      ],
      "text/plain": [
       "   Id  SepalLengthCm  SepalWidthCm  PetalLengthCm  PetalWidthCm      Species\n",
       "0   1            5.1           3.5            1.4           0.2  Iris-setosa\n",
       "1   2            4.9           3.0            1.4           0.2  Iris-setosa\n",
       "2   3            4.7           3.2            1.3           0.2  Iris-setosa\n",
       "3   4            4.6           3.1            1.5           0.2  Iris-setosa\n",
       "4   5            5.0           3.6            1.4           0.2  Iris-setosa"
      ]
     },
     "execution_count": 128,
     "metadata": {
      "tags": []
     },
     "output_type": "execute_result"
    }
   ],
   "source": [
    "iris.head()"
   ]
  },
  {
   "cell_type": "markdown",
   "metadata": {
    "colab_type": "text",
    "id": "SAB--Qdwcihm"
   },
   "source": [
    "### Target set has different categories. So, Label encode them. And convert into one-hot vectors using get_dummies in pandas."
   ]
  },
  {
   "cell_type": "code",
   "execution_count": 0,
   "metadata": {
    "colab": {},
    "colab_type": "code",
    "id": "IJr5dYnocihm"
   },
   "outputs": [],
   "source": [
    "\n",
    "\n",
    "X = iris.drop(['Id','Species'], axis=1)\n",
    "# X.head()\n",
    "y = pd.get_dummies(iris['Species'])"
   ]
  },
  {
   "cell_type": "code",
   "execution_count": 7,
   "metadata": {
    "colab": {
     "base_uri": "https://localhost:8080/",
     "height": 33
    },
    "colab_type": "code",
    "executionInfo": {
     "elapsed": 878,
     "status": "ok",
     "timestamp": 1563712102805,
     "user": {
      "displayName": "Obuliraj Selvaraj",
      "photoUrl": "https://lh5.googleusercontent.com/-IDGxjEUNNwM/AAAAAAAAAAI/AAAAAAAAET8/xQrS1ME2NjI/s64/photo.jpg",
      "userId": "12764693776412193451"
     },
     "user_tz": -330
    },
    "id": "-dGrYS2FZuq7",
    "outputId": "491c4b2f-a14a-41a6-e178-e92e0a57cc29"
   },
   "outputs": [
    {
     "data": {
      "text/plain": [
       "(150, 3)"
      ]
     },
     "execution_count": 7,
     "metadata": {
      "tags": []
     },
     "output_type": "execute_result"
    }
   ],
   "source": [
    "X.shape\n",
    "y.shape"
   ]
  },
  {
   "cell_type": "markdown",
   "metadata": {
    "colab_type": "text",
    "id": "D95nY5ILcihj"
   },
   "source": [
    "### Splitting the data into feature set and target set"
   ]
  },
  {
   "cell_type": "code",
   "execution_count": 0,
   "metadata": {
    "colab": {},
    "colab_type": "code",
    "id": "RyMQoLMucihj"
   },
   "outputs": [],
   "source": [
    "\n",
    "X = iris.drop(['Id','Species'], axis=1)\n",
    "# X.head()\n",
    "y = pd.get_dummies(iris['Species'])"
   ]
  },
  {
   "cell_type": "markdown",
   "metadata": {
    "colab_type": "text",
    "id": "b22qpC5xcihr"
   },
   "source": [
    "###  Building Model in tf.keras\n",
    "\n",
    "Build a Linear Classifier model  <br>\n",
    "1.  Use Dense Layer  with input shape of 4 (according to the feature set) and number of outputs set to 3<br> \n",
    "2. Apply Softmax on Dense Layer outputs <br>\n",
    "3. Use SGD as Optimizer\n",
    "4. Use categorical_crossentropy as loss function "
   ]
  },
  {
   "cell_type": "code",
   "execution_count": 36,
   "metadata": {
    "colab": {
     "base_uri": "https://localhost:8080/",
     "height": 201
    },
    "colab_type": "code",
    "executionInfo": {
     "elapsed": 1148,
     "status": "ok",
     "timestamp": 1563713772330,
     "user": {
      "displayName": "Obuliraj Selvaraj",
      "photoUrl": "https://lh5.googleusercontent.com/-IDGxjEUNNwM/AAAAAAAAAAI/AAAAAAAAET8/xQrS1ME2NjI/s64/photo.jpg",
      "userId": "12764693776412193451"
     },
     "user_tz": -330
    },
    "id": "Hov_UFnUciht",
    "outputId": "c8b7cfa6-a8c6-4c1a-b35d-0a32385ccbfa"
   },
   "outputs": [
    {
     "name": "stdout",
     "output_type": "stream",
     "text": [
      "Epoch 1/5\n",
      "150/150 [==============================] - 0s 368us/sample - loss: 1.2519 - acc: 0.3333\n",
      "Epoch 2/5\n",
      "150/150 [==============================] - 0s 94us/sample - loss: 1.0622 - acc: 0.3333\n",
      "Epoch 3/5\n",
      "150/150 [==============================] - 0s 86us/sample - loss: 0.9739 - acc: 0.2067\n",
      "Epoch 4/5\n",
      "150/150 [==============================] - 0s 81us/sample - loss: 0.9236 - acc: 0.1533\n",
      "Epoch 5/5\n",
      "150/150 [==============================] - 0s 93us/sample - loss: 0.8879 - acc: 0.3400\n"
     ]
    },
    {
     "data": {
      "text/plain": [
       "<tensorflow.python.keras.callbacks.History at 0x7f857a509dd8>"
      ]
     },
     "execution_count": 36,
     "metadata": {
      "tags": []
     },
     "output_type": "execute_result"
    }
   ],
   "source": [
    "model = tf.keras.models.Sequential()\n",
    "\n",
    "model = tf.keras.Sequential([\n",
    "  tf.keras.layers.Dense(10, activation=tf.nn.relu, input_shape=(4,)),  # input shape required\n",
    "  tf.keras.layers.Dense(3,activation=tf.nn.softmax,name='output')\n",
    "])\n",
    "#Compile the model - add Loss and Gradient Descent optimizer\n",
    "model.compile(tf.keras.optimizers.SGD(), loss='categorical_crossentropy', metrics=['accuracy'])\n",
    "\n",
    "model.fit(X,y, epochs=5)\n"
   ]
  },
  {
   "cell_type": "markdown",
   "metadata": {
    "colab_type": "text",
    "id": "T5FdzqIKcihw"
   },
   "source": [
    "### Model Training "
   ]
  },
  {
   "cell_type": "code",
   "execution_count": 40,
   "metadata": {
    "colab": {
     "base_uri": "https://localhost:8080/",
     "height": 1000
    },
    "colab_type": "code",
    "executionInfo": {
     "elapsed": 2488,
     "status": "ok",
     "timestamp": 1563713921434,
     "user": {
      "displayName": "Obuliraj Selvaraj",
      "photoUrl": "https://lh5.googleusercontent.com/-IDGxjEUNNwM/AAAAAAAAAAI/AAAAAAAAET8/xQrS1ME2NjI/s64/photo.jpg",
      "userId": "12764693776412193451"
     },
     "user_tz": -330
    },
    "id": "4qLEdHPscihx",
    "outputId": "4e8c2109-b7fe-4537-d08b-712617ff7a20"
   },
   "outputs": [
    {
     "name": "stdout",
     "output_type": "stream",
     "text": [
      "Epoch 1/100\n",
      "105/105 [==============================] - 0s 129us/sample - loss: 0.6512 - acc: 0.8476\n",
      "Epoch 2/100\n",
      "105/105 [==============================] - 0s 114us/sample - loss: 0.6407 - acc: 0.8286\n",
      "Epoch 3/100\n",
      "105/105 [==============================] - 0s 108us/sample - loss: 0.6318 - acc: 0.8286\n",
      "Epoch 4/100\n",
      "105/105 [==============================] - 0s 115us/sample - loss: 0.6248 - acc: 0.8000\n",
      "Epoch 5/100\n",
      "105/105 [==============================] - 0s 116us/sample - loss: 0.6148 - acc: 0.7810\n",
      "Epoch 6/100\n",
      "105/105 [==============================] - 0s 105us/sample - loss: 0.6066 - acc: 0.8381\n",
      "Epoch 7/100\n",
      "105/105 [==============================] - 0s 103us/sample - loss: 0.5993 - acc: 0.8476\n",
      "Epoch 8/100\n",
      "105/105 [==============================] - 0s 127us/sample - loss: 0.5915 - acc: 0.7524\n",
      "Epoch 9/100\n",
      "105/105 [==============================] - 0s 113us/sample - loss: 0.5854 - acc: 0.7238\n",
      "Epoch 10/100\n",
      "105/105 [==============================] - 0s 123us/sample - loss: 0.5785 - acc: 0.7714\n",
      "Epoch 11/100\n",
      "105/105 [==============================] - 0s 129us/sample - loss: 0.5717 - acc: 0.8381\n",
      "Epoch 12/100\n",
      "105/105 [==============================] - 0s 113us/sample - loss: 0.5654 - acc: 0.8381\n",
      "Epoch 13/100\n",
      "105/105 [==============================] - 0s 112us/sample - loss: 0.5592 - acc: 0.7619\n",
      "Epoch 14/100\n",
      "105/105 [==============================] - 0s 114us/sample - loss: 0.5536 - acc: 0.8381\n",
      "Epoch 15/100\n",
      "105/105 [==============================] - 0s 111us/sample - loss: 0.5485 - acc: 0.8476\n",
      "Epoch 16/100\n",
      "105/105 [==============================] - 0s 110us/sample - loss: 0.5426 - acc: 0.8381\n",
      "Epoch 17/100\n",
      "105/105 [==============================] - 0s 130us/sample - loss: 0.5374 - acc: 0.7810\n",
      "Epoch 18/100\n",
      "105/105 [==============================] - 0s 106us/sample - loss: 0.5333 - acc: 0.7429\n",
      "Epoch 19/100\n",
      "105/105 [==============================] - 0s 116us/sample - loss: 0.5324 - acc: 0.8286\n",
      "Epoch 20/100\n",
      "105/105 [==============================] - 0s 137us/sample - loss: 0.5227 - acc: 0.7714\n",
      "Epoch 21/100\n",
      "105/105 [==============================] - 0s 134us/sample - loss: 0.5189 - acc: 0.8762\n",
      "Epoch 22/100\n",
      "105/105 [==============================] - 0s 126us/sample - loss: 0.5146 - acc: 0.8000\n",
      "Epoch 23/100\n",
      "105/105 [==============================] - 0s 108us/sample - loss: 0.5100 - acc: 0.8571\n",
      "Epoch 24/100\n",
      "105/105 [==============================] - 0s 123us/sample - loss: 0.5052 - acc: 0.8476\n",
      "Epoch 25/100\n",
      "105/105 [==============================] - 0s 117us/sample - loss: 0.5013 - acc: 0.8190\n",
      "Epoch 26/100\n",
      "105/105 [==============================] - 0s 144us/sample - loss: 0.4984 - acc: 0.7905\n",
      "Epoch 27/100\n",
      "105/105 [==============================] - 0s 117us/sample - loss: 0.4952 - acc: 0.8190\n",
      "Epoch 28/100\n",
      "105/105 [==============================] - 0s 139us/sample - loss: 0.4916 - acc: 0.7429\n",
      "Epoch 29/100\n",
      "105/105 [==============================] - 0s 191us/sample - loss: 0.4870 - acc: 0.8286\n",
      "Epoch 30/100\n",
      "105/105 [==============================] - 0s 122us/sample - loss: 0.4834 - acc: 0.8381\n",
      "Epoch 31/100\n",
      "105/105 [==============================] - 0s 137us/sample - loss: 0.4812 - acc: 0.8857\n",
      "Epoch 32/100\n",
      "105/105 [==============================] - 0s 135us/sample - loss: 0.4778 - acc: 0.8571\n",
      "Epoch 33/100\n",
      "105/105 [==============================] - 0s 127us/sample - loss: 0.4735 - acc: 0.9143\n",
      "Epoch 34/100\n",
      "105/105 [==============================] - 0s 113us/sample - loss: 0.4698 - acc: 0.8667\n",
      "Epoch 35/100\n",
      "105/105 [==============================] - 0s 97us/sample - loss: 0.4697 - acc: 0.8857\n",
      "Epoch 36/100\n",
      "105/105 [==============================] - 0s 119us/sample - loss: 0.4640 - acc: 0.8476\n",
      "Epoch 37/100\n",
      "105/105 [==============================] - 0s 127us/sample - loss: 0.4648 - acc: 0.8000\n",
      "Epoch 38/100\n",
      "105/105 [==============================] - 0s 114us/sample - loss: 0.4605 - acc: 0.9143\n",
      "Epoch 39/100\n",
      "105/105 [==============================] - 0s 110us/sample - loss: 0.4589 - acc: 0.9238\n",
      "Epoch 40/100\n",
      "105/105 [==============================] - 0s 113us/sample - loss: 0.4529 - acc: 0.9238\n",
      "Epoch 41/100\n",
      "105/105 [==============================] - 0s 108us/sample - loss: 0.4524 - acc: 0.9238\n",
      "Epoch 42/100\n",
      "105/105 [==============================] - 0s 123us/sample - loss: 0.4483 - acc: 0.9048\n",
      "Epoch 43/100\n",
      "105/105 [==============================] - 0s 137us/sample - loss: 0.4445 - acc: 0.8667\n",
      "Epoch 44/100\n",
      "105/105 [==============================] - 0s 132us/sample - loss: 0.4427 - acc: 0.8952\n",
      "Epoch 45/100\n",
      "105/105 [==============================] - 0s 138us/sample - loss: 0.4399 - acc: 0.8571\n",
      "Epoch 46/100\n",
      "105/105 [==============================] - 0s 140us/sample - loss: 0.4379 - acc: 0.8476\n",
      "Epoch 47/100\n",
      "105/105 [==============================] - 0s 143us/sample - loss: 0.4385 - acc: 0.8667\n",
      "Epoch 48/100\n",
      "105/105 [==============================] - 0s 124us/sample - loss: 0.4356 - acc: 0.7810\n",
      "Epoch 49/100\n",
      "105/105 [==============================] - 0s 127us/sample - loss: 0.4322 - acc: 0.8190\n",
      "Epoch 50/100\n",
      "105/105 [==============================] - 0s 126us/sample - loss: 0.4297 - acc: 0.8476\n",
      "Epoch 51/100\n",
      "105/105 [==============================] - 0s 123us/sample - loss: 0.4261 - acc: 0.8762\n",
      "Epoch 52/100\n",
      "105/105 [==============================] - 0s 215us/sample - loss: 0.4246 - acc: 0.9238\n",
      "Epoch 53/100\n",
      "105/105 [==============================] - 0s 190us/sample - loss: 0.4207 - acc: 0.9238\n",
      "Epoch 54/100\n",
      "105/105 [==============================] - 0s 126us/sample - loss: 0.4195 - acc: 0.9048\n",
      "Epoch 55/100\n",
      "105/105 [==============================] - 0s 119us/sample - loss: 0.4196 - acc: 0.8857\n",
      "Epoch 56/100\n",
      "105/105 [==============================] - 0s 131us/sample - loss: 0.4148 - acc: 0.9048\n",
      "Epoch 57/100\n",
      "105/105 [==============================] - 0s 145us/sample - loss: 0.4116 - acc: 0.8952\n",
      "Epoch 58/100\n",
      "105/105 [==============================] - 0s 102us/sample - loss: 0.4093 - acc: 0.9143\n",
      "Epoch 59/100\n",
      "105/105 [==============================] - 0s 121us/sample - loss: 0.4072 - acc: 0.9238\n",
      "Epoch 60/100\n",
      "105/105 [==============================] - 0s 134us/sample - loss: 0.4065 - acc: 0.9333\n",
      "Epoch 61/100\n",
      "105/105 [==============================] - 0s 111us/sample - loss: 0.4036 - acc: 0.9238\n",
      "Epoch 62/100\n",
      "105/105 [==============================] - 0s 136us/sample - loss: 0.4004 - acc: 0.9238\n",
      "Epoch 63/100\n",
      "105/105 [==============================] - 0s 108us/sample - loss: 0.4016 - acc: 0.9238\n",
      "Epoch 64/100\n",
      "105/105 [==============================] - 0s 99us/sample - loss: 0.3973 - acc: 0.9143\n",
      "Epoch 65/100\n",
      "105/105 [==============================] - 0s 144us/sample - loss: 0.3950 - acc: 0.9238\n",
      "Epoch 66/100\n",
      "105/105 [==============================] - 0s 126us/sample - loss: 0.3943 - acc: 0.8952\n",
      "Epoch 67/100\n",
      "105/105 [==============================] - 0s 132us/sample - loss: 0.3926 - acc: 0.9238\n",
      "Epoch 68/100\n",
      "105/105 [==============================] - 0s 104us/sample - loss: 0.3917 - acc: 0.9333\n",
      "Epoch 69/100\n",
      "105/105 [==============================] - 0s 134us/sample - loss: 0.3870 - acc: 0.9429\n",
      "Epoch 70/100\n",
      "105/105 [==============================] - 0s 133us/sample - loss: 0.3870 - acc: 0.9333\n",
      "Epoch 71/100\n",
      "105/105 [==============================] - 0s 130us/sample - loss: 0.3835 - acc: 0.9524\n",
      "Epoch 72/100\n",
      "105/105 [==============================] - 0s 126us/sample - loss: 0.3819 - acc: 0.9333\n",
      "Epoch 73/100\n",
      "105/105 [==============================] - 0s 124us/sample - loss: 0.3819 - acc: 0.9238\n",
      "Epoch 74/100\n",
      "105/105 [==============================] - 0s 117us/sample - loss: 0.3774 - acc: 0.9238\n",
      "Epoch 75/100\n",
      "105/105 [==============================] - 0s 143us/sample - loss: 0.3762 - acc: 0.9333\n",
      "Epoch 76/100\n",
      "105/105 [==============================] - 0s 182us/sample - loss: 0.3746 - acc: 0.9333\n",
      "Epoch 77/100\n",
      "105/105 [==============================] - 0s 128us/sample - loss: 0.3722 - acc: 0.9429\n",
      "Epoch 78/100\n",
      "105/105 [==============================] - 0s 143us/sample - loss: 0.3707 - acc: 0.9238\n",
      "Epoch 79/100\n",
      "105/105 [==============================] - 0s 119us/sample - loss: 0.3693 - acc: 0.9429\n",
      "Epoch 80/100\n",
      "105/105 [==============================] - 0s 112us/sample - loss: 0.3667 - acc: 0.9333\n",
      "Epoch 81/100\n",
      "105/105 [==============================] - 0s 142us/sample - loss: 0.3656 - acc: 0.9429\n",
      "Epoch 82/100\n",
      "105/105 [==============================] - 0s 126us/sample - loss: 0.3648 - acc: 0.9333\n",
      "Epoch 83/100\n",
      "105/105 [==============================] - 0s 134us/sample - loss: 0.3624 - acc: 0.9429\n",
      "Epoch 84/100\n",
      "105/105 [==============================] - 0s 141us/sample - loss: 0.3600 - acc: 0.9429\n",
      "Epoch 85/100\n",
      "105/105 [==============================] - 0s 154us/sample - loss: 0.3578 - acc: 0.9429\n",
      "Epoch 86/100\n",
      "105/105 [==============================] - 0s 107us/sample - loss: 0.3565 - acc: 0.9429\n",
      "Epoch 87/100\n",
      "105/105 [==============================] - 0s 111us/sample - loss: 0.3570 - acc: 0.9333\n",
      "Epoch 88/100\n",
      "105/105 [==============================] - 0s 111us/sample - loss: 0.3537 - acc: 0.9429\n",
      "Epoch 89/100\n",
      "105/105 [==============================] - 0s 110us/sample - loss: 0.3528 - acc: 0.9524\n",
      "Epoch 90/100\n",
      "105/105 [==============================] - 0s 113us/sample - loss: 0.3512 - acc: 0.9524\n",
      "Epoch 91/100\n",
      "105/105 [==============================] - 0s 106us/sample - loss: 0.3483 - acc: 0.9524\n",
      "Epoch 92/100\n",
      "105/105 [==============================] - 0s 99us/sample - loss: 0.3467 - acc: 0.9429\n",
      "Epoch 93/100\n",
      "105/105 [==============================] - 0s 123us/sample - loss: 0.3446 - acc: 0.9429\n",
      "Epoch 94/100\n",
      "105/105 [==============================] - 0s 148us/sample - loss: 0.3447 - acc: 0.9429\n",
      "Epoch 95/100\n",
      "105/105 [==============================] - 0s 134us/sample - loss: 0.3433 - acc: 0.9429\n",
      "Epoch 96/100\n",
      "105/105 [==============================] - 0s 111us/sample - loss: 0.3408 - acc: 0.9429\n",
      "Epoch 97/100\n",
      "105/105 [==============================] - 0s 116us/sample - loss: 0.3386 - acc: 0.9429\n",
      "Epoch 98/100\n",
      "105/105 [==============================] - 0s 135us/sample - loss: 0.3409 - acc: 0.9429\n",
      "Epoch 99/100\n",
      "105/105 [==============================] - 0s 122us/sample - loss: 0.3348 - acc: 0.9429\n",
      "Epoch 100/100\n",
      "105/105 [==============================] - 0s 119us/sample - loss: 0.3343 - acc: 0.9524\n"
     ]
    }
   ],
   "source": [
    "# model.evaluate(X,y)\n",
    "from sklearn.model_selection import train_test_split\n",
    "\n",
    "X_train,X_test, y_train,y_test = train_test_split(X,y, test_size=0.30, random_state=7)\n",
    "y_pred = model.fit(X_train,y_train,epochs=100)\n",
    "\n"
   ]
  },
  {
   "cell_type": "code",
   "execution_count": 0,
   "metadata": {
    "colab": {},
    "colab_type": "code",
    "id": "KdqumlMtkem6"
   },
   "outputs": [],
   "source": []
  },
  {
   "cell_type": "markdown",
   "metadata": {
    "colab_type": "text",
    "id": "y-SgSSdRcih5"
   },
   "source": [
    "### Model Prediction"
   ]
  },
  {
   "cell_type": "code",
   "execution_count": 41,
   "metadata": {
    "colab": {
     "base_uri": "https://localhost:8080/",
     "height": 50
    },
    "colab_type": "code",
    "executionInfo": {
     "elapsed": 902,
     "status": "ok",
     "timestamp": 1563713959115,
     "user": {
      "displayName": "Obuliraj Selvaraj",
      "photoUrl": "https://lh5.googleusercontent.com/-IDGxjEUNNwM/AAAAAAAAAAI/AAAAAAAAET8/xQrS1ME2NjI/s64/photo.jpg",
      "userId": "12764693776412193451"
     },
     "user_tz": -330
    },
    "id": "GBgKZkhkcih6",
    "outputId": "94b99926-aafc-4040-b026-edbe35c2ac15"
   },
   "outputs": [
    {
     "name": "stdout",
     "output_type": "stream",
     "text": [
      "45/45 [==============================] - 0s 714us/sample - loss: 0.3813 - acc: 0.9556\n"
     ]
    },
    {
     "data": {
      "text/plain": [
       "[0.38129538165198434, 0.95555556]"
      ]
     },
     "execution_count": 41,
     "metadata": {
      "tags": []
     },
     "output_type": "execute_result"
    }
   ],
   "source": [
    "model.evaluate(X_test, y_test)"
   ]
  },
  {
   "cell_type": "markdown",
   "metadata": {
    "colab_type": "text",
    "id": "P32ASP1Vjt0a"
   },
   "source": [
    "### Save the Model"
   ]
  },
  {
   "cell_type": "code",
   "execution_count": 0,
   "metadata": {
    "colab": {},
    "colab_type": "code",
    "id": "n8rd0jjAjyTR"
   },
   "outputs": [],
   "source": [
    "model.save(\"iris_model.h5\")"
   ]
  },
  {
   "cell_type": "markdown",
   "metadata": {
    "colab_type": "text",
    "id": "XiipRpe7rbVh"
   },
   "source": [
    "### Build and Train a Deep Neural network with 2 hidden layer  - Optional - For Practice\n",
    "\n",
    "Does it perform better than Linear Classifier? What could be the reason for difference in performance?"
   ]
  },
  {
   "cell_type": "code",
   "execution_count": 0,
   "metadata": {
    "colab": {},
    "colab_type": "code",
    "id": "v5Du3lubr4sA"
   },
   "outputs": [],
   "source": []
  }
 ],
 "metadata": {
  "accelerator": "GPU",
  "colab": {
   "collapsed_sections": [],
   "name": "R6_Internal_Lab_UpdatedTF2_Prices_Iris.ipynb",
   "provenance": [],
   "version": "0.3.2"
  },
  "kernelspec": {
   "display_name": "Python 3",
   "language": "python",
   "name": "python3"
  },
  "language_info": {
   "codemirror_mode": {
    "name": "ipython",
    "version": 3
   },
   "file_extension": ".py",
   "mimetype": "text/x-python",
   "name": "python",
   "nbconvert_exporter": "python",
   "pygments_lexer": "ipython3",
   "version": "3.7.1"
  }
 },
 "nbformat": 4,
 "nbformat_minor": 1
}
