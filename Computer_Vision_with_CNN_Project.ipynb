{
 "cells": [
  {
   "cell_type": "code",
   "execution_count": 2,
   "metadata": {},
   "outputs": [],
   "source": [
    "import os\n",
    "from PIL import Image\n",
    "import numpy as np # linear algebra\n",
    "import pandas as pd # data processing, CSV file I/O (e.g. pd.read_csv)\n",
    "import matplotlib.pyplot as plt\n",
    "from sklearn.model_selection import train_test_split\n",
    "import keras\n",
    "from keras.models import Sequential,Input,Model\n",
    "from keras.layers import Dense, Dropout, Flatten\n",
    "from keras.layers import Conv2D, MaxPooling2D\n",
    "from keras.layers.normalization import BatchNormalization\n",
    "from keras.layers.advanced_activations import LeakyReLU\n",
    "import scipy.misc\n",
    "from skimage import transform\n",
    "import warnings\n",
    "\n",
    "warnings.filterwarnings(\"ignore\")"
   ]
  },
  {
   "cell_type": "markdown",
   "metadata": {},
   "source": [
    "### Read the images and generate the train and test dataset"
   ]
  },
  {
   "cell_type": "code",
   "execution_count": 10,
   "metadata": {},
   "outputs": [],
   "source": [
    "#convertering list of training data paths to df\n",
    "train_dir = './train/'\n",
    "# print(train_dir)\n",
    "train_list = os.listdir(train_dir)\n"
   ]
  },
  {
   "cell_type": "code",
   "execution_count": 13,
   "metadata": {},
   "outputs": [
    {
     "data": {
      "text/plain": [
       "12"
      ]
     },
     "execution_count": 13,
     "metadata": {},
     "output_type": "execute_result"
    }
   ],
   "source": [
    "len(train_list)"
   ]
  },
  {
   "cell_type": "code",
   "execution_count": 15,
   "metadata": {},
   "outputs": [
    {
     "name": "stdout",
     "output_type": "stream",
     "text": [
      "           image     category\n",
      "0  0050f38b3.png  Black-grass\n",
      "1  0183fdf68.png  Black-grass\n",
      "2  0260cffa8.png  Black-grass\n",
      "3  05eedce4d.png  Black-grass\n",
      "4  075d004bc.png  Black-grass\n"
     ]
    }
   ],
   "source": [
    "# Put train data into dataframe\n",
    "records = []\n",
    "for category in train_list:\n",
    "    img_list = os.listdir(train_dir + category)\n",
    "    for img in img_list:\n",
    "        records.append((img,category))\n",
    "        \n",
    "df_train = pd.DataFrame.from_records(records,columns=['image','category'])\n",
    "\n",
    "print(df_train.head())"
   ]
  },
  {
   "cell_type": "code",
   "execution_count": 19,
   "metadata": {},
   "outputs": [
    {
     "name": "stdout",
     "output_type": "stream",
     "text": [
      "Train Data 4750\n",
      "Test Data <class 'list'> 794\n",
      "categories ['Black-grass', 'Charlock', 'Cleavers', 'Common Chickweed', 'Common wheat', 'Fat Hen', 'Loose Silky-bent', 'Maize', 'Scentless Mayweed', 'Shepherds Purse', 'Small-flowered Cranesbill', 'Sugar beet']\n",
      "# of categories 12\n"
     ]
    }
   ],
   "source": [
    "#looking at the test data\n",
    "test_dir = './test'\n",
    "test_list = os.listdir(test_dir)\n",
    "print('Train Data', len(df_train.index))\n",
    "print('Test Data',type(test_list),len(test_list))\n",
    "print('categories',os.listdir(train_dir))\n",
    "print('# of categories', len(os.listdir(train_dir)))\n"
   ]
  },
  {
   "cell_type": "code",
   "execution_count": 22,
   "metadata": {},
   "outputs": [
    {
     "name": "stderr",
     "output_type": "stream",
     "text": [
      "W1006 18:56:36.871271 16212 image.py:700] Clipping input data to the valid range for imshow with RGB data ([0..1] for floats or [0..255] for integers).\n"
     ]
    },
    {
     "data": {
      "image/png": "[encoded data removed]",
      "text/plain": [
       "<Figure size 432x288 with 1 Axes>"
      ]
     },
     "metadata": {
      "needs_background": "light"
     },
     "output_type": "display_data"
    }
   ],
   "source": [
    "for i in list(df_train['image'])[0:1]:\n",
    "    img = Image.open(train_dir + df_train['category'][0] + '/' + i)\n",
    "    img.load()\n",
    "    data = np.asarray(img, dtype=\"float32\" )\n",
    "    plt.imshow(data)\n",
    "    plt.show()"
   ]
  },
  {
   "cell_type": "code",
   "execution_count": 25,
   "metadata": {},
   "outputs": [
    {
     "name": "stdout",
     "output_type": "stream",
     "text": [
      "smallest image dimension 49\n",
      "bad images []\n",
      "Done creating X and y.\n",
      "X Shape (4726, 49, 49, 3)\n"
     ]
    }
   ],
   "source": [
    "dim_image = []\n",
    "for i in (train_dir + df_train['category'] + '/' + df_train['image']):\n",
    "    img = Image.open(i)\n",
    "    data = img.size\n",
    "    dim_image.append(data[0])\n",
    "print('smallest image dimension', min(dim_image))\n",
    "\n",
    "i_height = min(dim_image)\n",
    "i_width = min(dim_image)\n",
    "\n",
    "X = []\n",
    "count = 0\n",
    "bad_images = []\n",
    "#df_train = df_train.drop(df_train.index[bad_images])\n",
    "for i in (train_dir + df_train['category'] + '/' + df_train['image']):\n",
    "    img = Image.open(i)\n",
    "    img.load()\n",
    "    img = np.asarray(img, dtype='float32')\n",
    "    img = img/255\n",
    "    data = transform.resize(img,(49,49))\n",
    "    if data.size != 7203:\n",
    "        bad_images.append(count)\n",
    "#     plt.imshow(data)\n",
    "#     plt.show()\n",
    "#     X.append(data)\n",
    "    count += 1\n",
    "print('bad images',bad_images)\n",
    "\n",
    "df_train = df_train.drop(df_train.index[bad_images])\n",
    "for i in (train_dir + df_train['category'] + '/' + df_train['image']):\n",
    "    img = Image.open(i)\n",
    "    img.load()\n",
    "    img = np.asarray(img, dtype='float32')\n",
    "    img = img/255\n",
    "    data = transform.resize(img,(49,49))\n",
    "    X.append(data)\n",
    "\n",
    "X = np.array(X)\n",
    "\n",
    "y = np.array(df_train['category'].astype('category').cat.codes)\n",
    "\n",
    "print('Done creating X and y.')\n",
    "print('X Shape',X.shape)"
   ]
  },
  {
   "cell_type": "markdown",
   "metadata": {},
   "source": [
    "### Divide the data set into Train and validation data sets"
   ]
  },
  {
   "cell_type": "code",
   "execution_count": 24,
   "metadata": {},
   "outputs": [
    {
     "name": "stderr",
     "output_type": "stream",
     "text": [
      "W1006 21:43:50.730728 16212 deprecation_wrapper.py:119] From C:\\Users\\obuli\\.conda\\envs\\py36\\lib\\site-packages\\keras\\backend\\tensorflow_backend.py:74: The name tf.get_default_graph is deprecated. Please use tf.compat.v1.get_default_graph instead.\n",
      "\n",
      "W1006 21:43:50.832153 16212 deprecation_wrapper.py:119] From C:\\Users\\obuli\\.conda\\envs\\py36\\lib\\site-packages\\keras\\backend\\tensorflow_backend.py:517: The name tf.placeholder is deprecated. Please use tf.compat.v1.placeholder instead.\n",
      "\n",
      "W1006 21:43:50.866895 16212 deprecation_wrapper.py:119] From C:\\Users\\obuli\\.conda\\envs\\py36\\lib\\site-packages\\keras\\backend\\tensorflow_backend.py:4138: The name tf.random_uniform is deprecated. Please use tf.random.uniform instead.\n",
      "\n",
      "W1006 21:43:50.952360 16212 deprecation_wrapper.py:119] From C:\\Users\\obuli\\.conda\\envs\\py36\\lib\\site-packages\\keras\\backend\\tensorflow_backend.py:3976: The name tf.nn.max_pool is deprecated. Please use tf.nn.max_pool2d instead.\n",
      "\n",
      "W1006 21:43:51.216421 16212 deprecation_wrapper.py:119] From C:\\Users\\obuli\\.conda\\envs\\py36\\lib\\site-packages\\keras\\optimizers.py:790: The name tf.train.Optimizer is deprecated. Please use tf.compat.v1.train.Optimizer instead.\n",
      "\n",
      "W1006 21:43:51.232487 16212 deprecation_wrapper.py:119] From C:\\Users\\obuli\\.conda\\envs\\py36\\lib\\site-packages\\keras\\backend\\tensorflow_backend.py:3341: The name tf.log is deprecated. Please use tf.math.log instead.\n",
      "\n",
      "W1006 21:43:51.947842 16212 deprecation.py:323] From C:\\Users\\obuli\\.conda\\envs\\py36\\lib\\site-packages\\tensorflow\\python\\ops\\math_grad.py:1250: add_dispatch_support.<locals>.wrapper (from tensorflow.python.ops.array_ops) is deprecated and will be removed in a future version.\n",
      "Instructions for updating:\n",
      "Use tf.where in 2.0, which has the same broadcast rule as np.where\n",
      "W1006 21:43:52.079811 16212 deprecation_wrapper.py:119] From C:\\Users\\obuli\\.conda\\envs\\py36\\lib\\site-packages\\keras\\backend\\tensorflow_backend.py:986: The name tf.assign_add is deprecated. Please use tf.compat.v1.assign_add instead.\n",
      "\n"
     ]
    },
    {
     "name": "stdout",
     "output_type": "stream",
     "text": [
      "Train on 3780 samples, validate on 946 samples\n",
      "Epoch 1/10\n",
      "3780/3780 [==============================] - 34s 9ms/step - loss: 2.0828 - acc: 0.2704 - val_loss: 1.5633 - val_acc: 0.4863\n",
      "Epoch 2/10\n",
      "3780/3780 [==============================] - 7s 2ms/step - loss: 1.2821 - acc: 0.5632 - val_loss: 1.0315 - val_acc: 0.6533\n",
      "Epoch 3/10\n",
      "3780/3780 [==============================] - 7s 2ms/step - loss: 0.9043 - acc: 0.6981 - val_loss: 0.9352 - val_acc: 0.6860\n",
      "Epoch 4/10\n",
      "3780/3780 [==============================] - 7s 2ms/step - loss: 0.7291 - acc: 0.7585 - val_loss: 0.8198 - val_acc: 0.7178\n",
      "Epoch 5/10\n",
      "3780/3780 [==============================] - 7s 2ms/step - loss: 0.5973 - acc: 0.7987 - val_loss: 0.7121 - val_acc: 0.7579\n",
      "Epoch 6/10\n",
      "3780/3780 [==============================] - 7s 2ms/step - loss: 0.4578 - acc: 0.8489 - val_loss: 0.8360 - val_acc: 0.7336\n",
      "Epoch 7/10\n",
      "3780/3780 [==============================] - 7s 2ms/step - loss: 0.3881 - acc: 0.8653 - val_loss: 0.8715 - val_acc: 0.7114\n",
      "Epoch 8/10\n",
      "3780/3780 [==============================] - 7s 2ms/step - loss: 0.3132 - acc: 0.8897 - val_loss: 0.8146 - val_acc: 0.7780\n",
      "Epoch 9/10\n",
      "3780/3780 [==============================] - 7s 2ms/step - loss: 0.2697 - acc: 0.8995 - val_loss: 0.9248 - val_acc: 0.7315\n",
      "Epoch 10/10\n",
      "3780/3780 [==============================] - 7s 2ms/step - loss: 0.2202 - acc: 0.9204 - val_loss: 0.8244 - val_acc: 0.7780\n"
     ]
    },
    {
     "data": {
      "text/plain": [
       "<keras.callbacks.History at 0x22461498390>"
      ]
     },
     "execution_count": 24,
     "metadata": {},
     "output_type": "execute_result"
    }
   ],
   "source": [
    "X_train, X_test, y_train, y_test = train_test_split(X, y, test_size=0.2, random_state=42)\n",
    "\n",
    "im_shape = (49,49,3)\n",
    "batch_size = 10\n",
    "\n",
    "cnn  = Sequential([\n",
    "    Conv2D(32, kernel_size=(3,3), activation='linear', input_shape=im_shape, padding='same'),\n",
    "    LeakyReLU(alpha=0.1),\n",
    "    MaxPooling2D((2,2), padding='same'),\n",
    "    Conv2D(64, kernel_size=(3,3), activation='linear', padding='same'),\n",
    "    LeakyReLU(alpha=0.1),\n",
    "    MaxPooling2D((2,2), padding='same'),\n",
    "    Conv2D(128, kernel_size=(3,3), activation='linear', padding='same'),\n",
    "    LeakyReLU(alpha=0.1),\n",
    "    MaxPooling2D((2,2), padding='same'),\n",
    "    Flatten(),\n",
    "    Dense(50,activation='relu'),\n",
    "    Dense(12, activation='softmax')\n",
    "])\n",
    "\n",
    "cnn.compile(loss='sparse_categorical_crossentropy', optimizer=keras.optimizers.Adam(lr=0.001), metrics=['accuracy'])\n",
    "\n",
    "cnn. fit(X_train, y_train, batch_size=batch_size, epochs=10, verbose=1, validation_data=(X_test,y_test))"
   ]
  }
 ],
 "metadata": {
  "kernelspec": {
   "display_name": "Python 3",
   "language": "python",
   "name": "python3"
  },
  "language_info": {
   "codemirror_mode": {
    "name": "ipython",
    "version": 3
   },
   "file_extension": ".py",
   "mimetype": "text/x-python",
   "name": "python",
   "nbconvert_exporter": "python",
   "pygments_lexer": "ipython3",
   "version": "3.6.9"
  }
 },
 "nbformat": 4,
 "nbformat_minor": 2
}
