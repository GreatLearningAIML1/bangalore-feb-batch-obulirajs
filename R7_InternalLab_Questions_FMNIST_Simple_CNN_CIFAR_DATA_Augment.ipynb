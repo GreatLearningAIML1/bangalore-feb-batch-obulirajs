{
  "nbformat": 4,
  "nbformat_minor": 0,
  "metadata": {
    "accelerator": "GPU",
    "colab": {
      "name": "R7_InternalLab_Questions_FMNIST_Simple_CNN_CIFAR_DATA_Augment.ipynb",
      "version": "0.3.2",
      "provenance": [],
      "collapsed_sections": []
    },
    "kernelspec": {
      "display_name": "Python 3",
      "language": "python",
      "name": "python3"
    },
    "language_info": {
      "codemirror_mode": {
        "name": "ipython",
        "version": 3
      },
      "file_extension": ".py",
      "mimetype": "text/x-python",
      "name": "python",
      "nbconvert_exporter": "python",
      "pygments_lexer": "ipython3",
      "version": "3.6.9"
    }
  },
  "cells": [
    {
      "cell_type": "markdown",
      "metadata": {
        "colab_type": "text",
        "id": "MyfMmMnPJjvn"
      },
      "source": [
        "## Train a simple convnet on the Fashion MNIST dataset"
      ]
    },
    {
      "cell_type": "markdown",
      "metadata": {
        "colab_type": "text",
        "id": "zjcGOJhcJjvp"
      },
      "source": [
        "In this, we will see how to deal with image data and train a convnet for image classification task."
      ]
    },
    {
      "cell_type": "markdown",
      "metadata": {
        "colab_type": "text",
        "id": "jR0Pl2XjJjvq"
      },
      "source": [
        "### Load the  `fashion_mnist`  dataset\n",
        "\n",
        "** Use keras.datasets to load the dataset **"
      ]
    },
    {
      "cell_type": "code",
      "metadata": {
        "id": "3F-Xzn93B2sx",
        "colab_type": "code",
        "colab": {}
      },
      "source": [
        "import tensorflow as tf\n",
        "import keras as keras\n",
        "import numpy as np\n"
      ],
      "execution_count": 0,
      "outputs": []
    },
    {
      "cell_type": "code",
      "metadata": {
        "colab_type": "code",
        "id": "Qr75v_UYJjvs",
        "colab": {}
      },
      "source": [
        "\n",
        "from keras.datasets import fashion_mnist\n",
        "(x_train, y_train), (x_test, y_test) = fashion_mnist.load_data()"
      ],
      "execution_count": 0,
      "outputs": []
    },
    {
      "cell_type": "markdown",
      "metadata": {
        "colab_type": "text",
        "id": "hTI42-0qJjvw"
      },
      "source": [
        "### Find no.of samples are there in training and test datasets"
      ]
    },
    {
      "cell_type": "code",
      "metadata": {
        "colab_type": "code",
        "id": "g2sf67VoJjvx",
        "colab": {
          "base_uri": "https://localhost:8080/",
          "height": 50
        },
        "outputId": "3abd4797-e81e-486a-e1c2-37662e4c0212"
      },
      "source": [
        "print(\"Shape x_train :\" ,x_train.shape)\n",
        "print(\"Shape y_train :\" ,y_train.shape)"
      ],
      "execution_count": 97,
      "outputs": [
        {
          "output_type": "stream",
          "text": [
            "Shape x_train : (60000, 28, 28)\n",
            "Shape y_train : (60000,)\n"
          ],
          "name": "stdout"
        }
      ]
    },
    {
      "cell_type": "code",
      "metadata": {
        "colab_type": "code",
        "id": "zewyDcBlJjv1",
        "colab": {
          "base_uri": "https://localhost:8080/",
          "height": 50
        },
        "outputId": "b11d6e2b-5558-4f9c-fbd5-f9ff5727ddda"
      },
      "source": [
        "print(\"Shape x_test :\" ,x_test.shape)\n",
        "print(\"Shape y_test :\" ,y_test.shape)"
      ],
      "execution_count": 98,
      "outputs": [
        {
          "output_type": "stream",
          "text": [
            "Shape x_test : (10000, 28, 28)\n",
            "Shape y_test : (10000,)\n"
          ],
          "name": "stdout"
        }
      ]
    },
    {
      "cell_type": "markdown",
      "metadata": {
        "colab_type": "text",
        "id": "WytT2eRnJjv4"
      },
      "source": [
        "### Find dimensions of an image in the dataset"
      ]
    },
    {
      "cell_type": "code",
      "metadata": {
        "colab_type": "code",
        "id": "XycQGBSGJjv5",
        "colab": {
          "base_uri": "https://localhost:8080/",
          "height": 34
        },
        "outputId": "988528a5-12d9-4f8a-d5f7-f0157407537b"
      },
      "source": [
        "print(\"Shape of first object in x_train :\",x_train[0].shape)"
      ],
      "execution_count": 99,
      "outputs": [
        {
          "output_type": "stream",
          "text": [
            "Shape of first object in x_train : (28, 28)\n"
          ],
          "name": "stdout"
        }
      ]
    },
    {
      "cell_type": "markdown",
      "metadata": {
        "colab_type": "text",
        "id": "5jtdZ7RqJjv8"
      },
      "source": [
        "### Convert train and test labels to one hot vectors\n",
        "\n",
        "** check `keras.utils.to_categorical()` **"
      ]
    },
    {
      "cell_type": "code",
      "metadata": {
        "colab_type": "code",
        "id": "sAD3q5I6Jjv9",
        "colab": {}
      },
      "source": [
        "class_len = len(np.unique(y_train))\n",
        "testY = keras.utils.to_categorical(y_test,\n",
        "    num_classes=None,\n",
        "    dtype='float32')\n",
        "trainY = keras.utils.to_categorical(y_train,\n",
        "    num_classes=None,\n",
        "    dtype='float32')"
      ],
      "execution_count": 0,
      "outputs": []
    },
    {
      "cell_type": "code",
      "metadata": {
        "colab_type": "code",
        "id": "mgHSCXy3JjwA",
        "colab": {}
      },
      "source": [
        ""
      ],
      "execution_count": 0,
      "outputs": []
    },
    {
      "cell_type": "markdown",
      "metadata": {
        "colab_type": "text",
        "id": "xO5BRBzBJjwD"
      },
      "source": [
        "### Normalize both the train and test image data from 0-255 to 0-1"
      ]
    },
    {
      "cell_type": "code",
      "metadata": {
        "colab_type": "code",
        "id": "3fUQpMHxJjwE",
        "colab": {}
      },
      "source": [
        "train_x = np.array(x_train).astype('float32') / 255.0\n",
        "test_x = np.array(x_test).astype('float32') / 255.0\n",
        "# train_y = np.array(y_train).astype('float32') / 255.0\n",
        "# test_y = np.array(y_test).astype('float32') /255.0"
      ],
      "execution_count": 0,
      "outputs": []
    },
    {
      "cell_type": "code",
      "metadata": {
        "colab_type": "code",
        "id": "Okwo_SB5JjwI",
        "colab": {
          "base_uri": "https://localhost:8080/",
          "height": 34
        },
        "outputId": "6e330144-c484-49be-9d71-22020cda91bc"
      },
      "source": [
        "test_x.shape"
      ],
      "execution_count": 29,
      "outputs": [
        {
          "output_type": "execute_result",
          "data": {
            "text/plain": [
              "(10000, 28, 28)"
            ]
          },
          "metadata": {
            "tags": []
          },
          "execution_count": 29
        }
      ]
    },
    {
      "cell_type": "markdown",
      "metadata": {
        "colab_type": "text",
        "id": "da5-DwgrJjwM"
      },
      "source": [
        "### Reshape the data from 28x28 to 28x28x1 to match input dimensions in Conv2D layer in keras"
      ]
    },
    {
      "cell_type": "code",
      "metadata": {
        "colab_type": "code",
        "id": "LPGVQ-JJJjwN",
        "colab": {}
      },
      "source": [
        "# train_x = tf.keras.preprocessing.image.img_to_array(train_x)\n",
        "# test_x = tf.keras.preprocessing.image.img_to_array(test_x)\n",
        "train_x = train_x.reshape(60000,28,28,1)\n",
        "test_x = test_x.reshape(10000,28,28,1)"
      ],
      "execution_count": 0,
      "outputs": []
    },
    {
      "cell_type": "markdown",
      "metadata": {
        "colab_type": "text",
        "id": "OFRRTJq8JjwQ"
      },
      "source": [
        "### Import the necessary layers from keras to build the model"
      ]
    },
    {
      "cell_type": "code",
      "metadata": {
        "colab_type": "code",
        "id": "dWTZYnKSJjwR",
        "colab": {}
      },
      "source": [
        ""
      ],
      "execution_count": 0,
      "outputs": []
    },
    {
      "cell_type": "markdown",
      "metadata": {
        "colab_type": "text",
        "id": "C18AoS7eJjwU"
      },
      "source": [
        "### Build a model \n",
        "\n",
        "** with 2 Conv layers having `32 3x3 filters` in both convolutions with `relu activations` and `flatten` before passing the feature map into 2 fully connected layers (or Dense Layers) having 128 and 10 neurons with `relu` and `softmax` activations respectively. Now, using `categorical_crossentropy` loss with `adam` optimizer train the model with early stopping `patience=5` and no.of `epochs=10`. **"
      ]
    },
    {
      "cell_type": "code",
      "metadata": {
        "colab_type": "code",
        "id": "DORCLgSwJjwV",
        "colab": {}
      },
      "source": [
        "#Initialize model, reshape & normalize data\n",
        "model = tf.keras.models.Sequential()\n",
        "img_size = 32\n",
        "\n",
        "#Add Layers\n",
        "# model.add(tf.keras.layers.BatchNormalization(input_shape=(img_size,img_size,3)))\n",
        "model.add(tf.keras.layers.Conv2D(32, kernel_size=(3,3), activation='relu'))\n",
        "model.add(tf.keras.layers.Conv2D(34, kernel_size=(3,3), activation='relu'))\n",
        "# model.add(tf.keras.layers.MaxPool2D(pool_size=(2,2)))\n",
        "model.add(tf.keras.layers.Flatten())\n",
        "model.add(tf.keras.layers.Dense(128, activation='relu'))\n",
        "# model.add(tf.keras.layers.Dropout(0.25))\n",
        "model.add(tf.keras.layers.Dense(10, activation='softmax'))\n",
        "\n",
        "model.compile(optimizer='adam', loss='categorical_crossentropy', metrics=['accuracy'])\n",
        "\n",
        "   "
      ],
      "execution_count": 0,
      "outputs": []
    },
    {
      "cell_type": "markdown",
      "metadata": {
        "colab_type": "text",
        "id": "ju69vKdIJjwX"
      },
      "source": [
        "### Now, to the above model add `max` pooling layer of `filter size 2x2` and `dropout` layer with `p=0.25` after the 2 conv layers and run the model"
      ]
    },
    {
      "cell_type": "code",
      "metadata": {
        "colab_type": "code",
        "id": "L2hAP94vJjwY",
        "colab": {}
      },
      "source": [
        "patience=5\n",
        "callbacks = [\n",
        "    tf.keras.callbacks.EarlyStopping(\n",
        "        monitor='val_acc',\n",
        "        patience=patience,\n",
        "        mode='max',\n",
        "        verbose=1)\n",
        "]"
      ],
      "execution_count": 0,
      "outputs": []
    },
    {
      "cell_type": "code",
      "metadata": {
        "id": "WCAgPGObJTjg",
        "colab_type": "code",
        "colab": {
          "base_uri": "https://localhost:8080/",
          "height": 558
        },
        "outputId": "2841c8ff-aa42-4513-a257-8a2fbb749259"
      },
      "source": [
        "model.fit(train_x,trainY, epochs=10,callbacks = callbacks)\n"
      ],
      "execution_count": 105,
      "outputs": [
        {
          "output_type": "stream",
          "text": [
            "Epoch 1/10\n",
            "59840/60000 [============================>.] - ETA: 0s - loss: 0.3739 - acc: 0.8658"
          ],
          "name": "stdout"
        },
        {
          "output_type": "stream",
          "text": [
            "W0818 10:45:27.304798 140599988692864 callbacks.py:1259] Early stopping conditioned on metric `val_acc` which is not available. Available metrics are: loss,acc\n"
          ],
          "name": "stderr"
        },
        {
          "output_type": "stream",
          "text": [
            "60000/60000 [==============================] - 8s 131us/sample - loss: 0.3735 - acc: 0.8659\n",
            "Epoch 2/10\n",
            "59616/60000 [============================>.] - ETA: 0s - loss: 0.2321 - acc: 0.9141"
          ],
          "name": "stdout"
        },
        {
          "output_type": "stream",
          "text": [
            "W0818 10:45:34.837731 140599988692864 callbacks.py:1259] Early stopping conditioned on metric `val_acc` which is not available. Available metrics are: loss,acc\n"
          ],
          "name": "stderr"
        },
        {
          "output_type": "stream",
          "text": [
            "60000/60000 [==============================] - 8s 125us/sample - loss: 0.2320 - acc: 0.9142\n",
            "Epoch 3/10\n",
            "59808/60000 [============================>.] - ETA: 0s - loss: 0.1696 - acc: 0.9364"
          ],
          "name": "stdout"
        },
        {
          "output_type": "stream",
          "text": [
            "W0818 10:45:42.388593 140599988692864 callbacks.py:1259] Early stopping conditioned on metric `val_acc` which is not available. Available metrics are: loss,acc\n"
          ],
          "name": "stderr"
        },
        {
          "output_type": "stream",
          "text": [
            "60000/60000 [==============================] - 8s 126us/sample - loss: 0.1695 - acc: 0.9365\n",
            "Epoch 4/10\n",
            "59808/60000 [============================>.] - ETA: 0s - loss: 0.1185 - acc: 0.9559"
          ],
          "name": "stdout"
        },
        {
          "output_type": "stream",
          "text": [
            "W0818 10:45:49.909712 140599988692864 callbacks.py:1259] Early stopping conditioned on metric `val_acc` which is not available. Available metrics are: loss,acc\n"
          ],
          "name": "stderr"
        },
        {
          "output_type": "stream",
          "text": [
            "60000/60000 [==============================] - 8s 125us/sample - loss: 0.1184 - acc: 0.9559\n",
            "Epoch 5/10\n",
            "59616/60000 [============================>.] - ETA: 0s - loss: 0.0799 - acc: 0.9700"
          ],
          "name": "stdout"
        },
        {
          "output_type": "stream",
          "text": [
            "W0818 10:45:57.466903 140599988692864 callbacks.py:1259] Early stopping conditioned on metric `val_acc` which is not available. Available metrics are: loss,acc\n"
          ],
          "name": "stderr"
        },
        {
          "output_type": "stream",
          "text": [
            "60000/60000 [==============================] - 8s 126us/sample - loss: 0.0800 - acc: 0.9700\n",
            "Epoch 6/10\n",
            "59616/60000 [============================>.] - ETA: 0s - loss: 0.0531 - acc: 0.9814"
          ],
          "name": "stdout"
        },
        {
          "output_type": "stream",
          "text": [
            "W0818 10:46:05.214962 140599988692864 callbacks.py:1259] Early stopping conditioned on metric `val_acc` which is not available. Available metrics are: loss,acc\n"
          ],
          "name": "stderr"
        },
        {
          "output_type": "stream",
          "text": [
            "60000/60000 [==============================] - 8s 129us/sample - loss: 0.0531 - acc: 0.9814\n",
            "Epoch 7/10\n",
            "59872/60000 [============================>.] - ETA: 0s - loss: 0.0372 - acc: 0.9865"
          ],
          "name": "stdout"
        },
        {
          "output_type": "stream",
          "text": [
            "W0818 10:46:12.783426 140599988692864 callbacks.py:1259] Early stopping conditioned on metric `val_acc` which is not available. Available metrics are: loss,acc\n"
          ],
          "name": "stderr"
        },
        {
          "output_type": "stream",
          "text": [
            "60000/60000 [==============================] - 8s 126us/sample - loss: 0.0372 - acc: 0.9865\n",
            "Epoch 8/10\n",
            "59616/60000 [============================>.] - ETA: 0s - loss: 0.0279 - acc: 0.9901"
          ],
          "name": "stdout"
        },
        {
          "output_type": "stream",
          "text": [
            "W0818 10:46:20.262669 140599988692864 callbacks.py:1259] Early stopping conditioned on metric `val_acc` which is not available. Available metrics are: loss,acc\n"
          ],
          "name": "stderr"
        },
        {
          "output_type": "stream",
          "text": [
            "60000/60000 [==============================] - 7s 125us/sample - loss: 0.0278 - acc: 0.9901\n",
            "Epoch 9/10\n",
            "59936/60000 [============================>.] - ETA: 0s - loss: 0.0226 - acc: 0.9920"
          ],
          "name": "stdout"
        },
        {
          "output_type": "stream",
          "text": [
            "W0818 10:46:27.751979 140599988692864 callbacks.py:1259] Early stopping conditioned on metric `val_acc` which is not available. Available metrics are: loss,acc\n"
          ],
          "name": "stderr"
        },
        {
          "output_type": "stream",
          "text": [
            "60000/60000 [==============================] - 7s 125us/sample - loss: 0.0226 - acc: 0.9920\n",
            "Epoch 10/10\n",
            "59648/60000 [============================>.] - ETA: 0s - loss: 0.0183 - acc: 0.9935"
          ],
          "name": "stdout"
        },
        {
          "output_type": "stream",
          "text": [
            "W0818 10:46:35.222586 140599988692864 callbacks.py:1259] Early stopping conditioned on metric `val_acc` which is not available. Available metrics are: loss,acc\n"
          ],
          "name": "stderr"
        },
        {
          "output_type": "stream",
          "text": [
            "\b\b\b\b\b\b\b\b\b\b\b\b\b\b\b\b\b\b\b\b\b\b\b\b\b\b\b\b\b\b\b\b\b\b\b\b\b\b\b\b\b\b\b\b\b\b\b\b\b\b\b\b\b\b\b\b\b\b\b\b\b\b\b\b\b\b\b\b\b\b\b\b\b\b\b\b\b\b\b\b\b\b\b\r60000/60000 [==============================] - 7s 124us/sample - loss: 0.0183 - acc: 0.9935\n"
          ],
          "name": "stdout"
        },
        {
          "output_type": "execute_result",
          "data": {
            "text/plain": [
              "<tensorflow.python.keras.callbacks.History at 0x7fdf1bbdbe48>"
            ]
          },
          "metadata": {
            "tags": []
          },
          "execution_count": 105
        }
      ]
    },
    {
      "cell_type": "markdown",
      "metadata": {
        "colab_type": "text",
        "id": "lGTA3bfEJjwa"
      },
      "source": [
        "### Now, to the above model, lets add Data Augmentation "
      ]
    },
    {
      "cell_type": "markdown",
      "metadata": {
        "colab_type": "text",
        "id": "F6gX8n5SJjwb"
      },
      "source": [
        "### Import the ImageDataGenrator from keras and fit the training images"
      ]
    },
    {
      "cell_type": "code",
      "metadata": {
        "colab_type": "code",
        "id": "Cbz4uHBuJjwc",
        "colab": {}
      },
      "source": [
        "datagen = tf.keras.preprocessing.image.ImageDataGenerator(horizontal_flip=True,\n",
        "                                                               width_shift_range=0.2,\n",
        "                                                               height_shift_range=0.2,\n",
        "                                                               rotation_range=30,\n",
        "                                                               shear_range=0.2,\n",
        "                                                               zoom_range=0.3)"
      ],
      "execution_count": 0,
      "outputs": []
    },
    {
      "cell_type": "code",
      "metadata": {
        "id": "oQr-0drtN-pE",
        "colab_type": "code",
        "colab": {
          "base_uri": "https://localhost:8080/",
          "height": 45
        },
        "outputId": "a1ce2d2c-7651-495c-c021-a5e4c3f1658e"
      },
      "source": [
        "transformed_image = tf.keras.preprocessing.image.array_to_img(train_x[0])\n",
        "transformed_image\n"
      ],
      "execution_count": 107,
      "outputs": [
        {
          "output_type": "execute_result",
          "data": {
            "image/png": "[encoded data removed]",
            "text/plain": [
              "<PIL.Image.Image image mode=L size=28x28 at 0x7FDF1B78A0B8>"
            ]
          },
          "metadata": {
            "tags": []
          },
          "execution_count": 107
        }
      ]
    },
    {
      "cell_type": "markdown",
      "metadata": {
        "colab_type": "text",
        "id": "pl-8dOo7Jjwf"
      },
      "source": [
        "#### Showing 5 versions of the first image in training dataset using image datagenerator.flow()"
      ]
    },
    {
      "cell_type": "code",
      "metadata": {
        "colab_type": "code",
        "id": "DpI1_McYJjwg",
        "outputId": "ad98ba1e-0e80-4f77-824d-bd8d7e1180e0",
        "scrolled": true,
        "colab": {
          "base_uri": "https://localhost:8080/",
          "height": 109
        }
      },
      "source": [
        "from matplotlib import pyplot as plt\n",
        "gen = datagen.flow(train_x[0:1], batch_size=1)\n",
        "for i in range(1, 6):\n",
        "    plt.subplot(1,5,i)\n",
        "    plt.axis(\"off\")\n",
        "    plt.imshow(gen.next().squeeze(), cmap='gray')\n",
        "    plt.plot()\n",
        "plt.show()"
      ],
      "execution_count": 108,
      "outputs": [
        {
          "output_type": "display_data",
          "data": {
            "image/png": "[encoded data removed]",
            "text/plain": [
              "<Figure size 432x288 with 5 Axes>"
            ]
          },
          "metadata": {
            "tags": []
          }
        }
      ]
    },
    {
      "cell_type": "markdown",
      "metadata": {
        "colab_type": "text",
        "id": "dmPl5yE8Jjwm"
      },
      "source": [
        "### Run the above model using fit_generator()"
      ]
    },
    {
      "cell_type": "code",
      "metadata": {
        "colab_type": "code",
        "id": "44ZnDdJYJjwn",
        "colab": {
          "base_uri": "https://localhost:8080/",
          "height": 558
        },
        "outputId": "549748d6-cb08-490c-da63-1110b2c39870"
      },
      "source": [
        "# model.fit(train_x,trainY, epochs=10,callbacks = callbacks)\n",
        "test_gen = datagen.flow(train_x, trainY, batch_size = 100)\n",
        "model.fit_generator(test_gen, epochs=10, callbacks = callbacks)"
      ],
      "execution_count": 110,
      "outputs": [
        {
          "output_type": "stream",
          "text": [
            "Epoch 1/10\n",
            "597/600 [============================>.] - ETA: 0s - loss: 1.1923 - acc: 0.5742"
          ],
          "name": "stdout"
        },
        {
          "output_type": "stream",
          "text": [
            "W0818 10:48:07.563629 140599988692864 callbacks.py:1259] Early stopping conditioned on metric `val_acc` which is not available. Available metrics are: loss,acc\n"
          ],
          "name": "stderr"
        },
        {
          "output_type": "stream",
          "text": [
            "600/600 [==============================] - 14s 23ms/step - loss: 1.1910 - acc: 0.5746\n",
            "Epoch 2/10\n",
            "598/600 [============================>.] - ETA: 0s - loss: 0.8535 - acc: 0.6818"
          ],
          "name": "stdout"
        },
        {
          "output_type": "stream",
          "text": [
            "W0818 10:48:21.650190 140599988692864 callbacks.py:1259] Early stopping conditioned on metric `val_acc` which is not available. Available metrics are: loss,acc\n"
          ],
          "name": "stderr"
        },
        {
          "output_type": "stream",
          "text": [
            "\b\b\b\b\b\b\b\b\b\b\b\b\b\b\b\b\b\b\b\b\b\b\b\b\b\b\b\b\b\b\b\b\b\b\b\b\b\b\b\b\b\b\b\b\b\b\b\b\b\b\b\b\b\b\b\b\b\b\b\b\b\b\b\b\b\b\b\b\b\b\b\b\b\b\b\b\b\b\b\r600/600 [==============================] - 14s 23ms/step - loss: 0.8531 - acc: 0.6820\n",
            "Epoch 3/10\n",
            "598/600 [============================>.] - ETA: 0s - loss: 0.7749 - acc: 0.7092"
          ],
          "name": "stdout"
        },
        {
          "output_type": "stream",
          "text": [
            "W0818 10:48:35.879963 140599988692864 callbacks.py:1259] Early stopping conditioned on metric `val_acc` which is not available. Available metrics are: loss,acc\n"
          ],
          "name": "stderr"
        },
        {
          "output_type": "stream",
          "text": [
            "\b\b\b\b\b\b\b\b\b\b\b\b\b\b\b\b\b\b\b\b\b\b\b\b\b\b\b\b\b\b\b\b\b\b\b\b\b\b\b\b\b\b\b\b\b\b\b\b\b\b\b\b\b\b\b\b\b\b\b\b\b\b\b\b\b\b\b\b\b\b\b\b\b\b\b\b\b\b\b\r600/600 [==============================] - 14s 24ms/step - loss: 0.7746 - acc: 0.7093\n",
            "Epoch 4/10\n",
            "599/600 [============================>.] - ETA: 0s - loss: 0.7274 - acc: 0.7279"
          ],
          "name": "stdout"
        },
        {
          "output_type": "stream",
          "text": [
            "W0818 10:48:50.177482 140599988692864 callbacks.py:1259] Early stopping conditioned on metric `val_acc` which is not available. Available metrics are: loss,acc\n"
          ],
          "name": "stderr"
        },
        {
          "output_type": "stream",
          "text": [
            "\b\b\b\b\b\b\b\b\b\b\b\b\b\b\b\b\b\b\b\b\b\b\b\b\b\b\b\b\b\b\b\b\b\b\b\b\b\b\b\b\b\b\b\b\b\b\b\b\b\b\b\b\b\b\b\b\b\b\b\b\b\b\b\b\b\b\b\b\b\b\b\b\b\b\b\b\b\b\b\r600/600 [==============================] - 14s 24ms/step - loss: 0.7275 - acc: 0.7278\n",
            "Epoch 5/10\n",
            "598/600 [============================>.] - ETA: 0s - loss: 0.6832 - acc: 0.7437"
          ],
          "name": "stdout"
        },
        {
          "output_type": "stream",
          "text": [
            "W0818 10:49:04.264320 140599988692864 callbacks.py:1259] Early stopping conditioned on metric `val_acc` which is not available. Available metrics are: loss,acc\n"
          ],
          "name": "stderr"
        },
        {
          "output_type": "stream",
          "text": [
            "\b\b\b\b\b\b\b\b\b\b\b\b\b\b\b\b\b\b\b\b\b\b\b\b\b\b\b\b\b\b\b\b\b\b\b\b\b\b\b\b\b\b\b\b\b\b\b\b\b\b\b\b\b\b\b\b\b\b\b\b\b\b\b\b\b\b\b\b\b\b\b\b\b\b\b\b\b\b\b\r600/600 [==============================] - 14s 23ms/step - loss: 0.6833 - acc: 0.7436\n",
            "Epoch 6/10\n",
            "599/600 [============================>.] - ETA: 0s - loss: 0.6505 - acc: 0.7584"
          ],
          "name": "stdout"
        },
        {
          "output_type": "stream",
          "text": [
            "W0818 10:49:18.354342 140599988692864 callbacks.py:1259] Early stopping conditioned on metric `val_acc` which is not available. Available metrics are: loss,acc\n"
          ],
          "name": "stderr"
        },
        {
          "output_type": "stream",
          "text": [
            "\b\b\b\b\b\b\b\b\b\b\b\b\b\b\b\b\b\b\b\b\b\b\b\b\b\b\b\b\b\b\b\b\b\b\b\b\b\b\b\b\b\b\b\b\b\b\b\b\b\b\b\b\b\b\b\b\b\b\b\b\b\b\b\b\b\b\b\b\b\b\b\b\b\b\b\b\b\b\b\r600/600 [==============================] - 14s 23ms/step - loss: 0.6505 - acc: 0.7584\n",
            "Epoch 7/10\n",
            "597/600 [============================>.] - ETA: 0s - loss: 0.6233 - acc: 0.7685"
          ],
          "name": "stdout"
        },
        {
          "output_type": "stream",
          "text": [
            "W0818 10:49:32.507733 140599988692864 callbacks.py:1259] Early stopping conditioned on metric `val_acc` which is not available. Available metrics are: loss,acc\n"
          ],
          "name": "stderr"
        },
        {
          "output_type": "stream",
          "text": [
            "\b\b\b\b\b\b\b\b\b\b\b\b\b\b\b\b\b\b\b\b\b\b\b\b\b\b\b\b\b\b\b\b\b\b\b\b\b\b\b\b\b\b\b\b\b\b\b\b\b\b\b\b\b\b\b\b\b\b\b\b\b\b\b\b\b\b\b\b\b\b\b\b\b\b\b\b\b\b\b\r600/600 [==============================] - 14s 24ms/step - loss: 0.6236 - acc: 0.7683\n",
            "Epoch 8/10\n",
            "599/600 [============================>.] - ETA: 0s - loss: 0.6017 - acc: 0.7760"
          ],
          "name": "stdout"
        },
        {
          "output_type": "stream",
          "text": [
            "W0818 10:49:46.596671 140599988692864 callbacks.py:1259] Early stopping conditioned on metric `val_acc` which is not available. Available metrics are: loss,acc\n"
          ],
          "name": "stderr"
        },
        {
          "output_type": "stream",
          "text": [
            "\b\b\b\b\b\b\b\b\b\b\b\b\b\b\b\b\b\b\b\b\b\b\b\b\b\b\b\b\b\b\b\b\b\b\b\b\b\b\b\b\b\b\b\b\b\b\b\b\b\b\b\b\b\b\b\b\b\b\b\b\b\b\b\b\b\b\b\b\b\b\b\b\b\b\b\b\b\b\b\r600/600 [==============================] - 14s 23ms/step - loss: 0.6014 - acc: 0.7761\n",
            "Epoch 9/10\n",
            "598/600 [============================>.] - ETA: 0s - loss: 0.5902 - acc: 0.7811"
          ],
          "name": "stdout"
        },
        {
          "output_type": "stream",
          "text": [
            "W0818 10:50:00.715591 140599988692864 callbacks.py:1259] Early stopping conditioned on metric `val_acc` which is not available. Available metrics are: loss,acc\n"
          ],
          "name": "stderr"
        },
        {
          "output_type": "stream",
          "text": [
            "600/600 [==============================] - 14s 24ms/step - loss: 0.5898 - acc: 0.7812\n",
            "Epoch 10/10\n",
            "599/600 [============================>.] - ETA: 0s - loss: 0.5688 - acc: 0.7898"
          ],
          "name": "stdout"
        },
        {
          "output_type": "stream",
          "text": [
            "W0818 10:50:14.797834 140599988692864 callbacks.py:1259] Early stopping conditioned on metric `val_acc` which is not available. Available metrics are: loss,acc\n"
          ],
          "name": "stderr"
        },
        {
          "output_type": "stream",
          "text": [
            "\b\b\b\b\b\b\b\b\b\b\b\b\b\b\b\b\b\b\b\b\b\b\b\b\b\b\b\b\b\b\b\b\b\b\b\b\b\b\b\b\b\b\b\b\b\b\b\b\b\b\b\b\b\b\b\b\b\b\b\b\b\b\b\b\b\b\b\b\b\b\b\b\b\b\b\b\b\b\b\r600/600 [==============================] - 14s 23ms/step - loss: 0.5691 - acc: 0.7896\n"
          ],
          "name": "stdout"
        },
        {
          "output_type": "execute_result",
          "data": {
            "text/plain": [
              "<tensorflow.python.keras.callbacks.History at 0x7fdf1b69ecf8>"
            ]
          },
          "metadata": {
            "tags": []
          },
          "execution_count": 110
        }
      ]
    },
    {
      "cell_type": "markdown",
      "metadata": {
        "colab_type": "text",
        "id": "MwQQW5iOJjwq"
      },
      "source": [
        "###  Report the final train and validation accuracy"
      ]
    },
    {
      "cell_type": "code",
      "metadata": {
        "colab_type": "code",
        "id": "c1SrtBEPJjwq",
        "colab": {
          "base_uri": "https://localhost:8080/",
          "height": 34
        },
        "outputId": "7146dcb2-66eb-4547-c610-746713a7ab65"
      },
      "source": [
        "print(\"The Max accuracy got for model with fit_generator() is 0.7896\")"
      ],
      "execution_count": 142,
      "outputs": [
        {
          "output_type": "stream",
          "text": [
            "The Max accuracy got for model with fit_generator() is 0.7896\n"
          ],
          "name": "stdout"
        }
      ]
    },
    {
      "cell_type": "markdown",
      "metadata": {
        "id": "LhQ1jmOFZNXd",
        "colab_type": "text"
      },
      "source": [
        ""
      ]
    },
    {
      "cell_type": "code",
      "metadata": {
        "colab_type": "code",
        "id": "ZBwVWNQC2qZD",
        "colab": {}
      },
      "source": [
        ""
      ],
      "execution_count": 0,
      "outputs": []
    },
    {
      "cell_type": "markdown",
      "metadata": {
        "colab_type": "text",
        "id": "8KXqmUDW2rM1"
      },
      "source": [
        "## **DATA AUGMENTATION ON CIFAR10 DATASET**"
      ]
    },
    {
      "cell_type": "code",
      "metadata": {
        "id": "wGW059njSlPJ",
        "colab_type": "code",
        "colab": {}
      },
      "source": [
        ""
      ],
      "execution_count": 0,
      "outputs": []
    },
    {
      "cell_type": "markdown",
      "metadata": {
        "colab_type": "text",
        "id": "8mja6OgQ3L18"
      },
      "source": [
        "One of the best ways to improve the performance of a Deep Learning model is to add more data to the training set. Aside from gathering more instances from the wild that are representative of the distinction task, we want to develop a set of methods that enhance the data we already have. There are many ways to augment existing datasets and produce more robust models. In the image domain, these are done to utilize the full power of the convolutional neural network, which is able to capture translational invariance. This translational invariance is what makes image recognition such a difficult task in the first place. You want the dataset to be representative of the many different positions, angles, lightings, and miscellaneous distortions that are of interest to the vision task."
      ]
    },
    {
      "cell_type": "markdown",
      "metadata": {
        "colab_type": "text",
        "id": "6HzVTPUM3WZJ"
      },
      "source": [
        "### **Import neessary libraries for data augmentation**"
      ]
    },
    {
      "cell_type": "code",
      "metadata": {
        "colab_type": "code",
        "id": "PPM558TX4KMb",
        "colab": {}
      },
      "source": [
        "from keras.datasets import cifar10"
      ],
      "execution_count": 0,
      "outputs": []
    },
    {
      "cell_type": "markdown",
      "metadata": {
        "colab_type": "text",
        "id": "W6hicLwP4SqY"
      },
      "source": [
        "### **Load CIFAR10 dataset**"
      ]
    },
    {
      "cell_type": "code",
      "metadata": {
        "colab_type": "code",
        "id": "NQ1WzrXd4WNk",
        "colab": {}
      },
      "source": [
        "(x_train, y_train), (x_test, y_test) = cifar10.load_data()"
      ],
      "execution_count": 0,
      "outputs": []
    },
    {
      "cell_type": "code",
      "metadata": {
        "colab_type": "code",
        "id": "R9Pht1ggHuiT",
        "colab": {}
      },
      "source": [
        ""
      ],
      "execution_count": 0,
      "outputs": []
    },
    {
      "cell_type": "code",
      "metadata": {
        "colab_type": "code",
        "id": "3n28ccU6Hp6s",
        "colab": {}
      },
      "source": [
        ""
      ],
      "execution_count": 0,
      "outputs": []
    },
    {
      "cell_type": "markdown",
      "metadata": {
        "colab_type": "text",
        "id": "JN3vYYhK4W0u"
      },
      "source": [
        "### **Create a data_gen funtion to genererator with image rotation,shifting image horizontally and vertically with random flip horizontally.**"
      ]
    },
    {
      "cell_type": "code",
      "metadata": {
        "colab_type": "code",
        "id": "JJbekTKi4cmM",
        "colab": {}
      },
      "source": [
        "from keras.preprocessing.image import ImageDataGenerator\n",
        "datagen = ImageDataGenerator( rotation_range=90,\n",
        "                 width_shift_range=0.1, height_shift_range=0.1,\n",
        "                 horizontal_flip=True)\n"
      ],
      "execution_count": 0,
      "outputs": []
    },
    {
      "cell_type": "code",
      "metadata": {
        "id": "rQNcg9DyWyRi",
        "colab_type": "code",
        "colab": {
          "base_uri": "https://localhost:8080/",
          "height": 34
        },
        "outputId": "09ce3229-3e49-4264-cea7-153960e2608b"
      },
      "source": [
        "x_train.shape"
      ],
      "execution_count": 113,
      "outputs": [
        {
          "output_type": "execute_result",
          "data": {
            "text/plain": [
              "(60000, 28, 28)"
            ]
          },
          "metadata": {
            "tags": []
          },
          "execution_count": 113
        }
      ]
    },
    {
      "cell_type": "markdown",
      "metadata": {
        "colab_type": "text",
        "id": "e-SLtUhC4dK2"
      },
      "source": [
        "### **Prepare/fit the generator.**"
      ]
    },
    {
      "cell_type": "code",
      "metadata": {
        "id": "8Z4GTFjmWpxJ",
        "colab_type": "code",
        "colab": {}
      },
      "source": [
        "# x_train = np.array(x_train).astype('float32') / 255.0\n",
        "# x_train = train_x.reshape(60000,28,28,1)"
      ],
      "execution_count": 0,
      "outputs": []
    },
    {
      "cell_type": "code",
      "metadata": {
        "colab_type": "code",
        "id": "CSw8Bv2_4hb0",
        "colab": {}
      },
      "source": [
        ""
      ],
      "execution_count": 0,
      "outputs": []
    },
    {
      "cell_type": "code",
      "metadata": {
        "id": "VHgptKirV-Jl",
        "colab_type": "code",
        "colab": {
          "base_uri": "https://localhost:8080/",
          "height": 49
        },
        "outputId": "254772c0-f3cd-49e3-8220-b5ce8635e309"
      },
      "source": [
        "tf.keras.preprocessing.image.array_to_img(x_train[1])"
      ],
      "execution_count": 138,
      "outputs": [
        {
          "output_type": "execute_result",
          "data": {
            "image/png": "[encoded data removed]",
            "text/plain": [
              "<PIL.Image.Image image mode=RGB size=32x32 at 0x7FDF1B1B4E10>"
            ]
          },
          "metadata": {
            "tags": []
          },
          "execution_count": 138
        }
      ]
    },
    {
      "cell_type": "markdown",
      "metadata": {
        "colab_type": "text",
        "id": "gYyF-P8O4jQ8"
      },
      "source": [
        "### **Generate 5 images for 1 of the image of CIFAR10 train dataset.**"
      ]
    },
    {
      "cell_type": "code",
      "metadata": {
        "colab_type": "code",
        "id": "mXug4z234mwQ",
        "colab": {
          "base_uri": "https://localhost:8080/",
          "height": 109
        },
        "outputId": "bec4343b-a7b5-4229-8d58-3d4fd90103df"
      },
      "source": [
        "from matplotlib import pyplot as plt\n",
        "gen = datagen.flow(x_train[1:2], batch_size=1)\n",
        "for i in range(1, 6):\n",
        "    plt.subplot(1,5,i)\n",
        "    plt.axis(\"off\")\n",
        "    plt.imshow(gen.next().astype(np.uint8).squeeze())\n",
        "    plt.plot()\n",
        "plt.show()"
      ],
      "execution_count": 140,
      "outputs": [
        {
          "output_type": "display_data",
          "data": {
            "image/png": "[encoded data removed]",
            "text/plain": [
              "<Figure size 432x288 with 5 Axes>"
            ]
          },
          "metadata": {
            "tags": []
          }
        }
      ]
    }
  ]
}