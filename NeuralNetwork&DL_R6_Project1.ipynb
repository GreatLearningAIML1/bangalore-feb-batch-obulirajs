{
  "nbformat": 4,
  "nbformat_minor": 0,
  "metadata": {
    "colab": {
      "name": "NeuralNetwork&DL_R6_Project1.ipynb",
      "version": "0.3.2",
      "provenance": [],
      "collapsed_sections": []
    },
    "kernelspec": {
      "name": "python3",
      "display_name": "Python 3"
    }
  },
  "cells": [
    {
      "cell_type": "code",
      "metadata": {
        "id": "1Gh_7_TWBf4M",
        "colab_type": "code",
        "colab": {
          "base_uri": "https://localhost:8080/",
          "height": 34
        },
        "outputId": "59570721-d7c8-4af5-c294-5ed37bd35ddc"
      },
      "source": [
        "#mount from gdrive\n",
        "from google.colab import drive\n",
        "drive.mount('/content/drive')"
      ],
      "execution_count": 175,
      "outputs": [
        {
          "output_type": "stream",
          "text": [
            "Drive already mounted at /content/drive; to attempt to forcibly remount, call drive.mount(\"/content/drive\", force_remount=True).\n"
          ],
          "name": "stdout"
        }
      ]
    },
    {
      "cell_type": "code",
      "metadata": {
        "id": "H01O_iKABg5L",
        "colab_type": "code",
        "colab": {}
      },
      "source": [
        "#read the CSV file\n",
        "import pandas as pd\n",
        "import tensorflow as tf\n",
        "data = pd.read_csv('/content/drive/My Drive/Colab Notebooks/bank.csv')"
      ],
      "execution_count": 0,
      "outputs": []
    },
    {
      "cell_type": "code",
      "metadata": {
        "id": "YTOXI-vnBy0n",
        "colab_type": "code",
        "colab": {
          "base_uri": "https://localhost:8080/",
          "height": 204
        },
        "outputId": "13a5a052-cde1-4854-f266-f22cb8cc9ec9"
      },
      "source": [
        "# look at the rows and columns\n",
        "data.head(5)"
      ],
      "execution_count": 177,
      "outputs": [
        {
          "output_type": "execute_result",
          "data": {
            "text/html": [
              "<div>\n",
              "<style scoped>\n",
              "    .dataframe tbody tr th:only-of-type {\n",
              "        vertical-align: middle;\n",
              "    }\n",
              "\n",
              "    .dataframe tbody tr th {\n",
              "        vertical-align: top;\n",
              "    }\n",
              "\n",
              "    .dataframe thead th {\n",
              "        text-align: right;\n",
              "    }\n",
              "</style>\n",
              "<table border=\"1\" class=\"dataframe\">\n",
              "  <thead>\n",
              "    <tr style=\"text-align: right;\">\n",
              "      <th></th>\n",
              "      <th>RowNumber</th>\n",
              "      <th>CustomerId</th>\n",
              "      <th>Surname</th>\n",
              "      <th>CreditScore</th>\n",
              "      <th>Geography</th>\n",
              "      <th>Gender</th>\n",
              "      <th>Age</th>\n",
              "      <th>Tenure</th>\n",
              "      <th>Balance</th>\n",
              "      <th>NumOfProducts</th>\n",
              "      <th>HasCrCard</th>\n",
              "      <th>IsActiveMember</th>\n",
              "      <th>EstimatedSalary</th>\n",
              "      <th>Exited</th>\n",
              "    </tr>\n",
              "  </thead>\n",
              "  <tbody>\n",
              "    <tr>\n",
              "      <th>0</th>\n",
              "      <td>1</td>\n",
              "      <td>15634602</td>\n",
              "      <td>Hargrave</td>\n",
              "      <td>619</td>\n",
              "      <td>France</td>\n",
              "      <td>Female</td>\n",
              "      <td>42</td>\n",
              "      <td>2</td>\n",
              "      <td>0.00</td>\n",
              "      <td>1</td>\n",
              "      <td>1</td>\n",
              "      <td>1</td>\n",
              "      <td>101348.88</td>\n",
              "      <td>1</td>\n",
              "    </tr>\n",
              "    <tr>\n",
              "      <th>1</th>\n",
              "      <td>2</td>\n",
              "      <td>15647311</td>\n",
              "      <td>Hill</td>\n",
              "      <td>608</td>\n",
              "      <td>Spain</td>\n",
              "      <td>Female</td>\n",
              "      <td>41</td>\n",
              "      <td>1</td>\n",
              "      <td>83807.86</td>\n",
              "      <td>1</td>\n",
              "      <td>0</td>\n",
              "      <td>1</td>\n",
              "      <td>112542.58</td>\n",
              "      <td>0</td>\n",
              "    </tr>\n",
              "    <tr>\n",
              "      <th>2</th>\n",
              "      <td>3</td>\n",
              "      <td>15619304</td>\n",
              "      <td>Onio</td>\n",
              "      <td>502</td>\n",
              "      <td>France</td>\n",
              "      <td>Female</td>\n",
              "      <td>42</td>\n",
              "      <td>8</td>\n",
              "      <td>159660.80</td>\n",
              "      <td>3</td>\n",
              "      <td>1</td>\n",
              "      <td>0</td>\n",
              "      <td>113931.57</td>\n",
              "      <td>1</td>\n",
              "    </tr>\n",
              "    <tr>\n",
              "      <th>3</th>\n",
              "      <td>4</td>\n",
              "      <td>15701354</td>\n",
              "      <td>Boni</td>\n",
              "      <td>699</td>\n",
              "      <td>France</td>\n",
              "      <td>Female</td>\n",
              "      <td>39</td>\n",
              "      <td>1</td>\n",
              "      <td>0.00</td>\n",
              "      <td>2</td>\n",
              "      <td>0</td>\n",
              "      <td>0</td>\n",
              "      <td>93826.63</td>\n",
              "      <td>0</td>\n",
              "    </tr>\n",
              "    <tr>\n",
              "      <th>4</th>\n",
              "      <td>5</td>\n",
              "      <td>15737888</td>\n",
              "      <td>Mitchell</td>\n",
              "      <td>850</td>\n",
              "      <td>Spain</td>\n",
              "      <td>Female</td>\n",
              "      <td>43</td>\n",
              "      <td>2</td>\n",
              "      <td>125510.82</td>\n",
              "      <td>1</td>\n",
              "      <td>1</td>\n",
              "      <td>1</td>\n",
              "      <td>79084.10</td>\n",
              "      <td>0</td>\n",
              "    </tr>\n",
              "  </tbody>\n",
              "</table>\n",
              "</div>"
            ],
            "text/plain": [
              "   RowNumber  CustomerId   Surname  ...  IsActiveMember EstimatedSalary Exited\n",
              "0          1    15634602  Hargrave  ...               1       101348.88      1\n",
              "1          2    15647311      Hill  ...               1       112542.58      0\n",
              "2          3    15619304      Onio  ...               0       113931.57      1\n",
              "3          4    15701354      Boni  ...               0        93826.63      0\n",
              "4          5    15737888  Mitchell  ...               1        79084.10      0\n",
              "\n",
              "[5 rows x 14 columns]"
            ]
          },
          "metadata": {
            "tags": []
          },
          "execution_count": 177
        }
      ]
    },
    {
      "cell_type": "code",
      "metadata": {
        "id": "G3yOKDjKCp7v",
        "colab_type": "code",
        "colab": {
          "base_uri": "https://localhost:8080/",
          "height": 34
        },
        "outputId": "6433ccf6-73ed-4878-f8a0-9ac515fe2326"
      },
      "source": [
        "#check for the shape\n",
        "#which will help to find the total number of rows to check against unique values\n",
        "data.shape"
      ],
      "execution_count": 178,
      "outputs": [
        {
          "output_type": "execute_result",
          "data": {
            "text/plain": [
              "(10000, 14)"
            ]
          },
          "metadata": {
            "tags": []
          },
          "execution_count": 178
        }
      ]
    },
    {
      "cell_type": "code",
      "metadata": {
        "id": "ADRCTRu4CQaH",
        "colab_type": "code",
        "colab": {
          "base_uri": "https://localhost:8080/",
          "height": 272
        },
        "outputId": "41d06897-afb4-410b-c153-4ba7b1e9a42c"
      },
      "source": [
        "#2. Drop the columns which are unique for all users like IDs\n",
        "for i in data.columns:\n",
        "  print(\"number of unique values in the column \",i,len(data[i].unique().tolist()))\n",
        "print(\"As RowNumber  and CustomerId  are unique dropping these two columns, rest are non-unique values\")\n"
      ],
      "execution_count": 179,
      "outputs": [
        {
          "output_type": "stream",
          "text": [
            "number of unique values in the column  RowNumber 10000\n",
            "number of unique values in the column  CustomerId 10000\n",
            "number of unique values in the column  Surname 2932\n",
            "number of unique values in the column  CreditScore 460\n",
            "number of unique values in the column  Geography 3\n",
            "number of unique values in the column  Gender 2\n",
            "number of unique values in the column  Age 70\n",
            "number of unique values in the column  Tenure 11\n",
            "number of unique values in the column  Balance 6382\n",
            "number of unique values in the column  NumOfProducts 4\n",
            "number of unique values in the column  HasCrCard 2\n",
            "number of unique values in the column  IsActiveMember 2\n",
            "number of unique values in the column  EstimatedSalary 9999\n",
            "number of unique values in the column  Exited 2\n",
            "As RowNumber  and CustomerId  are unique dropping these two columns, rest are non-unique values\n"
          ],
          "name": "stdout"
        }
      ]
    },
    {
      "cell_type": "code",
      "metadata": {
        "id": "vtSboytCEMLe",
        "colab_type": "code",
        "colab": {}
      },
      "source": [
        "#drop column rownumber and CustomerId\n",
        "data = data.drop([\"RowNumber\",\"CustomerId\"], axis = 1)"
      ],
      "execution_count": 0,
      "outputs": []
    },
    {
      "cell_type": "code",
      "metadata": {
        "id": "n_mOs8OoGs1_",
        "colab_type": "code",
        "colab": {}
      },
      "source": [
        "#3.Distinguish the feature and target set\n",
        "#dropping the Surname as it will not play any role in deciding if the person will exit or not\n",
        "\n",
        "X =  data.drop([\"Surname\",\"Exited\"], axis=1)\n",
        "y =  data.pop(\"Exited\")"
      ],
      "execution_count": 0,
      "outputs": []
    },
    {
      "cell_type": "code",
      "metadata": {
        "id": "odSDg-1ceF-f",
        "colab_type": "code",
        "colab": {
          "base_uri": "https://localhost:8080/",
          "height": 204
        },
        "outputId": "75cb1c2b-83f9-48ac-bc98-2308ba448a55"
      },
      "source": [
        "#applying one -hot encoder to Geography and Gender\n",
        "\n",
        "from sklearn.preprocessing import LabelEncoder\n",
        "labelencoder_x = LabelEncoder()\n",
        "X.iloc[:, 1] = labelencoder_x.fit_transform(X.iloc[:, 1]) #applying on Geography\n",
        "X.iloc[:, 2] = labelencoder_x.fit_transform(X.iloc[:, 2]) #applying on Gender\n",
        "X.head()"
      ],
      "execution_count": 182,
      "outputs": [
        {
          "output_type": "execute_result",
          "data": {
            "text/html": [
              "<div>\n",
              "<style scoped>\n",
              "    .dataframe tbody tr th:only-of-type {\n",
              "        vertical-align: middle;\n",
              "    }\n",
              "\n",
              "    .dataframe tbody tr th {\n",
              "        vertical-align: top;\n",
              "    }\n",
              "\n",
              "    .dataframe thead th {\n",
              "        text-align: right;\n",
              "    }\n",
              "</style>\n",
              "<table border=\"1\" class=\"dataframe\">\n",
              "  <thead>\n",
              "    <tr style=\"text-align: right;\">\n",
              "      <th></th>\n",
              "      <th>CreditScore</th>\n",
              "      <th>Geography</th>\n",
              "      <th>Gender</th>\n",
              "      <th>Age</th>\n",
              "      <th>Tenure</th>\n",
              "      <th>Balance</th>\n",
              "      <th>NumOfProducts</th>\n",
              "      <th>HasCrCard</th>\n",
              "      <th>IsActiveMember</th>\n",
              "      <th>EstimatedSalary</th>\n",
              "    </tr>\n",
              "  </thead>\n",
              "  <tbody>\n",
              "    <tr>\n",
              "      <th>0</th>\n",
              "      <td>619</td>\n",
              "      <td>0</td>\n",
              "      <td>0</td>\n",
              "      <td>42</td>\n",
              "      <td>2</td>\n",
              "      <td>0.00</td>\n",
              "      <td>1</td>\n",
              "      <td>1</td>\n",
              "      <td>1</td>\n",
              "      <td>101348.88</td>\n",
              "    </tr>\n",
              "    <tr>\n",
              "      <th>1</th>\n",
              "      <td>608</td>\n",
              "      <td>2</td>\n",
              "      <td>0</td>\n",
              "      <td>41</td>\n",
              "      <td>1</td>\n",
              "      <td>83807.86</td>\n",
              "      <td>1</td>\n",
              "      <td>0</td>\n",
              "      <td>1</td>\n",
              "      <td>112542.58</td>\n",
              "    </tr>\n",
              "    <tr>\n",
              "      <th>2</th>\n",
              "      <td>502</td>\n",
              "      <td>0</td>\n",
              "      <td>0</td>\n",
              "      <td>42</td>\n",
              "      <td>8</td>\n",
              "      <td>159660.80</td>\n",
              "      <td>3</td>\n",
              "      <td>1</td>\n",
              "      <td>0</td>\n",
              "      <td>113931.57</td>\n",
              "    </tr>\n",
              "    <tr>\n",
              "      <th>3</th>\n",
              "      <td>699</td>\n",
              "      <td>0</td>\n",
              "      <td>0</td>\n",
              "      <td>39</td>\n",
              "      <td>1</td>\n",
              "      <td>0.00</td>\n",
              "      <td>2</td>\n",
              "      <td>0</td>\n",
              "      <td>0</td>\n",
              "      <td>93826.63</td>\n",
              "    </tr>\n",
              "    <tr>\n",
              "      <th>4</th>\n",
              "      <td>850</td>\n",
              "      <td>2</td>\n",
              "      <td>0</td>\n",
              "      <td>43</td>\n",
              "      <td>2</td>\n",
              "      <td>125510.82</td>\n",
              "      <td>1</td>\n",
              "      <td>1</td>\n",
              "      <td>1</td>\n",
              "      <td>79084.10</td>\n",
              "    </tr>\n",
              "  </tbody>\n",
              "</table>\n",
              "</div>"
            ],
            "text/plain": [
              "   CreditScore  Geography  Gender  ...  HasCrCard  IsActiveMember  EstimatedSalary\n",
              "0          619          0       0  ...          1               1        101348.88\n",
              "1          608          2       0  ...          0               1        112542.58\n",
              "2          502          0       0  ...          1               0        113931.57\n",
              "3          699          0       0  ...          0               0         93826.63\n",
              "4          850          2       0  ...          1               1         79084.10\n",
              "\n",
              "[5 rows x 10 columns]"
            ]
          },
          "metadata": {
            "tags": []
          },
          "execution_count": 182
        }
      ]
    },
    {
      "cell_type": "code",
      "metadata": {
        "id": "KHIMH7o4fws0",
        "colab_type": "code",
        "colab": {
          "base_uri": "https://localhost:8080/",
          "height": 204
        },
        "outputId": "0cd015ff-27cc-4690-9cfe-c6da3f935423"
      },
      "source": [
        "#One hot encoding. \n",
        "\n",
        "from keras.utils import to_categorical\n",
        "encoded = pd.DataFrame(to_categorical(X.iloc[:, 1]))\n",
        "#no need to encode Gender, as there are only two categories\n",
        "\n",
        "X = pd.concat([encoded, X], axis = 1)\n",
        "X.head()"
      ],
      "execution_count": 183,
      "outputs": [
        {
          "output_type": "execute_result",
          "data": {
            "text/html": [
              "<div>\n",
              "<style scoped>\n",
              "    .dataframe tbody tr th:only-of-type {\n",
              "        vertical-align: middle;\n",
              "    }\n",
              "\n",
              "    .dataframe tbody tr th {\n",
              "        vertical-align: top;\n",
              "    }\n",
              "\n",
              "    .dataframe thead th {\n",
              "        text-align: right;\n",
              "    }\n",
              "</style>\n",
              "<table border=\"1\" class=\"dataframe\">\n",
              "  <thead>\n",
              "    <tr style=\"text-align: right;\">\n",
              "      <th></th>\n",
              "      <th>0</th>\n",
              "      <th>1</th>\n",
              "      <th>2</th>\n",
              "      <th>CreditScore</th>\n",
              "      <th>Geography</th>\n",
              "      <th>Gender</th>\n",
              "      <th>Age</th>\n",
              "      <th>Tenure</th>\n",
              "      <th>Balance</th>\n",
              "      <th>NumOfProducts</th>\n",
              "      <th>HasCrCard</th>\n",
              "      <th>IsActiveMember</th>\n",
              "      <th>EstimatedSalary</th>\n",
              "    </tr>\n",
              "  </thead>\n",
              "  <tbody>\n",
              "    <tr>\n",
              "      <th>0</th>\n",
              "      <td>1.0</td>\n",
              "      <td>0.0</td>\n",
              "      <td>0.0</td>\n",
              "      <td>619</td>\n",
              "      <td>0</td>\n",
              "      <td>0</td>\n",
              "      <td>42</td>\n",
              "      <td>2</td>\n",
              "      <td>0.00</td>\n",
              "      <td>1</td>\n",
              "      <td>1</td>\n",
              "      <td>1</td>\n",
              "      <td>101348.88</td>\n",
              "    </tr>\n",
              "    <tr>\n",
              "      <th>1</th>\n",
              "      <td>0.0</td>\n",
              "      <td>0.0</td>\n",
              "      <td>1.0</td>\n",
              "      <td>608</td>\n",
              "      <td>2</td>\n",
              "      <td>0</td>\n",
              "      <td>41</td>\n",
              "      <td>1</td>\n",
              "      <td>83807.86</td>\n",
              "      <td>1</td>\n",
              "      <td>0</td>\n",
              "      <td>1</td>\n",
              "      <td>112542.58</td>\n",
              "    </tr>\n",
              "    <tr>\n",
              "      <th>2</th>\n",
              "      <td>1.0</td>\n",
              "      <td>0.0</td>\n",
              "      <td>0.0</td>\n",
              "      <td>502</td>\n",
              "      <td>0</td>\n",
              "      <td>0</td>\n",
              "      <td>42</td>\n",
              "      <td>8</td>\n",
              "      <td>159660.80</td>\n",
              "      <td>3</td>\n",
              "      <td>1</td>\n",
              "      <td>0</td>\n",
              "      <td>113931.57</td>\n",
              "    </tr>\n",
              "    <tr>\n",
              "      <th>3</th>\n",
              "      <td>1.0</td>\n",
              "      <td>0.0</td>\n",
              "      <td>0.0</td>\n",
              "      <td>699</td>\n",
              "      <td>0</td>\n",
              "      <td>0</td>\n",
              "      <td>39</td>\n",
              "      <td>1</td>\n",
              "      <td>0.00</td>\n",
              "      <td>2</td>\n",
              "      <td>0</td>\n",
              "      <td>0</td>\n",
              "      <td>93826.63</td>\n",
              "    </tr>\n",
              "    <tr>\n",
              "      <th>4</th>\n",
              "      <td>0.0</td>\n",
              "      <td>0.0</td>\n",
              "      <td>1.0</td>\n",
              "      <td>850</td>\n",
              "      <td>2</td>\n",
              "      <td>0</td>\n",
              "      <td>43</td>\n",
              "      <td>2</td>\n",
              "      <td>125510.82</td>\n",
              "      <td>1</td>\n",
              "      <td>1</td>\n",
              "      <td>1</td>\n",
              "      <td>79084.10</td>\n",
              "    </tr>\n",
              "  </tbody>\n",
              "</table>\n",
              "</div>"
            ],
            "text/plain": [
              "     0    1    2  ...  HasCrCard  IsActiveMember  EstimatedSalary\n",
              "0  1.0  0.0  0.0  ...          1               1        101348.88\n",
              "1  0.0  0.0  1.0  ...          0               1        112542.58\n",
              "2  1.0  0.0  0.0  ...          1               0        113931.57\n",
              "3  1.0  0.0  0.0  ...          0               0         93826.63\n",
              "4  0.0  0.0  1.0  ...          1               1         79084.10\n",
              "\n",
              "[5 rows x 13 columns]"
            ]
          },
          "metadata": {
            "tags": []
          },
          "execution_count": 183
        }
      ]
    },
    {
      "cell_type": "code",
      "metadata": {
        "id": "bMsTRnOygCNR",
        "colab_type": "code",
        "colab": {
          "base_uri": "https://localhost:8080/",
          "height": 204
        },
        "outputId": "7238db51-03ef-4479-c7e4-ccb6f5f7a8b7"
      },
      "source": [
        "#Dropping the existing \"geography\" category, and one of the onehotcoded columns.\n",
        "\n",
        "X = X.drop(['Geography', 0], axis = 1)\n",
        "X.head()"
      ],
      "execution_count": 184,
      "outputs": [
        {
          "output_type": "execute_result",
          "data": {
            "text/html": [
              "<div>\n",
              "<style scoped>\n",
              "    .dataframe tbody tr th:only-of-type {\n",
              "        vertical-align: middle;\n",
              "    }\n",
              "\n",
              "    .dataframe tbody tr th {\n",
              "        vertical-align: top;\n",
              "    }\n",
              "\n",
              "    .dataframe thead th {\n",
              "        text-align: right;\n",
              "    }\n",
              "</style>\n",
              "<table border=\"1\" class=\"dataframe\">\n",
              "  <thead>\n",
              "    <tr style=\"text-align: right;\">\n",
              "      <th></th>\n",
              "      <th>1</th>\n",
              "      <th>2</th>\n",
              "      <th>CreditScore</th>\n",
              "      <th>Gender</th>\n",
              "      <th>Age</th>\n",
              "      <th>Tenure</th>\n",
              "      <th>Balance</th>\n",
              "      <th>NumOfProducts</th>\n",
              "      <th>HasCrCard</th>\n",
              "      <th>IsActiveMember</th>\n",
              "      <th>EstimatedSalary</th>\n",
              "    </tr>\n",
              "  </thead>\n",
              "  <tbody>\n",
              "    <tr>\n",
              "      <th>0</th>\n",
              "      <td>0.0</td>\n",
              "      <td>0.0</td>\n",
              "      <td>619</td>\n",
              "      <td>0</td>\n",
              "      <td>42</td>\n",
              "      <td>2</td>\n",
              "      <td>0.00</td>\n",
              "      <td>1</td>\n",
              "      <td>1</td>\n",
              "      <td>1</td>\n",
              "      <td>101348.88</td>\n",
              "    </tr>\n",
              "    <tr>\n",
              "      <th>1</th>\n",
              "      <td>0.0</td>\n",
              "      <td>1.0</td>\n",
              "      <td>608</td>\n",
              "      <td>0</td>\n",
              "      <td>41</td>\n",
              "      <td>1</td>\n",
              "      <td>83807.86</td>\n",
              "      <td>1</td>\n",
              "      <td>0</td>\n",
              "      <td>1</td>\n",
              "      <td>112542.58</td>\n",
              "    </tr>\n",
              "    <tr>\n",
              "      <th>2</th>\n",
              "      <td>0.0</td>\n",
              "      <td>0.0</td>\n",
              "      <td>502</td>\n",
              "      <td>0</td>\n",
              "      <td>42</td>\n",
              "      <td>8</td>\n",
              "      <td>159660.80</td>\n",
              "      <td>3</td>\n",
              "      <td>1</td>\n",
              "      <td>0</td>\n",
              "      <td>113931.57</td>\n",
              "    </tr>\n",
              "    <tr>\n",
              "      <th>3</th>\n",
              "      <td>0.0</td>\n",
              "      <td>0.0</td>\n",
              "      <td>699</td>\n",
              "      <td>0</td>\n",
              "      <td>39</td>\n",
              "      <td>1</td>\n",
              "      <td>0.00</td>\n",
              "      <td>2</td>\n",
              "      <td>0</td>\n",
              "      <td>0</td>\n",
              "      <td>93826.63</td>\n",
              "    </tr>\n",
              "    <tr>\n",
              "      <th>4</th>\n",
              "      <td>0.0</td>\n",
              "      <td>1.0</td>\n",
              "      <td>850</td>\n",
              "      <td>0</td>\n",
              "      <td>43</td>\n",
              "      <td>2</td>\n",
              "      <td>125510.82</td>\n",
              "      <td>1</td>\n",
              "      <td>1</td>\n",
              "      <td>1</td>\n",
              "      <td>79084.10</td>\n",
              "    </tr>\n",
              "  </tbody>\n",
              "</table>\n",
              "</div>"
            ],
            "text/plain": [
              "     1    2  CreditScore  ...  HasCrCard  IsActiveMember  EstimatedSalary\n",
              "0  0.0  0.0          619  ...          1               1        101348.88\n",
              "1  0.0  1.0          608  ...          0               1        112542.58\n",
              "2  0.0  0.0          502  ...          1               0        113931.57\n",
              "3  0.0  0.0          699  ...          0               0         93826.63\n",
              "4  0.0  1.0          850  ...          1               1         79084.10\n",
              "\n",
              "[5 rows x 11 columns]"
            ]
          },
          "metadata": {
            "tags": []
          },
          "execution_count": 184
        }
      ]
    },
    {
      "cell_type": "code",
      "metadata": {
        "id": "ENf1TIHjJhrk",
        "colab_type": "code",
        "colab": {}
      },
      "source": [
        "#4.Divide the data set into Train and test sets\n",
        "#in the ratio of 70:30 (Training:Test).\n",
        "from sklearn.model_selection import train_test_split\n",
        "train_set, test_set, train_labels, test_labels = train_test_split(X, y, test_size=0.30, random_state=2)"
      ],
      "execution_count": 0,
      "outputs": []
    },
    {
      "cell_type": "code",
      "metadata": {
        "id": "bNL8xk8GgWl_",
        "colab_type": "code",
        "colab": {}
      },
      "source": [
        "#Standarize the data\n",
        "from sklearn.preprocessing import StandardScaler\n",
        "sc = StandardScaler()\n",
        "train_set = sc.fit_transform(train_set)\n",
        "test_set = sc.transform(test_set)"
      ],
      "execution_count": 0,
      "outputs": []
    },
    {
      "cell_type": "code",
      "metadata": {
        "id": "xL-WPWErZxOB",
        "colab_type": "code",
        "colab": {}
      },
      "source": [
        "import keras\n",
        "from keras.models import Sequential\n",
        "from keras.layers import Dense"
      ],
      "execution_count": 0,
      "outputs": []
    },
    {
      "cell_type": "code",
      "metadata": {
        "id": "hF2nt7E0p7rf",
        "colab_type": "code",
        "colab": {
          "base_uri": "https://localhost:8080/",
          "height": 1000
        },
        "outputId": "30f5353e-f2bb-4fe3-aba4-380317485cee"
      },
      "source": [
        "#Trying with adam\n",
        "#adding 2 dense layers with relu\n",
        "#6.Builiding the model\n",
        "#7 optimise the results\n",
        "\n",
        "model = Sequential()\n",
        "#input_dim is required for the first hidden layer, as it is the first starting point. --> number of nodes.\n",
        "model.add(Dense(12, input_dim=11, activation='relu'))\n",
        "model.add(Dense(12, activation='relu'))\n",
        "model2.add(Dense(8, activation='relu'))\n",
        "\n",
        "#output_dim should be 1, as output is binary outcome, and activation should be 'sigmoid'\n",
        "model.add(Dense(1, activation='sigmoid'))\n",
        "\n",
        "# Compile model\n",
        "model.compile(loss='binary_crossentropy', optimizer='adam', metrics=['accuracy'])\n",
        "\n",
        "model.fit(train_set, train_labels, batch_size = 10, nb_epoch = 30)"
      ],
      "execution_count": 188,
      "outputs": [
        {
          "output_type": "stream",
          "text": [
            "/usr/local/lib/python3.6/dist-packages/ipykernel_launcher.py:14: UserWarning: The `nb_epoch` argument in `fit` has been renamed `epochs`.\n",
            "  \n"
          ],
          "name": "stderr"
        },
        {
          "output_type": "stream",
          "text": [
            "Epoch 1/30\n",
            "7000/7000 [==============================] - 1s 207us/step - loss: 0.4799 - acc: 0.7859\n",
            "Epoch 2/30\n",
            "7000/7000 [==============================] - 1s 120us/step - loss: 0.3977 - acc: 0.8327\n",
            "Epoch 3/30\n",
            "7000/7000 [==============================] - 1s 122us/step - loss: 0.3714 - acc: 0.8489\n",
            "Epoch 4/30\n",
            "7000/7000 [==============================] - 1s 125us/step - loss: 0.3585 - acc: 0.8530\n",
            "Epoch 5/30\n",
            "7000/7000 [==============================] - 1s 122us/step - loss: 0.3516 - acc: 0.8543\n",
            "Epoch 6/30\n",
            "7000/7000 [==============================] - 1s 126us/step - loss: 0.3469 - acc: 0.8597\n",
            "Epoch 7/30\n",
            "7000/7000 [==============================] - 1s 120us/step - loss: 0.3449 - acc: 0.8590\n",
            "Epoch 8/30\n",
            "7000/7000 [==============================] - 1s 122us/step - loss: 0.3423 - acc: 0.8599\n",
            "Epoch 9/30\n",
            "7000/7000 [==============================] - 1s 122us/step - loss: 0.3409 - acc: 0.8619\n",
            "Epoch 10/30\n",
            "7000/7000 [==============================] - 1s 124us/step - loss: 0.3398 - acc: 0.8603\n",
            "Epoch 11/30\n",
            "7000/7000 [==============================] - 1s 121us/step - loss: 0.3385 - acc: 0.8629\n",
            "Epoch 12/30\n",
            "7000/7000 [==============================] - 1s 123us/step - loss: 0.3371 - acc: 0.8613\n",
            "Epoch 13/30\n",
            "7000/7000 [==============================] - 1s 123us/step - loss: 0.3360 - acc: 0.8616\n",
            "Epoch 14/30\n",
            "7000/7000 [==============================] - 1s 121us/step - loss: 0.3356 - acc: 0.8636\n",
            "Epoch 15/30\n",
            "7000/7000 [==============================] - 1s 124us/step - loss: 0.3349 - acc: 0.8631\n",
            "Epoch 16/30\n",
            "7000/7000 [==============================] - 1s 122us/step - loss: 0.3338 - acc: 0.8643\n",
            "Epoch 17/30\n",
            "7000/7000 [==============================] - 1s 121us/step - loss: 0.3326 - acc: 0.8643\n",
            "Epoch 18/30\n",
            "7000/7000 [==============================] - 1s 121us/step - loss: 0.3313 - acc: 0.8649\n",
            "Epoch 19/30\n",
            "7000/7000 [==============================] - 1s 122us/step - loss: 0.3312 - acc: 0.8656\n",
            "Epoch 20/30\n",
            "7000/7000 [==============================] - 1s 120us/step - loss: 0.3302 - acc: 0.8653\n",
            "Epoch 21/30\n",
            "7000/7000 [==============================] - 1s 124us/step - loss: 0.3300 - acc: 0.8643\n",
            "Epoch 22/30\n",
            "7000/7000 [==============================] - 1s 122us/step - loss: 0.3292 - acc: 0.8643\n",
            "Epoch 23/30\n",
            "7000/7000 [==============================] - 1s 130us/step - loss: 0.3284 - acc: 0.8656\n",
            "Epoch 24/30\n",
            "7000/7000 [==============================] - 1s 122us/step - loss: 0.3280 - acc: 0.8646\n",
            "Epoch 25/30\n",
            "7000/7000 [==============================] - 1s 123us/step - loss: 0.3272 - acc: 0.8684\n",
            "Epoch 26/30\n",
            "7000/7000 [==============================] - 1s 126us/step - loss: 0.3276 - acc: 0.8647\n",
            "Epoch 27/30\n",
            "7000/7000 [==============================] - 1s 124us/step - loss: 0.3268 - acc: 0.8656\n",
            "Epoch 28/30\n",
            "7000/7000 [==============================] - 1s 123us/step - loss: 0.3261 - acc: 0.8650\n",
            "Epoch 29/30\n",
            "7000/7000 [==============================] - 1s 122us/step - loss: 0.3256 - acc: 0.8639\n",
            "Epoch 30/30\n",
            "7000/7000 [==============================] - 1s 126us/step - loss: 0.3250 - acc: 0.8660\n"
          ],
          "name": "stdout"
        },
        {
          "output_type": "execute_result",
          "data": {
            "text/plain": [
              "<keras.callbacks.History at 0x7fc8347ecd30>"
            ]
          },
          "metadata": {
            "tags": []
          },
          "execution_count": 188
        }
      ]
    },
    {
      "cell_type": "code",
      "metadata": {
        "id": "qbWrUXnsrNR8",
        "colab_type": "code",
        "colab": {
          "base_uri": "https://localhost:8080/",
          "height": 1000
        },
        "outputId": "b863e642-9a31-4d34-db19-e51f6e153fae"
      },
      "source": [
        "#7 optimise the results\n",
        "#trying with sgd with decay=1e-6, momentum=0.9\n",
        "\n",
        "from keras import optimizers\n",
        "model2 = Sequential()\n",
        "#input_dim is required for the first hidden layer, as it is the first starting point. --> number of nodes.\n",
        "model2.add(Dense(12, input_dim=11, activation='relu'))\n",
        "model2.add(Dense(12, activation='relu'))\n",
        "model2.add(Dense(8, activation='relu'))\n",
        "\n",
        "#output_dim should be 1, as output is binary outcome, and activation should be 'sigmoid'\n",
        "model2.add(Dense(1, activation='sigmoid'))\n",
        "\n",
        "sgd = optimizers.SGD(lr=0.01, decay=1e-6, momentum=0.9)\n",
        "# Compile model\n",
        "\n",
        "\n",
        "model2.compile(loss='binary_crossentropy', optimizer=sgd, metrics=['accuracy'])\n",
        "\n",
        "model2.fit(train_set, train_labels, batch_size = 10, nb_epoch = 30)"
      ],
      "execution_count": 189,
      "outputs": [
        {
          "output_type": "stream",
          "text": [
            "/usr/local/lib/python3.6/dist-packages/ipykernel_launcher.py:18: UserWarning: The `nb_epoch` argument in `fit` has been renamed `epochs`.\n"
          ],
          "name": "stderr"
        },
        {
          "output_type": "stream",
          "text": [
            "Epoch 1/30\n",
            "7000/7000 [==============================] - 1s 193us/step - loss: 0.4353 - acc: 0.8061\n",
            "Epoch 2/30\n",
            "7000/7000 [==============================] - 1s 117us/step - loss: 0.3694 - acc: 0.8443\n",
            "Epoch 3/30\n",
            "7000/7000 [==============================] - 1s 120us/step - loss: 0.3547 - acc: 0.8550\n",
            "Epoch 4/30\n",
            "7000/7000 [==============================] - 1s 123us/step - loss: 0.3517 - acc: 0.8547\n",
            "Epoch 5/30\n",
            "7000/7000 [==============================] - 1s 121us/step - loss: 0.3465 - acc: 0.8550\n",
            "Epoch 6/30\n",
            "7000/7000 [==============================] - 1s 121us/step - loss: 0.3479 - acc: 0.8550\n",
            "Epoch 7/30\n",
            "7000/7000 [==============================] - 1s 119us/step - loss: 0.3422 - acc: 0.8571\n",
            "Epoch 8/30\n",
            "7000/7000 [==============================] - 1s 121us/step - loss: 0.3409 - acc: 0.8586\n",
            "Epoch 9/30\n",
            "7000/7000 [==============================] - 1s 119us/step - loss: 0.3400 - acc: 0.8601\n",
            "Epoch 10/30\n",
            "7000/7000 [==============================] - 1s 116us/step - loss: 0.3378 - acc: 0.8614\n",
            "Epoch 11/30\n",
            "7000/7000 [==============================] - 1s 116us/step - loss: 0.3374 - acc: 0.8593\n",
            "Epoch 12/30\n",
            "7000/7000 [==============================] - 1s 119us/step - loss: 0.3366 - acc: 0.8580\n",
            "Epoch 13/30\n",
            "7000/7000 [==============================] - 1s 117us/step - loss: 0.3349 - acc: 0.8619\n",
            "Epoch 14/30\n",
            "7000/7000 [==============================] - 1s 120us/step - loss: 0.3346 - acc: 0.8614\n",
            "Epoch 15/30\n",
            "7000/7000 [==============================] - 1s 118us/step - loss: 0.3358 - acc: 0.8610\n",
            "Epoch 16/30\n",
            "7000/7000 [==============================] - 1s 124us/step - loss: 0.3315 - acc: 0.8610\n",
            "Epoch 17/30\n",
            "7000/7000 [==============================] - 1s 120us/step - loss: 0.3312 - acc: 0.8646\n",
            "Epoch 18/30\n",
            "7000/7000 [==============================] - 1s 118us/step - loss: 0.3321 - acc: 0.8603\n",
            "Epoch 19/30\n",
            "7000/7000 [==============================] - 1s 121us/step - loss: 0.3301 - acc: 0.8616\n",
            "Epoch 20/30\n",
            "7000/7000 [==============================] - 1s 119us/step - loss: 0.3306 - acc: 0.8649\n",
            "Epoch 21/30\n",
            "7000/7000 [==============================] - 1s 118us/step - loss: 0.3327 - acc: 0.8601\n",
            "Epoch 22/30\n",
            "7000/7000 [==============================] - 1s 120us/step - loss: 0.3304 - acc: 0.8624\n",
            "Epoch 23/30\n",
            "7000/7000 [==============================] - 1s 119us/step - loss: 0.3280 - acc: 0.8663\n",
            "Epoch 24/30\n",
            "7000/7000 [==============================] - 1s 122us/step - loss: 0.3294 - acc: 0.8653\n",
            "Epoch 25/30\n",
            "7000/7000 [==============================] - 1s 123us/step - loss: 0.3298 - acc: 0.8644\n",
            "Epoch 26/30\n",
            "7000/7000 [==============================] - 1s 121us/step - loss: 0.3278 - acc: 0.8654\n",
            "Epoch 27/30\n",
            "7000/7000 [==============================] - 1s 118us/step - loss: 0.3291 - acc: 0.8604\n",
            "Epoch 28/30\n",
            "7000/7000 [==============================] - 1s 119us/step - loss: 0.3271 - acc: 0.8659\n",
            "Epoch 29/30\n",
            "7000/7000 [==============================] - 1s 121us/step - loss: 0.3272 - acc: 0.8636\n",
            "Epoch 30/30\n",
            "7000/7000 [==============================] - 1s 122us/step - loss: 0.3261 - acc: 0.8634\n"
          ],
          "name": "stdout"
        },
        {
          "output_type": "execute_result",
          "data": {
            "text/plain": [
              "<keras.callbacks.History at 0x7fc834a715f8>"
            ]
          },
          "metadata": {
            "tags": []
          },
          "execution_count": 189
        }
      ]
    },
    {
      "cell_type": "code",
      "metadata": {
        "id": "D0an0DXVubCs",
        "colab_type": "code",
        "colab": {
          "base_uri": "https://localhost:8080/",
          "height": 136
        },
        "outputId": "994f68a6-f0ef-4f94-e4d3-c1e37e017e40"
      },
      "source": [
        "# 8Predict the results using 0.5 as a threshold (Optional) for model1 using adam\n",
        "\n",
        "y_pred = model.predict(test_set)\n",
        "y_pred = (y_pred > 0.5) #to classify each probability into True or False\n",
        "y_pred"
      ],
      "execution_count": 190,
      "outputs": [
        {
          "output_type": "execute_result",
          "data": {
            "text/plain": [
              "array([[False],\n",
              "       [ True],\n",
              "       [False],\n",
              "       ...,\n",
              "       [False],\n",
              "       [False],\n",
              "       [False]])"
            ]
          },
          "metadata": {
            "tags": []
          },
          "execution_count": 190
        }
      ]
    },
    {
      "cell_type": "code",
      "metadata": {
        "id": "3IFzYiJpvEFB",
        "colab_type": "code",
        "colab": {
          "base_uri": "https://localhost:8080/",
          "height": 51
        },
        "outputId": "fce3c05c-faaf-44a4-99b9-7bdde3cd6323"
      },
      "source": [
        "from sklearn.metrics import confusion_matrix\n",
        "cm = confusion_matrix(y_pred,test_labels)\n",
        "print (cm)"
      ],
      "execution_count": 191,
      "outputs": [
        {
          "output_type": "stream",
          "text": [
            "[[2305  324]\n",
            " [ 110  261]]\n"
          ],
          "name": "stdout"
        }
      ]
    },
    {
      "cell_type": "code",
      "metadata": {
        "id": "dCqu-h0Rvkri",
        "colab_type": "code",
        "colab": {
          "base_uri": "https://localhost:8080/",
          "height": 34
        },
        "outputId": "cec7fa5f-6dc1-4e38-fdb7-e3fd627bcb5d"
      },
      "source": [
        "#Accuracy of model 1 with adam is  \n",
        "print(\"Accuracy from model 1 :\",(2336 +258)/3000)"
      ],
      "execution_count": 192,
      "outputs": [
        {
          "output_type": "stream",
          "text": [
            "Accuracy from model 1 : 0.8646666666666667\n"
          ],
          "name": "stdout"
        }
      ]
    },
    {
      "cell_type": "code",
      "metadata": {
        "id": "H8rDnQLj0sQ_",
        "colab_type": "code",
        "colab": {
          "base_uri": "https://localhost:8080/",
          "height": 136
        },
        "outputId": "1f1b6eb2-5c69-400f-e248-4ce80713809c"
      },
      "source": [
        "# 8Predict the results using 0.5 as a threshold (Optional) for model2 using sgd\n",
        "\n",
        "y_pred2 = model2.predict(test_set)\n",
        "y_pred2 = (y_pred > 0.5) #to classify each probability into True or False\n",
        "y_pred2"
      ],
      "execution_count": 193,
      "outputs": [
        {
          "output_type": "execute_result",
          "data": {
            "text/plain": [
              "array([[False],\n",
              "       [ True],\n",
              "       [False],\n",
              "       ...,\n",
              "       [False],\n",
              "       [False],\n",
              "       [False]])"
            ]
          },
          "metadata": {
            "tags": []
          },
          "execution_count": 193
        }
      ]
    },
    {
      "cell_type": "code",
      "metadata": {
        "id": "Nhh27_W403B6",
        "colab_type": "code",
        "colab": {
          "base_uri": "https://localhost:8080/",
          "height": 51
        },
        "outputId": "b28f5b4f-d570-457a-dc23-4cc5f18fb37f"
      },
      "source": [
        "from sklearn.metrics import confusion_matrix\n",
        "cm = confusion_matrix(y_pred2,test_labels)\n",
        "print (cm)"
      ],
      "execution_count": 194,
      "outputs": [
        {
          "output_type": "stream",
          "text": [
            "[[2305  324]\n",
            " [ 110  261]]\n"
          ],
          "name": "stdout"
        }
      ]
    },
    {
      "cell_type": "code",
      "metadata": {
        "id": "SeeBL_ca1Bun",
        "colab_type": "code",
        "colab": {
          "base_uri": "https://localhost:8080/",
          "height": 34
        },
        "outputId": "f2bc4104-b246-42bb-f194-7864e402020a"
      },
      "source": [
        "#Accuracy of model 2 with sgd is  \n",
        "print(\"Accuracy from model 2 :\",(2336 +258)/3000)"
      ],
      "execution_count": 195,
      "outputs": [
        {
          "output_type": "stream",
          "text": [
            "Accuracy from model 2 : 0.8646666666666667\n"
          ],
          "name": "stdout"
        }
      ]
    }
  ]
}